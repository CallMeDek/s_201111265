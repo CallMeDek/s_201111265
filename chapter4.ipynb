{
 "cells": [
  {
   "cell_type": "code",
   "execution_count": 1,
   "metadata": {
    "collapsed": false
   },
   "outputs": [
    {
     "name": "stdout",
     "output_type": "stream",
     "text": [
      "Overwriting src/key.properties\n"
     ]
    }
   ],
   "source": [
    "%%writefile src/key.properties\n",
    "dataseoul=4c424842457375703334456d716a45\n",
    "gokr=rO7vDzBEDsP0%2FXziYV7Ou4Xt6G0D1vPaCXXjiLzTBdRSQlYyVwGDPa2Kvn5qTRZ4HH37HBO4oVwoCKfHzss96A%3D%3D"
   ]
  },
  {
   "cell_type": "code",
   "execution_count": null,
   "metadata": {
    "collapsed": true
   },
   "outputs": [],
   "source": [
    "# %load src/key.properties\n",
    "dataseoul=4c424842457375703334456d716a45\n",
    "gokr=rO7vDzBEDsP0%2FXziYV7Ou4Xt6G0D1vPaCXXjiLzTBdRSQlYyVwGDPa2Kvn5qTRZ4HH37HBO4oVwoCKfHzss96A%3D%3D"
   ]
  },
  {
   "cell_type": "code",
   "execution_count": 9,
   "metadata": {
    "collapsed": false
   },
   "outputs": [
    {
     "name": "stdout",
     "output_type": "stream",
     "text": [
      "Overwriting src/mylib.py\n"
     ]
    }
   ],
   "source": [
    "%%writefile src/mylib.py\n",
    "\n",
    "def sayHello():\n",
    "    print 'hello'\n",
    "def sayHello2():\n",
    "    print 'hello2'\n",
    "def getKey(keyPath):\n",
    "    d=dict()\n",
    "    f=open(keyPath,'r')\n",
    "    for line in f.readlines():\n",
    "        row=line.split('=')\n",
    "        row0=row[0]\n",
    "        d[row0]=row[1].strip()\n",
    "    return d"
   ]
  },
  {
   "cell_type": "code",
   "execution_count": null,
   "metadata": {
    "collapsed": false
   },
   "outputs": [],
   "source": [
    "# %load src/__init__.py\n"
   ]
  },
  {
   "cell_type": "code",
   "execution_count": 8,
   "metadata": {
    "collapsed": false
   },
   "outputs": [
    {
     "name": "stdout",
     "output_type": "stream",
     "text": [
      "hello\n",
      "hello2\n"
     ]
    }
   ],
   "source": [
    "import src.mylib\n",
    "src.mylib.sayHello()\n",
    "src.mylib.sayHello2()"
   ]
  },
  {
   "cell_type": "code",
   "execution_count": 55,
   "metadata": {
    "collapsed": false
   },
   "outputs": [
    {
     "name": "stdout",
     "output_type": "stream",
     "text": [
      "rO7vDzBEDsP0%2FXziYV7Ou4Xt6G0D1vPaCXXjiLzTBdRSQlYyVwGDPa2Kvn5qTRZ4HH37HBO4oVwoCKfHzss96A%3D%3D\n",
      "4c424842457375703334456d716a45\n"
     ]
    }
   ],
   "source": [
    "import os\n",
    "d=dict()\n",
    "keyPath = os.path.join('src', 'key.properties')\n",
    "f=open(keyPath, 'r')\n",
    "for line in f.readlines():\n",
    "    row=line.split(\"=\")\n",
    "    d[row[0]]=row[1].strip()\n",
    "print d['gokr']\n",
    "print d['dataseoul']"
   ]
  },
  {
   "cell_type": "code",
   "execution_count": 10,
   "metadata": {
    "collapsed": true
   },
   "outputs": [],
   "source": [
    "import sys\n",
    "del sys.modules['src.mylib']"
   ]
  },
  {
   "cell_type": "code",
   "execution_count": 12,
   "metadata": {
    "collapsed": false
   },
   "outputs": [
    {
     "name": "stdout",
     "output_type": "stream",
     "text": [
      "gokr= rO7vDzBEDsP0%2FXziYV7Ou4Xt6G0D1vPaCXXjiLzTBdRSQlYyVwGDPa2Kvn5qTRZ4HH37HBO4oVwoCKfHzss96A%3D%3D\n",
      "dataseoul= 4c424842457375703334456d716a45\n"
     ]
    }
   ],
   "source": [
    "import src.mylib\n",
    "import os\n",
    "KEY=src.mylib.getKey(os.path.join('src', 'key.properties'))\n",
    "print 'gokr=', KEY['gokr']\n",
    "print 'dataseoul=', KEY['dataseoul']"
   ]
  },
  {
   "cell_type": "code",
   "execution_count": 1,
   "metadata": {
    "collapsed": false
   },
   "outputs": [
    {
     "name": "stdout",
     "output_type": "stream",
     "text": [
      " C 드라이브의 볼륨에는 이름이 없습니다.\n",
      " 볼륨 일련 번호: 6C02-6700\n",
      "\n",
      " c:\\Users\\Code\\s-201111265\\src 디렉터리\n",
      "\n",
      "2017-04-25  오후 03:04    <DIR>          .\n",
      "2017-04-25  오후 03:04    <DIR>          ..\n",
      "2017-04-18  오후 05:27               825 ds_open_dataseoul_ex.py\n",
      "2017-04-11  오후 05:55               160 ds_save_mongo_5.js\n",
      "2017-04-25  오후 03:06               800 ds_save_mongo_test.js\n",
      "2017-04-17  오전 12:07             1,597 ds_web_crawl_baseball.py\n",
      "2017-04-12  오후 09:36             2,363 ds_web_crawl_http.py\n",
      "2017-04-16  오후 10:27             1,025 ds_web_crawl_IEEE.py\n",
      "2017-04-17  오후 12:50             2,712 ds_web_crawl_naverMusic.py\n",
      "2017-04-06  오전 10:34               575 ds_web_crawl_python_1.py\n",
      "2017-04-07  오전 11:57             2,612 ds_web_crawl_python_2.py\n",
      "2017-04-18  오후 04:29               141 key.properties\n",
      "2017-04-18  오후 05:04               263 mylib.py\n",
      "2017-04-18  오후 05:05               682 mylib.pyc\n",
      "2017-04-12  오후 08:45            38,240 myPage.html\n",
      "2017-04-07  오전 02:03               214 mypage1.html\n",
      "2017-04-14  오전 11:09                 0 test.txt\n",
      "2017-04-18  오후 04:53                 0 __init__.py\n",
      "2017-04-18  오후 05:01               102 __init__.pyc\n",
      "              17개 파일              52,311 바이트\n",
      "               2개 디렉터리  12,192,260,096 바이트 남음\n"
     ]
    }
   ],
   "source": [
    "! dir src\\\n"
   ]
  },
  {
   "cell_type": "code",
   "execution_count": 3,
   "metadata": {
    "collapsed": false
   },
   "outputs": [
    {
     "name": "stdout",
     "output_type": "stream",
     "text": [
      "\n",
      "def sayHello():\n",
      "    print 'hello'\n",
      "def sayHello2():\n",
      "    print 'hello2'\n",
      "def getKey(keyPath):\n",
      "    d=dict()\n",
      "    f=open(keyPath,'r')\n",
      "    for line in f.readlines():\n",
      "        row=line.split('=')\n",
      "        row0=row[0]\n",
      "        d[row0]=row[1].strip()\n",
      "    return d\n"
     ]
    }
   ],
   "source": [
    "!type src\\mylib.py"
   ]
  },
  {
   "cell_type": "code",
   "execution_count": 7,
   "metadata": {
    "collapsed": false
   },
   "outputs": [
    {
     "name": "stdout",
     "output_type": "stream",
     "text": [
      "Overwriting src/test.py\n"
     ]
    }
   ],
   "source": [
    "%%writefile src/test.py\n",
    "\n",
    "def test2():\n",
    "    print \"hello\""
   ]
  },
  {
   "cell_type": "code",
   "execution_count": 5,
   "metadata": {
    "collapsed": false
   },
   "outputs": [
    {
     "name": "stdout",
     "output_type": "stream",
     "text": [
      " C 드라이브의 볼륨에는 이름이 없습니다.\n",
      " 볼륨 일련 번호: 6C02-6700\n",
      "\n",
      " c:\\Users\\Code\\s-201111265\\src 디렉터리\n",
      "\n",
      "2017-04-25  오후 03:13    <DIR>          .\n",
      "2017-04-25  오후 03:13    <DIR>          ..\n",
      "2017-04-18  오후 05:27               825 ds_open_dataseoul_ex.py\n",
      "2017-04-11  오후 05:55               160 ds_save_mongo_5.js\n",
      "2017-04-25  오후 03:06               800 ds_save_mongo_test.js\n",
      "2017-04-17  오전 12:07             1,597 ds_web_crawl_baseball.py\n",
      "2017-04-12  오후 09:36             2,363 ds_web_crawl_http.py\n",
      "2017-04-16  오후 10:27             1,025 ds_web_crawl_IEEE.py\n",
      "2017-04-17  오후 12:50             2,712 ds_web_crawl_naverMusic.py\n",
      "2017-04-06  오전 10:34               575 ds_web_crawl_python_1.py\n",
      "2017-04-07  오전 11:57             2,612 ds_web_crawl_python_2.py\n",
      "2017-04-18  오후 04:29               141 key.properties\n",
      "2017-04-18  오후 05:04               263 mylib.py\n",
      "2017-04-18  오후 05:05               682 mylib.pyc\n",
      "2017-04-12  오후 08:45            38,240 myPage.html\n",
      "2017-04-07  오전 02:03               214 mypage1.html\n",
      "2017-04-25  오후 03:13                32 test.py\n",
      "2017-04-14  오전 11:09                 0 test.txt\n",
      "2017-04-18  오후 04:53                 0 __init__.py\n",
      "2017-04-18  오후 05:01               102 __init__.pyc\n",
      "              18개 파일              52,343 바이트\n",
      "               2개 디렉터리  12,108,890,112 바이트 남음\n"
     ]
    }
   ],
   "source": [
    "!dir src\\"
   ]
  },
  {
   "cell_type": "code",
   "execution_count": 4,
   "metadata": {
    "collapsed": false
   },
   "outputs": [
    {
     "name": "stdout",
     "output_type": "stream",
     "text": [
      "\n",
      " # -*- coding: utf-8 -*-\n",
      "\n",
      "import urllib\n",
      "import lxml.html\n",
      "import lxml.etree\n",
      "import re\n",
      "from lxml.cssselect import CSSSelector\n",
      "import requests\n",
      "import sys\n",
      "\n",
      "\n",
      "def getString():\n",
      "    keyword = \"鍮꾩삤��\n",
      "    url = \"http://music.naver.com/search/search.nhn?query={0}&x=0&y=0\".format(keyword)\n",
      "    my_header = { \"User-Agent\" : \"Mozilla/5.0\"}\n",
      "\n",
      "    uResponse = urllib.urlopen(url, None ,my_header)\n",
      "    html_str = uResponse.read()\n",
      "    \n",
      "    return html_str\n",
      "\n",
      "def with_Regex():\n",
      "    html_str = getString()\n",
      "    front = html_str.find('�몃옓 由ъ뒪��)\n",
      "    back = html_str.find('怨��붾낫湲�)\n",
      "\n",
      "    html_str = html_str[front:back]\n",
      "\n",
      "    pattern = re.compile('title=\"(.*鍮�*��*��*?)\"')\n",
      "\n",
      "    for node in pattern.findall(html_str):\n",
      "        print node\n",
      "        \n",
      "def with_CSSSelector():\n",
      "    #html_str = getString()\n",
      "    keyword = input(\"insert>>\")\n",
      "    url = \"http://music.naver.com/search/search.nhn?query={0}&x=0&y=0\".format(keyword)\n",
      "    html_str = requests.get(url).text\n",
      "    \n",
      "    tree = lxml.html.fromstring(html_str)\n",
      "    select = CSSSelector('table[summary] .name > a[title]')\n",
      "    \n",
      "    nodes = select(tree)\n",
      "    \n",
      "    for node in nodes:\n",
      "        print node.text_content()\n",
      "        \n",
      "def with_CSSSelctor_all():\n",
      "    keyword = \"鍮꾩삤��\n",
      "    url = \"http://music.naver.com/search/search.nhn?query={0}&x=0&y=0\".format(keyword)\n",
      "    html_str = requests.get(url).text\n",
      "    \n",
      "    tree = lxml.html.fromstring(html_str)\n",
      "    title = CSSSelector('table[summary] .name > a[title]')\n",
      "    artist = CSSSelector('table[summary] ._artist.artist > a[title] > span')\n",
      "    artist_speical = CSSSelector('table[summary] ._artist.artist.no_ell2 > a ')\n",
      "    album = CSSSelector('table[summary] .album > a[title]')\n",
      "    popular = CSSSelector('table[summary] .popular em')\n",
      "    \n",
      "    nodes_title = title(tree)\n",
      "    nodes_artist = artist(tree)\n",
      "    nodes_artist_special = artist_speical(tree)\n",
      "    nodes_album = album(tree)\n",
      "    nodes_pop = popular(tree)\n",
      "        \n",
      "    for i in range(0, len(nodes_title)):\n",
      "        print nodes_title[i].text_content(),\" \",\n",
      "        if i == 2:\n",
      "            print nodes_artist_special[0].text_content().strip(),\" \",\n",
      "        elif (i >= 3):\n",
      "            print nodes_artist[i-1].text_content().strip(),\" \",\n",
      "        else:\n",
      "            print nodes_artist[i].text_content().strip(),\" \",\n",
      "        print nodes_album[i].text_content(),\" \",\n",
      "        print nodes_pop[i].text_content(), \" \", \"\\n\"\n",
      "    \n",
      "def main():\n",
      "    print u\"\\n\\n �뺢퇋�앹쑝濡��섍린 \\n\\n\"\n",
      "    with_Regex()\n",
      "    print u\"\\n\\n CSS �좏깮�먮줈 �섍린 \\n\\n\"\n",
      "    with_CSSSelector()\n",
      "    print u\"\\n\\n CSS �좏깮�먮줈 紐⑤몢 異쒕젰�섍린 \\n\\n\"\n",
      "    with_CSSSelctor_all()\n",
      "    \n",
      "if __name__==\"__main__\":\n",
      "        main()\n"
     ]
    }
   ],
   "source": [
    "!type src\\ds_web_crawl_naverMusic.py"
   ]
  },
  {
   "cell_type": "code",
   "execution_count": 5,
   "metadata": {
    "collapsed": true
   },
   "outputs": [],
   "source": [
    "import requests\n",
    "_url=\"https://raw.githubusercontent.com/jokecamp/FootballData/master/World%20Cups/all-world-cup-players.json\"\n",
    "r=requests.get(_url)"
   ]
  },
  {
   "cell_type": "code",
   "execution_count": 6,
   "metadata": {
    "collapsed": true
   },
   "outputs": [],
   "source": [
    "if r.status_code==200:\n",
    "    _json=r.json()\n"
   ]
  },
  {
   "cell_type": "code",
   "execution_count": 7,
   "metadata": {
    "collapsed": false
   },
   "outputs": [
    {
     "name": "stdout",
     "output_type": "stream",
     "text": [
      "[u'Club Atl\\xc3\\xa9tico Talleres de Remedios de Escalada', u'Argentina', 1930, u'', u'World Cup', u'1905-5-5', u'Argentina', u'GK', u'\\xc3ngel Bossio', False]\n"
     ]
    }
   ],
   "source": [
    "print _json[0].values()"
   ]
  },
  {
   "cell_type": "code",
   "execution_count": 8,
   "metadata": {
    "collapsed": false
   },
   "outputs": [
    {
     "name": "stdout",
     "output_type": "stream",
     "text": [
      "Argentina\n"
     ]
    }
   ],
   "source": [
    "print _json[0].values()[1]"
   ]
  },
  {
   "cell_type": "code",
   "execution_count": 3,
   "metadata": {
    "collapsed": false
   },
   "outputs": [
    {
     "name": "stdout",
     "output_type": "stream",
     "text": [
      "{\n",
      "  \"args\": {\n",
      "    \"show_env\": \"1\"\n",
      "  }, \n",
      "  \"headers\": {\n",
      "    \"Accept\": \"*/*\", \n",
      "    \"Connect-Time\": \"0\", \n",
      "    \"Connection\": \"close\", \n",
      "    \"Host\": \"httpbin.org\", \n",
      "    \"Total-Route-Time\": \"0\", \n",
      "    \"User-Agent\": \"curl/7.52.1\", \n",
      "    \"Via\": \"1.1 vegur\", \n",
      "    \"X-Forwarded-For\": \"203.237.172.100\", \n",
      "    \"X-Forwarded-Port\": \"80\", \n",
      "    \"X-Forwarded-Proto\": \"http\", \n",
      "    \"X-Request-Id\": \"6a5b3d0b-c5b9-4736-995f-b7e4bfbebd41\", \n",
      "    \"X-Request-Start\": \"1493609183586\"\n",
      "  }, \n",
      "  \"origin\": \"203.237.172.100\", \n",
      "  \"url\": \"http://httpbin.org/get?show_env=1\"\n",
      "}\n"
     ]
    },
    {
     "name": "stderr",
     "output_type": "stream",
     "text": [
      "  % Total    % Received % Xferd  Average Speed   Time    Time     Time  Current\n",
      "                                 Dload  Upload   Total   Spent    Left  Speed\n",
      "\n",
      "  0     0    0     0    0     0      0      0 --:--:-- --:--:-- --:--:--     0\n",
      "  0     0    0     0    0     0      0      0 --:--:-- --:--:-- --:--:--     0\n",
      "100   541  100   541    0     0    805      0 --:--:-- --:--:-- --:--:--   805\n"
     ]
    }
   ],
   "source": [
    "!curl http://httpbin.org/get?show_env=1"
   ]
  },
  {
   "cell_type": "code",
   "execution_count": 5,
   "metadata": {
    "collapsed": false
   },
   "outputs": [
    {
     "name": "stdout",
     "output_type": "stream",
     "text": [
      "%ED%95%9C\n",
      "%ED%95%9C\n"
     ]
    }
   ],
   "source": [
    "import urllib\n",
    "\n",
    "mystr = u\"한\"\n",
    "utf8str = mystr.encode('utf-8')\n",
    "print urllib.quote(utf8str)\n",
    "print urllib.quote_plus(utf8str)"
   ]
  },
  {
   "cell_type": "code",
   "execution_count": 6,
   "metadata": {
    "collapsed": false
   },
   "outputs": [
    {
     "name": "stdout",
     "output_type": "stream",
     "text": [
      "{\"ip\":\"203.237.172.100\",\"country_code\":\"KR\",\"country_name\":\"Republic of Korea\",\"region_code\":\"11\",\"region_name\":\"Seoul\",\"city\":\"\",\"zip_code\":\"\",\"time_zone\":\"Asia/Seoul\",\"latitude\":37.6027,\"longitude\":127.0145,\"metro_code\":0}\n",
      "\n"
     ]
    }
   ],
   "source": [
    "import requests\n",
    "url='http://freegeoip.net/json/'\n",
    "geostr=requests.get(url).text\n",
    "print geostr"
   ]
  },
  {
   "cell_type": "code",
   "execution_count": 7,
   "metadata": {
    "collapsed": false
   },
   "outputs": [
    {
     "name": "stdout",
     "output_type": "stream",
     "text": [
      "203.237.172.100\n"
     ]
    }
   ],
   "source": [
    "import json\n",
    "geojson=json.loads(geostr)\n",
    "print geojson['ip']"
   ]
  },
  {
   "cell_type": "code",
   "execution_count": 11,
   "metadata": {
    "collapsed": false
   },
   "outputs": [
    {
     "name": "stdout",
     "output_type": "stream",
     "text": [
      "4c424842457375703334456d716a45/xml/SearchSTNBySubwayLineService/1/10/2\n"
     ]
    }
   ],
   "source": [
    "import os\n",
    "import src.mylib\n",
    "\n",
    "keyPath=os.path.join(os.getcwd(), 'src', 'key.properties')\n",
    "key=src.mylib.getKey(keyPath)\n",
    "KEY=str(key['dataseoul'])\n",
    "TYPE='xml'\n",
    "SERVICE='SearchSTNBySubwayLineService'\n",
    "START_INDEX=str(1)\n",
    "END_INDEX=str(10)\n",
    "LINE_NUM=str(2)\n",
    "\n",
    "params=os.path.join(KEY,TYPE,SERVICE,START_INDEX,END_INDEX,LINE_NUM)\n",
    "params_c = params\n",
    "params = ''\n",
    "for i in params_c:\n",
    "    if(i == '\\\\'):\n",
    "        params += '/'\n",
    "    else:\n",
    "        params += i\n",
    "print params"
   ]
  },
  {
   "cell_type": "code",
   "execution_count": 12,
   "metadata": {
    "collapsed": true
   },
   "outputs": [],
   "source": [
    "import urlparse\n",
    "_url='http://openAPI.seoul.go.kr:8088/'\n",
    "url=urlparse.urljoin(_url,params)"
   ]
  },
  {
   "cell_type": "code",
   "execution_count": 13,
   "metadata": {
    "collapsed": false
   },
   "outputs": [
    {
     "name": "stdout",
     "output_type": "stream",
     "text": [
      "<?xml version=\"1.0\" encoding=\"UTF-8\"?>\n",
      "<SearchSTNBySubwayLineService>\n",
      "<list_total_count>51</list_total_count>\n",
      "<RESULT>\n",
      "<CODE>INFO-000</CODE>\n",
      "<MESSAGE>정상 처리되었습니다</MESSAGE>\n",
      "</RESULT>\n",
      "<row>\n",
      "<STATION_CD>0201</STATION_CD>\n",
      "<STATION_NM>시청</STATION_NM>\n",
      "<LINE_NUM>2</LINE_NUM>\n",
      "<FR_CODE>201</FR_CODE>\n",
      "</row>\n",
      "<row>\n",
      "<STATION_CD>0202</STATION_CD>\n",
      "<STATION_NM>을지로입구</STATION_NM>\n",
      "<LINE_NUM>2</LINE_NUM>\n",
      "<FR_CODE>202</FR_CODE>\n",
      "</row>\n",
      "<row>\n",
      "<STATION_CD>0203</STATION_CD>\n",
      "<STATION_NM>을지로3가</STATION_NM>\n",
      "<LINE_NUM>2</LI\n"
     ]
    }
   ],
   "source": [
    "import requests\n",
    "data=requests.get(url).text\n",
    "print data[:500]"
   ]
  },
  {
   "cell_type": "code",
   "execution_count": 14,
   "metadata": {
    "collapsed": false
   },
   "outputs": [
    {
     "name": "stdout",
     "output_type": "stream",
     "text": [
      "시청\n",
      "을지로입구\n",
      "을지로3가\n",
      "을지로4가\n",
      "동대문역사문화공원\n",
      "신당\n",
      "상왕십리\n",
      "왕십리\n",
      "한양대\n",
      "뚝섬\n"
     ]
    }
   ],
   "source": [
    "import re\n",
    "p=re.compile('<STATION_NM>(.+?)</STATION_NM>')\n",
    "res=p.findall(data)\n",
    "for item in res:\n",
    "    print item"
   ]
  },
  {
   "cell_type": "code",
   "execution_count": 15,
   "metadata": {
    "collapsed": false
   },
   "outputs": [
    {
     "name": "stdout",
     "output_type": "stream",
     "text": [
      "xml\\SearchSTNBySubwayLineService\\1\\10\\2\n"
     ]
    }
   ],
   "source": [
    "import os\n",
    "import src.mylib\n",
    "\n",
    "keyPath=os.path.join(os.getcwd(), 'src', 'key.properties')\n",
    "key=src.mylib.getKey(keyPath)\n",
    "KEY=str(key['dataseoul'])\n",
    "TYPE='xml'\n",
    "SERVICE='SearchSTNBySubwayLineService'\n",
    "START_INDEX=str(1)\n",
    "END_INDEX=str(10)\n",
    "LINE_NUM=str(2)\n",
    "\n",
    "params=os.path.join(KEY,TYPE,SERVICE,START_INDEX,END_INDEX,LINE_NUM)\n",
    "print params[31:]"
   ]
  },
  {
   "cell_type": "code",
   "execution_count": 17,
   "metadata": {
    "collapsed": false,
    "scrolled": true
   },
   "outputs": [
    {
     "name": "stdout",
     "output_type": "stream",
     "text": [
      "http://openAPI.seoul.go.kr:8088/4c424842457375703334456d716a45/xml/SearchSTNBySubwayLineService/1/10/2\n"
     ]
    }
   ],
   "source": [
    "import urlparse\n",
    "_url='http://openAPI.seoul.go.kr:8088/'\n",
    "url=urlparse.urljoin(_url,params)\n",
    "url_c = url\n",
    "url = ''\n",
    "for i in url_c:\n",
    "    if (i == \"\\\\\"):\n",
    "        url += '/'\n",
    "    else:\n",
    "        url += i\n",
    "print url"
   ]
  },
  {
   "cell_type": "code",
   "execution_count": 18,
   "metadata": {
    "collapsed": false
   },
   "outputs": [
    {
     "name": "stdout",
     "output_type": "stream",
     "text": [
      "<?xml version=\"1.0\" encoding=\"UTF-8\"?>\n",
      "<SearchSTNBySubwayLineService>\n",
      "<list_total_count>51</list_total_count>\n",
      "<RESULT>\n",
      "<CODE>INFO-000</CODE>\n",
      "<MESSAGE>정상 처리되었습니다</MESSAGE>\n",
      "</RESULT>\n",
      "<row>\n",
      "<STATION_CD>0201</STATION_CD>\n",
      "<STATION_NM>시청</STATION_NM>\n",
      "<LINE_NUM>2</LINE_NUM>\n",
      "<FR_CODE>201</FR_CODE>\n",
      "</row>\n",
      "<row>\n",
      "<STATION_CD>0202</STATION_CD>\n",
      "<STATION_NM>을지로입구</STATION_NM>\n",
      "<LINE_NUM>2</LINE_NUM>\n",
      "<FR_CODE>202</FR_CODE>\n",
      "</row>\n",
      "<row>\n",
      "<STATION_CD>0203</STATION_CD>\n",
      "<STATION_NM>을지로3가</STATION_NM>\n",
      "<LINE_NUM>2</LI\n"
     ]
    }
   ],
   "source": [
    "import requests\n",
    "data=requests.get(url).text\n",
    "print data[:500]"
   ]
  },
  {
   "cell_type": "code",
   "execution_count": 3,
   "metadata": {
    "collapsed": false
   },
   "outputs": [
    {
     "name": "stdout",
     "output_type": "stream",
     "text": [
      "http://openAPI.seoul.go.kr:8088/4c424842457375703334456d716a45/xml/CardSubwayStatisticsService/1/5/201306\n",
      "<?xml version=\"1.0\" encoding=\"UTF-8\"?>\n",
      "<CardSubwayStatisticsService>\n",
      "<list_total_count>530</list_total_count>\n",
      "<RESULT>\n",
      "<CODE>INFO-230</CODE>\n",
      "<MESSAGE>해당 서비스(OpenAPI)는 개방 취소된 서비스(OpenAPI)입니다.</MESSAGE>\n",
      "</RESULT>\n",
      "<row>\n",
      "<USE_MON>201306</USE_MON>\n",
      "<LINE_NUM>중앙선</LINE_NUM>\n",
      "<SUB_STA_NM>용문</SUB_STA_NM>\n",
      "<RIDE_PASGR_NUM>111275</RIDE_PASGR_NUM>\n",
      "<ALIGHT_PASGR_NUM>108878</ALIGHT_PASGR_NUM>\n",
      "<WORK_DT>20130723</WORK_DT>\n",
      "<COMMT/>\n",
      "</row>\n",
      "<row>\n",
      "<USE_MON>201306</USE_MON>\n",
      "<LINE_NUM>중앙선</LINE_NUM>\n",
      "<SUB_STA_NM>원덕</SUB_STA_NM>\n",
      "<RIDE_PASGR_NUM>11495</RIDE_PASGR_NUM>\n",
      "<ALIGHT_PASGR_NUM>10964</ALIGHT_PASGR_NUM>\n",
      "<WORK_DT>20130723</WORK_DT>\n",
      "<COMMT/>\n",
      "</row>\n",
      "<row>\n",
      "<USE_MON>201306</USE_MON>\n",
      "<LINE_NUM>중앙선</LINE_NUM>\n",
      "<SUB_STA_NM>양평</SUB_STA_NM>\n",
      "<RIDE_PASGR_NUM>118103</RIDE_PASGR_NUM>\n",
      "<ALIGHT_PASGR_NUM>116604</ALIGHT_PASGR_NUM>\n",
      "<WORK_DT>20130723</WORK_DT>\n",
      "<COMMT/>\n",
      "</row>\n",
      "<row>\n",
      "<USE_MON>201306</USE_MON>\n",
      "<LINE_NUM>중앙선</LINE_NUM>\n",
      "<SUB_STA_NM>오빈</SUB_STA_NM>\n",
      "<RIDE_PASGR_NUM>10590</RIDE_PASGR_NUM>\n",
      "<ALIGHT_PASGR_NUM>10020</ALIGHT_PASGR_NUM>\n",
      "<WORK_DT>20130723</WORK_DT>\n",
      "<COMMT/>\n",
      "</row>\n",
      "<row>\n",
      "<USE_MON>201306</USE_MON>\n",
      "<LINE_NUM>중앙선</LINE_NUM>\n",
      "<SUB_STA_NM>아신</SUB_STA_NM>\n",
      "<RIDE_PASGR_NUM>26304</RIDE_PASGR_NUM>\n",
      "<ALIGHT_PASGR_NUM>26358</ALIGHT_PASGR_NUM>\n",
      "<WORK_DT>20130723</WORK_DT>\n",
      "<COMMT/>\n",
      "</row>\n",
      "</CardSubwayStatisticsService>\n",
      "\n"
     ]
    }
   ],
   "source": [
    "import os\n",
    "import requests\n",
    "import src.mylib\n",
    "\n",
    "keyPath=os.path.join(os.getcwd(), 'src', 'key.properties')\n",
    "key=src.mylib.getKey(keyPath)\n",
    "_url='http://openAPI.seoul.go.kr:8088'\n",
    "_key=str(key['dataseoul'])\n",
    "_type='xml'\n",
    "_service='CardSubwayStatisticsService'\n",
    "_start_index=1\n",
    "_end_index=5\n",
    "_use_mon='201306'\n",
    "_api=os.path.join(_url,_key,_type,_service,str(_start_index),str(_end_index),_use_mon)\n",
    "_api_c = _api\n",
    "_api = ''\n",
    "for i in _api_c:\n",
    "    if (i == \"\\\\\"):\n",
    "        _api += '/'\n",
    "    else:\n",
    "        _api += i\n",
    "response = requests.get(_api).text\n",
    "print _api\n",
    "print response   "
   ]
  },
  {
   "cell_type": "code",
   "execution_count": 7,
   "metadata": {
    "collapsed": false
   },
   "outputs": [
    {
     "name": "stdout",
     "output_type": "stream",
     "text": [
      "\n",
      "def sayHello():\n",
      "    print 'hello'\n",
      "def sayHello2():\n",
      "    print 'hello2'\n",
      "def getKey(keyPath):\n",
      "    d=dict()\n",
      "    f=open(keyPath,'r')\n",
      "    for line in f.readlines():\n",
      "        row=line.split('=')\n",
      "        row0=row[0]\n",
      "        d[row0]=row[1].strip()\n",
      "    return d\n"
     ]
    }
   ],
   "source": [
    "!type src\\mylib.py"
   ]
  },
  {
   "cell_type": "code",
   "execution_count": 9,
   "metadata": {
    "collapsed": false
   },
   "outputs": [
    {
     "name": "stdout",
     "output_type": "stream",
     "text": [
      "http://openAPI.seoul.go.kr:8088/4c424842457375703334456d716a45/xml/CardSubwayStatisticsService/1/5/201306\n",
      "<?xml version=\"1.0\" encoding=\"UTF-8\"?>\n",
      "<CardSubwayStatisticsService>\n",
      "<list_total_count>530</list_total_count>\n",
      "<RESULT>\n",
      "<CODE>INFO-230</CODE>\n",
      "<MESSAGE>해당 서비스(OpenAPI)는 개방 취소된 서비스(OpenAPI)입니다.</MESSAGE>\n",
      "</RESULT>\n",
      "<row>\n",
      "<USE_MON>201306</USE_MON>\n",
      "<LINE_NUM>중앙선</LINE_NUM>\n",
      "<SUB_STA_NM>용문</SUB_STA_NM>\n",
      "<RIDE_PASGR_NUM>111275</RIDE_PASGR_NUM>\n",
      "<ALIGHT_PASGR_NUM>108878</ALIGHT_PASGR_NUM>\n",
      "<WORK_DT>20130723</WORK_DT>\n",
      "<COMMT/>\n",
      "</row>\n",
      "<row>\n",
      "<USE_MON>201306</USE_MON>\n",
      "<LINE_NUM>중앙선</LINE_NUM>\n",
      "<SUB_STA_NM>원덕</SUB_STA_NM>\n",
      "<RIDE_PASGR_NUM>11495</RIDE_PASGR_NUM>\n",
      "<ALIGHT_PASGR_NUM>10964</ALIGHT_PASGR_NUM>\n",
      "<WORK_DT>20130723</WORK_DT>\n",
      "<COMMT/>\n",
      "</row>\n",
      "<row>\n",
      "<USE_MON>201306</USE_MON>\n",
      "<LINE_NUM>중앙선</LINE_NUM>\n",
      "<SUB_STA_NM>양평</SUB_STA_NM>\n",
      "<RIDE_PASGR_NUM>118103</RIDE_PASGR_NUM>\n",
      "<ALIGHT_PASGR_NUM>116604</ALIGHT_PASGR_NUM>\n",
      "<WORK_DT>20130723</WORK_DT>\n",
      "<COMMT/>\n",
      "</row>\n",
      "<row>\n",
      "<USE_MON>201306</USE_MON>\n",
      "<LINE_NUM>중앙선</LINE_NUM>\n",
      "<SUB_STA_NM>오빈</SUB_STA_NM>\n",
      "<RIDE_PASGR_NUM>10590</RIDE_PASGR_NUM>\n",
      "<ALIGHT_PASGR_NUM>10020</ALIGHT_PASGR_NUM>\n",
      "<WORK_DT>20130723</WORK_DT>\n",
      "<COMMT/>\n",
      "</row>\n",
      "<row>\n",
      "<USE_MON>201306</USE_MON>\n",
      "<LINE_NUM>중앙선</LINE_NUM>\n",
      "<SUB_STA_NM>아신</SUB_STA_NM>\n",
      "<RIDE_PASGR_NUM>26304</RIDE_PASGR_NUM>\n",
      "<ALIGHT_PASGR_NUM>26358</ALIGHT_PASGR_NUM>\n",
      "<WORK_DT>20130723</WORK_DT>\n",
      "<COMMT/>\n",
      "</row>\n",
      "</CardSubwayStatisticsService>\n",
      "\n",
      "http://openAPI.seoul.go.kr:8088/4c424842457375703334456d716a45/xml/CardSubwayStatisticsService/6/10/201306\n",
      "<?xml version=\"1.0\" encoding=\"UTF-8\"?>\n",
      "<CardSubwayStatisticsService>\n",
      "<list_total_count>530</list_total_count>\n",
      "<RESULT>\n",
      "<CODE>INFO-230</CODE>\n",
      "<MESSAGE>해당 서비스(OpenAPI)는 개방 취소된 서비스(OpenAPI)입니다.</MESSAGE>\n",
      "</RESULT>\n",
      "<row>\n",
      "<USE_MON>201306</USE_MON>\n",
      "<LINE_NUM>중앙선</LINE_NUM>\n",
      "<SUB_STA_NM>국수</SUB_STA_NM>\n",
      "<RIDE_PASGR_NUM>30281</RIDE_PASGR_NUM>\n",
      "<ALIGHT_PASGR_NUM>29456</ALIGHT_PASGR_NUM>\n",
      "<WORK_DT>20130723</WORK_DT>\n",
      "<COMMT/>\n",
      "</row>\n",
      "<row>\n",
      "<USE_MON>201306</USE_MON>\n",
      "<LINE_NUM>중앙선</LINE_NUM>\n",
      "<SUB_STA_NM>신원</SUB_STA_NM>\n",
      "<RIDE_PASGR_NUM>10832</RIDE_PASGR_NUM>\n",
      "<ALIGHT_PASGR_NUM>7603</ALIGHT_PASGR_NUM>\n",
      "<WORK_DT>20130723</WORK_DT>\n",
      "<COMMT/>\n",
      "</row>\n",
      "<row>\n",
      "<USE_MON>201306</USE_MON>\n",
      "<LINE_NUM>중앙선</LINE_NUM>\n",
      "<SUB_STA_NM>양수</SUB_STA_NM>\n",
      "<RIDE_PASGR_NUM>61889</RIDE_PASGR_NUM>\n",
      "<ALIGHT_PASGR_NUM>62370</ALIGHT_PASGR_NUM>\n",
      "<WORK_DT>20130723</WORK_DT>\n",
      "<COMMT/>\n",
      "</row>\n",
      "<row>\n",
      "<USE_MON>201306</USE_MON>\n",
      "<LINE_NUM>중앙선</LINE_NUM>\n",
      "<SUB_STA_NM>운길산</SUB_STA_NM>\n",
      "<RIDE_PASGR_NUM>45870</RIDE_PASGR_NUM>\n",
      "<ALIGHT_PASGR_NUM>44030</ALIGHT_PASGR_NUM>\n",
      "<WORK_DT>20130723</WORK_DT>\n",
      "<COMMT/>\n",
      "</row>\n",
      "<row>\n",
      "<USE_MON>201306</USE_MON>\n",
      "<LINE_NUM>중앙선</LINE_NUM>\n",
      "<SUB_STA_NM>팔당</SUB_STA_NM>\n",
      "<RIDE_PASGR_NUM>34122</RIDE_PASGR_NUM>\n",
      "<ALIGHT_PASGR_NUM>35559</ALIGHT_PASGR_NUM>\n",
      "<WORK_DT>20130723</WORK_DT>\n",
      "<COMMT/>\n",
      "</row>\n",
      "</CardSubwayStatisticsService>\n",
      "\n"
     ]
    }
   ],
   "source": [
    "import os\n",
    "import requests\n",
    "_url='http://openAPI.seoul.go.kr:8088'\n",
    "_key=str(key['dataseoul'])\n",
    "_type='xml'\n",
    "_service='CardSubwayStatisticsService'\n",
    "_start_index=1\n",
    "_end_index=5\n",
    "_use_mon='201306'\n",
    "_maxIter=2\n",
    "_iter=0\n",
    "while _iter<_maxIter:\n",
    "    _api=os.path.join(_url,_key,_type,_service,str(_start_index),str(_end_index),_use_mon)\n",
    "    #print _api\n",
    "    _api_c = _api\n",
    "    _api = ''\n",
    "    for i in _api_c:\n",
    "        if (i == \"\\\\\"):\n",
    "            _api += '/'\n",
    "        else:\n",
    "            _api += i\n",
    "    print _api\n",
    "    response = requests.get(_api).text\n",
    "    print response\n",
    "    _start_index+=5\n",
    "    _end_index+=5\n",
    "    _iter+=1"
   ]
  },
  {
   "cell_type": "code",
   "execution_count": 11,
   "metadata": {
    "collapsed": false
   },
   "outputs": [
    {
     "name": "stdout",
     "output_type": "stream",
     "text": [
      "{\"CardSubwayStatisticsService\":{\"list_total_count\":530,\"RESULT\":{\"CODE\":\"INFO-000\",\"MESSAGE\":\"정상 처리되었습니다\"},\"row\":[{\"USE_MON\":\"201306\",\"LINE_NUM\":\"중앙선\",\"SUB_STA_NM\":\"도심\",\"RIDE_PASGR_NUM\":75553.0,\"ALIGHT_PASGR_NUM\":67667.0,\"WORK_DT\":\"20130723\",\"COMMT\":\"\"},{\"USE_MON\":\"201306\",\"LINE_NUM\":\"중앙선\",\"SUB_STA_NM\":\"덕소\",\"RIDE_PASGR_NUM\":189783.0,\"ALIGHT_PASGR_NUM\":189419.0,\"WORK_DT\":\"20130723\",\"COMMT\":\"\"},{\"USE_MON\":\"201306\",\"LINE_NUM\":\"중앙선\",\"SUB_STA_NM\":\"양정\",\"RIDE_PASGR_NUM\":27878.0,\"ALIGHT_PASGR_NUM\":23735.0,\"WORK_DT\":\"20130723\",\"COMMT\":\"\"},{\"USE_MON\":\"201306\",\"LINE_NUM\":\"중앙선\",\"SUB_STA_NM\":\"도농\",\"RIDE_PASGR_NUM\":267402.0,\"ALIGHT_PASGR_NUM\":228445.0,\"WORK_DT\":\"20130723\",\"COMMT\":\"\"},{\"USE_MON\":\"201306\",\"LINE_NUM\":\"중앙선\",\"SUB_STA_NM\":\"구리\",\"RIDE_PASGR_NUM\":399287.0,\"ALIGHT_PASGR_NUM\":418036.0,\"WORK_DT\":\"20130723\",\"COMMT\":\"\"}]}}\n"
     ]
    }
   ],
   "source": [
    "_type='json'\n",
    "_api=os.path.join(_url,_key,_type,_service,str(_start_index),str(_end_index),_use_mon)\n",
    "_api_c = _api\n",
    "_api = ''\n",
    "for i in _api_c:\n",
    "    if (i == \"\\\\\"):\n",
    "        _api += '/'\n",
    "    else:\n",
    "        _api += i\n",
    "data=requests.get(_api).text\n",
    "print data"
   ]
  },
  {
   "cell_type": "code",
   "execution_count": 12,
   "metadata": {
    "collapsed": false
   },
   "outputs": [
    {
     "ename": "KeyError",
     "evalue": "'SearchSTNBySubwayLineService'",
     "output_type": "error",
     "traceback": [
      "\u001b[0;31m---------------------------------------------------------------------------\u001b[0m",
      "\u001b[0;31mKeyError\u001b[0m                                  Traceback (most recent call last)",
      "\u001b[0;32m<ipython-input-12-be555d7eae6e>\u001b[0m in \u001b[0;36m<module>\u001b[0;34m()\u001b[0m\n\u001b[1;32m      5\u001b[0m \u001b[1;31m#    print \"---\",key,value\u001b[0m\u001b[1;33m\u001b[0m\u001b[1;33m\u001b[0m\u001b[0m\n\u001b[1;32m      6\u001b[0m \u001b[1;33m\u001b[0m\u001b[0m\n\u001b[0;32m----> 7\u001b[0;31m \u001b[1;32mprint\u001b[0m \u001b[0mjd\u001b[0m\u001b[1;33m[\u001b[0m\u001b[1;34m'SearchSTNBySubwayLineService'\u001b[0m\u001b[1;33m]\u001b[0m\u001b[1;33m[\u001b[0m\u001b[1;34m'row'\u001b[0m\u001b[1;33m]\u001b[0m\u001b[1;33m[\u001b[0m\u001b[1;36m0\u001b[0m\u001b[1;33m]\u001b[0m\u001b[1;33m\u001b[0m\u001b[0m\n\u001b[0m\u001b[1;32m      8\u001b[0m \u001b[1;31m#n=len(jd['SearchSTNBySubwayLineService']['row'])\u001b[0m\u001b[1;33m\u001b[0m\u001b[1;33m\u001b[0m\u001b[0m\n\u001b[1;32m      9\u001b[0m \u001b[1;31m#for i in range(0,n):\u001b[0m\u001b[1;33m\u001b[0m\u001b[1;33m\u001b[0m\u001b[0m\n",
      "\u001b[0;31mKeyError\u001b[0m: 'SearchSTNBySubwayLineService'"
     ]
    }
   ],
   "source": [
    "import json\n",
    "jd = json.loads(data)\n",
    "#print jd['STATION_NM']\n",
    "#for key,value in jd.items():\n",
    "#    print \"---\",key,value\n",
    "\n",
    "print jd['SearchSTNBySubwayLineService']['row'][0]\n",
    "#n=len(jd['SearchSTNBySubwayLineService']['row'])\n",
    "#for i in range(0,n):\n",
    "#    print jd['SearchSTNBySubwayLineService']['row'][i]\n",
    "for item in jd['SearchSTNBySubwayLineService']['row']:\n",
    "    print item.keys()\n",
    "    for i in item.keys():\n",
    "        if i=='STATION_NM':\n",
    "            print ''.join(item.values())\n",
    "            print item.values()[1]"
   ]
  },
  {
   "cell_type": "code",
   "execution_count": 23,
   "metadata": {
    "collapsed": false
   },
   "outputs": [
    {
     "name": "stdout",
     "output_type": "stream",
     "text": [
      "Overwriting src/ds_open_subwayPassengers.py\n"
     ]
    }
   ],
   "source": [
    "%%writefile src/ds_open_subwayPassengers.py\n",
    "# coding: utf-8\n",
    "import os\n",
    "import requests\n",
    "import json\n",
    "from pymongo import MongoClient\n",
    "import mylib\n",
    "\n",
    "Client = MongoClient('localhost:27017')\n",
    "_db=Client['ds_open_subwayPassengersDb'] #db created by mongo\n",
    "_table=_db['db_open_subwayTable'] #collection\n",
    "#db=Client.ds_rest_subwayPassengers\n",
    "\n",
    "def saveJson(_fname,_data):\n",
    "    import io\n",
    "    with io.open(_fname, 'a', encoding='utf8') as json_file:\n",
    "        _j=json.dumps(_data, json_file, ensure_ascii=False, encoding='utf8')\n",
    "        json_file.write(_j+\"\\n\")\n",
    "\n",
    "def readJson(_fname):\n",
    "    for line in open(_fname, 'r').readlines():\n",
    "        _j=json.loads(line)\n",
    "        #print _j['id'],_j['text']\n",
    "        print _j['id']\n",
    "\n",
    "def saveDB(_data):\n",
    "    _table.insert_one(_data)\n",
    "\n",
    "def readDB():\n",
    "    for tweet in _table.find():\n",
    "        print tweet['id'],tweet['text']\n",
    "\n",
    "def saveFile(_fname,_data):\n",
    "    fp=open(_fname,'a')\n",
    "    fp.write(_data+\"\\n\")\n",
    "\n",
    "def doIt():\n",
    "    keyPath=os.path.join(os.getcwd(), 'src', 'key.properties')\n",
    "    key=mylib.getKey(keyPath)  \n",
    "    _key=key['dataseoul'] #KEY='73725.....'\n",
    "    _url='http://openAPI.seoul.go.kr:8088'\n",
    "    _type='json'\n",
    "    _service='CardSubwayStatisticsService'\n",
    "    _start_index=1\n",
    "    _end_index=5\n",
    "    _use_mon='201306'\n",
    "    _maxIter=20\n",
    "    _iter=0\n",
    "    _jfname='src/ds_open_subwayPassengers.json'\n",
    "    while _iter<_maxIter:\n",
    "        _api=os.path.join(_url,_key,_type,_service,str(_start_index),str(_end_index),_use_mon)\n",
    "        _api_c = _api\n",
    "        _api = ''\n",
    "        for i in _api_c:\n",
    "            if (i == \"\\\\\"):\n",
    "                _api += '/'\n",
    "            else:\n",
    "                _api += i\n",
    "        #print _api\n",
    "        r=requests.get(_api)\n",
    "        _json=r.json()\n",
    "        print _json, \"\\n\"\n",
    "        saveJson(_jfname,_json)\n",
    "        saveDB(_json)\n",
    "        _start_index+=5\n",
    "        _end_index+=5\n",
    "        _iter+=1\n",
    "\n",
    "if __name__ == \"__main__\":\n",
    "    doIt()"
   ]
  },
  {
   "cell_type": "code",
   "execution_count": 24,
   "metadata": {
    "collapsed": false,
    "scrolled": false
   },
   "outputs": [
    {
     "name": "stdout",
     "output_type": "stream",
     "text": [
      "{u'CardSubwayStatisticsService': {u'row': [{u'COMMT': u'', u'RIDE_PASGR_NUM': 111275.0, u'WORK_DT': u'20130723', u'LINE_NUM': u'\\uc911\\uc559\\uc120', u'SUB_STA_NM': u'\\uc6a9\\ubb38', u'ALIGHT_PASGR_NUM': 108878.0, u'USE_MON': u'201306'}, {u'COMMT': u'', u'RIDE_PASGR_NUM': 11495.0, u'WORK_DT': u'20130723', u'LINE_NUM': u'\\uc911\\uc559\\uc120', u'SUB_STA_NM': u'\\uc6d0\\ub355', u'ALIGHT_PASGR_NUM': 10964.0, u'USE_MON': u'201306'}, {u'COMMT': u'', u'RIDE_PASGR_NUM': 118103.0, u'WORK_DT': u'20130723', u'LINE_NUM': u'\\uc911\\uc559\\uc120', u'SUB_STA_NM': u'\\uc591\\ud3c9', u'ALIGHT_PASGR_NUM': 116604.0, u'USE_MON': u'201306'}, {u'COMMT': u'', u'RIDE_PASGR_NUM': 10590.0, u'WORK_DT': u'20130723', u'LINE_NUM': u'\\uc911\\uc559\\uc120', u'SUB_STA_NM': u'\\uc624\\ube48', u'ALIGHT_PASGR_NUM': 10020.0, u'USE_MON': u'201306'}, {u'COMMT': u'', u'RIDE_PASGR_NUM': 26304.0, u'WORK_DT': u'20130723', u'LINE_NUM': u'\\uc911\\uc559\\uc120', u'SUB_STA_NM': u'\\uc544\\uc2e0', u'ALIGHT_PASGR_NUM': 26358.0, u'USE_MON': u'201306'}], u'RESULT': {u'MESSAGE': u'\\uc815\\uc0c1 \\ucc98\\ub9ac\\ub418\\uc5c8\\uc2b5\\ub2c8\\ub2e4', u'CODE': u'INFO-000'}, u'list_total_count': 530}} \n",
      "\n",
      "{u'CardSubwayStatisticsService': {u'row': [{u'COMMT': u'', u'RIDE_PASGR_NUM': 30281.0, u'WORK_DT': u'20130723', u'LINE_NUM': u'\\uc911\\uc559\\uc120', u'SUB_STA_NM': u'\\uad6d\\uc218', u'ALIGHT_PASGR_NUM': 29456.0, u'USE_MON': u'201306'}, {u'COMMT': u'', u'RIDE_PASGR_NUM': 10832.0, u'WORK_DT': u'20130723', u'LINE_NUM': u'\\uc911\\uc559\\uc120', u'SUB_STA_NM': u'\\uc2e0\\uc6d0', u'ALIGHT_PASGR_NUM': 7603.0, u'USE_MON': u'201306'}, {u'COMMT': u'', u'RIDE_PASGR_NUM': 61889.0, u'WORK_DT': u'20130723', u'LINE_NUM': u'\\uc911\\uc559\\uc120', u'SUB_STA_NM': u'\\uc591\\uc218', u'ALIGHT_PASGR_NUM': 62370.0, u'USE_MON': u'201306'}, {u'COMMT': u'', u'RIDE_PASGR_NUM': 45870.0, u'WORK_DT': u'20130723', u'LINE_NUM': u'\\uc911\\uc559\\uc120', u'SUB_STA_NM': u'\\uc6b4\\uae38\\uc0b0', u'ALIGHT_PASGR_NUM': 44030.0, u'USE_MON': u'201306'}, {u'COMMT': u'', u'RIDE_PASGR_NUM': 34122.0, u'WORK_DT': u'20130723', u'LINE_NUM': u'\\uc911\\uc559\\uc120', u'SUB_STA_NM': u'\\ud314\\ub2f9', u'ALIGHT_PASGR_NUM': 35559.0, u'USE_MON': u'201306'}], u'RESULT': {u'MESSAGE': u'\\uc815\\uc0c1 \\ucc98\\ub9ac\\ub418\\uc5c8\\uc2b5\\ub2c8\\ub2e4', u'CODE': u'INFO-000'}, u'list_total_count': 530}} \n",
      "\n",
      "{u'CardSubwayStatisticsService': {u'row': [{u'COMMT': u'', u'RIDE_PASGR_NUM': 75553.0, u'WORK_DT': u'20130723', u'LINE_NUM': u'\\uc911\\uc559\\uc120', u'SUB_STA_NM': u'\\ub3c4\\uc2ec', u'ALIGHT_PASGR_NUM': 67667.0, u'USE_MON': u'201306'}, {u'COMMT': u'', u'RIDE_PASGR_NUM': 189783.0, u'WORK_DT': u'20130723', u'LINE_NUM': u'\\uc911\\uc559\\uc120', u'SUB_STA_NM': u'\\ub355\\uc18c', u'ALIGHT_PASGR_NUM': 189419.0, u'USE_MON': u'201306'}, {u'COMMT': u'', u'RIDE_PASGR_NUM': 27878.0, u'WORK_DT': u'20130723', u'LINE_NUM': u'\\uc911\\uc559\\uc120', u'SUB_STA_NM': u'\\uc591\\uc815', u'ALIGHT_PASGR_NUM': 23735.0, u'USE_MON': u'201306'}, {u'COMMT': u'', u'RIDE_PASGR_NUM': 267402.0, u'WORK_DT': u'20130723', u'LINE_NUM': u'\\uc911\\uc559\\uc120', u'SUB_STA_NM': u'\\ub3c4\\ub18d', u'ALIGHT_PASGR_NUM': 228445.0, u'USE_MON': u'201306'}, {u'COMMT': u'', u'RIDE_PASGR_NUM': 399287.0, u'WORK_DT': u'20130723', u'LINE_NUM': u'\\uc911\\uc559\\uc120', u'SUB_STA_NM': u'\\uad6c\\ub9ac', u'ALIGHT_PASGR_NUM': 418036.0, u'USE_MON': u'201306'}], u'RESULT': {u'MESSAGE': u'\\uc815\\uc0c1 \\ucc98\\ub9ac\\ub418\\uc5c8\\uc2b5\\ub2c8\\ub2e4', u'CODE': u'INFO-000'}, u'list_total_count': 530}} \n",
      "\n",
      "{u'CardSubwayStatisticsService': {u'row': [{u'COMMT': u'', u'RIDE_PASGR_NUM': 62789.0, u'WORK_DT': u'20130723', u'LINE_NUM': u'\\uc911\\uc559\\uc120', u'SUB_STA_NM': u'\\uc591\\uc6d0', u'ALIGHT_PASGR_NUM': 68407.0, u'USE_MON': u'201306'}, {u'COMMT': u'', u'RIDE_PASGR_NUM': 220544.0, u'WORK_DT': u'20130723', u'LINE_NUM': u'\\uc911\\uc559\\uc120', u'SUB_STA_NM': u'\\ub9dd\\uc6b0', u'ALIGHT_PASGR_NUM': 215484.0, u'USE_MON': u'201306'}, {u'COMMT': u'', u'RIDE_PASGR_NUM': 157679.0, u'WORK_DT': u'20130723', u'LINE_NUM': u'\\uc911\\uc559\\uc120', u'SUB_STA_NM': u'\\uc0c1\\ubd09', u'ALIGHT_PASGR_NUM': 158208.0, u'USE_MON': u'201306'}, {u'COMMT': u'', u'RIDE_PASGR_NUM': 175937.0, u'WORK_DT': u'20130723', u'LINE_NUM': u'\\uc911\\uc559\\uc120', u'SUB_STA_NM': u'\\uc911\\ub791', u'ALIGHT_PASGR_NUM': 165876.0, u'USE_MON': u'201306'}, {u'COMMT': u'', u'RIDE_PASGR_NUM': 883471.0, u'WORK_DT': u'20130723', u'LINE_NUM': u'\\uc911\\uc559\\uc120', u'SUB_STA_NM': u'\\ud68c\\uae30', u'ALIGHT_PASGR_NUM': 867156.0, u'USE_MON': u'201306'}], u'RESULT': {u'MESSAGE': u'\\uc815\\uc0c1 \\ucc98\\ub9ac\\ub418\\uc5c8\\uc2b5\\ub2c8\\ub2e4', u'CODE': u'INFO-000'}, u'list_total_count': 530}} \n",
      "\n",
      "{u'CardSubwayStatisticsService': {u'row': [{u'COMMT': u'', u'RIDE_PASGR_NUM': 74486.0, u'WORK_DT': u'20130723', u'LINE_NUM': u'\\uc7a5\\ud56d\\uc120', u'SUB_STA_NM': u'\\uc2e0\\ucc3d', u'ALIGHT_PASGR_NUM': 70390.0, u'USE_MON': u'201306'}, {u'COMMT': u'', u'RIDE_PASGR_NUM': 152381.0, u'WORK_DT': u'20130723', u'LINE_NUM': u'\\uc7a5\\ud56d\\uc120', u'SUB_STA_NM': u'\\uc628\\uc591\\uc628\\ucc9c', u'ALIGHT_PASGR_NUM': 153093.0, u'USE_MON': u'201306'}, {u'COMMT': u'', u'RIDE_PASGR_NUM': 27353.0, u'WORK_DT': u'20130723', u'LINE_NUM': u'\\uc7a5\\ud56d\\uc120', u'SUB_STA_NM': u'\\ubc30\\ubc29', u'ALIGHT_PASGR_NUM': 26155.0, u'USE_MON': u'201306'}, {u'COMMT': u'', u'RIDE_PASGR_NUM': 71486.0, u'WORK_DT': u'20130723', u'LINE_NUM': u'\\uc7a5\\ud56d\\uc120', u'SUB_STA_NM': u'\\uc544\\uc0b0', u'ALIGHT_PASGR_NUM': 62545.0, u'USE_MON': u'201306'}, {u'COMMT': u'', u'RIDE_PASGR_NUM': 86078.0, u'WORK_DT': u'20130723', u'LINE_NUM': u'\\uc7a5\\ud56d\\uc120', u'SUB_STA_NM': u'\\uc30d\\uc6a9\\ub3d9', u'ALIGHT_PASGR_NUM': 79395.0, u'USE_MON': u'201306'}], u'RESULT': {u'MESSAGE': u'\\uc815\\uc0c1 \\ucc98\\ub9ac\\ub418\\uc5c8\\uc2b5\\ub2c8\\ub2e4', u'CODE': u'INFO-000'}, u'list_total_count': 530}} \n",
      "\n",
      "{u'CardSubwayStatisticsService': {u'row': [{u'COMMT': u'', u'RIDE_PASGR_NUM': 43418.0, u'WORK_DT': u'20130723', u'LINE_NUM': u'\\uc7a5\\ud56d\\uc120', u'SUB_STA_NM': u'\\ubd09\\uba85', u'ALIGHT_PASGR_NUM': 42388.0, u'USE_MON': u'201306'}, {u'COMMT': u'', u'RIDE_PASGR_NUM': 413533.0, u'WORK_DT': u'20130723', u'LINE_NUM': u'\\uc77c\\uc0b0\\uc120', u'SUB_STA_NM': u'\\ub300\\ud654', u'ALIGHT_PASGR_NUM': 324864.0, u'USE_MON': u'201306'}, {u'COMMT': u'', u'RIDE_PASGR_NUM': 287340.0, u'WORK_DT': u'20130723', u'LINE_NUM': u'\\uc77c\\uc0b0\\uc120', u'SUB_STA_NM': u'\\uc8fc\\uc5fd', u'ALIGHT_PASGR_NUM': 293083.0, u'USE_MON': u'201306'}, {u'COMMT': u'', u'RIDE_PASGR_NUM': 282531.0, u'WORK_DT': u'20130723', u'LINE_NUM': u'\\uc77c\\uc0b0\\uc120', u'SUB_STA_NM': u'\\uc815\\ubc1c\\uc0b0', u'ALIGHT_PASGR_NUM': 298514.0, u'USE_MON': u'201306'}, {u'COMMT': u'', u'RIDE_PASGR_NUM': 248026.0, u'WORK_DT': u'20130723', u'LINE_NUM': u'\\uc77c\\uc0b0\\uc120', u'SUB_STA_NM': u'\\ub9c8\\ub450', u'ALIGHT_PASGR_NUM': 258045.0, u'USE_MON': u'201306'}], u'RESULT': {u'MESSAGE': u'\\uc815\\uc0c1 \\ucc98\\ub9ac\\ub418\\uc5c8\\uc2b5\\ub2c8\\ub2e4', u'CODE': u'INFO-000'}, u'list_total_count': 530}} \n",
      "\n",
      "{u'CardSubwayStatisticsService': {u'row': [{u'COMMT': u'', u'RIDE_PASGR_NUM': 301856.0, u'WORK_DT': u'20130723', u'LINE_NUM': u'\\uc77c\\uc0b0\\uc120', u'SUB_STA_NM': u'\\ubc31\\uc11d', u'ALIGHT_PASGR_NUM': 286143.0, u'USE_MON': u'201306'}, {u'COMMT': u'', u'RIDE_PASGR_NUM': 37978.0, u'WORK_DT': u'20130723', u'LINE_NUM': u'\\uc77c\\uc0b0\\uc120', u'SUB_STA_NM': u'\\ub300\\uace1', u'ALIGHT_PASGR_NUM': 30033.0, u'USE_MON': u'201306'}, {u'COMMT': u'', u'RIDE_PASGR_NUM': 584539.0, u'WORK_DT': u'20130723', u'LINE_NUM': u'\\uc77c\\uc0b0\\uc120', u'SUB_STA_NM': u'\\ud654\\uc815', u'ALIGHT_PASGR_NUM': 597382.0, u'USE_MON': u'201306'}, {u'COMMT': u'', u'RIDE_PASGR_NUM': 384868.0, u'WORK_DT': u'20130723', u'LINE_NUM': u'\\uc77c\\uc0b0\\uc120', u'SUB_STA_NM': u'\\uc6d0\\ub2f9', u'ALIGHT_PASGR_NUM': 364047.0, u'USE_MON': u'201306'}, {u'COMMT': u'', u'RIDE_PASGR_NUM': 253470.0, u'WORK_DT': u'20130723', u'LINE_NUM': u'\\uc77c\\uc0b0\\uc120', u'SUB_STA_NM': u'\\uc0bc\\uc1a1', u'ALIGHT_PASGR_NUM': 233074.0, u'USE_MON': u'201306'}], u'RESULT': {u'MESSAGE': u'\\uc815\\uc0c1 \\ucc98\\ub9ac\\ub418\\uc5c8\\uc2b5\\ub2c8\\ub2e4', u'CODE': u'INFO-000'}, u'list_total_count': 530}} \n",
      "\n",
      "{u'CardSubwayStatisticsService': {u'row': [{u'COMMT': u'', u'RIDE_PASGR_NUM': 146909.0, u'WORK_DT': u'20130723', u'LINE_NUM': u'\\uc548\\uc0b0\\uc120', u'SUB_STA_NM': u'\\uc218\\ub9ac\\uc0b0', u'ALIGHT_PASGR_NUM': 122149.0, u'USE_MON': u'201306'}, {u'COMMT': u'', u'RIDE_PASGR_NUM': 227066.0, u'WORK_DT': u'20130723', u'LINE_NUM': u'\\uc548\\uc0b0\\uc120', u'SUB_STA_NM': u'\\uc624\\uc774\\ub3c4', u'ALIGHT_PASGR_NUM': 224118.0, u'USE_MON': u'201306'}, {u'COMMT': u'', u'RIDE_PASGR_NUM': 289305.0, u'WORK_DT': u'20130723', u'LINE_NUM': u'\\uc548\\uc0b0\\uc120', u'SUB_STA_NM': u'\\uc815\\uc655', u'ALIGHT_PASGR_NUM': 309927.0, u'USE_MON': u'201306'}, {u'COMMT': u'', u'RIDE_PASGR_NUM': 54276.0, u'WORK_DT': u'20130723', u'LINE_NUM': u'\\uc548\\uc0b0\\uc120', u'SUB_STA_NM': u'\\uc2e0\\uae38\\uc628\\ucc9c', u'ALIGHT_PASGR_NUM': 51249.0, u'USE_MON': u'201306'}, {u'COMMT': u'', u'RIDE_PASGR_NUM': 581120.0, u'WORK_DT': u'20130723', u'LINE_NUM': u'\\uc548\\uc0b0\\uc120', u'SUB_STA_NM': u'\\uc548\\uc0b0', u'ALIGHT_PASGR_NUM': 533836.0, u'USE_MON': u'201306'}], u'RESULT': {u'MESSAGE': u'\\uc815\\uc0c1 \\ucc98\\ub9ac\\ub418\\uc5c8\\uc2b5\\ub2c8\\ub2e4', u'CODE': u'INFO-000'}, u'list_total_count': 530}} \n",
      "\n",
      "{u'CardSubwayStatisticsService': {u'row': [{u'COMMT': u'', u'RIDE_PASGR_NUM': 152275.0, u'WORK_DT': u'20130723', u'LINE_NUM': u'\\uc548\\uc0b0\\uc120', u'SUB_STA_NM': u'\\ucd08\\uc9c0', u'ALIGHT_PASGR_NUM': 145611.0, u'USE_MON': u'201306'}, {u'COMMT': u'', u'RIDE_PASGR_NUM': 285263.0, u'WORK_DT': u'20130723', u'LINE_NUM': u'\\uc548\\uc0b0\\uc120', u'SUB_STA_NM': u'\\uace0\\uc794', u'ALIGHT_PASGR_NUM': 281189.0, u'USE_MON': u'201306'}, {u'COMMT': u'', u'RIDE_PASGR_NUM': 504850.0, u'WORK_DT': u'20130723', u'LINE_NUM': u'\\uc548\\uc0b0\\uc120', u'SUB_STA_NM': u'\\uc911\\uc559', u'ALIGHT_PASGR_NUM': 519455.0, u'USE_MON': u'201306'}, {u'COMMT': u'', u'RIDE_PASGR_NUM': 308890.0, u'WORK_DT': u'20130723', u'LINE_NUM': u'\\uc548\\uc0b0\\uc120', u'SUB_STA_NM': u'\\ud55c\\ub300\\uc55e', u'ALIGHT_PASGR_NUM': 302989.0, u'USE_MON': u'201306'}, {u'COMMT': u'', u'RIDE_PASGR_NUM': 662510.0, u'WORK_DT': u'20130723', u'LINE_NUM': u'\\uc548\\uc0b0\\uc120', u'SUB_STA_NM': u'\\uc0c1\\ub85d\\uc218', u'ALIGHT_PASGR_NUM': 648908.0, u'USE_MON': u'201306'}], u'RESULT': {u'MESSAGE': u'\\uc815\\uc0c1 \\ucc98\\ub9ac\\ub418\\uc5c8\\uc2b5\\ub2c8\\ub2e4', u'CODE': u'INFO-000'}, u'list_total_count': 530}} \n",
      "\n",
      "{u'CardSubwayStatisticsService': {u'row': [{u'COMMT': u'', u'RIDE_PASGR_NUM': 161298.0, u'WORK_DT': u'20130723', u'LINE_NUM': u'\\uc548\\uc0b0\\uc120', u'SUB_STA_NM': u'\\ubc18\\uc6d4', u'ALIGHT_PASGR_NUM': 150608.0, u'USE_MON': u'201306'}, {u'COMMT': u'', u'RIDE_PASGR_NUM': 117720.0, u'WORK_DT': u'20130723', u'LINE_NUM': u'\\uc548\\uc0b0\\uc120', u'SUB_STA_NM': u'\\ub300\\uc57c\\ubbf8', u'ALIGHT_PASGR_NUM': 107344.0, u'USE_MON': u'201306'}, {u'COMMT': u'', u'RIDE_PASGR_NUM': 580508.0, u'WORK_DT': u'20130723', u'LINE_NUM': u'\\uc548\\uc0b0\\uc120', u'SUB_STA_NM': u'\\uc0b0\\ubcf8', u'ALIGHT_PASGR_NUM': 608627.0, u'USE_MON': u'201306'}, {u'COMMT': u'', u'RIDE_PASGR_NUM': 91054.0, u'WORK_DT': u'20130723', u'LINE_NUM': u'\\uc218\\uc778\\uc120', u'SUB_STA_NM': u'\\uc1a1\\ub3c4', u'ALIGHT_PASGR_NUM': 92244.0, u'USE_MON': u'201306'}, {u'COMMT': u'', u'RIDE_PASGR_NUM': 88462.0, u'WORK_DT': u'20130723', u'LINE_NUM': u'\\uc218\\uc778\\uc120', u'SUB_STA_NM': u'\\uc5f0\\uc218', u'ALIGHT_PASGR_NUM': 85543.0, u'USE_MON': u'201306'}], u'RESULT': {u'MESSAGE': u'\\uc815\\uc0c1 \\ucc98\\ub9ac\\ub418\\uc5c8\\uc2b5\\ub2c8\\ub2e4', u'CODE': u'INFO-000'}, u'list_total_count': 530}} \n",
      "\n",
      "{u'CardSubwayStatisticsService': {u'row': [{u'COMMT': u'', u'RIDE_PASGR_NUM': 95996.0, u'WORK_DT': u'20130723', u'LINE_NUM': u'\\uc218\\uc778\\uc120', u'SUB_STA_NM': u'\\uc6d0\\uc778\\uc7ac', u'ALIGHT_PASGR_NUM': 99581.0, u'USE_MON': u'201306'}, {u'COMMT': u'', u'RIDE_PASGR_NUM': 39150.0, u'WORK_DT': u'20130723', u'LINE_NUM': u'\\uc218\\uc778\\uc120', u'SUB_STA_NM': u'\\ub0a8\\ub3d9\\uc778\\ub354\\uc2a4\\ud30c\\ud06c', u'ALIGHT_PASGR_NUM': 43400.0, u'USE_MON': u'201306'}, {u'COMMT': u'', u'RIDE_PASGR_NUM': 61721.0, u'WORK_DT': u'20130723', u'LINE_NUM': u'\\uc218\\uc778\\uc120', u'SUB_STA_NM': u'\\ud638\\uad6c\\ud3ec', u'ALIGHT_PASGR_NUM': 62169.0, u'USE_MON': u'201306'}, {u'COMMT': u'', u'RIDE_PASGR_NUM': 121774.0, u'WORK_DT': u'20130723', u'LINE_NUM': u'\\uc218\\uc778\\uc120', u'SUB_STA_NM': u'\\uc778\\ucc9c\\ub17c\\ud604', u'ALIGHT_PASGR_NUM': 124227.0, u'USE_MON': u'201306'}, {u'COMMT': u'', u'RIDE_PASGR_NUM': 131865.0, u'WORK_DT': u'20130723', u'LINE_NUM': u'\\uc218\\uc778\\uc120', u'SUB_STA_NM': u'\\uc18c\\ub798\\ud3ec\\uad6c', u'ALIGHT_PASGR_NUM': 127177.0, u'USE_MON': u'201306'}], u'RESULT': {u'MESSAGE': u'\\uc815\\uc0c1 \\ucc98\\ub9ac\\ub418\\uc5c8\\uc2b5\\ub2c8\\ub2e4', u'CODE': u'INFO-000'}, u'list_total_count': 530}} \n",
      "\n",
      "{u'CardSubwayStatisticsService': {u'row': [{u'COMMT': u'', u'RIDE_PASGR_NUM': 59900.0, u'WORK_DT': u'20130723', u'LINE_NUM': u'\\uc218\\uc778\\uc120', u'SUB_STA_NM': u'\\uc6d4\\uacf6', u'ALIGHT_PASGR_NUM': 51589.0, u'USE_MON': u'201306'}, {u'COMMT': u'', u'RIDE_PASGR_NUM': 201035.0, u'WORK_DT': u'20130723', u'LINE_NUM': u'\\ubd84\\ub2f9\\uc120', u'SUB_STA_NM': u'\\ub9dd\\ud3ec', u'ALIGHT_PASGR_NUM': 188814.0, u'USE_MON': u'201306'}, {u'COMMT': u'', u'RIDE_PASGR_NUM': 118599.0, u'WORK_DT': u'20130723', u'LINE_NUM': u'\\ubd84\\ub2f9\\uc120', u'SUB_STA_NM': u'\\uc601\\ud1b5', u'ALIGHT_PASGR_NUM': 127341.0, u'USE_MON': u'201306'}, {u'COMMT': u'', u'RIDE_PASGR_NUM': 72304.0, u'WORK_DT': u'20130723', u'LINE_NUM': u'\\ubd84\\ub2f9\\uc120', u'SUB_STA_NM': u'\\uccad\\uba85', u'ALIGHT_PASGR_NUM': 66968.0, u'USE_MON': u'201306'}, {u'COMMT': u'', u'RIDE_PASGR_NUM': 101338.0, u'WORK_DT': u'20130723', u'LINE_NUM': u'\\ubd84\\ub2f9\\uc120', u'SUB_STA_NM': u'\\uc0c1\\uac08', u'ALIGHT_PASGR_NUM': 94764.0, u'USE_MON': u'201306'}], u'RESULT': {u'MESSAGE': u'\\uc815\\uc0c1 \\ucc98\\ub9ac\\ub418\\uc5c8\\uc2b5\\ub2c8\\ub2e4', u'CODE': u'INFO-000'}, u'list_total_count': 530}} \n",
      "\n",
      "{u'CardSubwayStatisticsService': {u'row': [{u'COMMT': u'', u'RIDE_PASGR_NUM': 228737.0, u'WORK_DT': u'20130723', u'LINE_NUM': u'\\ubd84\\ub2f9\\uc120', u'SUB_STA_NM': u'\\uae30\\ud765', u'ALIGHT_PASGR_NUM': 228749.0, u'USE_MON': u'201306'}, {u'COMMT': u'', u'RIDE_PASGR_NUM': 108938.0, u'WORK_DT': u'20130723', u'LINE_NUM': u'\\ubd84\\ub2f9\\uc120', u'SUB_STA_NM': u'\\uc2e0\\uac08', u'ALIGHT_PASGR_NUM': 104952.0, u'USE_MON': u'201306'}, {u'COMMT': u'', u'RIDE_PASGR_NUM': 140537.0, u'WORK_DT': u'20130723', u'LINE_NUM': u'\\ubd84\\ub2f9\\uc120', u'SUB_STA_NM': u'\\uad6c\\uc131', u'ALIGHT_PASGR_NUM': 141905.0, u'USE_MON': u'201306'}, {u'COMMT': u'', u'RIDE_PASGR_NUM': 621050.0, u'WORK_DT': u'20130723', u'LINE_NUM': u'\\ubd84\\ub2f9\\uc120', u'SUB_STA_NM': u'\\uc8fd\\uc804', u'ALIGHT_PASGR_NUM': 666114.0, u'USE_MON': u'201306'}, {u'COMMT': u'', u'RIDE_PASGR_NUM': 94365.0, u'WORK_DT': u'20130723', u'LINE_NUM': u'\\ubd84\\ub2f9\\uc120', u'SUB_STA_NM': u'\\ubcf4\\uc815', u'ALIGHT_PASGR_NUM': 73437.0, u'USE_MON': u'201306'}], u'RESULT': {u'MESSAGE': u'\\uc815\\uc0c1 \\ucc98\\ub9ac\\ub418\\uc5c8\\uc2b5\\ub2c8\\ub2e4', u'CODE': u'INFO-000'}, u'list_total_count': 530}} \n",
      "\n",
      "{u'CardSubwayStatisticsService': {u'row': [{u'COMMT': u'', u'RIDE_PASGR_NUM': 164574.0, u'WORK_DT': u'20130723', u'LINE_NUM': u'\\ubd84\\ub2f9\\uc120', u'SUB_STA_NM': u'\\uc774\\ub9e4', u'ALIGHT_PASGR_NUM': 159217.0, u'USE_MON': u'201306'}, {u'COMMT': u'', u'RIDE_PASGR_NUM': 481998.0, u'WORK_DT': u'20130723', u'LINE_NUM': u'\\ubd84\\ub2f9\\uc120', u'SUB_STA_NM': u'\\uc624\\ub9ac', u'ALIGHT_PASGR_NUM': 408822.0, u'USE_MON': u'201306'}, {u'COMMT': u'', u'RIDE_PASGR_NUM': 640860.0, u'WORK_DT': u'20130723', u'LINE_NUM': u'\\ubd84\\ub2f9\\uc120', u'SUB_STA_NM': u'\\ubbf8\\uae08', u'ALIGHT_PASGR_NUM': 674635.0, u'USE_MON': u'201306'}, {u'COMMT': u'', u'RIDE_PASGR_NUM': 453680.0, u'WORK_DT': u'20130723', u'LINE_NUM': u'\\ubd84\\ub2f9\\uc120', u'SUB_STA_NM': u'\\uc815\\uc790', u'ALIGHT_PASGR_NUM': 481436.0, u'USE_MON': u'201306'}, {u'COMMT': u'', u'RIDE_PASGR_NUM': 412055.0, u'WORK_DT': u'20130723', u'LINE_NUM': u'\\ubd84\\ub2f9\\uc120', u'SUB_STA_NM': u'\\uc218\\ub0b4', u'ALIGHT_PASGR_NUM': 412858.0, u'USE_MON': u'201306'}], u'RESULT': {u'MESSAGE': u'\\uc815\\uc0c1 \\ucc98\\ub9ac\\ub418\\uc5c8\\uc2b5\\ub2c8\\ub2e4', u'CODE': u'INFO-000'}, u'list_total_count': 530}} \n",
      "\n",
      "{u'CardSubwayStatisticsService': {u'row': [{u'COMMT': u'', u'RIDE_PASGR_NUM': 748205.0, u'WORK_DT': u'20130723', u'LINE_NUM': u'\\ubd84\\ub2f9\\uc120', u'SUB_STA_NM': u'\\uc11c\\ud604', u'ALIGHT_PASGR_NUM': 777686.0, u'USE_MON': u'201306'}, {u'COMMT': u'', u'RIDE_PASGR_NUM': 817657.0, u'WORK_DT': u'20130723', u'LINE_NUM': u'\\ubd84\\ub2f9\\uc120', u'SUB_STA_NM': u'\\uc57c\\ud0d1', u'ALIGHT_PASGR_NUM': 854174.0, u'USE_MON': u'201306'}, {u'COMMT': u'', u'RIDE_PASGR_NUM': 720442.0, u'WORK_DT': u'20130723', u'LINE_NUM': u'\\ubd84\\ub2f9\\uc120', u'SUB_STA_NM': u'\\ubaa8\\ub780', u'ALIGHT_PASGR_NUM': 689209.0, u'USE_MON': u'201306'}, {u'COMMT': u'', u'RIDE_PASGR_NUM': 419774.0, u'WORK_DT': u'20130723', u'LINE_NUM': u'\\ubd84\\ub2f9\\uc120', u'SUB_STA_NM': u'\\ud0dc\\ud3c9', u'ALIGHT_PASGR_NUM': 396038.0, u'USE_MON': u'201306'}, {u'COMMT': u'', u'RIDE_PASGR_NUM': 285110.0, u'WORK_DT': u'20130723', u'LINE_NUM': u'\\ubd84\\ub2f9\\uc120', u'SUB_STA_NM': u'\\uac00\\ucc9c\\ub300', u'ALIGHT_PASGR_NUM': 321509.0, u'USE_MON': u'201306'}], u'RESULT': {u'MESSAGE': u'\\uc815\\uc0c1 \\ucc98\\ub9ac\\ub418\\uc5c8\\uc2b5\\ub2c8\\ub2e4', u'CODE': u'INFO-000'}, u'list_total_count': 530}} \n",
      "\n",
      "{u'CardSubwayStatisticsService': {u'row': [{u'COMMT': u'', u'RIDE_PASGR_NUM': 206631.0, u'WORK_DT': u'20130723', u'LINE_NUM': u'\\ubd84\\ub2f9\\uc120', u'SUB_STA_NM': u'\\uc120\\uc815\\ub989', u'ALIGHT_PASGR_NUM': 231260.0, u'USE_MON': u'201306'}, {u'COMMT': u'', u'RIDE_PASGR_NUM': 188076.0, u'WORK_DT': u'20130723', u'LINE_NUM': u'\\ubd84\\ub2f9\\uc120', u'SUB_STA_NM': u'\\uac15\\ub0a8\\uad6c\\uccad', u'ALIGHT_PASGR_NUM': 215608.0, u'USE_MON': u'201306'}, {u'COMMT': u'', u'RIDE_PASGR_NUM': 345902.0, u'WORK_DT': u'20130723', u'LINE_NUM': u'\\ubd84\\ub2f9\\uc120', u'SUB_STA_NM': u'\\uc555\\uad6c\\uc815\\ub85c\\ub370\\uc624', u'ALIGHT_PASGR_NUM': 393142.0, u'USE_MON': u'201306'}, {u'COMMT': u'', u'RIDE_PASGR_NUM': 143459.0, u'WORK_DT': u'20130723', u'LINE_NUM': u'\\ubd84\\ub2f9\\uc120', u'SUB_STA_NM': u'\\uc11c\\uc6b8\\uc232', u'ALIGHT_PASGR_NUM': 136147.0, u'USE_MON': u'201306'}, {u'COMMT': u'', u'RIDE_PASGR_NUM': 180522.0, u'WORK_DT': u'20130723', u'LINE_NUM': u'\\ubd84\\ub2f9\\uc120', u'SUB_STA_NM': u'\\uc218\\uc11c', u'ALIGHT_PASGR_NUM': 185810.0, u'USE_MON': u'201306'}], u'RESULT': {u'MESSAGE': u'\\uc815\\uc0c1 \\ucc98\\ub9ac\\ub418\\uc5c8\\uc2b5\\ub2c8\\ub2e4', u'CODE': u'INFO-000'}, u'list_total_count': 530}} \n",
      "\n",
      "{u'CardSubwayStatisticsService': {u'row': [{u'COMMT': u'', u'RIDE_PASGR_NUM': 112991.0, u'WORK_DT': u'20130723', u'LINE_NUM': u'\\ubd84\\ub2f9\\uc120', u'SUB_STA_NM': u'\\ub300\\ubaa8\\uc0b0\\uc785\\uad6c', u'ALIGHT_PASGR_NUM': 104169.0, u'USE_MON': u'201306'}, {u'COMMT': u'', u'RIDE_PASGR_NUM': 111791.0, u'WORK_DT': u'20130723', u'LINE_NUM': u'\\ubd84\\ub2f9\\uc120', u'SUB_STA_NM': u'\\uac1c\\ud3ec\\ub3d9', u'ALIGHT_PASGR_NUM': 112897.0, u'USE_MON': u'201306'}, {u'COMMT': u'', u'RIDE_PASGR_NUM': 64415.0, u'WORK_DT': u'20130723', u'LINE_NUM': u'\\ubd84\\ub2f9\\uc120', u'SUB_STA_NM': u'\\uad6c\\ub8e1', u'ALIGHT_PASGR_NUM': 63757.0, u'USE_MON': u'201306'}, {u'COMMT': u'', u'RIDE_PASGR_NUM': 157803.0, u'WORK_DT': u'20130723', u'LINE_NUM': u'\\ubd84\\ub2f9\\uc120', u'SUB_STA_NM': u'\\ub3c4\\uace1', u'ALIGHT_PASGR_NUM': 169985.0, u'USE_MON': u'201306'}, {u'COMMT': u'', u'RIDE_PASGR_NUM': 355886.0, u'WORK_DT': u'20130723', u'LINE_NUM': u'\\ubd84\\ub2f9\\uc120', u'SUB_STA_NM': u'\\ud55c\\ud2f0', u'ALIGHT_PASGR_NUM': 374308.0, u'USE_MON': u'201306'}], u'RESULT': {u'MESSAGE': u'\\uc815\\uc0c1 \\ucc98\\ub9ac\\ub418\\uc5c8\\uc2b5\\ub2c8\\ub2e4', u'CODE': u'INFO-000'}, u'list_total_count': 530}} \n",
      "\n",
      "{u'CardSubwayStatisticsService': {u'row': [{u'COMMT': u'', u'RIDE_PASGR_NUM': 225105.0, u'WORK_DT': u'20130723', u'LINE_NUM': u'\\ubd84\\ub2f9\\uc120', u'SUB_STA_NM': u'\\uc120\\ub989', u'ALIGHT_PASGR_NUM': 439758.0, u'USE_MON': u'201306'}, {u'COMMT': u'', u'RIDE_PASGR_NUM': 938296.0, u'WORK_DT': u'20130723', u'LINE_NUM': u'\\uacfc\\ucc9c\\uc120', u'SUB_STA_NM': u'\\ubc94\\uacc4', u'ALIGHT_PASGR_NUM': 943424.0, u'USE_MON': u'201306'}, {u'COMMT': u'', u'RIDE_PASGR_NUM': 405781.0, u'WORK_DT': u'20130723', u'LINE_NUM': u'\\uacfc\\ucc9c\\uc120', u'SUB_STA_NM': u'\\ud3c9\\ucd0c', u'ALIGHT_PASGR_NUM': 397350.0, u'USE_MON': u'201306'}, {u'COMMT': u'', u'RIDE_PASGR_NUM': 699997.0, u'WORK_DT': u'20130723', u'LINE_NUM': u'\\uacfc\\ucc9c\\uc120', u'SUB_STA_NM': u'\\uc778\\ub355\\uc6d0', u'ALIGHT_PASGR_NUM': 675735.0, u'USE_MON': u'201306'}, {u'COMMT': u'', u'RIDE_PASGR_NUM': 363053.0, u'WORK_DT': u'20130723', u'LINE_NUM': u'\\uacfc\\ucc9c\\uc120', u'SUB_STA_NM': u'\\uc815\\ubd80\\uacfc\\ucc9c\\uccad\\uc0ac', u'ALIGHT_PASGR_NUM': 355150.0, u'USE_MON': u'201306'}], u'RESULT': {u'MESSAGE': u'\\uc815\\uc0c1 \\ucc98\\ub9ac\\ub418\\uc5c8\\uc2b5\\ub2c8\\ub2e4', u'CODE': u'INFO-000'}, u'list_total_count': 530}} \n",
      "\n",
      "{u'CardSubwayStatisticsService': {u'row': [{u'COMMT': u'', u'RIDE_PASGR_NUM': 175909.0, u'WORK_DT': u'20130723', u'LINE_NUM': u'\\uacfc\\ucc9c\\uc120', u'SUB_STA_NM': u'\\uacfc\\ucc9c', u'ALIGHT_PASGR_NUM': 150565.0, u'USE_MON': u'201306'}, {u'COMMT': u'', u'RIDE_PASGR_NUM': 271844.0, u'WORK_DT': u'20130723', u'LINE_NUM': u'\\uacfc\\ucc9c\\uc120', u'SUB_STA_NM': u'\\ub300\\uacf5\\uc6d0', u'ALIGHT_PASGR_NUM': 284313.0, u'USE_MON': u'201306'}, {u'COMMT': u'', u'RIDE_PASGR_NUM': 229735.0, u'WORK_DT': u'20130723', u'LINE_NUM': u'\\uacfc\\ucc9c\\uc120', u'SUB_STA_NM': u'\\uacbd\\ub9c8\\uacf5\\uc6d0', u'ALIGHT_PASGR_NUM': 234848.0, u'USE_MON': u'201306'}, {u'COMMT': u'', u'RIDE_PASGR_NUM': 233096.0, u'WORK_DT': u'20130723', u'LINE_NUM': u'\\uacfc\\ucc9c\\uc120', u'SUB_STA_NM': u'\\uc120\\ubc14\\uc704', u'ALIGHT_PASGR_NUM': 199044.0, u'USE_MON': u'201306'}, {u'COMMT': u'', u'RIDE_PASGR_NUM': 263017.0, u'WORK_DT': u'20130723', u'LINE_NUM': u'\\uacf5\\ud56d\\ucca0\\ub3c4 1\\ud638\\uc120', u'SUB_STA_NM': u'\\uc778\\ucc9c\\uad6d\\uc81c\\uacf5\\ud56d', u'ALIGHT_PASGR_NUM': 248748.0, u'USE_MON': u'201306'}], u'RESULT': {u'MESSAGE': u'\\uc815\\uc0c1 \\ucc98\\ub9ac\\ub418\\uc5c8\\uc2b5\\ub2c8\\ub2e4', u'CODE': u'INFO-000'}, u'list_total_count': 530}} \n",
      "\n",
      "{u'CardSubwayStatisticsService': {u'row': [{u'COMMT': u'', u'RIDE_PASGR_NUM': 45047.0, u'WORK_DT': u'20130723', u'LINE_NUM': u'\\uacf5\\ud56d\\ucca0\\ub3c4 1\\ud638\\uc120', u'SUB_STA_NM': u'\\uacf5\\ud56d\\ud654\\ubb3c\\uccad\\uc0ac', u'ALIGHT_PASGR_NUM': 45225.0, u'USE_MON': u'201306'}, {u'COMMT': u'', u'RIDE_PASGR_NUM': 126837.0, u'WORK_DT': u'20130723', u'LINE_NUM': u'\\uacf5\\ud56d\\ucca0\\ub3c4 1\\ud638\\uc120', u'SUB_STA_NM': u'\\uc6b4\\uc11c', u'ALIGHT_PASGR_NUM': 121047.0, u'USE_MON': u'201306'}, {u'COMMT': u'', u'RIDE_PASGR_NUM': 451736.0, u'WORK_DT': u'20130723', u'LINE_NUM': u'\\uacf5\\ud56d\\ucca0\\ub3c4 1\\ud638\\uc120', u'SUB_STA_NM': u'\\uac80\\uc554', u'ALIGHT_PASGR_NUM': 415435.0, u'USE_MON': u'201306'}, {u'COMMT': u'', u'RIDE_PASGR_NUM': 251221.0, u'WORK_DT': u'20130723', u'LINE_NUM': u'\\uacf5\\ud56d\\ucca0\\ub3c4 1\\ud638\\uc120', u'SUB_STA_NM': u'\\uacc4\\uc591', u'ALIGHT_PASGR_NUM': 223588.0, u'USE_MON': u'201306'}, {u'COMMT': u'', u'RIDE_PASGR_NUM': 206576.0, u'WORK_DT': u'20130723', u'LINE_NUM': u'\\uacf5\\ud56d\\ucca0\\ub3c4 1\\ud638\\uc120', u'SUB_STA_NM': u'\\uae40\\ud3ec\\uacf5\\ud56d', u'ALIGHT_PASGR_NUM': 173194.0, u'USE_MON': u'201306'}], u'RESULT': {u'MESSAGE': u'\\uc815\\uc0c1 \\ucc98\\ub9ac\\ub418\\uc5c8\\uc2b5\\ub2c8\\ub2e4', u'CODE': u'INFO-000'}, u'list_total_count': 530}} \n",
      "\n"
     ]
    }
   ],
   "source": [
    "!python src\\ds_open_subwayPassengers.py"
   ]
  },
  {
   "cell_type": "code",
   "execution_count": 31,
   "metadata": {
    "collapsed": false
   },
   "outputs": [
    {
     "name": "stdout",
     "output_type": "stream",
     "text": [
      "Overwriting src/ds_open_subwayPassengers_mongo.js\n"
     ]
    }
   ],
   "source": [
    "%%writefile src/ds_open_subwayPassengers_mongo.js\n",
    "use ds_open_subwayPassengersDb\n",
    "db.db_open_subwayTable.find({\"CardSubwayStatisticsService.row.SUB_STA_NM\":\"강남구청\"})"
   ]
  },
  {
   "cell_type": "code",
   "execution_count": 32,
   "metadata": {
    "collapsed": false
   },
   "outputs": [
    {
     "name": "stdout",
     "output_type": "stream",
     "text": [
      "MongoDB shell version v3.4.3\n",
      "connecting to: mongodb://127.0.0.1:27017\n",
      "MongoDB server version: 3.4.3\n",
      "switched to db ds_open_subwayPassengersDb\n",
      "{ \"_id\" : ObjectId(\"59083baf60eb502ed09c0641\"), \"CardSubwayStatisticsService\" : { \"row\" : [ { \"COMMT\" : \"\", \"RIDE_PASGR_NUM\" : 206631, \"WORK_DT\" : \"20130723\", \"LINE_NUM\" : \"遺꾨떦��, \"SUB_STA_NM\" : \"�좎젙由�, \"ALIGHT_PASGR_NUM\" : 231260, \"USE_MON\" : \"201306\" }, { \"COMMT\" : \"\", \"RIDE_PASGR_NUM\" : 188076, \"WORK_DT\" : \"20130723\", \"LINE_NUM\" : \"遺꾨떦��, \"SUB_STA_NM\" : \"媛뺣궓援ъ껌\", \"ALIGHT_PASGR_NUM\" : 215608, \"USE_MON\" : \"201306\" }, { \"COMMT\" : \"\", \"RIDE_PASGR_NUM\" : 345902, \"WORK_DT\" : \"20130723\", \"LINE_NUM\" : \"遺꾨떦��, \"SUB_STA_NM\" : \"�뺢뎄�뺣줈�곗삤\", \"ALIGHT_PASGR_NUM\" : 393142, \"USE_MON\" : \"201306\" }, { \"COMMT\" : \"\", \"RIDE_PASGR_NUM\" : 143459, \"WORK_DT\" : \"20130723\", \"LINE_NUM\" : \"遺꾨떦��, \"SUB_STA_NM\" : \"�쒖슱��, \"ALIGHT_PASGR_NUM\" : 136147, \"USE_MON\" : \"201306\" }, { \"COMMT\" : \"\", \"RIDE_PASGR_NUM\" : 180522, \"WORK_DT\" : \"20130723\", \"LINE_NUM\" : \"遺꾨떦��, \"SUB_STA_NM\" : \"�섏꽌\", \"ALIGHT_PASGR_NUM\" : 185810, \"USE_MON\" : \"201306\" } ], \"RESULT\" : { \"MESSAGE\" : \"�뺤긽 泥섎━�섏뿀�듬땲��, \"CODE\" : \"INFO-000\" }, \"list_total_count\" : 530 } }\n",
      "{ \"_id\" : ObjectId(\"59083f2e60eb502f30654141\"), \"CardSubwayStatisticsService\" : { \"row\" : [ { \"COMMT\" : \"\", \"RIDE_PASGR_NUM\" : 206631, \"WORK_DT\" : \"20130723\", \"LINE_NUM\" : \"遺꾨떦��, \"SUB_STA_NM\" : \"�좎젙由�, \"ALIGHT_PASGR_NUM\" : 231260, \"USE_MON\" : \"201306\" }, { \"COMMT\" : \"\", \"RIDE_PASGR_NUM\" : 188076, \"WORK_DT\" : \"20130723\", \"LINE_NUM\" : \"遺꾨떦��, \"SUB_STA_NM\" : \"媛뺣궓援ъ껌\", \"ALIGHT_PASGR_NUM\" : 215608, \"USE_MON\" : \"201306\" }, { \"COMMT\" : \"\", \"RIDE_PASGR_NUM\" : 345902, \"WORK_DT\" : \"20130723\", \"LINE_NUM\" : \"遺꾨떦��, \"SUB_STA_NM\" : \"�뺢뎄�뺣줈�곗삤\", \"ALIGHT_PASGR_NUM\" : 393142, \"USE_MON\" : \"201306\" }, { \"COMMT\" : \"\", \"RIDE_PASGR_NUM\" : 143459, \"WORK_DT\" : \"20130723\", \"LINE_NUM\" : \"遺꾨떦��, \"SUB_STA_NM\" : \"�쒖슱��, \"ALIGHT_PASGR_NUM\" : 136147, \"USE_MON\" : \"201306\" }, { \"COMMT\" : \"\", \"RIDE_PASGR_NUM\" : 180522, \"WORK_DT\" : \"20130723\", \"LINE_NUM\" : \"遺꾨떦��, \"SUB_STA_NM\" : \"�섏꽌\", \"ALIGHT_PASGR_NUM\" : 185810, \"USE_MON\" : \"201306\" } ], \"RESULT\" : { \"MESSAGE\" : \"�뺤긽 泥섎━�섏뿀�듬땲��, \"CODE\" : \"INFO-000\" }, \"list_total_count\" : 530 } }\n",
      "bye\n"
     ]
    }
   ],
   "source": [
    "!mongo < src\\ds_open_subwayPassengers_mongo.js"
   ]
  },
  {
   "cell_type": "code",
   "execution_count": 34,
   "metadata": {
    "collapsed": false
   },
   "outputs": [
    {
     "name": "stdout",
     "output_type": "stream",
     "text": [
      "               Open     High      Low    Close  Volume  Adj Close\n",
      "Date                                                             \n",
      "2015-11-02  67900.0  68400.0  66800.0  68400.0  206300   62380.87\n",
      "2015-11-03  68600.0  69800.0  67600.0  69700.0  331900   63566.47\n",
      "2015-11-04  70900.0  71500.0  70000.0  70300.0  286900   64113.67\n",
      "2015-11-05  69800.0  70000.0  69100.0  69600.0  177600   63475.27\n",
      "2015-11-06  69500.0  69600.0  68900.0  69500.0  141000   63384.07\n",
      "2015-11-09  69300.0  69300.0  67600.0  67600.0  168800   61651.27\n",
      "2015-11-10  66700.0  68300.0  66200.0  67300.0  175600   61377.67\n"
     ]
    }
   ],
   "source": [
    "import datetime\n",
    "import pandas_datareader.data as web\n",
    "#import pandas.io.data as web\n",
    "start = datetime.datetime(2015,11,1)\n",
    "end = datetime.datetime(2015, 11, 10)\n",
    "soil = web.DataReader(\"010950.KS\", \"yahoo\", start, end)\n",
    "print soil"
   ]
  },
  {
   "cell_type": "code",
   "execution_count": 35,
   "metadata": {
    "collapsed": false
   },
   "outputs": [
    {
     "name": "stdout",
     "output_type": "stream",
     "text": [
      "                Open      High       Low     Close  Volume\n",
      "Date                                                      \n",
      "2015-11-02  257500.0  259500.0  254500.0  255500.0  153443\n",
      "2015-11-03  257500.0  259000.0  255000.0  255500.0  126434\n",
      "2015-11-04  254500.0  255000.0  250500.0  253000.0  180937\n",
      "2015-11-05  253000.0  256500.0  250500.0  254000.0   85396\n",
      "2015-11-06  253500.0  261000.0  253000.0  258000.0   88942\n",
      "2015-11-09  258500.0  258500.0  251000.0  252500.0   89752\n",
      "2015-11-10  251500.0  252000.0  248500.0  250000.0   79362\n"
     ]
    }
   ],
   "source": [
    "ncsoft = web.DataReader('KRX:036570', data_source='google', start='01/01/2015', end='09/02/2015')\n",
    "sds = web.DataReader('KRX:018260', data_source='google', start='11/01/2015', end='11/10/2015')\n",
    "\n",
    "print sds"
   ]
  },
  {
   "cell_type": "code",
   "execution_count": 36,
   "metadata": {
    "collapsed": false
   },
   "outputs": [
    {
     "name": "stdout",
     "output_type": "stream",
     "text": [
      "ArpltnInforInqireSvc\\getMinuDustFrcstDspth\n"
     ]
    }
   ],
   "source": [
    "import os\n",
    "SERVICE='ArpltnInforInqireSvc'\n",
    "OPERATION_NAME='getMinuDustFrcstDspth'\n",
    "params1=os.path.join(SERVICE,OPERATION_NAME)\n",
    "print params1"
   ]
  },
  {
   "cell_type": "code",
   "execution_count": 37,
   "metadata": {
    "collapsed": false
   },
   "outputs": [
    {
     "name": "stdout",
     "output_type": "stream",
     "text": [
      "dataTerm=month\n"
     ]
    }
   ],
   "source": [
    "import urllib\n",
    "_d=dict()\n",
    "\n",
    "#_d['stationName']='종로구'\n",
    "_d['dataTerm']='month'\n",
    "params2 = urllib.urlencode(_d)\n",
    "print params2"
   ]
  },
  {
   "cell_type": "code",
   "execution_count": null,
   "metadata": {
    "collapsed": true
   },
   "outputs": [],
   "source": [
    "params=params1+'?'+'serviceKey='+key['gokr']+'&'+params2"
   ]
  },
  {
   "cell_type": "code",
   "execution_count": null,
   "metadata": {
    "collapsed": true
   },
   "outputs": [],
   "source": [
    "import urlparse\n",
    "_url='http://openapi.airkorea.or.kr/openapi/services/rest/ArpltnInforInqireSvc'\n",
    "url=urlparse.urljoin(_url,params)"
   ]
  },
  {
   "cell_type": "code",
   "execution_count": null,
   "metadata": {
    "collapsed": true
   },
   "outputs": [],
   "source": [
    "import requests\n",
    "\n",
    "data=requests.get(url).text\n",
    "\n"
   ]
  },
  {
   "cell_type": "code",
   "execution_count": 47,
   "metadata": {
    "collapsed": false
   },
   "outputs": [
    {
     "name": "stdout",
     "output_type": "stream",
     "text": [
      "Overwriting src/ds_open_library.py\n"
     ]
    }
   ],
   "source": [
    "%%writefile src/ds_open_library.py\n",
    "# coding: utf-8\n",
    "import os\n",
    "import urllib\n",
    "import urlparse\n",
    "import requests\n",
    "import mylib\n",
    "\n",
    "def doIt():\n",
    "    _d=dict()\n",
    "    _d['title']='도둑' \n",
    "    _d['manageCd']='MA'\n",
    "    _d['numOfRows']='5'\n",
    "    _d['pageNo']='2'\n",
    "    params2 = urllib.urlencode(_d)\n",
    "\n",
    "    keyPath=os.path.join(os.getcwd(), 'src', 'key.properties')\n",
    "    key=mylib.getKey(keyPath)\n",
    "    print key['gokr'] + '\\n'\n",
    "    params='?'+'serviceKey='+key['gokr']+'&'+params2\n",
    "\n",
    "    _url = 'http://openapi-lib.sen.go.kr/openapi/service/lib/openApi'\n",
    "    url=urlparse.urljoin(_url,params)\n",
    "    _url_f = _url\n",
    "    _url = ''\n",
    "    for i in _url_f:\n",
    "        if i == ('\\\\'):\n",
    "            _url += '/'\n",
    "        else:\n",
    "            _url += i\n",
    "    data=requests.get(url).text\n",
    "    print data\n",
    "\n",
    "if __name__ == \"__main__\":\n",
    "    doIt()"
   ]
  },
  {
   "cell_type": "code",
   "execution_count": 48,
   "metadata": {
    "collapsed": false
   },
   "outputs": [
    {
     "name": "stdout",
     "output_type": "stream",
     "text": [
      "rO7vDzBEDsP0%2FXziYV7Ou4Xt6G0D1vPaCXXjiLzTBdRSQlYyVwGDPa2Kvn5qTRZ4HH37HBO4oVwoCKfHzss96A%3D%3D\n",
      "\n",
      "<?xml version=\"1.0\" encoding=\"UTF-8\" standalone=\"yes\"?><response><header><resultCode>99</resultCode><resultMsg>SERVICE KEY IS NOT REGISTERED ERROR.</resultMsg></header></response>\n"
     ]
    }
   ],
   "source": [
    "!python src\\ds_open_library.py\n"
   ]
  }
 ],
 "metadata": {
  "kernelspec": {
   "display_name": "Python 2",
   "language": "python",
   "name": "python2"
  },
  "language_info": {
   "codemirror_mode": {
    "name": "ipython",
    "version": 2
   },
   "file_extension": ".py",
   "mimetype": "text/x-python",
   "name": "python",
   "nbconvert_exporter": "python",
   "pygments_lexer": "ipython2",
   "version": "2.7.13"
  }
 },
 "nbformat": 4,
 "nbformat_minor": 2
}
