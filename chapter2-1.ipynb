{
 "cells": [
  {
   "cell_type": "code",
   "execution_count": 106,
   "metadata": {
    "collapsed": false
   },
   "outputs": [
    {
     "name": "stdout",
     "output_type": "stream",
     "text": [
      "1 대학원   2 링크사이트   3 주요서비스   4 주요사이트  \n"
     ]
    }
   ],
   "source": [
    "#coding utf-8\n",
    "\n",
    "import requests\n",
    "import lxml.html\n",
    "import lxml.etree\n",
    "\n",
    "rResponse = requests.get('https://www.smu.ac.kr/mbs/smu/')\n",
    "_html = lxml.html.fromstring(rResponse.text)\n",
    "\n",
    "titles = _html.xpath('//*[@id=\"mbodyContainer\"]/table[1]/thead/tr/th')\n",
    "for i, node in enumerate(titles):\n",
    "    print i+1, node.text, \" \", \\\n",
    "    \n",
    "contents_div = _html.xpath('//*[@id=\"mbodyContainer\"]/table[1]/tbody//tr')\n",
    "#for i, node in enumerate(contents_div):\n",
    "    "
   ]
  },
  {
   "cell_type": "code",
   "execution_count": 15,
   "metadata": {
    "collapsed": false
   },
   "outputs": [
    {
     "name": "stdout",
     "output_type": "stream",
     "text": [
      "Writing extra/sangmyung_notice_borad_crawling.py\n"
     ]
    }
   ],
   "source": [
    "%%writefile extra/sangmyung_notice_borad_crawling.py\n",
    "\n",
    "# coding: utf-8\n",
    "\n",
    "import requests\n",
    "import lxml.html\n",
    "import lxml.etree\n",
    "\n",
    "def sangmyungNoticCrawl():\n",
    "    rResponse2 = requests.get('https://www.smu.ac.kr/mbs/smu/jsp/board/list.jsp?boardId=14446&id=smu_040100000000')\n",
    "    _html2 = lxml.etree.HTML(rResponse2.text)\n",
    "\n",
    "    th_info = _html2.xpath('//*[@id=\"subContents\"]/form[2]/table/tbody/tr[1]/th')\n",
    "    for node in th_info:\n",
    "        print node.text,\"            \", \\\n",
    "\n",
    "    print \"\\n\"\n",
    "    td_tr = _html2.xpath('//*[@id=\"subContents\"]/form[2]/table/tbody/tr')\n",
    "    for j in range(0, len(td_tr)):\n",
    "        td_info = td_tr[j].xpath('.//td')\n",
    "        for i in range(0, len(td_info)):\n",
    "            if((i == 0)and(td_info[i].xpath('.//img'))):\n",
    "                print \"\\n\",u\"공지\".strip(), \" / \", \n",
    "            elif ((i == len(td_info)-1)and(td_info[i].xpath('.//img'))):\n",
    "                print u\"파일 있음\".strip()\n",
    "            elif (td_info[i].xpath('.//a/text()')):\n",
    "                print unicode(td_info[i].xpath('.//a/text()')[0]).strip(), \" / \", \n",
    "            else:\n",
    "                print td_info[i].text.strip(), \" / \", \n",
    "                \n",
    "def main():\n",
    "    sangmyungNoticCrawl()\n",
    "    \n",
    "if __name__ == \"__main__\":\n",
    "    main()"
   ]
  },
  {
   "cell_type": "code",
   "execution_count": 9,
   "metadata": {
    "collapsed": false
   },
   "outputs": [
    {
     "name": "stdout",
     "output_type": "stream",
     "text": [
      "yes\n"
     ]
    }
   ],
   "source": [
    "if ((1)and(2)):\n",
    "    print \"yes\""
   ]
  },
  {
   "cell_type": "code",
   "execution_count": 10,
   "metadata": {
    "collapsed": false
   },
   "outputs": [
    {
     "name": "stdout",
     "output_type": "stream",
     "text": [
      "status= 302\n",
      "response text= \n",
      "response header= {'Date': 'Tue, 04 Apr 2017 07:43:38 GMT', 'Content-Length': '259', 'Content-Type': 'text/html; charset=UTF-8', 'Location': 'http://www.google.co.kr/?gfe_rd=cr&ei=qk7jWMOAFdDC8geQgrxA', 'Cache-Control': 'private'}\n"
     ]
    }
   ],
   "source": [
    "import requests\n",
    "\n",
    "resp = requests.head(\"http://www.google.com\")\n",
    "print \"status=\", resp.status_code\n",
    "print \"response text=\", resp.text\n",
    "print \"response header=\", resp.headers"
   ]
  },
  {
   "cell_type": "code",
   "execution_count": 12,
   "metadata": {
    "collapsed": false
   },
   "outputs": [
    {
     "data": {
      "text/plain": [
       "True"
      ]
     },
     "execution_count": 12,
     "metadata": {},
     "output_type": "execute_result"
    }
   ],
   "source": [
    "import webbrowser\n",
    "from urllib import urlopen\n",
    "\n",
    "keyword='python'\n",
    "resp = urlopen('https://www.google.com/search?q='+keyword)\n",
    "html = resp.read()\n",
    "\n",
    "webbrowser.open('https://www.google.com/search?q='+keyword)"
   ]
  },
  {
   "cell_type": "code",
   "execution_count": 14,
   "metadata": {
    "collapsed": true
   },
   "outputs": [],
   "source": [
    "import urllib2\n",
    "url = 'http://www.google.com/#q=python'\n",
    "headers = {'User-Agent' : 'Mozilla 5.0'}\n",
    "request = urllib2.Request(url, None, headers)\n",
    "response = urllib2.urlopen(request)\n",
    "html = response.read()\n",
    "import os\n",
    "f=open(os.path.join('src','mygoogle1.html'),'w')\n",
    "f.write(html)\n",
    "f.close()"
   ]
  },
  {
   "cell_type": "code",
   "execution_count": 1,
   "metadata": {
    "collapsed": false
   },
   "outputs": [
    {
     "name": "stdout",
     "output_type": "stream",
     "text": [
      "Writing src/ds_web_crawl_python_1.py\n"
     ]
    }
   ],
   "source": [
    "%%writefile src/ds_web_crawl_python_1.py\n",
    "# coding: utf-8\n",
    "\n",
    "from bs4 import BeautifulSoup\n",
    "import requests\n",
    "import re\n",
    "\n",
    "def python_crawl():\n",
    "    response = requests.get(\"https://www.python.org/\")\n",
    "    nodes = BeautifulSoup(response.content, \"html.parser\")\n",
    "\n",
    "    for i,node in enumerate(nodes.findAll('a')):\n",
    "        if 'href' in node.attrs:\n",
    "            print i,\" Element: \", node,\"   \",\n",
    "            print \"\\n\\nhref-value: \", node.attrs['href'],\"   \",\n",
    "            print \"\\n\\ntext: \", node.text\n",
    "            print \"\\n\\n\"\n",
    "            \n",
    "def main():\n",
    "    python_crawl()\n",
    "    \n",
    "if __name__ == \"__main__\":\n",
    "    main()\n"
   ]
  },
  {
   "cell_type": "code",
   "execution_count": null,
   "metadata": {
    "collapsed": false
   },
   "outputs": [],
   "source": [
    "import re\n",
    "import lxml.etree\n",
    "from bs4 import BeautifulSoup\n",
    "\n",
    "tags='<html><body><div>asdfasdf</div><p><a>foo</a></p></body></html>'\n",
    "regex = '<a>(.*)</a>'\n",
    "soup = BeautifulSoup(tags,\"lxml\")\n",
    "\n",
    "print re.compile(regex).findall(tags)[0]\n",
    "print re.findall(regex, tags)[0]\n",
    "for e in soup(text = re.compile(r'\\w+')):\n",
    "    print e, e.parent"
   ]
  },
  {
   "cell_type": "code",
   "execution_count": null,
   "metadata": {
    "collapsed": true
   },
   "outputs": [],
   "source": [
    "%%writefile src/ds_web_crawl_python_2.py\n",
    "# coding: utf-8\n",
    "\n",
    "import re\n",
    "import requests\n",
    "import lxml.etree\n",
    "import lxml.html\n",
    "import StringIO\n",
    "import sys\n",
    "from bs4 import BeautifulSoup\n",
    "from lxml.cssselect import CSSSelector\n",
    "\n",
    "def getURLString():\n",
    "    response = requests.get(\"http://www.python.org\")\n",
    "    html_string = response.text\n",
    "    #print response.headers\n",
    "    return html_string\n",
    "\n",
    "def method1_regex():\n",
    "    regex = 'href=\"(.*?)\"'\n",
    "    text = getURLString()\n",
    "    print u\"href 속성은 몇개?\"\n",
    "    count = 0\n",
    "    for count,element in enumerate(re.compile(regex).findall(text)):\n",
    "        if count < 20:\n",
    "            print count+1, element\n",
    "    print u\"\\n\\nhref 속성은 = {0}개 입니다.\".format(count)\n",
    "    print \"\\n\\n\"\n",
    "\n",
    "def method2_regex():\n",
    "    print u\"a 태그는 몇개?\"\n",
    "    regex2 = \"<a .+?>.*?</a>\" #a 태그에 무슨 속성이 들어가있는지 패턴이 정해져 있지 않으므로\n",
    "    pattern = re.compile(regex2)\n",
    "    text = getURLString()\n",
    "    count = 0\n",
    "    for count,element in enumerate(pattern.findall(text)):\n",
    "        if count < 20:\n",
    "            print count+1\n",
    "            print element\n",
    "    print u\"\\n\\na 태그는 = {0}개 입니다.\".format(count)\n",
    "    print \"\\n\\n\"\n",
    "    \n",
    "def method3_xpath():\n",
    "    print u\"h1태그의 문자열을 읽어보자.\"\n",
    "    html_str = getURLString()\n",
    "    \n",
    "    tree = lxml.etree.HTML(html_str)\n",
    "    xpath_list = tree.xpath(\"//h1\")\n",
    "    for i , e in enumerate(xpath_list):\n",
    "        if i < 20:\n",
    "            print e.xpath(\".//text()\")[0] \n",
    "    print \"\\n\\n\"\n",
    "    \n",
    "def method4_cssselctor():\n",
    "    print u\"img 태그의 src 속성을 알아보자\"\n",
    "    my_string = getURLString()\n",
    "    parser = lxml.etree.HTMLParser()\n",
    "    tree = lxml.html.parse(StringIO.StringIO(my_string), parser)\n",
    "    \n",
    "    select = CSSSelector('img[src]')\n",
    "    nodes = select(tree)\n",
    "    for i,e in enumerate(nodes):\n",
    "        if i < 20:\n",
    "            print i, e.get('src')\n",
    "    print \"\\n\\n\"\n",
    "    \n",
    "def main():\n",
    "    print \"\\n\\n----------------------\\n\\n\"\n",
    "    print \"Welcome!!\"\n",
    "    print \"\\n\\n----------------------\\n\\n\"\n",
    "    while(True):\n",
    "        print \"1.method1_regex()\\n\",\"2.method2_regex()\\n\",\"3.method3_xpath()\\n\",\"4.method4_cssselctor()\\n\",\"5.EXIT\\n\"\n",
    "        num = input(\"Insert Number>> \")\n",
    "        if (num==1):\n",
    "            method1_regex()\n",
    "        elif (num==2):\n",
    "            method2_regex()\n",
    "        elif (num==3):\n",
    "            method3_xpath()\n",
    "        elif (num==4):\n",
    "            method4_cssselctor()\n",
    "        elif (num==5):\n",
    "            print u\"종료합니다.\\n\\n\"\n",
    "            sys.exit()\n",
    "        else:\n",
    "            print u\"잘못된 번호입니다.\\n\\n\"\n",
    "    \n",
    "if __name__ == \"__main__\":\n",
    "    main()"
   ]
  },
  {
   "cell_type": "code",
   "execution_count": null,
   "metadata": {
    "collapsed": false
   },
   "outputs": [
    {
     "name": "stdout",
     "output_type": "stream",
     "text": [
      "\n",
      "\n",
      "------------------------\n",
      "\n",
      "\n",
      "             Welcome!\n",
      "\n",
      "\n",
      "------------------------\n",
      "\n",
      "\n",
      "(1)네이버\n",
      "(2)다음\n",
      "(3)파이썬\n",
      "(4)구글\n",
      "(5)EXIT\n",
      "\n",
      ">>3\n",
      "\n",
      "\n",
      "c:\\Users\\Code\\s-201111265src\\mypage.html 저장되었습니다\n",
      "\n",
      "\n",
      "(1)네이버\n",
      "(2)다음\n",
      "(3)파이썬\n",
      "(4)구글\n",
      "(5)EXIT\n",
      "\n"
     ]
    }
   ],
   "source": [
    "#%%writefile src/ds_web_crawl_http.py\n",
    "# coding: utf-8\n",
    "\n",
    "import sys\n",
    "import os\n",
    "import urllib2\n",
    "import urllib\n",
    "import lxml.html\n",
    "import lxml.etree\n",
    "from lxml.cssselect import CSSSelector\n",
    "\n",
    "def changeHeader():\n",
    "    print \"\\n\\n------------------------\\n\\n\"\n",
    "    print \"             Welcome!\"\n",
    "    print \"\\n\\n------------------------\\n\\n\"\n",
    "    while(True):\n",
    "        url = \"\"\n",
    "        print u\"\"\"(1)네이버\\n(2)다음\\n(3)파이썬\\n(4)구글\\n(5)EXIT\\n\"\"\"\n",
    "        num = input(\">>\")\n",
    "        if(num==1):\n",
    "            #url = \"https://search.naver.com/\" + \"search.naver?query=python\"\n",
    "            print u\"\\n\\n방화벽으로 막혀있음 확인...\\n\\n\"\n",
    "            continue\n",
    "        elif(num==2):\n",
    "            #url = \"https://www.daum.net/\" + \"search?w=tot&q=python\"\n",
    "            print u\"\\n\\n방화벽으로 막혀있음 확인...\\n\\n\"\n",
    "            continue\n",
    "        elif(num==3):\n",
    "            url = \"http://www.python.org/\" + \"search/?q=python\"\n",
    "        elif(num==4):\n",
    "            url = \"https://www.google.co.kr/\" + \"#q=python\"\n",
    "        elif(num==5):\n",
    "            break;\n",
    "        else:\n",
    "            printf(u\"\\n잘못된 번호 입니다.\\n\")\n",
    "        request_headers = {\n",
    "            \"User-Agent\" : \"Mozilla/5.0 (Windows NT 10.0; WOW64) AppleWebKit/537.36 (KHTML, like Gecko) Chrome/57.0.2987.133 Safari/537.36\"\n",
    "        }\n",
    "        uRequest = urllib2.Request(url, None, request_headers)\n",
    "        uResponse = urllib2.urlopen(uRequest)\n",
    "        \n",
    "        text = \"\\n\\n\" + uResponse.read()\n",
    "        \n",
    "        f = open(os.path.join('src', 'myPage.html'), \"w\")\n",
    "        f.write(text)\n",
    "        print \"\\n\\n\", os.getcwd() + os.path.join('src', 'mypage.html'), u\"저장되었습니다\\n\\n\n",
    "        \"\n",
    "        f.close()\n",
    "     \n",
    "def search_on_wiki():\n",
    "    while(1):\n",
    "        keyword = input(\"Please, Insert what you want to know in English>>\")    \n",
    "        url = \"https://en.wikipedia.org/wiki/Wiki/\" + keyword\n",
    "        my_parser = lxml.etree.HTMLParser()\n",
    "        uResponse = urllib.urlopen(url)\n",
    "        html_text = lxml.html.fromstring(uResponse.read())\n",
    "        \n",
    "        title = CSSSelector('h1[id=\"firstHeading\"]')\n",
    "        nodes = title(html_text)\n",
    "        \n",
    "        for i in nodes:\n",
    "            print \"\\n\\n\",i.text, \"\\n\\n\"\n",
    "            \n",
    "        print \"It may refer to: \\n\"\n",
    "        \n",
    "        contents = CSSSelector('div[id=\"#mw-content-text\"]  h2')\n",
    "        nodes = contents(html_text)\n",
    "        \n",
    "        for j in nodes:\n",
    "            print \"\\n\", j.text, \"\\n\"\n",
    "        \n",
    "def main():\n",
    "    changeHeader()\n",
    "    print u\"\\n\\n 위키에서 검색하기\\n\\n\"\n",
    "    search_on_wiki()\n",
    "    \n",
    "if __name__==\"__main__\":\n",
    "    main()"
   ]
  },
  {
   "cell_type": "code",
   "execution_count": 35,
   "metadata": {
    "collapsed": false
   },
   "outputs": [
    {
     "data": {
      "text/plain": [
       "0"
      ]
     },
     "execution_count": 35,
     "metadata": {},
     "output_type": "execute_result"
    }
   ],
   "source": [
    "import lxml.etree \n",
    "import lxml.html\n",
    "import requests\n",
    "import webbrowser\n",
    "import StringIO\n",
    "import os\n",
    "from lxml.cssselect import CSSSelector \n",
    "\n",
    "rResponse = requests.get(\"http://datalab.naver.com/\")\n",
    "html_str = rResponse.text\n",
    "\n",
    "parser = lxml.etree.HTMLParser()\n",
    "tree = lxml.etree.fromstring(html_str, parser)\n",
    "\n",
    "sel = CSSSelector('#content > .keyword_carousel ')\n",
    "nodes = sel(tree)\n",
    "\n",
    "len(nodes)"
   ]
  },
  {
   "cell_type": "code",
   "execution_count": 1,
   "metadata": {
    "collapsed": false
   },
   "outputs": [
    {
     "name": "stdout",
     "output_type": "stream",
     "text": [
      "\n",
      "\n",
      " 정규식으로 하기 \n",
      "\n",
      "\n",
      "비 오는 거리\n",
      "1집 비오는 거리\n",
      "비오는 날 수채화\n",
      "비오는 날 수채화 1 OST\n",
      "비오는 거리\n",
      "유ㄹish.1 - 비오는 거리\n",
      "비오는 압구정\n",
      "비 오는 거리\n",
      "비 오는 거리\n",
      "비 오는 거리  (Feat. 핫펠트)\n",
      "비오는 거리\n",
      "비오는날의 수채화 (Feat. 정혜민, Misty)\n",
      "비 오는 날\n",
      "비 오는 날\n",
      "비오는 날엔\n",
      "비오는 날엔\n",
      "비오는 날, 산책\n",
      "비오는 날, 산책\n",
      "비오는 압구정\n",
      "비 오는 창가에서\n",
      "Acoustic Rain (비오는 날 듣는 감성 팝음악 모음집)\n",
      "비오는 날\n",
      "\n",
      "\n",
      " CSS 선택자로 하기 \n",
      "\n",
      "\n",
      "insert>>'비오는'\n"
     ]
    },
    {
     "ename": "UnicodeDecodeError",
     "evalue": "'utf8' codec can't decode byte 0xba in position 47: invalid start byte",
     "output_type": "error",
     "traceback": [
      "\u001b[0;31m---------------------------------------------------------------------------\u001b[0m",
      "\u001b[0;31mUnicodeDecodeError\u001b[0m                        Traceback (most recent call last)",
      "\u001b[0;32m<ipython-input-1-5063d2d5d8fd>\u001b[0m in \u001b[0;36m<module>\u001b[0;34m()\u001b[0m\n\u001b[1;32m     86\u001b[0m \u001b[1;33m\u001b[0m\u001b[0m\n\u001b[1;32m     87\u001b[0m \u001b[1;32mif\u001b[0m \u001b[0m__name__\u001b[0m\u001b[1;33m==\u001b[0m\u001b[1;34m\"__main__\"\u001b[0m\u001b[1;33m:\u001b[0m\u001b[1;33m\u001b[0m\u001b[0m\n\u001b[0;32m---> 88\u001b[0;31m         \u001b[0mmain\u001b[0m\u001b[1;33m(\u001b[0m\u001b[1;33m)\u001b[0m\u001b[1;33m\u001b[0m\u001b[0m\n\u001b[0m",
      "\u001b[0;32m<ipython-input-1-5063d2d5d8fd>\u001b[0m in \u001b[0;36mmain\u001b[0;34m()\u001b[0m\n\u001b[1;32m     81\u001b[0m     \u001b[0mwith_Regex\u001b[0m\u001b[1;33m(\u001b[0m\u001b[1;33m)\u001b[0m\u001b[1;33m\u001b[0m\u001b[0m\n\u001b[1;32m     82\u001b[0m     \u001b[1;32mprint\u001b[0m \u001b[1;34mu\"\\n\\n CSS 선택자로 하기 \\n\\n\"\u001b[0m\u001b[1;33m\u001b[0m\u001b[0m\n\u001b[0;32m---> 83\u001b[0;31m     \u001b[0mwith_CSSSelector\u001b[0m\u001b[1;33m(\u001b[0m\u001b[1;33m)\u001b[0m\u001b[1;33m\u001b[0m\u001b[0m\n\u001b[0m\u001b[1;32m     84\u001b[0m     \u001b[1;32mprint\u001b[0m \u001b[1;34mu\"\\n\\n CSS 선택자로 모두 출력하기 \\n\\n\"\u001b[0m\u001b[1;33m\u001b[0m\u001b[0m\n\u001b[1;32m     85\u001b[0m     \u001b[0mwith_CSSSelctor_all\u001b[0m\u001b[1;33m(\u001b[0m\u001b[1;33m)\u001b[0m\u001b[1;33m\u001b[0m\u001b[0m\n",
      "\u001b[0;32m<ipython-input-1-5063d2d5d8fd>\u001b[0m in \u001b[0;36mwith_CSSSelector\u001b[0;34m()\u001b[0m\n\u001b[1;32m     38\u001b[0m     \u001b[0mkeyword\u001b[0m \u001b[1;33m=\u001b[0m \u001b[0minput\u001b[0m\u001b[1;33m(\u001b[0m\u001b[1;34m\"insert>>\"\u001b[0m\u001b[1;33m)\u001b[0m\u001b[1;33m\u001b[0m\u001b[0m\n\u001b[1;32m     39\u001b[0m     \u001b[0murl\u001b[0m \u001b[1;33m=\u001b[0m \u001b[1;34m\"http://music.naver.com/search/search.nhn?query={0}&x=0&y=0\"\u001b[0m\u001b[1;33m.\u001b[0m\u001b[0mformat\u001b[0m\u001b[1;33m(\u001b[0m\u001b[0mkeyword\u001b[0m\u001b[1;33m)\u001b[0m\u001b[1;33m\u001b[0m\u001b[0m\n\u001b[0;32m---> 40\u001b[0;31m     \u001b[0mhtml_str\u001b[0m \u001b[1;33m=\u001b[0m \u001b[0mrequests\u001b[0m\u001b[1;33m.\u001b[0m\u001b[0mget\u001b[0m\u001b[1;33m(\u001b[0m\u001b[0murl\u001b[0m\u001b[1;33m)\u001b[0m\u001b[1;33m.\u001b[0m\u001b[0mtext\u001b[0m\u001b[1;33m\u001b[0m\u001b[0m\n\u001b[0m\u001b[1;32m     41\u001b[0m \u001b[1;33m\u001b[0m\u001b[0m\n\u001b[1;32m     42\u001b[0m     \u001b[0mtree\u001b[0m \u001b[1;33m=\u001b[0m \u001b[0mlxml\u001b[0m\u001b[1;33m.\u001b[0m\u001b[0mhtml\u001b[0m\u001b[1;33m.\u001b[0m\u001b[0mfromstring\u001b[0m\u001b[1;33m(\u001b[0m\u001b[0mhtml_str\u001b[0m\u001b[1;33m)\u001b[0m\u001b[1;33m\u001b[0m\u001b[0m\n",
      "\u001b[0;32mC:\\ProgramData\\Anaconda2\\lib\\site-packages\\requests\\api.pyc\u001b[0m in \u001b[0;36mget\u001b[0;34m(url, params, **kwargs)\u001b[0m\n\u001b[1;32m     68\u001b[0m \u001b[1;33m\u001b[0m\u001b[0m\n\u001b[1;32m     69\u001b[0m     \u001b[0mkwargs\u001b[0m\u001b[1;33m.\u001b[0m\u001b[0msetdefault\u001b[0m\u001b[1;33m(\u001b[0m\u001b[1;34m'allow_redirects'\u001b[0m\u001b[1;33m,\u001b[0m \u001b[0mTrue\u001b[0m\u001b[1;33m)\u001b[0m\u001b[1;33m\u001b[0m\u001b[0m\n\u001b[0;32m---> 70\u001b[0;31m     \u001b[1;32mreturn\u001b[0m \u001b[0mrequest\u001b[0m\u001b[1;33m(\u001b[0m\u001b[1;34m'get'\u001b[0m\u001b[1;33m,\u001b[0m \u001b[0murl\u001b[0m\u001b[1;33m,\u001b[0m \u001b[0mparams\u001b[0m\u001b[1;33m=\u001b[0m\u001b[0mparams\u001b[0m\u001b[1;33m,\u001b[0m \u001b[1;33m**\u001b[0m\u001b[0mkwargs\u001b[0m\u001b[1;33m)\u001b[0m\u001b[1;33m\u001b[0m\u001b[0m\n\u001b[0m\u001b[1;32m     71\u001b[0m \u001b[1;33m\u001b[0m\u001b[0m\n\u001b[1;32m     72\u001b[0m \u001b[1;33m\u001b[0m\u001b[0m\n",
      "\u001b[0;32mC:\\ProgramData\\Anaconda2\\lib\\site-packages\\requests\\api.pyc\u001b[0m in \u001b[0;36mrequest\u001b[0;34m(method, url, **kwargs)\u001b[0m\n\u001b[1;32m     54\u001b[0m     \u001b[1;31m# cases, and look like a memory leak in others.\u001b[0m\u001b[1;33m\u001b[0m\u001b[1;33m\u001b[0m\u001b[0m\n\u001b[1;32m     55\u001b[0m     \u001b[1;32mwith\u001b[0m \u001b[0msessions\u001b[0m\u001b[1;33m.\u001b[0m\u001b[0mSession\u001b[0m\u001b[1;33m(\u001b[0m\u001b[1;33m)\u001b[0m \u001b[1;32mas\u001b[0m \u001b[0msession\u001b[0m\u001b[1;33m:\u001b[0m\u001b[1;33m\u001b[0m\u001b[0m\n\u001b[0;32m---> 56\u001b[0;31m         \u001b[1;32mreturn\u001b[0m \u001b[0msession\u001b[0m\u001b[1;33m.\u001b[0m\u001b[0mrequest\u001b[0m\u001b[1;33m(\u001b[0m\u001b[0mmethod\u001b[0m\u001b[1;33m=\u001b[0m\u001b[0mmethod\u001b[0m\u001b[1;33m,\u001b[0m \u001b[0murl\u001b[0m\u001b[1;33m=\u001b[0m\u001b[0murl\u001b[0m\u001b[1;33m,\u001b[0m \u001b[1;33m**\u001b[0m\u001b[0mkwargs\u001b[0m\u001b[1;33m)\u001b[0m\u001b[1;33m\u001b[0m\u001b[0m\n\u001b[0m\u001b[1;32m     57\u001b[0m \u001b[1;33m\u001b[0m\u001b[0m\n\u001b[1;32m     58\u001b[0m \u001b[1;33m\u001b[0m\u001b[0m\n",
      "\u001b[0;32mC:\\ProgramData\\Anaconda2\\lib\\site-packages\\requests\\sessions.pyc\u001b[0m in \u001b[0;36mrequest\u001b[0;34m(self, method, url, params, data, headers, cookies, files, auth, timeout, allow_redirects, proxies, hooks, stream, verify, cert, json)\u001b[0m\n\u001b[1;32m    472\u001b[0m             \u001b[0mhooks\u001b[0m \u001b[1;33m=\u001b[0m \u001b[0mhooks\u001b[0m\u001b[1;33m,\u001b[0m\u001b[1;33m\u001b[0m\u001b[0m\n\u001b[1;32m    473\u001b[0m         )\n\u001b[0;32m--> 474\u001b[0;31m         \u001b[0mprep\u001b[0m \u001b[1;33m=\u001b[0m \u001b[0mself\u001b[0m\u001b[1;33m.\u001b[0m\u001b[0mprepare_request\u001b[0m\u001b[1;33m(\u001b[0m\u001b[0mreq\u001b[0m\u001b[1;33m)\u001b[0m\u001b[1;33m\u001b[0m\u001b[0m\n\u001b[0m\u001b[1;32m    475\u001b[0m \u001b[1;33m\u001b[0m\u001b[0m\n\u001b[1;32m    476\u001b[0m         \u001b[0mproxies\u001b[0m \u001b[1;33m=\u001b[0m \u001b[0mproxies\u001b[0m \u001b[1;32mor\u001b[0m \u001b[1;33m{\u001b[0m\u001b[1;33m}\u001b[0m\u001b[1;33m\u001b[0m\u001b[0m\n",
      "\u001b[0;32mC:\\ProgramData\\Anaconda2\\lib\\site-packages\\requests\\sessions.pyc\u001b[0m in \u001b[0;36mprepare_request\u001b[0;34m(self, request)\u001b[0m\n\u001b[1;32m    405\u001b[0m             \u001b[0mauth\u001b[0m\u001b[1;33m=\u001b[0m\u001b[0mmerge_setting\u001b[0m\u001b[1;33m(\u001b[0m\u001b[0mauth\u001b[0m\u001b[1;33m,\u001b[0m \u001b[0mself\u001b[0m\u001b[1;33m.\u001b[0m\u001b[0mauth\u001b[0m\u001b[1;33m)\u001b[0m\u001b[1;33m,\u001b[0m\u001b[1;33m\u001b[0m\u001b[0m\n\u001b[1;32m    406\u001b[0m             \u001b[0mcookies\u001b[0m\u001b[1;33m=\u001b[0m\u001b[0mmerged_cookies\u001b[0m\u001b[1;33m,\u001b[0m\u001b[1;33m\u001b[0m\u001b[0m\n\u001b[0;32m--> 407\u001b[0;31m             \u001b[0mhooks\u001b[0m\u001b[1;33m=\u001b[0m\u001b[0mmerge_hooks\u001b[0m\u001b[1;33m(\u001b[0m\u001b[0mrequest\u001b[0m\u001b[1;33m.\u001b[0m\u001b[0mhooks\u001b[0m\u001b[1;33m,\u001b[0m \u001b[0mself\u001b[0m\u001b[1;33m.\u001b[0m\u001b[0mhooks\u001b[0m\u001b[1;33m)\u001b[0m\u001b[1;33m,\u001b[0m\u001b[1;33m\u001b[0m\u001b[0m\n\u001b[0m\u001b[1;32m    408\u001b[0m         )\n\u001b[1;32m    409\u001b[0m         \u001b[1;32mreturn\u001b[0m \u001b[0mp\u001b[0m\u001b[1;33m\u001b[0m\u001b[0m\n",
      "\u001b[0;32mC:\\ProgramData\\Anaconda2\\lib\\site-packages\\requests\\models.pyc\u001b[0m in \u001b[0;36mprepare\u001b[0;34m(self, method, url, headers, files, data, params, auth, cookies, hooks, json)\u001b[0m\n\u001b[1;32m    300\u001b[0m \u001b[1;33m\u001b[0m\u001b[0m\n\u001b[1;32m    301\u001b[0m         \u001b[0mself\u001b[0m\u001b[1;33m.\u001b[0m\u001b[0mprepare_method\u001b[0m\u001b[1;33m(\u001b[0m\u001b[0mmethod\u001b[0m\u001b[1;33m)\u001b[0m\u001b[1;33m\u001b[0m\u001b[0m\n\u001b[0;32m--> 302\u001b[0;31m         \u001b[0mself\u001b[0m\u001b[1;33m.\u001b[0m\u001b[0mprepare_url\u001b[0m\u001b[1;33m(\u001b[0m\u001b[0murl\u001b[0m\u001b[1;33m,\u001b[0m \u001b[0mparams\u001b[0m\u001b[1;33m)\u001b[0m\u001b[1;33m\u001b[0m\u001b[0m\n\u001b[0m\u001b[1;32m    303\u001b[0m         \u001b[0mself\u001b[0m\u001b[1;33m.\u001b[0m\u001b[0mprepare_headers\u001b[0m\u001b[1;33m(\u001b[0m\u001b[0mheaders\u001b[0m\u001b[1;33m)\u001b[0m\u001b[1;33m\u001b[0m\u001b[0m\n\u001b[1;32m    304\u001b[0m         \u001b[0mself\u001b[0m\u001b[1;33m.\u001b[0m\u001b[0mprepare_cookies\u001b[0m\u001b[1;33m(\u001b[0m\u001b[0mcookies\u001b[0m\u001b[1;33m)\u001b[0m\u001b[1;33m\u001b[0m\u001b[0m\n",
      "\u001b[0;32mC:\\ProgramData\\Anaconda2\\lib\\site-packages\\requests\\models.pyc\u001b[0m in \u001b[0;36mprepare_url\u001b[0;34m(self, url, params)\u001b[0m\n\u001b[1;32m    340\u001b[0m         \u001b[1;31m#: https://github.com/kennethreitz/requests/pull/2238\u001b[0m\u001b[1;33m\u001b[0m\u001b[1;33m\u001b[0m\u001b[0m\n\u001b[1;32m    341\u001b[0m         \u001b[1;32mif\u001b[0m \u001b[0misinstance\u001b[0m\u001b[1;33m(\u001b[0m\u001b[0murl\u001b[0m\u001b[1;33m,\u001b[0m \u001b[0mbytes\u001b[0m\u001b[1;33m)\u001b[0m\u001b[1;33m:\u001b[0m\u001b[1;33m\u001b[0m\u001b[0m\n\u001b[0;32m--> 342\u001b[0;31m             \u001b[0murl\u001b[0m \u001b[1;33m=\u001b[0m \u001b[0murl\u001b[0m\u001b[1;33m.\u001b[0m\u001b[0mdecode\u001b[0m\u001b[1;33m(\u001b[0m\u001b[1;34m'utf8'\u001b[0m\u001b[1;33m)\u001b[0m\u001b[1;33m\u001b[0m\u001b[0m\n\u001b[0m\u001b[1;32m    343\u001b[0m         \u001b[1;32melse\u001b[0m\u001b[1;33m:\u001b[0m\u001b[1;33m\u001b[0m\u001b[0m\n\u001b[1;32m    344\u001b[0m             \u001b[0murl\u001b[0m \u001b[1;33m=\u001b[0m \u001b[0municode\u001b[0m\u001b[1;33m(\u001b[0m\u001b[0murl\u001b[0m\u001b[1;33m)\u001b[0m \u001b[1;32mif\u001b[0m \u001b[0mis_py2\u001b[0m \u001b[1;32melse\u001b[0m \u001b[0mstr\u001b[0m\u001b[1;33m(\u001b[0m\u001b[0murl\u001b[0m\u001b[1;33m)\u001b[0m\u001b[1;33m\u001b[0m\u001b[0m\n",
      "\u001b[0;32mC:\\ProgramData\\Anaconda2\\lib\\encodings\\utf_8.pyc\u001b[0m in \u001b[0;36mdecode\u001b[0;34m(input, errors)\u001b[0m\n\u001b[1;32m     14\u001b[0m \u001b[1;33m\u001b[0m\u001b[0m\n\u001b[1;32m     15\u001b[0m \u001b[1;32mdef\u001b[0m \u001b[0mdecode\u001b[0m\u001b[1;33m(\u001b[0m\u001b[0minput\u001b[0m\u001b[1;33m,\u001b[0m \u001b[0merrors\u001b[0m\u001b[1;33m=\u001b[0m\u001b[1;34m'strict'\u001b[0m\u001b[1;33m)\u001b[0m\u001b[1;33m:\u001b[0m\u001b[1;33m\u001b[0m\u001b[0m\n\u001b[0;32m---> 16\u001b[0;31m     \u001b[1;32mreturn\u001b[0m \u001b[0mcodecs\u001b[0m\u001b[1;33m.\u001b[0m\u001b[0mutf_8_decode\u001b[0m\u001b[1;33m(\u001b[0m\u001b[0minput\u001b[0m\u001b[1;33m,\u001b[0m \u001b[0merrors\u001b[0m\u001b[1;33m,\u001b[0m \u001b[0mTrue\u001b[0m\u001b[1;33m)\u001b[0m\u001b[1;33m\u001b[0m\u001b[0m\n\u001b[0m\u001b[1;32m     17\u001b[0m \u001b[1;33m\u001b[0m\u001b[0m\n\u001b[1;32m     18\u001b[0m \u001b[1;32mclass\u001b[0m \u001b[0mIncrementalEncoder\u001b[0m\u001b[1;33m(\u001b[0m\u001b[0mcodecs\u001b[0m\u001b[1;33m.\u001b[0m\u001b[0mIncrementalEncoder\u001b[0m\u001b[1;33m)\u001b[0m\u001b[1;33m:\u001b[0m\u001b[1;33m\u001b[0m\u001b[0m\n",
      "\u001b[0;31mUnicodeDecodeError\u001b[0m: 'utf8' codec can't decode byte 0xba in position 47: invalid start byte"
     ]
    }
   ],
   "source": [
    "#%%writefile src/ds_web_crawl_naverMusic.py\n",
    "\n",
    " # -*- coding: utf-8 -*-\n",
    "\n",
    "import urllib\n",
    "import lxml.html\n",
    "import lxml.etree\n",
    "import re\n",
    "from lxml.cssselect import CSSSelector\n",
    "import requests\n",
    "import sys\n",
    "\n",
    "\n",
    "def getString():\n",
    "    keyword = \"비오는\"\n",
    "    url = \"http://music.naver.com/search/search.nhn?query={0}&x=0&y=0\".format(keyword)\n",
    "    my_header = { \"User-Agent\" : \"Mozilla/5.0\"}\n",
    "\n",
    "    uResponse = urllib.urlopen(url, None ,my_header)\n",
    "    html_str = uResponse.read()\n",
    "    \n",
    "    return html_str\n",
    "\n",
    "def with_Regex():\n",
    "    html_str = getString()\n",
    "    front = html_str.find('트랙 리스트')\n",
    "    back = html_str.find('곡 더보기')\n",
    "\n",
    "    html_str = html_str[front:back]\n",
    "\n",
    "    pattern = re.compile('title=\"(.*비.*오.*는.*?)\"')\n",
    "\n",
    "    for node in pattern.findall(html_str):\n",
    "        print node\n",
    "        \n",
    "def with_CSSSelector():\n",
    "    #html_str = getString()\n",
    "    keyword = input(\"insert>>\")\n",
    "    url = \"http://music.naver.com/search/search.nhn?query={0}&x=0&y=0\".format(keyword)\n",
    "    html_str = requests.get(url).text\n",
    "    \n",
    "    tree = lxml.html.fromstring(html_str)\n",
    "    select = CSSSelector('table[summary] .name > a[title]')\n",
    "    \n",
    "    nodes = select(tree)\n",
    "    \n",
    "    for node in nodes:\n",
    "        print node.text_content()\n",
    "        \n",
    "def with_CSSSelctor_all():\n",
    "    keyword = \"비오는\"\n",
    "    url = \"http://music.naver.com/search/search.nhn?query={0}&x=0&y=0\".format(keyword)\n",
    "    html_str = requests.get(url).text\n",
    "    \n",
    "    tree = lxml.html.fromstring(html_str)\n",
    "    title = CSSSelector('table[summary] .name > a[title]')\n",
    "    artist = CSSSelector('table[summary] ._artist.artist > a[title] > span')\n",
    "    artist_speical = CSSSelector('table[summary] ._artist.artist.no_ell2 > a ')\n",
    "    album = CSSSelector('table[summary] .album > a[title]')\n",
    "    popular = CSSSelector('table[summary] .popular em')\n",
    "    \n",
    "    nodes_title = title(tree)\n",
    "    nodes_artist = artist(tree)\n",
    "    nodes_artist_special = artist_speical(tree)\n",
    "    nodes_album = album(tree)\n",
    "    nodes_pop = popular(tree)\n",
    "        \n",
    "    for i in range(0, len(nodes_title)):\n",
    "        print nodes_title[i].text_content(),\" \",\n",
    "        if i == 2:\n",
    "            print nodes_artist_special[0].text_content().strip(),\" \",\n",
    "        elif (i >= 3):\n",
    "            print nodes_artist[i-1].text_content().strip(),\" \",\n",
    "        else:\n",
    "            print nodes_artist[i].text_content().strip(),\" \",\n",
    "        print nodes_album[i].text_content(),\" \",\n",
    "        print nodes_pop[i].text_content(), \" \", \"\\n\"\n",
    "    \n",
    "def main():\n",
    "    print u\"\\n\\n 정규식으로 하기 \\n\\n\"\n",
    "    with_Regex()\n",
    "    print u\"\\n\\n CSS 선택자로 하기 \\n\\n\"\n",
    "    with_CSSSelector()\n",
    "    print u\"\\n\\n CSS 선택자로 모두 출력하기 \\n\\n\"\n",
    "    with_CSSSelctor_all()\n",
    "    \n",
    "if __name__==\"__main__\":\n",
    "        main()"
   ]
  },
  {
   "cell_type": "code",
   "execution_count": 87,
   "metadata": {
    "collapsed": false
   },
   "outputs": [
    {
     "name": "stdout",
     "output_type": "stream",
     "text": [
      "Writing src/ds_web_crawl_IEEE.py\n"
     ]
    }
   ],
   "source": [
    "%%writefile src/ds_web_crawl_IEEE.py\n",
    "\n",
    "# -*- coding: utf-8 -*-\n",
    "\n",
    "from lxml.cssselect import CSSSelector\n",
    "import requests\n",
    "import lxml.html\n",
    "\n",
    "def crawling_IEEE():\n",
    "    rResponse = requests.get('http://www.ieee.org/conferences_events/conferences/search/index.html')\n",
    "    html_str = rResponse.text\n",
    "    \n",
    "    tree = lxml.html.fromstring(html_str)\n",
    "    \n",
    "    select_header = CSSSelector('.nogrid-nopad > tbody .bold')\n",
    "    nodes_header = select_header(tree)\n",
    "    \n",
    "    for node in nodes_header:\n",
    "        print node.text_content().strip(),\" \"*45,\n",
    "        \n",
    "    print \"\\n\\n\"\n",
    "        \n",
    "    select_content = CSSSelector('.nogrid-nopad .pad10 a[href]')\n",
    "    nodes_content = select_content(tree)\n",
    "    \n",
    "    i = 0;\n",
    "    while(i <= len(nodes_content)-3):\n",
    "        print nodes_content[i].text_content().strip(),\"   \",\n",
    "        print nodes_content[i+1].text_content().strip(),\"   \",\n",
    "        print nodes_content[i+2].text_content().strip(),\"   \",\n",
    "        print \"\\n\"\n",
    "        i += 3\n",
    "        \n",
    "def main():\n",
    "    crawling_IEEE()\n",
    "    \n",
    "if __name__ == \"__main__\":\n",
    "    main()"
   ]
  },
  {
   "cell_type": "code",
   "execution_count": 128,
   "metadata": {
    "collapsed": false
   },
   "outputs": [
    {
     "name": "stdout",
     "output_type": "stream",
     "text": [
      "Writing src/ds_web_crawl_baseball.py\n"
     ]
    }
   ],
   "source": [
    "%%writefile src/ds_web_crawl_baseball.py\n",
    "\n",
    "# -*- coding: utf-8 -*-\n",
    "\n",
    "import requests\n",
    "import re\n",
    "import lxml.html\n",
    "import lxml.etree\n",
    "\n",
    "def getString():\n",
    "    rResponse = requests.get('http://www.kbreport.com/leader/main?rows=20&order=oWAR&orderType=DESC&teamId=1&defense_no=2&year_from=2015&year_to=2015&split01=&split02_1=&split02_2=&r_tpa_count=&tpa_count=0')\n",
    "    html_str = rResponse.text\n",
    "    return html_str\n",
    "\n",
    "def win_or_lose():\n",
    "    htmlStr = getString()\n",
    "    front = htmlStr.find('top-score-box')\n",
    "    back = htmlStr.find('top-score end')\n",
    "    htmlStr = htmlStr[front:back]\n",
    "    #print htmlStr\n",
    "    \n",
    "    myPattern = re.compile(u'(.승.*?)</p>')\n",
    "    for element in myPattern.findall(htmlStr):\n",
    "        print element\n",
    "   \n",
    "def get_main_information():\n",
    "    htmlStr = requests.get('http://www.kbreport.com/main').text\n",
    "    tree = lxml.etree.HTML(htmlStr)\n",
    "    \n",
    "    pattern = tree.xpath('//div[@class=\"team-rank-box\"]/table//tr/th')\n",
    "    for node in pattern:\n",
    "        print node.xpath('.//text()')[0],\" \"*2,\n",
    "    \n",
    "    print \"\\n\"\n",
    "    pattern = tree.xpath('//div[@class=\"team-rank-box\"]/table//tr')\n",
    "    for i in range(1, len(pattern)):\n",
    "        element = pattern[i].xpath('.//td')\n",
    "        for j in range(0, len(element)):\n",
    "            if(j == 1):\n",
    "                print element[j].xpath('.//a/text()')[0].strip(),\"%0\",\n",
    "            else:\n",
    "                print element[j].xpath('./text()')[0].strip(),\" \"*3,\n",
    "        print \"\\n\"\n",
    "        \n",
    "    \n",
    "def main():\n",
    "    print\"\\n\\n Win and Lose \\n\\n\"\n",
    "    win_or_lose();\n",
    "    print\"\\n\\n Main page Information \\n\\n\"\n",
    "    get_main_information()\n",
    "    \n",
    "if __name__=='__main__':\n",
    "    main()"
   ]
  }
 ],
 "metadata": {
  "kernelspec": {
   "display_name": "Python 2",
   "language": "python",
   "name": "python2"
  },
  "language_info": {
   "codemirror_mode": {
    "name": "ipython",
    "version": 2
   },
   "file_extension": ".py",
   "mimetype": "text/x-python",
   "name": "python",
   "nbconvert_exporter": "python",
   "pygments_lexer": "ipython2",
   "version": "2.7.13"
  }
 },
 "nbformat": 4,
 "nbformat_minor": 2
}
