{
 "cells": [
  {
   "cell_type": "code",
   "execution_count": 106,
   "metadata": {
    "collapsed": false
   },
   "outputs": [
    {
     "name": "stdout",
     "output_type": "stream",
     "text": [
      "1 대학원   2 링크사이트   3 주요서비스   4 주요사이트  \n"
     ]
    }
   ],
   "source": [
    "#coding utf-8\n",
    "\n",
    "import requests\n",
    "import lxml.html\n",
    "import lxml.etree\n",
    "\n",
    "rResponse = requests.get('https://www.smu.ac.kr/mbs/smu/')\n",
    "_html = lxml.html.fromstring(rResponse.text)\n",
    "\n",
    "titles = _html.xpath('//*[@id=\"mbodyContainer\"]/table[1]/thead/tr/th')\n",
    "for i, node in enumerate(titles):\n",
    "    print i+1, node.text, \" \", \\\n",
    "    \n",
    "contents_div = _html.xpath('//*[@id=\"mbodyContainer\"]/table[1]/tbody//tr')\n",
    "#for i, node in enumerate(contents_div):\n",
    "    "
   ]
  },
  {
   "cell_type": "code",
   "execution_count": 15,
   "metadata": {
    "collapsed": false
   },
   "outputs": [
    {
     "name": "stdout",
     "output_type": "stream",
     "text": [
      "Writing extra/sangmyung_notice_borad_crawling.py\n"
     ]
    }
   ],
   "source": [
    "%%writefile extra/sangmyung_notice_borad_crawling.py\n",
    "\n",
    "# coding: utf-8\n",
    "\n",
    "import requests\n",
    "import lxml.html\n",
    "import lxml.etree\n",
    "\n",
    "def sangmyungNoticCrawl():\n",
    "    rResponse2 = requests.get('https://www.smu.ac.kr/mbs/smu/jsp/board/list.jsp?boardId=14446&id=smu_040100000000')\n",
    "    _html2 = lxml.etree.HTML(rResponse2.text)\n",
    "\n",
    "    th_info = _html2.xpath('//*[@id=\"subContents\"]/form[2]/table/tbody/tr[1]/th')\n",
    "    for node in th_info:\n",
    "        print node.text,\"            \", \\\n",
    "\n",
    "    print \"\\n\"\n",
    "    td_tr = _html2.xpath('//*[@id=\"subContents\"]/form[2]/table/tbody/tr')\n",
    "    for j in range(0, len(td_tr)):\n",
    "        td_info = td_tr[j].xpath('.//td')\n",
    "        for i in range(0, len(td_info)):\n",
    "            if((i == 0)and(td_info[i].xpath('.//img'))):\n",
    "                print \"\\n\",u\"공지\".strip(), \" / \", \n",
    "            elif ((i == len(td_info)-1)and(td_info[i].xpath('.//img'))):\n",
    "                print u\"파일 있음\".strip()\n",
    "            elif (td_info[i].xpath('.//a/text()')):\n",
    "                print unicode(td_info[i].xpath('.//a/text()')[0]).strip(), \" / \", \n",
    "            else:\n",
    "                print td_info[i].text.strip(), \" / \", \n",
    "                \n",
    "def main():\n",
    "    sangmyungNoticCrawl()\n",
    "    \n",
    "if __name__ == \"__main__\":\n",
    "    main()"
   ]
  },
  {
   "cell_type": "code",
   "execution_count": 9,
   "metadata": {
    "collapsed": false
   },
   "outputs": [
    {
     "name": "stdout",
     "output_type": "stream",
     "text": [
      "yes\n"
     ]
    }
   ],
   "source": [
    "if ((1)and(2)):\n",
    "    print \"yes\""
   ]
  },
  {
   "cell_type": "code",
   "execution_count": 10,
   "metadata": {
    "collapsed": false
   },
   "outputs": [
    {
     "name": "stdout",
     "output_type": "stream",
     "text": [
      "status= 302\n",
      "response text= \n",
      "response header= {'Date': 'Tue, 04 Apr 2017 07:43:38 GMT', 'Content-Length': '259', 'Content-Type': 'text/html; charset=UTF-8', 'Location': 'http://www.google.co.kr/?gfe_rd=cr&ei=qk7jWMOAFdDC8geQgrxA', 'Cache-Control': 'private'}\n"
     ]
    }
   ],
   "source": [
    "import requests\n",
    "\n",
    "resp = requests.head(\"http://www.google.com\")\n",
    "print \"status=\", resp.status_code\n",
    "print \"response text=\", resp.text\n",
    "print \"response header=\", resp.headers"
   ]
  },
  {
   "cell_type": "code",
   "execution_count": 12,
   "metadata": {
    "collapsed": false
   },
   "outputs": [
    {
     "data": {
      "text/plain": [
       "True"
      ]
     },
     "execution_count": 12,
     "metadata": {},
     "output_type": "execute_result"
    }
   ],
   "source": [
    "import webbrowser\n",
    "from urllib import urlopen\n",
    "\n",
    "keyword='python'\n",
    "resp = urlopen('https://www.google.com/search?q='+keyword)\n",
    "html = resp.read()\n",
    "\n",
    "webbrowser.open('https://www.google.com/search?q='+keyword)"
   ]
  },
  {
   "cell_type": "code",
   "execution_count": 14,
   "metadata": {
    "collapsed": true
   },
   "outputs": [],
   "source": [
    "import urllib2\n",
    "url = 'http://www.google.com/#q=python'\n",
    "headers = {'User-Agent' : 'Mozilla 5.0'}\n",
    "request = urllib2.Request(url, None, headers)\n",
    "response = urllib2.urlopen(request)\n",
    "html = response.read()\n",
    "import os\n",
    "f=open(os.path.join('src','mygoogle1.html'),'w')\n",
    "f.write(html)\n",
    "f.close()"
   ]
  },
  {
   "cell_type": "code",
   "execution_count": 1,
   "metadata": {
    "collapsed": false
   },
   "outputs": [
    {
     "name": "stdout",
     "output_type": "stream",
     "text": [
      "Writing src/ds_web_crawl_python_1.py\n"
     ]
    }
   ],
   "source": [
    "%%writefile src/ds_web_crawl_python_1.py\n",
    "# coding: utf-8\n",
    "\n",
    "from bs4 import BeautifulSoup\n",
    "import requests\n",
    "import re\n",
    "\n",
    "def python_crawl():\n",
    "    response = requests.get(\"https://www.python.org/\")\n",
    "    nodes = BeautifulSoup(response.content, \"html.parser\")\n",
    "\n",
    "    for i,node in enumerate(nodes.findAll('a')):\n",
    "        if 'href' in node.attrs:\n",
    "            print i,\" Element: \", node,\"   \",\n",
    "            print \"\\n\\nhref-value: \", node.attrs['href'],\"   \",\n",
    "            print \"\\n\\ntext: \", node.text\n",
    "            print \"\\n\\n\"\n",
    "            \n",
    "def main():\n",
    "    python_crawl()\n",
    "    \n",
    "if __name__ == \"__main__\":\n",
    "    main()\n"
   ]
  },
  {
   "cell_type": "code",
   "execution_count": 6,
   "metadata": {
    "collapsed": false
   },
   "outputs": [
    {
     "name": "stdout",
     "output_type": "stream",
     "text": [
      "foo\n",
      "foo\n",
      "asdfasdf <div>asdfasdf</div>\n",
      "foo <a>foo</a>\n"
     ]
    }
   ],
   "source": [
    "import re\n",
    "import lxml.etree\n",
    "from bs4 import BeautifulSoup\n",
    "\n",
    "tags='<html><body><div>asdfasdf</div><p><a>foo</a></p></body></html>'\n",
    "regex = '<a>(.*)</a>'\n",
    "soup = BeautifulSoup(tags,\"lxml\")\n",
    "\n",
    "print re.compile(regex).findall(tags)[0]\n",
    "print re.findall(regex, tags)[0]\n",
    "for e in soup(text = re.compile(r'\\w+')):\n",
    "    print e, e.parent"
   ]
  },
  {
   "cell_type": "code",
   "execution_count": 31,
   "metadata": {
    "collapsed": false
   },
   "outputs": [
    {
     "name": "stdout",
     "output_type": "stream",
     "text": [
      "Overwriting src/ds_web_crawl_python_2.py\n"
     ]
    }
   ],
   "source": [
    "%%writefile src/ds_web_crawl_python_2.py\n",
    "\n",
    "# coding: utf-8\n",
    "\n",
    "import re\n",
    "import requests\n",
    "from bs4 import BeautifulSoup\n",
    "\n",
    "def getURLString():\n",
    "    response = requests.get(\"http://www.naver.com\")\n",
    "    html_string = response.text\n",
    "    #print response.headers\n",
    "    return html_string\n",
    "\n",
    "def method1_regex():\n",
    "    regex = 'href=\"(.*?)\"'\n",
    "    text = getURLString()\n",
    "    print u\"href 속성은 몇개?\"\n",
    "    count = 0\n",
    "    for count,element in enumerate(re.compile(regex).findall(text)):\n",
    "        if count < 20:\n",
    "            print count+1, element\n",
    "    print u\"\\n\\nhref 속성은 = {0}개 입니다.\".format(count)\n",
    "\n",
    "def method2_regex():\n",
    "    print u\"a 태그는 몇개?\"\n",
    "    regex2 = \"<a .+?>.*?</a>\" #a 태그에 무슨 속성이 들어가있는지 패턴이 정해져 있지 않으므로\n",
    "    pattern = re.compile(regex2)\n",
    "    text = getURLString()\n",
    "    count = 0\n",
    "    for count,element in enumerate(pattern.findall(text)):\n",
    "        if count < 20:\n",
    "            print count+1\n",
    "            print element\n",
    "    print u\"\\n\\na 태그는 = {0}개 입니다.\".format(count)\n",
    "    \n",
    "    \n",
    "if __name__ == \"__main__\":\n",
    "    method1_regex()\n",
    "    print \"\\n\\n\"\n",
    "    method2_regex()\n",
    "    print \"\\n\\n\"\n"
   ]
  },
  {
   "cell_type": "code",
   "execution_count": 32,
   "metadata": {
    "collapsed": false
   },
   "outputs": [
    {
     "data": {
      "text/plain": [
       "'src\\\\mypage2.html'"
      ]
     },
     "execution_count": 32,
     "metadata": {},
     "output_type": "execute_result"
    }
   ],
   "source": [
    "import os\n",
    "os.path.join('src', 'mypage2.html')"
   ]
  },
  {
   "cell_type": "code",
   "execution_count": 58,
   "metadata": {
    "collapsed": false
   },
   "outputs": [
    {
     "name": "stdout",
     "output_type": "stream",
     "text": [
      "-태그:  html -> \r\n",
      "\n",
      "-태그:  head -> \r\n",
      "\n",
      "-태그:  title -> My Home Page\n",
      "-태그:  body -> \r\n",
      "\n",
      "-태그:  h1 -> 안녕하십니까\n",
      "-태그:  p -> 오늘은 프로그래밍 하는 날...\n",
      "-태그:  p -> Today we do programming...\n",
      "-태그:  html -> \n",
      "\n",
      "-태그:  head -> \n",
      "\n",
      "-태그:  title -> My Home Page\n",
      "-태그:  body -> \n",
      "\n",
      "-태그:  h1 -> 안녕하십니까\n",
      "-태그:  p -> 오늘은 프로그래밍 하는 날...\n",
      "-태그:  p -> Today we do programming...\n",
      "안녕하십니까\n"
     ]
    }
   ],
   "source": [
    "import lxml.etree\n",
    "import StringIO\n",
    "\n",
    "parser = lxml.etree.HTMLParser();\n",
    "tree = lxml.etree.parse(os.path.join('src', 'mypage1.html'), parser)\n",
    "\n",
    "for node in tree.getiterator():\n",
    "    print \"-태그: \", node.tag, \"->\", node.text\n",
    "    \n",
    "f = open(os.path.join('src','mypage1.html'))\n",
    "_html = f.read()\n",
    "f.close()\n",
    "\n",
    "tree2 = lxml.etree.fromstring(_html)\n",
    "for node in tree2.getiterator():\n",
    "    print \"-태그: \", node.tag, \"->\", node.text #meta 태그 ㄴㄴ\n",
    "\n",
    "print unicode(tree.xpath('//h1/text()')[0])"
   ]
  },
  {
   "cell_type": "code",
   "execution_count": null,
   "metadata": {
    "collapsed": true
   },
   "outputs": [],
   "source": []
  }
 ],
 "metadata": {
  "kernelspec": {
   "display_name": "Python 2",
   "language": "python",
   "name": "python2"
  },
  "language_info": {
   "codemirror_mode": {
    "name": "ipython",
    "version": 2
   },
   "file_extension": ".py",
   "mimetype": "text/x-python",
   "name": "python",
   "nbconvert_exporter": "python",
   "pygments_lexer": "ipython2",
   "version": "2.7.13"
  }
 },
 "nbformat": 4,
 "nbformat_minor": 2
}
