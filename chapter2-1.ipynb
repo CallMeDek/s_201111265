{
 "cells": [
  {
   "cell_type": "code",
   "execution_count": 106,
   "metadata": {
    "collapsed": false
   },
   "outputs": [
    {
     "name": "stdout",
     "output_type": "stream",
     "text": [
      "1 대학원   2 링크사이트   3 주요서비스   4 주요사이트  \n"
     ]
    }
   ],
   "source": [
    "#coding utf-8\n",
    "\n",
    "import requests\n",
    "import lxml.html\n",
    "import lxml.etree\n",
    "\n",
    "rResponse = requests.get('https://www.smu.ac.kr/mbs/smu/')\n",
    "_html = lxml.html.fromstring(rResponse.text)\n",
    "\n",
    "titles = _html.xpath('//*[@id=\"mbodyContainer\"]/table[1]/thead/tr/th')\n",
    "for i, node in enumerate(titles):\n",
    "    print i+1, node.text, \" \", \\\n",
    "    \n",
    "contents_div = _html.xpath('//*[@id=\"mbodyContainer\"]/table[1]/tbody//tr')\n",
    "#for i, node in enumerate(contents_div):\n",
    "    "
   ]
  },
  {
   "cell_type": "code",
   "execution_count": 15,
   "metadata": {
    "collapsed": false
   },
   "outputs": [
    {
     "name": "stdout",
     "output_type": "stream",
     "text": [
      "Writing extra/sangmyung_notice_borad_crawling.py\n"
     ]
    }
   ],
   "source": [
    "%%writefile extra/sangmyung_notice_borad_crawling.py\n",
    "\n",
    "# coding: utf-8\n",
    "\n",
    "import requests\n",
    "import lxml.html\n",
    "import lxml.etree\n",
    "\n",
    "def sangmyungNoticCrawl():\n",
    "    rResponse2 = requests.get('https://www.smu.ac.kr/mbs/smu/jsp/board/list.jsp?boardId=14446&id=smu_040100000000')\n",
    "    _html2 = lxml.etree.HTML(rResponse2.text)\n",
    "\n",
    "    th_info = _html2.xpath('//*[@id=\"subContents\"]/form[2]/table/tbody/tr[1]/th')\n",
    "    for node in th_info:\n",
    "        print node.text,\"            \", \\\n",
    "\n",
    "    print \"\\n\"\n",
    "    td_tr = _html2.xpath('//*[@id=\"subContents\"]/form[2]/table/tbody/tr')\n",
    "    for j in range(0, len(td_tr)):\n",
    "        td_info = td_tr[j].xpath('.//td')\n",
    "        for i in range(0, len(td_info)):\n",
    "            if((i == 0)and(td_info[i].xpath('.//img'))):\n",
    "                print \"\\n\",u\"공지\".strip(), \" / \", \n",
    "            elif ((i == len(td_info)-1)and(td_info[i].xpath('.//img'))):\n",
    "                print u\"파일 있음\".strip()\n",
    "            elif (td_info[i].xpath('.//a/text()')):\n",
    "                print unicode(td_info[i].xpath('.//a/text()')[0]).strip(), \" / \", \n",
    "            else:\n",
    "                print td_info[i].text.strip(), \" / \", \n",
    "                \n",
    "def main():\n",
    "    sangmyungNoticCrawl()\n",
    "    \n",
    "if __name__ == \"__main__\":\n",
    "    main()"
   ]
  },
  {
   "cell_type": "code",
   "execution_count": 9,
   "metadata": {
    "collapsed": false
   },
   "outputs": [
    {
     "name": "stdout",
     "output_type": "stream",
     "text": [
      "yes\n"
     ]
    }
   ],
   "source": [
    "if ((1)and(2)):\n",
    "    print \"yes\""
   ]
  },
  {
   "cell_type": "code",
   "execution_count": 10,
   "metadata": {
    "collapsed": false
   },
   "outputs": [
    {
     "name": "stdout",
     "output_type": "stream",
     "text": [
      "status= 302\n",
      "response text= \n",
      "response header= {'Date': 'Tue, 04 Apr 2017 07:43:38 GMT', 'Content-Length': '259', 'Content-Type': 'text/html; charset=UTF-8', 'Location': 'http://www.google.co.kr/?gfe_rd=cr&ei=qk7jWMOAFdDC8geQgrxA', 'Cache-Control': 'private'}\n"
     ]
    }
   ],
   "source": [
    "import requests\n",
    "\n",
    "resp = requests.head(\"http://www.google.com\")\n",
    "print \"status=\", resp.status_code\n",
    "print \"response text=\", resp.text\n",
    "print \"response header=\", resp.headers"
   ]
  },
  {
   "cell_type": "code",
   "execution_count": 12,
   "metadata": {
    "collapsed": false
   },
   "outputs": [
    {
     "data": {
      "text/plain": [
       "True"
      ]
     },
     "execution_count": 12,
     "metadata": {},
     "output_type": "execute_result"
    }
   ],
   "source": [
    "import webbrowser\n",
    "from urllib import urlopen\n",
    "\n",
    "keyword='python'\n",
    "resp = urlopen('https://www.google.com/search?q='+keyword)\n",
    "html = resp.read()\n",
    "\n",
    "webbrowser.open('https://www.google.com/search?q='+keyword)"
   ]
  },
  {
   "cell_type": "code",
   "execution_count": 14,
   "metadata": {
    "collapsed": true
   },
   "outputs": [],
   "source": [
    "import urllib2\n",
    "url = 'http://www.google.com/#q=python'\n",
    "headers = {'User-Agent' : 'Mozilla 5.0'}\n",
    "request = urllib2.Request(url, None, headers)\n",
    "response = urllib2.urlopen(request)\n",
    "html = response.read()\n",
    "import os\n",
    "f=open(os.path.join('src','mygoogle1.html'),'w')\n",
    "f.write(html)\n",
    "f.close()"
   ]
  },
  {
   "cell_type": "code",
   "execution_count": 1,
   "metadata": {
    "collapsed": false
   },
   "outputs": [
    {
     "name": "stdout",
     "output_type": "stream",
     "text": [
      "Writing src/ds_web_crawl_python_1.py\n"
     ]
    }
   ],
   "source": [
    "%%writefile src/ds_web_crawl_python_1.py\n",
    "# coding: utf-8\n",
    "\n",
    "from bs4 import BeautifulSoup\n",
    "import requests\n",
    "import re\n",
    "\n",
    "def python_crawl():\n",
    "    response = requests.get(\"https://www.python.org/\")\n",
    "    nodes = BeautifulSoup(response.content, \"html.parser\")\n",
    "\n",
    "    for i,node in enumerate(nodes.findAll('a')):\n",
    "        if 'href' in node.attrs:\n",
    "            print i,\" Element: \", node,\"   \",\n",
    "            print \"\\n\\nhref-value: \", node.attrs['href'],\"   \",\n",
    "            print \"\\n\\ntext: \", node.text\n",
    "            print \"\\n\\n\"\n",
    "            \n",
    "def main():\n",
    "    python_crawl()\n",
    "    \n",
    "if __name__ == \"__main__\":\n",
    "    main()\n"
   ]
  }
 ],
 "metadata": {
  "kernelspec": {
   "display_name": "Python 2",
   "language": "python",
   "name": "python2"
  },
  "language_info": {
   "codemirror_mode": {
    "name": "ipython",
    "version": 2
   },
   "file_extension": ".py",
   "mimetype": "text/x-python",
   "name": "python",
   "nbconvert_exporter": "python",
   "pygments_lexer": "ipython2",
   "version": "2.7.13"
  }
 },
 "nbformat": 4,
 "nbformat_minor": 2
}
