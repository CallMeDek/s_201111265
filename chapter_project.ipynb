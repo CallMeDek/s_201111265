{
 "cells": [
  {
   "cell_type": "code",
   "execution_count": 203,
   "metadata": {
    "collapsed": false
   },
   "outputs": [
    {
     "name": "stdout",
     "output_type": "stream",
     "text": [
      "Overwriting src/myProject.py\n"
     ]
    }
   ],
   "source": [
    "%%writefile src/myProject.py\n",
    "#coding: utf-8\n",
    "from pymongo import MongoClient\n",
    "import mylib\n",
    "import os\n",
    "import sys\n",
    "import requests\n",
    "import findspark\n",
    "import pyspark\n",
    "\n",
    "client = MongoClient('localhost:27017')\n",
    "db = client.bigData\n",
    "\n",
    "os.environ[\"SPARK_HOME\"]='C:\\Users\\Code\\s-201111265\\spark-2.0.0-bin-hadoop2.6'\n",
    "findspark.init(os.environ[\"SPARK_HOME\"])\n",
    "myConf=pyspark.SparkConf()\n",
    "spark = pyspark.sql.SparkSession.builder.master(\"local\")\\\n",
    "    .appName(\"myApp\").config(\"spark.sql.warehouse.dir\", os.path.join(os.environ['SPARK_HOME'], 'data', 'data_warehouse'))\\\n",
    "    .getOrCreate()\n",
    "\n",
    "# 코스피 지수와 날짜를 네이버 금융 메뉴에서 파싱해 옵니다. \n",
    "# 날짜별로, 전 날짜와 비교하여 상승했으면 1, 하강했으면 0이라는 값을 추가하고 \n",
    "# (날짜, 상승/하강)을  'data', 'kospi.txt'에 저장하고 몽고DB는 bigData db의 kospi라는 document에 저장합니다.\n",
    "def save_kospi_data():\n",
    "    import urllib\n",
    "    \n",
    "    count=22 #마지막 거래일로부터 몇 거래일의 주가지수를 가져올지 입력\n",
    "    url=\"http://fchart.stock.naver.com/sise.nhn?symbol=KOSPI&timeframe=day&count=%d&requestType=0\"%(count)\n",
    "    urltext=urllib.urlopen(url).read().decode('latin-1')\n",
    "\n",
    "    KOSPI=[]\n",
    "    stocklist=urltext.split(\"\\\"\")\n",
    "    stocklist_selection=stocklist[17:]\n",
    "\n",
    "    i=0\n",
    "    while i<=(len(stocklist_selection)-1):\n",
    "        KOSPI.append(stocklist_selection[i])\n",
    "        i=i+2\n",
    "\n",
    "    KOSPI=str(KOSPI).split(\"|\")\n",
    "    KOSPI[0]=KOSPI[0][2:]\n",
    "    KOSPI[len(KOSPI)-1]=KOSPI[len(KOSPI)-1][:7]\n",
    "    #중간에 수치에 붙어있는 군더더기 제거\n",
    "\n",
    "    date=[KOSPI[0]]\n",
    "    price=[]\n",
    "    volumn=[]\n",
    "\n",
    "    j=5\n",
    "    while j<=(len(KOSPI)-5):\n",
    "        date.append(KOSPI[j][10:])\n",
    "        volumn.append(KOSPI[j][:7])\n",
    "        j=j+5\n",
    "    volumn.append(KOSPI[len(KOSPI)-1])\n",
    "\n",
    "    r=0\n",
    "    while r<=(len(volumn)-2):\n",
    "        volumn[r]=volumn[r][:(len(volumn[r])-1)]\n",
    "        r=r+1\n",
    "    #거래량 끝에 붙어있는 ' 제거\n",
    "    k=4\n",
    "    while k<=(len(KOSPI)-1):\n",
    "        price.append(KOSPI[k])\n",
    "        k=k+5\n",
    "\n",
    "    kospi_dict = dict()\n",
    "\n",
    "    for i in range(len(date)):\n",
    "        temp = float(price[i])\n",
    "        temp_date = int(date[i][1:len(date[i])])\n",
    "        kospi_dict[temp_date] = temp\n",
    "\n",
    "    keys = kospi_dict.keys()   \n",
    "\n",
    "    for i in range(len(kospi_dict)-1, 0, -1):\n",
    "        if(kospi_dict[keys[i]] > kospi_dict[keys[i-1]]):\n",
    "            kospi_dict[keys[i]] = 1 #1이면 상승\n",
    "        else:\n",
    "            kospi_dict[keys[i]] = 0 #0이면 하락\n",
    "\n",
    "    kospi_dict = kospi_dict.items()\n",
    "\n",
    "    big_str = \"\"\n",
    "    \n",
    "    for i in range(1, len(kospi_dict)):\n",
    "        big_str = big_str + str(kospi_dict[i][0]) + ' '\n",
    "        big_str = big_str + str(kospi_dict[i][1]) + '\\n'\n",
    "    \n",
    "    f = open(os.path.join('data', 'kospi.txt'),'w')\n",
    "    f.write(big_str)\n",
    "    f.close()\n",
    "\n",
    "    sorted_kospi_list = list()\n",
    "    sorted_kospi_list.append(big_str)\n",
    "    #db.kospiData.insert_one({\n",
    "    #   \"kospi\": sorted_kospi_list\n",
    "    #})\n",
    "\n",
    "# 검색어로 네이버 블로그의 제목, 포스팅 날짜를 가져옵니다. 오픈 api를 사용합니다.\n",
    "# 날짜별로, 전 날짜와 비교하여 상승했으면 1, 하강했으면 0이라는 값을 추가하고 \n",
    "# (날짜, 제목)을  'data', 'blog.txt'에 저장하고 몽고DB는 bigData db의 blogData라는 document에 저장합니다.\n",
    "def save_blog_data(keyword):\n",
    "    #블로그\n",
    "    key_path = os.path.join('src', 'key.properties')\n",
    "    keys = mylib.getKey(key_path)\n",
    "\n",
    "    info = keys['naver'].split(',')\n",
    "\n",
    "    client_id = info[0]\n",
    "    client_secret = info[1]\n",
    "\n",
    "    #https://openapi.naver.com/v1/search/news.json - 뉴스\n",
    "    #https://openapi.naver.com/v1/search/kin.json - 지식IN (날짜 없음)\n",
    "    #https://openapi.naver.com/v1/search/cafearticle.json - 카페글 (날짜 없음)\n",
    "    #https://openapi.naver.com/v1/search/webkr.json - 웹문서\n",
    "    \n",
    "    start = 1\n",
    "    client = MongoClient('localhost:27017')\n",
    "    db = client.bigData\n",
    "    count = 0\n",
    "    \n",
    "    big_str = ''\n",
    "    while(start < 1000):\n",
    "        # json 결과, start -> 시작위치(최대 1000), dispaly -> 출력갯수(최대 100)\n",
    "        blog_str = ''\n",
    "        url = \"https://openapi.naver.com/v1/search/blog?query=\" + keyword + '&display=50' + '&start=' + str(start)\n",
    "        start = start + 100\n",
    "        headers_info = {\"X-Naver-Client-Id\": client_id,  \"X-Naver-Client-Secret\":client_secret}\n",
    "        response = requests.get(url, headers=headers_info)\n",
    "        result_json = response.json()\n",
    "        for ele in result_json['items']:\n",
    "            blog_str = blog_str + ele['postdate'] +  ele['title'] + '\\n'\n",
    "        big_str = big_str + blog_str + '\\n'\n",
    "        count = count+1\n",
    "    big_list = []\n",
    "    big_list.append(big_str)\n",
    "    #db.blogData.insert_one({\n",
    "    #    \"entire\": big_list\n",
    "    #})\n",
    "    \n",
    "    f = open(os.path.join('data', 'blog.txt'), 'w')\n",
    "    f.write(big_str.encode('utf8'))\n",
    "    f.close()\n",
    "    \n",
    "\n",
    "def sub_str(str):\n",
    "    return str[8:]\n",
    "\n",
    "def exetract(str):\n",
    "    boolean = str.find(unicode('<b>'))\n",
    "    if(boolean == -1):\n",
    "        boolean2 = str.find('2017')\n",
    "        if(boolean2 == -1):\n",
    "            boolean3 = str.find('2016')\n",
    "            if(boolean3 == -1):\n",
    "                return str\n",
    "            else:\n",
    "                return \"-1\"\n",
    "        else:\n",
    "            return \"-1\"\n",
    "    else:\n",
    "        return \"-1\"\n",
    "\n",
    "# stop_word 라는 한글 불용어 리스트를 필터에 사용하며, blog.txt에서 제목만 가지고 제일 많이 사용한 단어\n",
    "# 20개를 추출해냅니다.\n",
    "def find_most_used_word():\n",
    "    stop_word = list()\n",
    "    f = open(os.path.join('data', 'stopwords.txt'))\n",
    "    entire_word = f.readlines()\n",
    "    for ele in entire_word:\n",
    "        word = ele.strip() \n",
    "        stop_word.append(word)\n",
    "    f.close()\n",
    "    stop_word.append(u'및')\n",
    "    stop_word.append(u'-')\n",
    "\n",
    "    rdd = spark.sparkContext.textFile(os.path.join('data','blog.txt'))\n",
    "    lines = rdd.flatMap(lambda x:x.split('\\n')).map(sub_str).flatMap(lambda x:x.split())\\\n",
    "            .map(exetract).filter(lambda x : x not in stop_word).map(lambda x:(x,1))\\\n",
    "            .reduceByKey(lambda x,y: x+y).map(lambda x:(x[1],x[0])).sortByKey(False)\n",
    "\n",
    "    most_word_list = list()\n",
    "    for element in lines.take(20):\n",
    "        if element[1] == '-1':\n",
    "            continue\n",
    "        else:\n",
    "            most_word_list.append(element[1])\n",
    "    \n",
    "    return most_word_list\n",
    "\n",
    "def sub_split(str):\n",
    "    back = sub_str(str)+\" \"\n",
    "    front = str[:8]\n",
    "    temp = list()\n",
    "    temp.append(front)\n",
    "    temp.append(back)\n",
    "    return tuple(temp)\n",
    "\n",
    "# blog.txt와 kospi.txt의 날짜를 비교하여 같은 날짜면 새로운 리스트에 추가하는 식으로 진행하고,\n",
    "# 합병한 리스트를 반환합니다.\n",
    "\n",
    "def reduce_and_merge():\n",
    "    rdd = spark.sparkContext.textFile(os.path.join('data','blog.txt'))\n",
    "    lines = rdd.flatMap(lambda x:x.split('\\n')).map(sub_split)\\\n",
    "        .reduceByKey(lambda x, y: x+y).sortByKey(False)\n",
    "    lines_list = list()\n",
    "    lines_list.append(lines.collect())\n",
    "    rdd2 = spark.sparkContext.textFile(os.path.join('data','kospi.txt'))\n",
    "    lines2 = rdd2.flatMap(lambda x:x.split('\\n')).map(lambda x:x.split())\n",
    "    lines_list2 = list()\n",
    "    lines_list2.append(lines2.collect())\n",
    "    for i in range(len(lines_list[0])):\n",
    "    for j in range(len(lines_list2[0])):\n",
    "        if(lines_list[0][i][0] == lines_list2[0][j][0]):\n",
    "            lines_list2[0][j][1] = lines_list2[0][j][1] + '|' + lines_list[0][i][1]\n",
    "            break\n",
    "    return lines_list2\n",
    "    \n",
    "    \n",
    "## 날짜별로 합병한 데이터를 상승/하강 별로 나눕니다.    \n",
    "def upper_data(my_list):\n",
    "    upper = list()\n",
    "    for i in range(len(my_list[0])):\n",
    "        temp = my_list[0][i][1].split('|')\n",
    "        if(temp[0] == '1'):\n",
    "            upper.append(my_list[0][i])\n",
    "            \n",
    "def lower_data(my_list):\n",
    "    lower = list()\n",
    "    for i in range(len(my_list[0])):\n",
    "        temp = my_list[0][i][1].split('|')\n",
    "        if(temp[0] == '0'):\n",
    "            upper.append(my_list[0][i])\n",
    "\n",
    "# 상승 / 하강 별로, 전에 뽑아두었던 가장 많이 쓰이는 \n",
    "#단어가 몇번 사용되었는지 계산\n",
    "def freq_calculate(my_list): \n",
    "    most = find_most_used_word()\n",
    "    frequency = dict()\n",
    "\n",
    "    for i in range(len(my_list)):\n",
    "        temp = list()\n",
    "        check_list = list()\n",
    "        temp = my_list[i][1].split('|')\n",
    "        check_list = temp[1].split()\n",
    "        for ele_j in check_list:\n",
    "            for ele_k in most:\n",
    "                if(ele_j == ele_k):\n",
    "                    if ele_k in frequency:\n",
    "                        frequency[ele_k] += 1\n",
    "                    else:\n",
    "                        frequency[ele_k] = 1\n",
    "    return frequency\n",
    "\n",
    "# 위에서 구한 상승과 하강 데이터의 출현 빈도수, 가장 많이 출현한 단어 20개 \n",
    "# 데이터를 인자로 받아서 dataFrame 생성\n",
    "def make_dataFrame(my_dict1, my_dict2, most_list):\n",
    "    fre_keys = my_dict1.keys()\n",
    "    index_list = list()\n",
    "\n",
    "    for i in range(len(most_list)):\n",
    "        for j in range(len(fre_keys)):\n",
    "            if most_list[i] == fre_keys[j]:\n",
    "                index_list.append(i)\n",
    "            \n",
    "    fre_keys2 = my_dict2.keys()\n",
    "    index_list2 = list()\n",
    "\n",
    "    for i in range(len(most_list)):\n",
    "        for j in range(len(fre_keys2)):\n",
    "            if most_list[i] == fre_keys2[j]:\n",
    "                index_list2.append(i)\n",
    "\n",
    "    #print index_list\n",
    "    #print index_list2\n",
    "\n",
    "    from pyspark.mllib.regression import LabeledPoint\n",
    "    from pyspark.mllib.linalg import Vectors\n",
    "\n",
    "    tmp_dict = dict()\n",
    "    for i in range(len(index_list)):\n",
    "        tmp_dict[index_list[i]] = my_dict1[most_list[index_list[i]]]\n",
    "\n",
    "    tmp_dict2 = dict()\n",
    "    for i in range(len(index_list2)):\n",
    "        tmp_dict2[index_list2[i]] = my_dict2[most_list[index_list2[i]]]\n",
    "\n",
    "    p = [\n",
    "        LabeledPoint(1, Vectors.sparse(20, tmp_dict )),\n",
    "        LabeledPoint(0, Vectors.sparse(20, tmp_dict2 ))\n",
    "    ]\n",
    "\n",
    "    trainDf = spark.createDataFrame(p)\n",
    "    trainDf.show()\n",
    "    \n",
    "def draw_graph(freq_diction):\n",
    "    import matplotlib.pyplot as plt\n",
    "    count = freq_diction.values()\n",
    "    word = freq_diction.keys()\n",
    "    plt.barh(range(len(count)), count, color='red')\n",
    "    plt.yticks(range(len(count)), word)\n",
    "    plt.show()\n",
    "\n",
    "def execute():\n",
    "    #save_kospi_data()\n",
    "    #save_blog_data('경제')\n",
    "    most_list = find_most_used_word()\n",
    "    merged_list  =  reduce_and_merge()\n",
    "    upper_list = upper_data(merged_list)\n",
    "    lower_list = lower_data(merged_list)\n",
    "    upper_most_freq = freq_calculate(upper_list)\n",
    "    lower_most_freq = freq_calculate(lower_list)\n",
    "    make_dataFrame(upper_most_freq, lower_most_freq, most_list)\n",
    "    print \"-------------상승-------------\"\n",
    "    draw_graph(upper_most_freq)\n",
    "    print \"-------------하강-------------\"\n",
    "    draw_graph(lower_most_freq)\n",
    "        \n",
    "if __name__ == \"__main__\":\n",
    "    execute()"
   ]
  },
  {
   "cell_type": "code",
   "execution_count": null,
   "metadata": {
    "collapsed": true
   },
   "outputs": [],
   "source": [
    "!spark-2.0.0-bin-hadoop2.6\\bin\\spark-submit src\\myProject.py"
   ]
  },
  {
   "cell_type": "code",
   "execution_count": 16,
   "metadata": {
    "collapsed": false
   },
   "outputs": [],
   "source": [
    "import src.mylib"
   ]
  },
  {
   "cell_type": "code",
   "execution_count": 12,
   "metadata": {
    "collapsed": false
   },
   "outputs": [
    {
     "name": "stdout",
     "output_type": "stream",
     "text": [
      "\n",
      "def sayHello():\n",
      "    print \"hello\"\n",
      "    \n",
      "def sayHello2():\n",
      "    print \"hello everyone\"\n",
      "    \n",
      "def getKey(keyPath):\n",
      "    d = dict()\n",
      "    f = open(keyPath, 'r')\n",
      "    for line in f.readlines():\n",
      "        row = line.split('=')\n",
      "        row0 = row[0]\n",
      "        d[row0] = row[1].strip()\n",
      "    return d\n"
     ]
    }
   ],
   "source": [
    "!type src\\mylib.py"
   ]
  },
  {
   "cell_type": "code",
   "execution_count": 47,
   "metadata": {
    "collapsed": false
   },
   "outputs": [
    {
     "name": "stdout",
     "output_type": "stream",
     "text": [
      "20170504 1\n",
      "20170508 1\n",
      "20170510 0\n",
      "20170511 1\n",
      "20170512 0\n",
      "20170515 1\n",
      "20170516 1\n",
      "20170517 0\n",
      "20170518 0\n",
      "20170519 1\n",
      "20170522 1\n",
      "20170523 1\n",
      "20170524 1\n",
      "20170525 1\n",
      "20170526 1\n",
      "20170529 0\n",
      "20170530 0\n",
      "20170531 1\n",
      "20170601 0\n",
      "20170602 1\n",
      "20170605 0\n",
      "\n"
     ]
    }
   ],
   "source": [
    "#coding: utf-8\n",
    "import urllib\n",
    "    \n",
    "count=22 #마지막 거래일로부터 몇 거래일의 주가지수를 가져올지 입력\n",
    "url=\"http://fchart.stock.naver.com/sise.nhn?symbol=KOSPI&timeframe=day&count=%d&requestType=0\"%(count)\n",
    "urltext=urllib.urlopen(url).read().decode('latin-1')\n",
    "\n",
    "KOSPI=[]\n",
    "stocklist=urltext.split(\"\\\"\")\n",
    "stocklist_selection=stocklist[17:]\n",
    "\n",
    "i=0\n",
    "while i<=(len(stocklist_selection)-1):\n",
    "    KOSPI.append(stocklist_selection[i])\n",
    "    i=i+2\n",
    "\n",
    "KOSPI=str(KOSPI).split(\"|\")\n",
    "KOSPI[0]=KOSPI[0][2:]\n",
    "KOSPI[len(KOSPI)-1]=KOSPI[len(KOSPI)-1][:7]\n",
    "    #중간에 수치에 붙어있는 군더더기 제거\n",
    "\n",
    "date=[KOSPI[0]]\n",
    "price=[]\n",
    "volumn=[]\n",
    "\n",
    "j=5\n",
    "while j<=(len(KOSPI)-5):\n",
    "    date.append(KOSPI[j][10:])\n",
    "    volumn.append(KOSPI[j][:7])\n",
    "    j=j+5\n",
    "volumn.append(KOSPI[len(KOSPI)-1])\n",
    "\n",
    "r=0\n",
    "while r<=(len(volumn)-2):\n",
    "    volumn[r]=volumn[r][:(len(volumn[r])-1)]\n",
    "    r=r+1\n",
    "    #거래량 끝에 붙어있는 ' 제거\n",
    "k=4\n",
    "while k<=(len(KOSPI)-1):\n",
    "    price.append(KOSPI[k])\n",
    "    k=k+5\n",
    "\n",
    "kospi_dict = dict()\n",
    "\n",
    "for i in range(len(date)):\n",
    "    temp = float(price[i])\n",
    "    temp_date = int(date[i][1:len(date[i])])\n",
    "    kospi_dict[temp_date] = temp\n",
    "\n",
    "keys = kospi_dict.keys()   \n",
    "\n",
    "for i in range(len(kospi_dict)-1, 0, -1):\n",
    "    if(kospi_dict[keys[i]] > kospi_dict[keys[i-1]]):\n",
    "        kospi_dict[keys[i]] = 1 #1이면 상승\n",
    "    else:\n",
    "        kospi_dict[keys[i]] = 0 #0이면 하락\n",
    "\n",
    "kospi_dict = kospi_dict.items()\n",
    "\n",
    "big_str = \"\"\n",
    "for i in range(1, len(kospi_dict)):\n",
    "    big_str = big_str + str(kospi_dict[i][0]) + ' '\n",
    "    big_str = big_str + str(kospi_dict[i][1]) + '\\n'\n",
    "print big_str"
   ]
  },
  {
   "cell_type": "code",
   "execution_count": 8,
   "metadata": {
    "collapsed": false
   },
   "outputs": [
    {
     "name": "stdout",
     "output_type": "stream",
     "text": [
      "[u\"20170603 WHO?\\uc2dc\\ub9ac\\uc988 \\uc2a4\\ud398\\uc15c <b>\\ubb38\\uc7ac\\uc778</b> \\ub300\\ud1b5\\ub839 \\ud2b9\\ubcc4\\ud310\\n20170603 <b>\\ubb38\\uc7ac\\uc778</b> \\ub300\\ud1b5\\ub839\\ub3c4 \\ub2e4\\ub140\\uac04 \\uc2e0\\ub9bc \\ud765\\ubd80\\ubcf4\\uc308\\n20170510 &lt;\\ubcf4\\ub3c4\\uc790\\ub8cc&gt; <b>\\ubb38\\uc7ac\\uc778</b> \\ub300\\ud1b5\\ub839, \\uad6d\\ubb34\\ucd1d\\ub9ac \\ud6c4\\ubcf4\\uc790 \\ub4f1 \\uc9c0\\uba85\\n20170605 who \\uc2dc\\ub9ac\\uc988 <b>\\ubb38\\uc7ac\\uc778</b> \\ub300\\ud1b5\\ub839 \\ud2b9\\ubcc4\\ud310 \\uc5b4\\ub9b0\\uc774 \\ub3c4\\uc11c\\n20170528 <b>\\ubb38\\uc7ac\\uc778</b>\\uc758 \\uad6d\\uc815\\uae30\\uc870 - \\uc801\\ubc18\\ud558\\uc7a5\\uc744 \\uc5c6\\uc560\\uc8fc\\ub9c8\\n20170605 Who? <b>\\ubb38\\uc7ac\\uc778</b>. \\uc704\\uc778\\uc804\\n20170604 \\ub300\\ud55c\\ubbfc\\uad6d\\uc758 \\uccad\\ucd98\\ub4e4\\uc5d0\\uac8c &lt;<b>\\ubb38\\uc7ac\\uc778</b>\\uc774 \\ub4dc\\ub9bd\\ub2c8\\ub2e4&gt; <b>\\ubb38\\uc7ac\\uc778</b> \\ud3ec\\ud1a0\\uc5d0\\uc138\\uc774\\n20170518 \\uc6b8\\ubcf4 <b>\\ubb38\\uc7ac\\uc778</b>, \\uad6d\\ubbfc\\uc744 \\uc6b8\\ubcf4\\ub85c \\ub9cc\\ub4e4\\ub2e4.\\n20170605 <b>\\ubb38\\uc7ac\\uc778</b>\\ucc45 who\\uc2dc\\ub9ac\\uc988 \\uc5b4\\ub9b0\\uc774\\ub3c4\\uc11c\\n20170606 <b>\\ubb38\\uc7ac\\uc778</b> \\ucc45 \\ub2e4\\uc0b0\\uc5b4\\ub9b0\\uc774 who\\uc2dc\\ub9ac\\uc988!\\n20170606 who \\uc2dc\\ub9ac\\uc988 \\uc2a4\\ud398\\uc15c <b>\\ubb38\\uc7ac\\uc778</b>\\ub300\\ud1b5\\ub839\\n20170606 6\\uc6d46\\uc77c \\ud604\\ucda9\\uc77c \\ud0dc\\uadf9\\uae30 \\uac8c\\uc591 \\ud588\\uc2b5\\ub2c8\\ub2e4. (<b>\\ubb38\\uc7ac\\uc778</b> \\ub300\\ud1b5\\ub839 \\ud0c0\\uc784\\uc9c0)\\n20170606 who \\uc2dc\\ub9ac\\uc988 <b>\\ubb38\\uc7ac\\uc778</b> \\ud2b9\\ubcc4\\ud310\\uc73c\\ub85c \\ub9cc\\ub098\\ubcf4\\ub2e4.\\n20170605 who \\uc2dc\\ub9ac\\uc988 <b>\\ubb38\\uc7ac\\uc778</b> \\ud2b9\\ubcc4\\ud310 \\uce5c\\ud544 \\uc0ac\\uc778\\uae4c\\uc9c0\\n20170605 <b>\\ubb38\\uc7ac\\uc778</b>\\ub300\\ud1b5\\ub839\\ucee4\\ud53c/\\ub354\\ubb384321 \\ucf5c\\ub4dc\\ube0c\\ub8e8\\n20170605 who \\uc2a4\\ud398\\uc15c <b>\\ubb38\\uc7ac\\uc778</b> \\ucc45 \\uce5c\\ud544\\uc0ac\\uc778\\uae4c\\uc9c0 \\uc788\\uc5b4\\uc694.\\n20170605 who \\uc2dc\\ub9ac\\uc988 <b>\\ubb38\\uc7ac\\uc778</b>\\ub3c4\\uc11c \\uc55e\\uc73c\\ub85c\\ub3c4 \\uacc4\\uc18d \\ubcf4\\uace0\\ud508 \\ucc45.\\n20170604 <b>\\ubb38\\uc7ac\\uc778</b> \\ucc45 \\ub300\\ud1b5\\ub839 \\uce5c\\ud544\\uc0ac\\uc778\\uae4c\\uc9c0~\\n20170604 <b>\\ubb38\\uc7ac\\uc778</b>\\ucc45 \\ub300\\ud1b5\\ub839 \\ub3c4\\uc11c who\\uc2dc\\ub9ac\\uc988(\\uac70\\uc81c\\ub3c4 \\uc0dd\\uac00\\ubc29\\ubb38)\\n20170530 \\ub098\\ub294 <b>\\ubb38\\uc7ac\\uc778</b>\\uc774 \\uc6d0\\uce59\\uc8fc\\uc758\\uc790 \\ub300\\ud1b5\\ub839\\uc774 \\ub418\\uae38 \\ud76c\\ub9dd\\ud55c\\ub2e4.\\n20170605 who\\uc2dc\\ub9ac\\uc988 \\uc5b4\\ub9b0\\uc774 <b>\\ubb38\\uc7ac\\uc778</b>\\ucc45 \\ud2b9\\ubcc4\\ud310\\uc5d0\\ub294 \\uce5c\\ud544\\uc0ac\\uc778\\uae4c\\uc9c0~\\n20170523 \\ubd80\\uc0b0 \\uc548\\uacbd\\uc810 \\ud574\\uc6b4\\ub300 \\ubab0\\ud150 <b>\\ubb38\\uc7ac\\uc778</b> \\uc548\\uacbd\\n20170601 \\ub9b0\\ub4dc\\ubc84\\uadf8 <b>\\ubb38\\uc7ac\\uc778</b> \\ub300\\ud1b5\\ub839 \\uc548\\uacbd\\ud14c \\ucd5c\\ub300\\uac24\\ub7ec\\ub9ac\\uad00\\uc5d0\\uc11c \\ucc3e\\uc544\\uc694\\n20170605 <b>\\ubb38\\uc7ac\\uc778</b> \\ub300\\ud1b5\\ub839 \\uc0dd\\uac00\\n20170605 <b>\\ubb38\\uc7ac\\uc778</b> \\ub300\\ud1b5\\ub839 \\ud328\\uc158 , \\uc815\\uc7a5 \\uc2a4\\ud0c0\\uc77c\\n20170603 <b>\\ubb38\\uc7ac\\uc778</b> \\ucc45 \\ub300\\ud55c\\ubbfc\\uad6d \\ub300\\ud1b5\\ub839 \\uce5c\\ud544\\uc0ac\\uc778~\\n20170605 <b>\\ubb38\\uc7ac\\uc778</b>\\uc740 \\uc704\\ud5cc \\ub300\\ud1b5\\ub839\\n20170527 \\uac70\\uc81c\\ub3c4 <b>\\ubb38\\uc7ac\\uc778</b> \\ub300\\ud1b5\\ub839 \\uc0dd\\uac00 \\ubc29\\ubb38\\uae30\\n20170529 <b>\\ubb38\\uc7ac\\uc778</b> \\ube5a\\ud0d5\\uac10 \\uc54c\\uc544\\ubcf4\\uae30!\\n20170604 \\ud53c\\uc6b0\\uc9c4 \\ubcf4\\ud6c8 \\ucc98\\uc7a5! <b>\\ubb38\\uc7ac\\uc778</b> \\uc2e0\\uc758\\ud55c\\uc218!\\n20170605 '<b>\\ubb38\\uc7ac\\uc778</b> \\ub9c8\\ud06c\\ub9e8\\uc774 \\ubcf8 \\uc778\\uac04 <b>\\ubb38\\uc7ac\\uc778</b>' \\uac15\\uc5f0\\ud68c\\n20170531 \\uc0ac\\ub4dc 4\\uae30 \\ucd94\\uac00\\ubc18\\uc785\\uc5d0 \\ub300\\ud574\\uc11c <b>\\ubb38\\uc7ac\\uc778</b> \\ub300\\ud1b5\\ub839\\uc740 \\ubab0\\ub790\\uc744\\uae4c?\\n20170602 '\\uad6d\\ubbfc \\uce58\\uc5b4\\ub9ac\\ub354' \\ubc15\\uae30\\ub7c9 &quot;<b>\\ubb38\\uc7ac\\uc778</b> \\ub300\\ud1b5\\ub839 \\uc720\\uc138 \\ucc38\\uc5ec\\ud55c \\uc774\\uc720\\ub294... \\n20170605 \\uc815\\ubd80\\uc870\\uc9c1 \\uac1c\\ud3b8,\\uace0\\uc704 \\ub2f9\\uc815\\uccad <b>\\ubb38\\uc7ac\\uc778</b> \\uac1c\\ud3b8\\uc548 \\ub17c\\uc758\\n20170606 <b>\\ubb38\\uc7ac\\uc778</b> \\ub300\\ud1b5\\ub839 \\ud604\\ucda9\\uc77c \\ucd94\\ub150\\uc0ac\\n20170530 \\uc18c\\uc124\\uac00 \\uae40\\uc601\\ud558\\uac00 \\ub300\\ud1b5\\ub839 <b>\\ubb38\\uc7ac\\uc778</b>\\uc5d0\\uac8c \\ucd94\\ucc9c\\ud55c \\ucc45\\n20170519 <b>\\ubb38\\uc7ac\\uc778</b> \\ub300\\ud1b5\\ub839 # 518 \\uae30\\ub150\\uc2dd \\uc5f0\\uc124\\n20170529 <b>\\ubb38\\uc7ac\\uc778</b>\\uc548\\uacbd \\ub9b0\\ub4dc\\ubc84\\uadf8 \\ud2b8\\ub801\\ud06c\\uc1fc \\ub2e4\\ub140\\uc654\\uc5b4\\uc694\\n20170605 who \\uc2a4\\ud398\\uc15c\\uc5d0\\ub294 <b>\\ubb38\\uc7ac\\uc778</b> \\ub300\\ud1b5\\ub839\\uc758 \\uce5c\\ud544 \\uc0ac\\uc778\\uc774 \\uc788\\ub2e4!\\n20170527 <b>\\ubb38\\uc7ac\\uc778</b> \\uc815\\ubd80 \\uc778\\uc0ac, \\ubb3c\\ub7ec\\uc11c\\uba74 \\uc548 \\ub41c\\ub2e4.\\n20170603 \\ube14\\ub799\\uc57c\\ud06c <b>\\ubb38\\uc7ac\\uc778</b> \\ub300\\ud1b5\\ub839 VIP\\uc790\\ucf13\\n20170605 <b>\\ubb38\\uc7ac\\uc778</b> \\ube5a \\ud0d5\\uac10 \\uacf5\\uc57d \\uc5b4\\ub5bb\\uac8c \\uc0dd\\uac01\\ud558\\uc138\\uc694?\\n20170606 \\ucd08\\ub4f1\\ud559\\uc0dd \\ub3c4\\uc11c who\\uc2dc\\ub9ac\\uc988 <b>\\ubb38\\uc7ac\\uc778</b> \\ub300\\ud1b5\\ub839 \\ud2b9\\ubcc4\\ud310\\n20170602 Who \\uc2dc\\ub9ac\\uc988 \\uc774\\ubc88\\uc5d4 <b>\\ubb38\\uc7ac\\uc778</b>\\ub300\\ud1b5\\ub839\\uc774\\ub2f7!!\\n20170602 \\ub9e4\\uc77c\\uacbd\\uc81c \\uacbd\\uc81c\\ubd80 - <b>\\ubb38\\uc7ac\\uc778</b>\\ub178\\ubbf9\\uc2a4\\n20170604 \\ub4dc\\ub9bc \\uae30\\uc790\\ud074\\ub798\\uc2a4. \\ub17c\\uc220 \\uc791\\ubb38 ~! <b>\\ubb38\\uc7ac\\uc778</b> \\uc815\\ubd80\\uc758 \\uc77c\\uc790\\ub9ac \\uc815\\ucc45\\uc5d0 \\ub300\\ud574\\n20170531 [<b>\\ubb38\\uc7ac\\uc778</b> \\uc815\\ubd80] \\uad6d\\ubc29\\ubd80 \\uc0ac\\ub4dc\\ubc30\\uce58 \\ubcf4\\uace0\\ub204\\ub77d\\n20170527 \\uae40\\uc0c1\\uc870, \\uac15\\uacbd\\ud654, \\uc774\\ub099\\uc5f0 \\uc704\\uc7a5\\uc804\\uc785 - <b>\\ubb38\\uc7ac\\uc778</b> \\uacf5\\uc57d \\ubc8c\\uc368\\ubd80\\ud130 \\uc5b4\\uae30\\ub098?\\n20170527 [\\ub17c\\ud3c9] <b>\\ubb38\\uc7ac\\uc778</b> \\uc815\\ubd80 \\uc778\\uc0ac, \\uac08\\uc218\\ub85d \\ud0dc\\uc0b0\\uc774\\ub2e4(20170527)\\n20170601 <b>\\ubb38\\uc7ac\\uc778</b> \\ucc45  \\ub300\\ud1b5\\ub839 \\uce5c\\ud544\\uc0ac\\uc778 \\ub4e4\\uc5b4 \\uc788\\uc5b4\\uc694\\n\", u\"20170603 WHO?\\uc2dc\\ub9ac\\uc988 \\uc2a4\\ud398\\uc15c <b>\\ubb38\\uc7ac\\uc778</b> \\ub300\\ud1b5\\ub839 \\ud2b9\\ubcc4\\ud310\\n20170603 <b>\\ubb38\\uc7ac\\uc778</b> \\ub300\\ud1b5\\ub839\\ub3c4 \\ub2e4\\ub140\\uac04 \\uc2e0\\ub9bc \\ud765\\ubd80\\ubcf4\\uc308\\n20170510 &lt;\\ubcf4\\ub3c4\\uc790\\ub8cc&gt; <b>\\ubb38\\uc7ac\\uc778</b> \\ub300\\ud1b5\\ub839, \\uad6d\\ubb34\\ucd1d\\ub9ac \\ud6c4\\ubcf4\\uc790 \\ub4f1 \\uc9c0\\uba85\\n20170605 who \\uc2dc\\ub9ac\\uc988 <b>\\ubb38\\uc7ac\\uc778</b> \\ub300\\ud1b5\\ub839 \\ud2b9\\ubcc4\\ud310 \\uc5b4\\ub9b0\\uc774 \\ub3c4\\uc11c\\n20170528 <b>\\ubb38\\uc7ac\\uc778</b>\\uc758 \\uad6d\\uc815\\uae30\\uc870 - \\uc801\\ubc18\\ud558\\uc7a5\\uc744 \\uc5c6\\uc560\\uc8fc\\ub9c8\\n20170605 Who? <b>\\ubb38\\uc7ac\\uc778</b>. \\uc704\\uc778\\uc804\\n20170604 \\ub300\\ud55c\\ubbfc\\uad6d\\uc758 \\uccad\\ucd98\\ub4e4\\uc5d0\\uac8c &lt;<b>\\ubb38\\uc7ac\\uc778</b>\\uc774 \\ub4dc\\ub9bd\\ub2c8\\ub2e4&gt; <b>\\ubb38\\uc7ac\\uc778</b> \\ud3ec\\ud1a0\\uc5d0\\uc138\\uc774\\n20170518 \\uc6b8\\ubcf4 <b>\\ubb38\\uc7ac\\uc778</b>, \\uad6d\\ubbfc\\uc744 \\uc6b8\\ubcf4\\ub85c \\ub9cc\\ub4e4\\ub2e4.\\n20170605 <b>\\ubb38\\uc7ac\\uc778</b>\\ucc45 who\\uc2dc\\ub9ac\\uc988 \\uc5b4\\ub9b0\\uc774\\ub3c4\\uc11c\\n20170606 <b>\\ubb38\\uc7ac\\uc778</b> \\ucc45 \\ub2e4\\uc0b0\\uc5b4\\ub9b0\\uc774 who\\uc2dc\\ub9ac\\uc988!\\n20170606 who \\uc2dc\\ub9ac\\uc988 \\uc2a4\\ud398\\uc15c <b>\\ubb38\\uc7ac\\uc778</b>\\ub300\\ud1b5\\ub839\\n20170606 6\\uc6d46\\uc77c \\ud604\\ucda9\\uc77c \\ud0dc\\uadf9\\uae30 \\uac8c\\uc591 \\ud588\\uc2b5\\ub2c8\\ub2e4. (<b>\\ubb38\\uc7ac\\uc778</b> \\ub300\\ud1b5\\ub839 \\ud0c0\\uc784\\uc9c0)\\n20170606 who \\uc2dc\\ub9ac\\uc988 <b>\\ubb38\\uc7ac\\uc778</b> \\ud2b9\\ubcc4\\ud310\\uc73c\\ub85c \\ub9cc\\ub098\\ubcf4\\ub2e4.\\n20170605 who \\uc2dc\\ub9ac\\uc988 <b>\\ubb38\\uc7ac\\uc778</b> \\ud2b9\\ubcc4\\ud310 \\uce5c\\ud544 \\uc0ac\\uc778\\uae4c\\uc9c0\\n20170605 <b>\\ubb38\\uc7ac\\uc778</b>\\ub300\\ud1b5\\ub839\\ucee4\\ud53c/\\ub354\\ubb384321 \\ucf5c\\ub4dc\\ube0c\\ub8e8\\n20170605 who \\uc2a4\\ud398\\uc15c <b>\\ubb38\\uc7ac\\uc778</b> \\ucc45 \\uce5c\\ud544\\uc0ac\\uc778\\uae4c\\uc9c0 \\uc788\\uc5b4\\uc694.\\n20170605 who \\uc2dc\\ub9ac\\uc988 <b>\\ubb38\\uc7ac\\uc778</b>\\ub3c4\\uc11c \\uc55e\\uc73c\\ub85c\\ub3c4 \\uacc4\\uc18d \\ubcf4\\uace0\\ud508 \\ucc45.\\n20170604 <b>\\ubb38\\uc7ac\\uc778</b> \\ucc45 \\ub300\\ud1b5\\ub839 \\uce5c\\ud544\\uc0ac\\uc778\\uae4c\\uc9c0~\\n20170604 <b>\\ubb38\\uc7ac\\uc778</b>\\ucc45 \\ub300\\ud1b5\\ub839 \\ub3c4\\uc11c who\\uc2dc\\ub9ac\\uc988(\\uac70\\uc81c\\ub3c4 \\uc0dd\\uac00\\ubc29\\ubb38)\\n20170530 \\ub098\\ub294 <b>\\ubb38\\uc7ac\\uc778</b>\\uc774 \\uc6d0\\uce59\\uc8fc\\uc758\\uc790 \\ub300\\ud1b5\\ub839\\uc774 \\ub418\\uae38 \\ud76c\\ub9dd\\ud55c\\ub2e4.\\n20170605 who\\uc2dc\\ub9ac\\uc988 \\uc5b4\\ub9b0\\uc774 <b>\\ubb38\\uc7ac\\uc778</b>\\ucc45 \\ud2b9\\ubcc4\\ud310\\uc5d0\\ub294 \\uce5c\\ud544\\uc0ac\\uc778\\uae4c\\uc9c0~\\n20170523 \\ubd80\\uc0b0 \\uc548\\uacbd\\uc810 \\ud574\\uc6b4\\ub300 \\ubab0\\ud150 <b>\\ubb38\\uc7ac\\uc778</b> \\uc548\\uacbd\\n20170601 \\ub9b0\\ub4dc\\ubc84\\uadf8 <b>\\ubb38\\uc7ac\\uc778</b> \\ub300\\ud1b5\\ub839 \\uc548\\uacbd\\ud14c \\ucd5c\\ub300\\uac24\\ub7ec\\ub9ac\\uad00\\uc5d0\\uc11c \\ucc3e\\uc544\\uc694\\n20170605 <b>\\ubb38\\uc7ac\\uc778</b> \\ub300\\ud1b5\\ub839 \\uc0dd\\uac00\\n20170605 <b>\\ubb38\\uc7ac\\uc778</b> \\ub300\\ud1b5\\ub839 \\ud328\\uc158 , \\uc815\\uc7a5 \\uc2a4\\ud0c0\\uc77c\\n20170603 <b>\\ubb38\\uc7ac\\uc778</b> \\ucc45 \\ub300\\ud55c\\ubbfc\\uad6d \\ub300\\ud1b5\\ub839 \\uce5c\\ud544\\uc0ac\\uc778~\\n20170605 <b>\\ubb38\\uc7ac\\uc778</b>\\uc740 \\uc704\\ud5cc \\ub300\\ud1b5\\ub839\\n20170527 \\uac70\\uc81c\\ub3c4 <b>\\ubb38\\uc7ac\\uc778</b> \\ub300\\ud1b5\\ub839 \\uc0dd\\uac00 \\ubc29\\ubb38\\uae30\\n20170529 <b>\\ubb38\\uc7ac\\uc778</b> \\ube5a\\ud0d5\\uac10 \\uc54c\\uc544\\ubcf4\\uae30!\\n20170604 \\ud53c\\uc6b0\\uc9c4 \\ubcf4\\ud6c8 \\ucc98\\uc7a5! <b>\\ubb38\\uc7ac\\uc778</b> \\uc2e0\\uc758\\ud55c\\uc218!\\n20170605 '<b>\\ubb38\\uc7ac\\uc778</b> \\ub9c8\\ud06c\\ub9e8\\uc774 \\ubcf8 \\uc778\\uac04 <b>\\ubb38\\uc7ac\\uc778</b>' \\uac15\\uc5f0\\ud68c\\n20170531 \\uc0ac\\ub4dc 4\\uae30 \\ucd94\\uac00\\ubc18\\uc785\\uc5d0 \\ub300\\ud574\\uc11c <b>\\ubb38\\uc7ac\\uc778</b> \\ub300\\ud1b5\\ub839\\uc740 \\ubab0\\ub790\\uc744\\uae4c?\\n20170602 '\\uad6d\\ubbfc \\uce58\\uc5b4\\ub9ac\\ub354' \\ubc15\\uae30\\ub7c9 &quot;<b>\\ubb38\\uc7ac\\uc778</b> \\ub300\\ud1b5\\ub839 \\uc720\\uc138 \\ucc38\\uc5ec\\ud55c \\uc774\\uc720\\ub294... \\n20170605 \\uc815\\ubd80\\uc870\\uc9c1 \\uac1c\\ud3b8,\\uace0\\uc704 \\ub2f9\\uc815\\uccad <b>\\ubb38\\uc7ac\\uc778</b> \\uac1c\\ud3b8\\uc548 \\ub17c\\uc758\\n20170606 <b>\\ubb38\\uc7ac\\uc778</b> \\ub300\\ud1b5\\ub839 \\ud604\\ucda9\\uc77c \\ucd94\\ub150\\uc0ac\\n20170530 \\uc18c\\uc124\\uac00 \\uae40\\uc601\\ud558\\uac00 \\ub300\\ud1b5\\ub839 <b>\\ubb38\\uc7ac\\uc778</b>\\uc5d0\\uac8c \\ucd94\\ucc9c\\ud55c \\ucc45\\n20170519 <b>\\ubb38\\uc7ac\\uc778</b> \\ub300\\ud1b5\\ub839 # 518 \\uae30\\ub150\\uc2dd \\uc5f0\\uc124\\n20170529 <b>\\ubb38\\uc7ac\\uc778</b>\\uc548\\uacbd \\ub9b0\\ub4dc\\ubc84\\uadf8 \\ud2b8\\ub801\\ud06c\\uc1fc \\ub2e4\\ub140\\uc654\\uc5b4\\uc694\\n20170605 who \\uc2a4\\ud398\\uc15c\\uc5d0\\ub294 <b>\\ubb38\\uc7ac\\uc778</b> \\ub300\\ud1b5\\ub839\\uc758 \\uce5c\\ud544 \\uc0ac\\uc778\\uc774 \\uc788\\ub2e4!\\n20170527 <b>\\ubb38\\uc7ac\\uc778</b> \\uc815\\ubd80 \\uc778\\uc0ac, \\ubb3c\\ub7ec\\uc11c\\uba74 \\uc548 \\ub41c\\ub2e4.\\n20170603 \\ube14\\ub799\\uc57c\\ud06c <b>\\ubb38\\uc7ac\\uc778</b> \\ub300\\ud1b5\\ub839 VIP\\uc790\\ucf13\\n20170605 <b>\\ubb38\\uc7ac\\uc778</b> \\ube5a \\ud0d5\\uac10 \\uacf5\\uc57d \\uc5b4\\ub5bb\\uac8c \\uc0dd\\uac01\\ud558\\uc138\\uc694?\\n20170606 \\ucd08\\ub4f1\\ud559\\uc0dd \\ub3c4\\uc11c who\\uc2dc\\ub9ac\\uc988 <b>\\ubb38\\uc7ac\\uc778</b> \\ub300\\ud1b5\\ub839 \\ud2b9\\ubcc4\\ud310\\n20170602 Who \\uc2dc\\ub9ac\\uc988 \\uc774\\ubc88\\uc5d4 <b>\\ubb38\\uc7ac\\uc778</b>\\ub300\\ud1b5\\ub839\\uc774\\ub2f7!!\\n20170602 \\ub9e4\\uc77c\\uacbd\\uc81c \\uacbd\\uc81c\\ubd80 - <b>\\ubb38\\uc7ac\\uc778</b>\\ub178\\ubbf9\\uc2a4\\n20170604 \\ub4dc\\ub9bc \\uae30\\uc790\\ud074\\ub798\\uc2a4. \\ub17c\\uc220 \\uc791\\ubb38 ~! <b>\\ubb38\\uc7ac\\uc778</b> \\uc815\\ubd80\\uc758 \\uc77c\\uc790\\ub9ac \\uc815\\ucc45\\uc5d0 \\ub300\\ud574\\n20170531 [<b>\\ubb38\\uc7ac\\uc778</b> \\uc815\\ubd80] \\uad6d\\ubc29\\ubd80 \\uc0ac\\ub4dc\\ubc30\\uce58 \\ubcf4\\uace0\\ub204\\ub77d\\n20170527 \\uae40\\uc0c1\\uc870, \\uac15\\uacbd\\ud654, \\uc774\\ub099\\uc5f0 \\uc704\\uc7a5\\uc804\\uc785 - <b>\\ubb38\\uc7ac\\uc778</b> \\uacf5\\uc57d \\ubc8c\\uc368\\ubd80\\ud130 \\uc5b4\\uae30\\ub098?\\n20170527 [\\ub17c\\ud3c9] <b>\\ubb38\\uc7ac\\uc778</b> \\uc815\\ubd80 \\uc778\\uc0ac, \\uac08\\uc218\\ub85d \\ud0dc\\uc0b0\\uc774\\ub2e4(20170527)\\n20170601 <b>\\ubb38\\uc7ac\\uc778</b> \\ucc45  \\ub300\\ud1b5\\ub839 \\uce5c\\ud544\\uc0ac\\uc778 \\ub4e4\\uc5b4 \\uc788\\uc5b4\\uc694\\n20170603 WHO?\\uc2dc\\ub9ac\\uc988 \\uc2a4\\ud398\\uc15c <b>\\ubb38\\uc7ac\\uc778</b> \\ub300\\ud1b5\\ub839 \\ud2b9\\ubcc4\\ud310\\n20170603 <b>\\ubb38\\uc7ac\\uc778</b> \\ub300\\ud1b5\\ub839\\ub3c4 \\ub2e4\\ub140\\uac04 \\uc2e0\\ub9bc \\ud765\\ubd80\\ubcf4\\uc308\\n20170510 &lt;\\ubcf4\\ub3c4\\uc790\\ub8cc&gt; <b>\\ubb38\\uc7ac\\uc778</b> \\ub300\\ud1b5\\ub839, \\uad6d\\ubb34\\ucd1d\\ub9ac \\ud6c4\\ubcf4\\uc790 \\ub4f1 \\uc9c0\\uba85\\n20170605 who \\uc2dc\\ub9ac\\uc988 <b>\\ubb38\\uc7ac\\uc778</b> \\ub300\\ud1b5\\ub839 \\ud2b9\\ubcc4\\ud310 \\uc5b4\\ub9b0\\uc774 \\ub3c4\\uc11c\\n20170528 <b>\\ubb38\\uc7ac\\uc778</b>\\uc758 \\uad6d\\uc815\\uae30\\uc870 - \\uc801\\ubc18\\ud558\\uc7a5\\uc744 \\uc5c6\\uc560\\uc8fc\\ub9c8\\n20170605 Who? <b>\\ubb38\\uc7ac\\uc778</b>. \\uc704\\uc778\\uc804\\n20170604 \\ub300\\ud55c\\ubbfc\\uad6d\\uc758 \\uccad\\ucd98\\ub4e4\\uc5d0\\uac8c &lt;<b>\\ubb38\\uc7ac\\uc778</b>\\uc774 \\ub4dc\\ub9bd\\ub2c8\\ub2e4&gt; <b>\\ubb38\\uc7ac\\uc778</b> \\ud3ec\\ud1a0\\uc5d0\\uc138\\uc774\\n20170518 \\uc6b8\\ubcf4 <b>\\ubb38\\uc7ac\\uc778</b>, \\uad6d\\ubbfc\\uc744 \\uc6b8\\ubcf4\\ub85c \\ub9cc\\ub4e4\\ub2e4.\\n20170605 <b>\\ubb38\\uc7ac\\uc778</b>\\ucc45 who\\uc2dc\\ub9ac\\uc988 \\uc5b4\\ub9b0\\uc774\\ub3c4\\uc11c\\n20170606 <b>\\ubb38\\uc7ac\\uc778</b> \\ucc45 \\ub2e4\\uc0b0\\uc5b4\\ub9b0\\uc774 who\\uc2dc\\ub9ac\\uc988!\\n20170606 who \\uc2dc\\ub9ac\\uc988 \\uc2a4\\ud398\\uc15c <b>\\ubb38\\uc7ac\\uc778</b>\\ub300\\ud1b5\\ub839\\n20170606 6\\uc6d46\\uc77c \\ud604\\ucda9\\uc77c \\ud0dc\\uadf9\\uae30 \\uac8c\\uc591 \\ud588\\uc2b5\\ub2c8\\ub2e4. (<b>\\ubb38\\uc7ac\\uc778</b> \\ub300\\ud1b5\\ub839 \\ud0c0\\uc784\\uc9c0)\\n20170606 who \\uc2dc\\ub9ac\\uc988 <b>\\ubb38\\uc7ac\\uc778</b> \\ud2b9\\ubcc4\\ud310\\uc73c\\ub85c \\ub9cc\\ub098\\ubcf4\\ub2e4.\\n20170605 who \\uc2dc\\ub9ac\\uc988 <b>\\ubb38\\uc7ac\\uc778</b> \\ud2b9\\ubcc4\\ud310 \\uce5c\\ud544 \\uc0ac\\uc778\\uae4c\\uc9c0\\n20170605 <b>\\ubb38\\uc7ac\\uc778</b>\\ub300\\ud1b5\\ub839\\ucee4\\ud53c/\\ub354\\ubb384321 \\ucf5c\\ub4dc\\ube0c\\ub8e8\\n20170605 who \\uc2a4\\ud398\\uc15c <b>\\ubb38\\uc7ac\\uc778</b> \\ucc45 \\uce5c\\ud544\\uc0ac\\uc778\\uae4c\\uc9c0 \\uc788\\uc5b4\\uc694.\\n20170605 who \\uc2dc\\ub9ac\\uc988 <b>\\ubb38\\uc7ac\\uc778</b>\\ub3c4\\uc11c \\uc55e\\uc73c\\ub85c\\ub3c4 \\uacc4\\uc18d \\ubcf4\\uace0\\ud508 \\ucc45.\\n20170604 <b>\\ubb38\\uc7ac\\uc778</b> \\ucc45 \\ub300\\ud1b5\\ub839 \\uce5c\\ud544\\uc0ac\\uc778\\uae4c\\uc9c0~\\n20170604 <b>\\ubb38\\uc7ac\\uc778</b>\\ucc45 \\ub300\\ud1b5\\ub839 \\ub3c4\\uc11c who\\uc2dc\\ub9ac\\uc988(\\uac70\\uc81c\\ub3c4 \\uc0dd\\uac00\\ubc29\\ubb38)\\n20170530 \\ub098\\ub294 <b>\\ubb38\\uc7ac\\uc778</b>\\uc774 \\uc6d0\\uce59\\uc8fc\\uc758\\uc790 \\ub300\\ud1b5\\ub839\\uc774 \\ub418\\uae38 \\ud76c\\ub9dd\\ud55c\\ub2e4.\\n20170605 who\\uc2dc\\ub9ac\\uc988 \\uc5b4\\ub9b0\\uc774 <b>\\ubb38\\uc7ac\\uc778</b>\\ucc45 \\ud2b9\\ubcc4\\ud310\\uc5d0\\ub294 \\uce5c\\ud544\\uc0ac\\uc778\\uae4c\\uc9c0~\\n20170523 \\ubd80\\uc0b0 \\uc548\\uacbd\\uc810 \\ud574\\uc6b4\\ub300 \\ubab0\\ud150 <b>\\ubb38\\uc7ac\\uc778</b> \\uc548\\uacbd\\n20170601 \\ub9b0\\ub4dc\\ubc84\\uadf8 <b>\\ubb38\\uc7ac\\uc778</b> \\ub300\\ud1b5\\ub839 \\uc548\\uacbd\\ud14c \\ucd5c\\ub300\\uac24\\ub7ec\\ub9ac\\uad00\\uc5d0\\uc11c \\ucc3e\\uc544\\uc694\\n20170605 <b>\\ubb38\\uc7ac\\uc778</b> \\ub300\\ud1b5\\ub839 \\uc0dd\\uac00\\n20170605 <b>\\ubb38\\uc7ac\\uc778</b> \\ub300\\ud1b5\\ub839 \\ud328\\uc158 , \\uc815\\uc7a5 \\uc2a4\\ud0c0\\uc77c\\n20170603 <b>\\ubb38\\uc7ac\\uc778</b> \\ucc45 \\ub300\\ud55c\\ubbfc\\uad6d \\ub300\\ud1b5\\ub839 \\uce5c\\ud544\\uc0ac\\uc778~\\n20170605 <b>\\ubb38\\uc7ac\\uc778</b>\\uc740 \\uc704\\ud5cc \\ub300\\ud1b5\\ub839\\n20170527 \\uac70\\uc81c\\ub3c4 <b>\\ubb38\\uc7ac\\uc778</b> \\ub300\\ud1b5\\ub839 \\uc0dd\\uac00 \\ubc29\\ubb38\\uae30\\n20170529 <b>\\ubb38\\uc7ac\\uc778</b> \\ube5a\\ud0d5\\uac10 \\uc54c\\uc544\\ubcf4\\uae30!\\n20170604 \\ud53c\\uc6b0\\uc9c4 \\ubcf4\\ud6c8 \\ucc98\\uc7a5! <b>\\ubb38\\uc7ac\\uc778</b> \\uc2e0\\uc758\\ud55c\\uc218!\\n20170605 '<b>\\ubb38\\uc7ac\\uc778</b> \\ub9c8\\ud06c\\ub9e8\\uc774 \\ubcf8 \\uc778\\uac04 <b>\\ubb38\\uc7ac\\uc778</b>' \\uac15\\uc5f0\\ud68c\\n20170531 \\uc0ac\\ub4dc 4\\uae30 \\ucd94\\uac00\\ubc18\\uc785\\uc5d0 \\ub300\\ud574\\uc11c <b>\\ubb38\\uc7ac\\uc778</b> \\ub300\\ud1b5\\ub839\\uc740 \\ubab0\\ub790\\uc744\\uae4c?\\n20170602 '\\uad6d\\ubbfc \\uce58\\uc5b4\\ub9ac\\ub354' \\ubc15\\uae30\\ub7c9 &quot;<b>\\ubb38\\uc7ac\\uc778</b> \\ub300\\ud1b5\\ub839 \\uc720\\uc138 \\ucc38\\uc5ec\\ud55c \\uc774\\uc720\\ub294... \\n20170605 \\uc815\\ubd80\\uc870\\uc9c1 \\uac1c\\ud3b8,\\uace0\\uc704 \\ub2f9\\uc815\\uccad <b>\\ubb38\\uc7ac\\uc778</b> \\uac1c\\ud3b8\\uc548 \\ub17c\\uc758\\n20170606 <b>\\ubb38\\uc7ac\\uc778</b> \\ub300\\ud1b5\\ub839 \\ud604\\ucda9\\uc77c \\ucd94\\ub150\\uc0ac\\n20170530 \\uc18c\\uc124\\uac00 \\uae40\\uc601\\ud558\\uac00 \\ub300\\ud1b5\\ub839 <b>\\ubb38\\uc7ac\\uc778</b>\\uc5d0\\uac8c \\ucd94\\ucc9c\\ud55c \\ucc45\\n20170519 <b>\\ubb38\\uc7ac\\uc778</b> \\ub300\\ud1b5\\ub839 # 518 \\uae30\\ub150\\uc2dd \\uc5f0\\uc124\\n20170529 <b>\\ubb38\\uc7ac\\uc778</b>\\uc548\\uacbd \\ub9b0\\ub4dc\\ubc84\\uadf8 \\ud2b8\\ub801\\ud06c\\uc1fc \\ub2e4\\ub140\\uc654\\uc5b4\\uc694\\n20170605 who \\uc2a4\\ud398\\uc15c\\uc5d0\\ub294 <b>\\ubb38\\uc7ac\\uc778</b> \\ub300\\ud1b5\\ub839\\uc758 \\uce5c\\ud544 \\uc0ac\\uc778\\uc774 \\uc788\\ub2e4!\\n20170527 <b>\\ubb38\\uc7ac\\uc778</b> \\uc815\\ubd80 \\uc778\\uc0ac, \\ubb3c\\ub7ec\\uc11c\\uba74 \\uc548 \\ub41c\\ub2e4.\\n20170603 \\ube14\\ub799\\uc57c\\ud06c <b>\\ubb38\\uc7ac\\uc778</b> \\ub300\\ud1b5\\ub839 VIP\\uc790\\ucf13\\n20170605 <b>\\ubb38\\uc7ac\\uc778</b> \\ube5a \\ud0d5\\uac10 \\uacf5\\uc57d \\uc5b4\\ub5bb\\uac8c \\uc0dd\\uac01\\ud558\\uc138\\uc694?\\n20170606 \\ucd08\\ub4f1\\ud559\\uc0dd \\ub3c4\\uc11c who\\uc2dc\\ub9ac\\uc988 <b>\\ubb38\\uc7ac\\uc778</b> \\ub300\\ud1b5\\ub839 \\ud2b9\\ubcc4\\ud310\\n20170602 Who \\uc2dc\\ub9ac\\uc988 \\uc774\\ubc88\\uc5d4 <b>\\ubb38\\uc7ac\\uc778</b>\\ub300\\ud1b5\\ub839\\uc774\\ub2f7!!\\n20170602 \\ub9e4\\uc77c\\uacbd\\uc81c \\uacbd\\uc81c\\ubd80 - <b>\\ubb38\\uc7ac\\uc778</b>\\ub178\\ubbf9\\uc2a4\\n20170604 \\ub4dc\\ub9bc \\uae30\\uc790\\ud074\\ub798\\uc2a4. \\ub17c\\uc220 \\uc791\\ubb38 ~! <b>\\ubb38\\uc7ac\\uc778</b> \\uc815\\ubd80\\uc758 \\uc77c\\uc790\\ub9ac \\uc815\\ucc45\\uc5d0 \\ub300\\ud574\\n20170531 [<b>\\ubb38\\uc7ac\\uc778</b> \\uc815\\ubd80] \\uad6d\\ubc29\\ubd80 \\uc0ac\\ub4dc\\ubc30\\uce58 \\ubcf4\\uace0\\ub204\\ub77d\\n20170527 \\uae40\\uc0c1\\uc870, \\uac15\\uacbd\\ud654, \\uc774\\ub099\\uc5f0 \\uc704\\uc7a5\\uc804\\uc785 - <b>\\ubb38\\uc7ac\\uc778</b> \\uacf5\\uc57d \\ubc8c\\uc368\\ubd80\\ud130 \\uc5b4\\uae30\\ub098?\\n20170527 [\\ub17c\\ud3c9] <b>\\ubb38\\uc7ac\\uc778</b> \\uc815\\ubd80 \\uc778\\uc0ac, \\uac08\\uc218\\ub85d \\ud0dc\\uc0b0\\uc774\\ub2e4(20170527)\\n20170601 <b>\\ubb38\\uc7ac\\uc778</b> \\ucc45  \\ub300\\ud1b5\\ub839 \\uce5c\\ud544\\uc0ac\\uc778 \\ub4e4\\uc5b4 \\uc788\\uc5b4\\uc694\\n\"]\n"
     ]
    }
   ],
   "source": [
    "import src.mylib\n",
    "import os\n",
    "import sys\n",
    "import requests\n",
    "from pymongo import MongoClient\n",
    "\n",
    "key_path = os.path.join('src', 'key.properties')\n",
    "keys = src.mylib.getKey(key_path)\n",
    "\n",
    "info = keys['naver'].split(',')\n",
    "\n",
    "start = 1\n",
    "client_id = info[0]\n",
    "client_secret = info[1]\n",
    "url = \"https://openapi.naver.com/v1/search/blog?query=\" + '문재인' + '&display=50' + '&start=' + str(start)\n",
    "start = start + 100\n",
    "headers_info = {\"X-Naver-Client-Id\": client_id,  \"X-Naver-Client-Secret\":client_secret}\n",
    "response = requests.get(url, headers=headers_info)\n",
    "result_json = response.json()\n",
    "for ele in result_json['items']:\n",
    "    blog_str = blog_str + ele['postdate'] + \" \"+ ele['title'] + '\\n'\n",
    "blog_list.append(blog_str)\n",
    "print blog_list"
   ]
  },
  {
   "cell_type": "code",
   "execution_count": null,
   "metadata": {
    "collapsed": true
   },
   "outputs": [],
   "source": [
    "url = \"https://openapi.naver.com/v1/search/news?query=\" + '문재인' + '&display=100'\n",
    "headers_info = {\"X-Naver-Client-Id\": client_id,  \"X-Naver-Client-Secret\":client_secret}\n",
    "response = requests.get(url, headers=headers_info)\n",
    "result_json = response.json()\n",
    "\n",
    "for ele in result_json['items']:\n",
    "    temp_date = ''\n",
    "    temp_split = ele['pubDate'].split()\n",
    "    temp_date = temp_date + temp_split[3]\n",
    "    if(temp_split[2] == 'Jun'):\n",
    "        temp_date = temp_date + '06'\n",
    "    elif(temp_split[2] == 'May'):  \n",
    "        temp_date = temp_date + '05'\n",
    "    else:\n",
    "        continue\n",
    "    temp_date = temp_date + temp_split[1]\n",
    "    print  int(temp_date),\n",
    "    print \" - \"+ ele['title'], '\\n\\n'\n",
    "   \n",
    "print(\"-------------------------------------\")    \n",
    "print(\"\\n\\n\")   \n"
   ]
  },
  {
   "cell_type": "code",
   "execution_count": 4,
   "metadata": {
    "collapsed": false
   },
   "outputs": [],
   "source": [
    "from pymongo import MongoClient\n",
    "import os\n",
    "import sys\n",
    "import requests\n",
    "\n",
    "client = MongoClient('localhost:27017')\n",
    "db = client.bigData"
   ]
  },
  {
   "cell_type": "code",
   "execution_count": 27,
   "metadata": {
    "collapsed": false
   },
   "outputs": [
    {
     "name": "stdout",
     "output_type": "stream",
     "text": [
      "[u\"20170603 WHO?\\uc2dc\\ub9ac\\uc988 \\uc2a4\\ud398\\uc15c <b>\\ubb38\\uc7ac\\uc778</b> \\ub300\\ud1b5\\ub839 \\ud2b9\\ubcc4\\ud310\\n20170603 <b>\\ubb38\\uc7ac\\uc778</b> \\ub300\\ud1b5\\ub839\\ub3c4 \\ub2e4\\ub140\\uac04 \\uc2e0\\ub9bc \\ud765\\ubd80\\ubcf4\\uc308\\n20170510 &lt;\\ubcf4\\ub3c4\\uc790\\ub8cc&gt; <b>\\ubb38\\uc7ac\\uc778</b> \\ub300\\ud1b5\\ub839, \\uad6d\\ubb34\\ucd1d\\ub9ac \\ud6c4\\ubcf4\\uc790 \\ub4f1 \\uc9c0\\uba85\\n20170605 who \\uc2dc\\ub9ac\\uc988 <b>\\ubb38\\uc7ac\\uc778</b> \\ub300\\ud1b5\\ub839 \\ud2b9\\ubcc4\\ud310 \\uc5b4\\ub9b0\\uc774 \\ub3c4\\uc11c\\n20170528 <b>\\ubb38\\uc7ac\\uc778</b>\\uc758 \\uad6d\\uc815\\uae30\\uc870 - \\uc801\\ubc18\\ud558\\uc7a5\\uc744 \\uc5c6\\uc560\\uc8fc\\ub9c8\\n20170605 Who? <b>\\ubb38\\uc7ac\\uc778</b>. \\uc704\\uc778\\uc804\\n20170604 \\ub300\\ud55c\\ubbfc\\uad6d\\uc758 \\uccad\\ucd98\\ub4e4\\uc5d0\\uac8c &lt;<b>\\ubb38\\uc7ac\\uc778</b>\\uc774 \\ub4dc\\ub9bd\\ub2c8\\ub2e4&gt; <b>\\ubb38\\uc7ac\\uc778</b> \\ud3ec\\ud1a0\\uc5d0\\uc138\\uc774\\n20170518 \\uc6b8\\ubcf4 <b>\\ubb38\\uc7ac\\uc778</b>, \\uad6d\\ubbfc\\uc744 \\uc6b8\\ubcf4\\ub85c \\ub9cc\\ub4e4\\ub2e4.\\n20170605 <b>\\ubb38\\uc7ac\\uc778</b>\\ucc45 who\\uc2dc\\ub9ac\\uc988 \\uc5b4\\ub9b0\\uc774\\ub3c4\\uc11c\\n20170606 <b>\\ubb38\\uc7ac\\uc778</b> \\ucc45 \\ub2e4\\uc0b0\\uc5b4\\ub9b0\\uc774 who\\uc2dc\\ub9ac\\uc988!\\n20170606 who \\uc2dc\\ub9ac\\uc988 \\uc2a4\\ud398\\uc15c <b>\\ubb38\\uc7ac\\uc778</b>\\ub300\\ud1b5\\ub839\\n20170606 6\\uc6d46\\uc77c \\ud604\\ucda9\\uc77c \\ud0dc\\uadf9\\uae30 \\uac8c\\uc591 \\ud588\\uc2b5\\ub2c8\\ub2e4. (<b>\\ubb38\\uc7ac\\uc778</b> \\ub300\\ud1b5\\ub839 \\ud0c0\\uc784\\uc9c0)\\n20170606 who \\uc2dc\\ub9ac\\uc988 <b>\\ubb38\\uc7ac\\uc778</b> \\ud2b9\\ubcc4\\ud310\\uc73c\\ub85c \\ub9cc\\ub098\\ubcf4\\ub2e4.\\n20170605 who \\uc2dc\\ub9ac\\uc988 <b>\\ubb38\\uc7ac\\uc778</b> \\ud2b9\\ubcc4\\ud310 \\uce5c\\ud544 \\uc0ac\\uc778\\uae4c\\uc9c0\\n20170605 <b>\\ubb38\\uc7ac\\uc778</b>\\ub300\\ud1b5\\ub839\\ucee4\\ud53c/\\ub354\\ubb384321 \\ucf5c\\ub4dc\\ube0c\\ub8e8\\n20170605 who \\uc2a4\\ud398\\uc15c <b>\\ubb38\\uc7ac\\uc778</b> \\ucc45 \\uce5c\\ud544\\uc0ac\\uc778\\uae4c\\uc9c0 \\uc788\\uc5b4\\uc694.\\n20170605 who \\uc2dc\\ub9ac\\uc988 <b>\\ubb38\\uc7ac\\uc778</b>\\ub3c4\\uc11c \\uc55e\\uc73c\\ub85c\\ub3c4 \\uacc4\\uc18d \\ubcf4\\uace0\\ud508 \\ucc45.\\n20170604 <b>\\ubb38\\uc7ac\\uc778</b> \\ucc45 \\ub300\\ud1b5\\ub839 \\uce5c\\ud544\\uc0ac\\uc778\\uae4c\\uc9c0~\\n20170604 <b>\\ubb38\\uc7ac\\uc778</b>\\ucc45 \\ub300\\ud1b5\\ub839 \\ub3c4\\uc11c who\\uc2dc\\ub9ac\\uc988(\\uac70\\uc81c\\ub3c4 \\uc0dd\\uac00\\ubc29\\ubb38)\\n20170530 \\ub098\\ub294 <b>\\ubb38\\uc7ac\\uc778</b>\\uc774 \\uc6d0\\uce59\\uc8fc\\uc758\\uc790 \\ub300\\ud1b5\\ub839\\uc774 \\ub418\\uae38 \\ud76c\\ub9dd\\ud55c\\ub2e4.\\n20170605 who\\uc2dc\\ub9ac\\uc988 \\uc5b4\\ub9b0\\uc774 <b>\\ubb38\\uc7ac\\uc778</b>\\ucc45 \\ud2b9\\ubcc4\\ud310\\uc5d0\\ub294 \\uce5c\\ud544\\uc0ac\\uc778\\uae4c\\uc9c0~\\n20170523 \\ubd80\\uc0b0 \\uc548\\uacbd\\uc810 \\ud574\\uc6b4\\ub300 \\ubab0\\ud150 <b>\\ubb38\\uc7ac\\uc778</b> \\uc548\\uacbd\\n20170601 \\ub9b0\\ub4dc\\ubc84\\uadf8 <b>\\ubb38\\uc7ac\\uc778</b> \\ub300\\ud1b5\\ub839 \\uc548\\uacbd\\ud14c \\ucd5c\\ub300\\uac24\\ub7ec\\ub9ac\\uad00\\uc5d0\\uc11c \\ucc3e\\uc544\\uc694\\n20170605 <b>\\ubb38\\uc7ac\\uc778</b> \\ub300\\ud1b5\\ub839 \\uc0dd\\uac00\\n20170605 <b>\\ubb38\\uc7ac\\uc778</b> \\ub300\\ud1b5\\ub839 \\ud328\\uc158 , \\uc815\\uc7a5 \\uc2a4\\ud0c0\\uc77c\\n20170603 <b>\\ubb38\\uc7ac\\uc778</b> \\ucc45 \\ub300\\ud55c\\ubbfc\\uad6d \\ub300\\ud1b5\\ub839 \\uce5c\\ud544\\uc0ac\\uc778~\\n20170605 <b>\\ubb38\\uc7ac\\uc778</b>\\uc740 \\uc704\\ud5cc \\ub300\\ud1b5\\ub839\\n20170527 \\uac70\\uc81c\\ub3c4 <b>\\ubb38\\uc7ac\\uc778</b> \\ub300\\ud1b5\\ub839 \\uc0dd\\uac00 \\ubc29\\ubb38\\uae30\\n20170529 <b>\\ubb38\\uc7ac\\uc778</b> \\ube5a\\ud0d5\\uac10 \\uc54c\\uc544\\ubcf4\\uae30!\\n20170605 '<b>\\ubb38\\uc7ac\\uc778</b> \\ub9c8\\ud06c\\ub9e8\\uc774 \\ubcf8 \\uc778\\uac04 <b>\\ubb38\\uc7ac\\uc778</b>' \\uac15\\uc5f0\\ud68c\\n20170604 \\ud53c\\uc6b0\\uc9c4 \\ubcf4\\ud6c8 \\ucc98\\uc7a5! <b>\\ubb38\\uc7ac\\uc778</b> \\uc2e0\\uc758\\ud55c\\uc218!\\n20170531 \\uc0ac\\ub4dc 4\\uae30 \\ucd94\\uac00\\ubc18\\uc785\\uc5d0 \\ub300\\ud574\\uc11c <b>\\ubb38\\uc7ac\\uc778</b> \\ub300\\ud1b5\\ub839\\uc740 \\ubab0\\ub790\\uc744\\uae4c?\\n20170602 '\\uad6d\\ubbfc \\uce58\\uc5b4\\ub9ac\\ub354' \\ubc15\\uae30\\ub7c9 &quot;<b>\\ubb38\\uc7ac\\uc778</b> \\ub300\\ud1b5\\ub839 \\uc720\\uc138 \\ucc38\\uc5ec\\ud55c \\uc774\\uc720\\ub294... \\n20170605 \\uc815\\ubd80\\uc870\\uc9c1 \\uac1c\\ud3b8,\\uace0\\uc704 \\ub2f9\\uc815\\uccad <b>\\ubb38\\uc7ac\\uc778</b> \\uac1c\\ud3b8\\uc548 \\ub17c\\uc758\\n20170606 <b>\\ubb38\\uc7ac\\uc778</b> \\ub300\\ud1b5\\ub839 \\ud604\\ucda9\\uc77c \\ucd94\\ub150\\uc0ac\\n20170530 \\uc18c\\uc124\\uac00 \\uae40\\uc601\\ud558\\uac00 \\ub300\\ud1b5\\ub839 <b>\\ubb38\\uc7ac\\uc778</b>\\uc5d0\\uac8c \\ucd94\\ucc9c\\ud55c \\ucc45\\n20170519 <b>\\ubb38\\uc7ac\\uc778</b> \\ub300\\ud1b5\\ub839 # 518 \\uae30\\ub150\\uc2dd \\uc5f0\\uc124\\n20170529 <b>\\ubb38\\uc7ac\\uc778</b>\\uc548\\uacbd \\ub9b0\\ub4dc\\ubc84\\uadf8 \\ud2b8\\ub801\\ud06c\\uc1fc \\ub2e4\\ub140\\uc654\\uc5b4\\uc694\\n20170605 who \\uc2a4\\ud398\\uc15c\\uc5d0\\ub294 <b>\\ubb38\\uc7ac\\uc778</b> \\ub300\\ud1b5\\ub839\\uc758 \\uce5c\\ud544 \\uc0ac\\uc778\\uc774 \\uc788\\ub2e4!\\n20170606 \\ucd08\\ub4f1\\ud559\\uc0dd \\ub3c4\\uc11c who\\uc2dc\\ub9ac\\uc988 <b>\\ubb38\\uc7ac\\uc778</b> \\ub300\\ud1b5\\ub839 \\ud2b9\\ubcc4\\ud310\\n20170527 <b>\\ubb38\\uc7ac\\uc778</b> \\uc815\\ubd80 \\uc778\\uc0ac, \\ubb3c\\ub7ec\\uc11c\\uba74 \\uc548 \\ub41c\\ub2e4.\\n20170603 \\ube14\\ub799\\uc57c\\ud06c <b>\\ubb38\\uc7ac\\uc778</b> \\ub300\\ud1b5\\ub839 VIP\\uc790\\ucf13\\n20170605 <b>\\ubb38\\uc7ac\\uc778</b> \\ube5a \\ud0d5\\uac10 \\uacf5\\uc57d \\uc5b4\\ub5bb\\uac8c \\uc0dd\\uac01\\ud558\\uc138\\uc694?\\n20170604 \\ub4dc\\ub9bc \\uae30\\uc790\\ud074\\ub798\\uc2a4. \\ub17c\\uc220 \\uc791\\ubb38 ~! <b>\\ubb38\\uc7ac\\uc778</b> \\uc815\\ubd80\\uc758 \\uc77c\\uc790\\ub9ac \\uc815\\ucc45\\uc5d0 \\ub300\\ud574\\n20170602 Who \\uc2dc\\ub9ac\\uc988 \\uc774\\ubc88\\uc5d4 <b>\\ubb38\\uc7ac\\uc778</b>\\ub300\\ud1b5\\ub839\\uc774\\ub2f7!!\\n20170602 \\ub9e4\\uc77c\\uacbd\\uc81c \\uacbd\\uc81c\\ubd80 - <b>\\ubb38\\uc7ac\\uc778</b>\\ub178\\ubbf9\\uc2a4\\n20170531 [<b>\\ubb38\\uc7ac\\uc778</b> \\uc815\\ubd80] \\uad6d\\ubc29\\ubd80 \\uc0ac\\ub4dc\\ubc30\\uce58 \\ubcf4\\uace0\\ub204\\ub77d\\n20170527 \\uae40\\uc0c1\\uc870, \\uac15\\uacbd\\ud654, \\uc774\\ub099\\uc5f0 \\uc704\\uc7a5\\uc804\\uc785 - <b>\\ubb38\\uc7ac\\uc778</b> \\uacf5\\uc57d \\ubc8c\\uc368\\ubd80\\ud130 \\uc5b4\\uae30\\ub098?\\n20170527 [\\ub17c\\ud3c9] <b>\\ubb38\\uc7ac\\uc778</b> \\uc815\\ubd80 \\uc778\\uc0ac, \\uac08\\uc218\\ub85d \\ud0dc\\uc0b0\\uc774\\ub2e4(20170527)\\n20170601 <b>\\ubb38\\uc7ac\\uc778</b> \\ucc45  \\ub300\\ud1b5\\ub839 \\uce5c\\ud544\\uc0ac\\uc778 \\ub4e4\\uc5b4 \\uc788\\uc5b4\\uc694\\n\\n20170524 \\ud37c\\uc2a4\\ud2b8\\ub3c4\\uadf8 '\\ud1a0\\ub9ac'\\uadf8\\ub9ac\\uace0'\\ub9c8\\ub8e8'\\uc640 \\uc9d1\\uc0ac <b>\\ubb38\\uc7ac\\uc778</b> \\ub300\\ud1b5\\ub839 \\uadf8\\ub9bc\\n20170520 <b>\\ubb38\\uc7ac\\uc778</b> \\ub300\\ud1b5\\ub839\\uc774 \\uc5b4\\uae34 \\uc57d\\uc18d\\n20170522 <b>\\ubb38\\uc7ac\\uc778</b> \\uad6c\\ub450 \\uc591\\ub9d0 \\ub4f1\\uc0b0\\ubcf5 \\uc548\\uacbd \\uc2e4\\uac80 \\ubbf8\\ub2f4 \\uc5f0\\uc18d \\ubb38\\ud15c \\uc5f4\\ud48d\\n20170507 \\ud6a8\\uc790 <b>\\ubb38\\uc7ac\\uc778</b>\\uacfc \\uc5b4\\uba38\\ub2c8\\n20170510 <b>\\ubb38\\uc7ac\\uc778</b> \\ub300\\ud1b5\\ub839 \\ubd80\\ub3d9\\uc0b0 \\uacf5\\uc57d\\uacfc \\ud654\\uc131\\uad6d\\uc81c\\ud14c\\ub9c8\\ud30c\\ud06c\\n20170606 <b>\\ubb38\\uc7ac\\uc778</b> \\ub300\\ud1b5\\ub839 \\ud604\\ucda9\\uc77c \\ucd94\\ub150\\uc0ac [\\uc804\\ubb38 \\ucca8\\ubd80] | \\u2018\\uc560\\uad6d\\u2019\\uacfc... \\n20170507 [\\ud30c\\ud30c\\ubbf8] <b>\\ubb38\\uc7ac\\uc778</b>\\uc758 \\uc798 \\uc54c\\ub824\\uc9c0\\uc9c0 \\uc54a\\uc740 \\uc774\\uc57c\\uae30\\n20170524 <b>\\ubb38\\uc7ac\\uc778</b> \\uc815\\ubd80 \\ud754\\ub4e4\\uae30\\ub294 \\uc774\\ubbf8 \\uc2dc\\uc791\\ub410\\ub2e4\\n20170520 <b>\\ubb38\\uc7ac\\uc778</b> \\uc815\\ubd80 \\ucd9c\\ubc94 1\\uc8fc\\uc77c, \\uc11c\\uc6b8 \\ubd80\\ub3d9\\uc0b0 \\uac00\\uaca9\\uc774 \\uc624\\ub978\\ub2e4. [<b>\\ubb38\\uc7ac\\uc778</b>... \\n20170509 <b>\\ubb38\\uc7ac\\uc778</b> \\ud64d\\uc740\\ub3d9 \\ud22c\\ud45c\\uc18c\\uc5d0\\uc11c\\n20170602 \\uae40\\ud55c\\uc815 \\uc758\\uc6d0, &lt;<b>\\ubb38\\uc7ac\\uc778</b> \\uc815\\ubd80 \\ucd9c\\ubc94\\uc758 \\uc758\\ubbf8\\uc640 \\uacfc\\uc81c&gt; \\ud559\\uc220\\ud1a0\\ub860\\ud68c \\ucc38\\uc11d\\n20170531 \\uccad\\ucd98\\ub4e4\\uc744 \\uc704\\ud55c \\ud3ec\\ud1a0\\uc5d0\\uc138\\uc774 &lt;<b>\\ubb38\\uc7ac\\uc778</b>\\uc774 \\ub4dc\\ub9bd\\ub2c8\\ub2e4&gt; \\uc11c\\ud3c9\\n20170606 <b>\\ubb38\\uc7ac\\uc778</b> \\ub178\\ubbf9\\uc2a4\\n20170605 \\uac15\\uacbd\\ud654 \\ub0b4\\uc815\\uc790\\uc640 <b>\\ubb38\\uc7ac\\uc778</b> \\ub300\\ud1b5\\ub839\\n20170503 [<b>\\ubb38\\uc7ac\\uc778</b>,\\uc138\\uc6d4\\ud638]\\ud574\\uc591\\ubb34\\ub2f9\\ubd80?\\n20170601 [<b>\\ubb38\\uc7ac\\uc778</b> \\uc815\\ubd80, \\uc6b8\\uc0b0 \\uc778\\uc7ac \\ub4f1\\uc6a9\\uc740 \\uc5c6\\ub2e4?]\\n20170530 <b>\\ubb38\\uc7ac\\uc778</b> \\uc815\\ubd80\\uc758 \\ubcf4\\uc721, \\uc721\\uc544 \\uacf5\\uc57d \\uc815\\ub9ac\\n20170510 <b>\\ubb38\\uc7ac\\uc778</b> \\ub300\\ud1b5\\ub839, \\uad70 \\ud1b5\\uc218\\uad8c \\ud589\\uc0ac\\ub85c \\uccab \\uc5c5\\ubb34 \\uc2dc\\uc791\\n20170606 <b>\\ubb38\\uc7ac\\uc778</b> \\ub300\\ud1b5\\ub839, \\uad6d\\uac00\\uc640 \\ubbfc\\uc871\\uc744 \\uc0ac\\ub791\\ud558\\ub294 \\uc560\\uad6d\\uc790\\uac00 \\uba3c\\uc800\\uc778 \\uc138\\uc0c1... \\n20170510 <b>\\ubb38\\uc7ac\\uc778</b> \\ub300\\ud1b5\\ub839 \\ub2f9\\uc120 \\ucd95\\ud558!! \\ucc45 51\\uad8c \\uc3e9\\ub2c8\\ub2e4~!\\n20170509 [<b>\\ubb38\\uc7ac\\uc778</b> \\ub300\\ud1b5\\ub839]\\uc6a9\\uc11c\\ub294 \\uc5c6\\ub2e4\\n20170530 <b>\\ubb38\\uc7ac\\uc778</b>\\uc774 \\ub4dc\\ub9bd\\ub2c8\\ub2e4\\n20170518 \\uc790\\uc720\\uc8fc\\uc758\\uc790 <b>\\ubb38\\uc7ac\\uc778</b>,\\n20170522 <b>\\ubb38\\uc7ac\\uc778</b> \\uad6c\\ub450 \\ube0c\\ub79c\\ub4dc \\uc774\\ub984 \\ub0a1\\uc74c\\uc758 \\ubbf8\\ud559\\n20170606 <b>\\ubb38\\uc7ac\\uc778</b>\\uc815\\ubd80 \\uc0ac\\ub4dc\\uc815\\ucc45 \\ubc14\\ub85c\\ubcf4\\uae30\\n20170520 <b>\\ubb38\\uc7ac\\uc778</b> \\uadf8\\ub9ac\\uace0 <b>\\ubb38\\uc7ac\\uc778</b> \\uc9c0\\uc9c0\\uc790\\n20170520 <b>\\ubb38\\uc7ac\\uc778</b> - \\ud64d\\uc11d\\ud604, \\ubb38\\ud76c\\uc0c1, \\uc774\\ud574\\ucc2c \\ud2b9\\uc0ac \\uad74\\uc695\\uc678\\uad50 (\\uc911\\uad6d \\uc2dc\\uc9c4\\ud551)\\n20170602 <b>\\ubb38\\uc7ac\\uc778</b> \\uc815\\ubd80\\uc640 \\uc6a9\\uc0b0\\uacf5\\uc6d0_\\ubc30\\uc815\\ud55c_\\uc6d4\\uac04 \\ud658\\uacbd\\uacfc\\uc870\\uacbd 2017\\ub144 6\\uc6d4\\ud638\\n20170529 \\ub178\\ubb34\\ud604\\uacfc <b>\\ubb38\\uc7ac\\uc778</b>\\uc774 \\ub9cc\\ub098\\ub2e4 - <b>\\ubb38\\uc7ac\\uc778</b>\\uc758 \\uc6b4\\uba85\\n20170503 \\uc0ac\\uc804\\ud22c\\ud45c \\uc548\\ub0b4! <b>\\ubb38\\uc7ac\\uc778</b> &quot;\\ud22c\\ud45c\\ud574\\uc57c \\uc138\\uc0c1\\uc774 \\ubc14\\ub01d\\ub2c8\\ub2e4&quot;\\n20170531 \\ud654\\uc81c\\uc758 <b>\\ubb38\\uc7ac\\uc778</b> \\ube14\\ub79c\\ub529, \\uba39\\uc5b4\\ubcf4\\uc790\\n20170519 \\uccad\\uc640\\ub300 <b>\\ubb38\\uc7ac\\uc778</b> \\ub300\\ud1b5\\ub839 \\ud37c\\uc2a4\\ud2b8\\ub3c4\\uadf8 \\uc720\\uae30\\uacac \\ud1a0\\ub9ac\\ub85c!\\n20170510 <b>\\ubb38\\uc7ac\\uc778</b>\\uc744 \\ub4e3\\uace0 \\uc77d\\ub2e4\\n20170506 <b>\\ubb38\\uc7ac\\uc778</b> \\ud64d\\ub300 \\ud504\\ub9ac\\ud5c8\\uadf8, 5\\uc6d4 9\\uc77c \\ud22c\\ud45c\\ud569\\uc2dc\\ub2e4!\\n20170504 \\uc0ac\\uc804\\ud22c\\ud45c\\uc728 25% \\ub118\\uc73c\\uba74 <b>\\ubb38\\uc7ac\\uc778</b>\\uacfc \\ud504\\ub9ac\\ud5c8\\uadf8!\\n20170524 <b>\\ubb38\\uc7ac\\uc778</b>\\ub300\\ud1b5\\ub839 \\uc721\\ud68c\\ube44\\ube54\\ubc25 \\ud654\\ub791\\uad81\\ud68c\\uad00\\n20170514 \\ubb38\\ubaa8\\ub2dd \\ucee4\\ud53c ~ <b>\\ubb38\\uc7ac\\uc778</b> \\ub300\\ud1b5\\ub839\\uc758 \\ucee4\\ud53c\\n20170606 \\uae40\\ud76c\\uc911 \\ub300\\uc8fc\\uad50, <b>\\ubb38\\uc7ac\\uc778</b> \\ub300\\ud1b5\\ub839 \\ub9cc\\ub098 \\ud2b9\\uc0ac \\ud65c\\ub3d9 \\uc124\\uba85\\n20170513 \\uac11\\uc790\\uae30 \\uac15\\ub300\\uad6d\\uc774 \\ub418\\ubc84\\ub838\\ub2e4. <b>\\ubb38\\uc7ac\\uc778</b>\\uc758 \\uc5c5\\uc801\\n20170605 \\uc774\\uba85\\ubc15\\uadfc\\ud61c \\uc778\\uc0ac\\uc640 <b>\\ubb38\\uc7ac\\uc778</b> \\uc778\\uc0ac\\uac00 \\ube44\\uc2b7\\ud574 \\ubcf4\\uc5ec?\\n20170428 \\ub300\\uc120 TV\\ud1a0\\ub860 \\ud6c4\\uae30 &amp; \\ud329\\ud2b8\\uccb4\\ud06c &quot;\\ubcfc\\uc218\\ub85d <b>\\ubb38\\uc7ac\\uc778</b>&quot;\\n20170514 <b>\\ubb38\\uc7ac\\uc778</b>\\uc758 \\uae38\\uc740 \\ub178\\ubb34\\ud604\\uc758 \\uae38. \\ubbfc\\uc8fc\\ub178\\ucd1d\\uc740 \\uadf8 \\uae38\\uc744 \\ub9c9\\uc9c0\\ub9c8\\uc138\\uc694.\\n20170510 <b>\\ubb38\\uc7ac\\uc778</b> \\uc81c 19\\ub300 \\ub300\\ud1b5\\ub839 \\ub2f9\\uc120! <b>\\ubb38\\uc7ac\\uc778</b> \\uacf5\\uc57d \\uc815\\ub9ac\\n20170526 <b>\\ubb38\\uc7ac\\uc778</b> \\uc815\\ubd80\\uc758 \\uccab \\uc0ac\\uacfc\\n20170604 \\ub178\\ubb34\\ud604\\uacfc <b>\\ubb38\\uc7ac\\uc778</b>.  Jun 04, 2017.\\n20170603 <b>\\ubb38\\uc7ac\\uc778</b> \\ub300\\ud1b5\\ub839\\ub2d8\\uaed8\\uc11c \\uc785\\uc73c\\uc2dc\\ub294 \\uc815\\uc7a5 \\uc218\\ud2b8 \\uc2a4\\ud0c0\\uc77c\\n20170510 <b>\\ubb38\\uc7ac\\uc778</b> \\ub300\\ud1b5\\ub839, \\ub3d9\\ubb3c\\ubcf5\\uc9c0 \\uacf5\\uc57d \\uaf2d \\uc9c0\\ucf1c\\uc8fc\\uc138\\uc694\\n20170519 518\\uae30\\ub150\\uc2dd\\uc758 <b>\\ubb38\\uc7ac\\uc778</b> \\ub300\\ud1b5\\ub839 \\ubaa8\\uc2b5 \\ubcf4\\uace0 \\ub208\\ubb3c\\uc9d3\\ub2e4\\n20170602 <b>\\ubb38\\uc7ac\\uc778</b> \\uc9c0\\uc9c0\\uc728 85%, \\ubbfc\\uc8fc\\ub2f9 \\uc9c0\\uc9c0\\uc728 56% \\ucd5c\\uace0\\uce58 \\uacbd\\uc2e0\\n20170603 \\uae30\\uac01\\uc2dc\\ud0a8 \\uac15\\ubd80\\uc601 \\ud310\\uc0ac - ..<b>\\ubb38\\uc7ac\\uc778</b> \\uc774\\uc0c1\\uc870\\uac00 \\uac71\\uc815..\\uc815\\uc720\\ub77c... \\n\\n20170516 <b>\\ubb38\\uc7ac\\uc778</b> \\ub300\\ud1b5\\ub839\\uc758 \\ubd80\\ub3d9\\uc0b0 \\uacf5\\uc57d\\n20170525 [\\ub370\\uc77c\\ub9ac\\uac1c\\uc6d0] <b>\\ubb38\\uc7ac\\uc778</b> \\ub300\\ud1b5\\ub839 \\uc2dc\\ub300 \\uac1c\\ub9c9 \\ucd95\\uc0b0 \\ubc0f \\ubc18\\ub824\\ub3d9\\ubb3c \\uc815\\ucc45\\n20170525 &lt;<b>\\ubb38\\uc7ac\\uc778</b> \\uc815\\ubd80&gt; \\ub300\\ud1b5\\ub839\\uc774 \\uac00\\uc838\\uc628 5\\uac00\\uc9c0 \\ud56b \\uc544\\uc774\\ud15c\\n20170529 <b>\\ubb38\\uc7ac\\uc778</b> \\uad50\\uc721\\uc815\\ucc45 '\\ud604\\uc7a5 \\uc5ec\\ub860 \\uc218\\ub834\\ud55c\\ub2e4'\\n20170531 <b>\\ubb38\\uc7ac\\uc778</b> \\ub300\\ud1b5\\ub839 119\\uc0ac\\uc5f0 - \\ub450 \\ubd80\\ub958\\uc758 \\uc0ac\\ub78c\\ub4e4\\n20170603 \\ud765\\uc0ac\\ub2e8 \\uad50\\uc721\\uc6b4\\ub3d9\\ubcf8\\ubd80 \\ud6c4\\uc6d0\\uc758\\ubc24, \\uadf8\\ub9ac\\uace0 <b>\\ubb38\\uc7ac\\uc778</b>\\uc815\\ubd80\\uc758 \\uad50\\uc721\\uacfc\\uc81c... \\n20170517 \\uc65c \\ud55c\\uacbd\\uc624\\ub294 <b>\\ubb38\\uc7ac\\uc778</b>\\uacfc <b>\\ubb38\\uc7ac\\uc778</b> \\uc9c0\\uc9c0\\uc790\\ub97c \\uc2eb\\uc5b4\\ud558\\ub294\\uac00?\\n20170517 <b>\\ubb38\\uc7ac\\uc778</b>\\uc5d0\\uac8c \\uc0ac\\uc778 \\ubc1b\\ub294 \\uc5ec\\uad70 \\uae30\\uac15 \\uc218\\uc900\\n20170506 <b>\\ubb38\\uc7ac\\uc778</b>\\uc774 \\uc744\\ub4e4\\uc744 \\ub9cc\\ub0ac\\uc744 \\ub54c : \\uc2ec\\uc0c1\\uc815\\uc774 \\uc2dc\\uc7a5\\uc544\\uc8fc\\uba38\\ub2c8\\ub97c \\ub9cc\\ub0ac\\uc744 \\ub54c\\n20170420 \\uc5ec\\ub7ec\\ubd84\\uc744 <b>\\ubb38\\uc7ac\\uc778</b> \\ud6c4\\ubcf4\\uc758 \\u2018\\uad6d\\ubbfc\\uc758\\uc6d0\\u2019\\uc73c\\ub85c \\ubaa8\\uc2ed\\ub2c8\\ub2e4.\\n20170527 <b>\\ubb38\\uc7ac\\uc778</b> \\uc815\\ubd80 \\uc2dc\\ud5d8\\ub300\\uc5d0 \\uc624\\ub978 \\uccab \\uccad\\ubb38\\ud68c\\n20170520 <b>\\ubb38\\uc7ac\\uc778</b> \\ub300\\ud1b5\\ub839\\uc758 \\uc5f4\\ud758, \\uafc8\\uafb8\\uae30 \\uc2dc\\uc791\\ud55c \\ub300\\ud55c\\ubbfc\\uad6d\\n20170605 \\uc6d0\\uc804\\ud3d0\\uc1c4\\ub294 <b>\\ubb38\\uc7ac\\uc778</b> \\uc815\\ubd80 \\ub3c5\\ub2e8\\uc73c\\ub85c \\uacb0\\uc815\\ud560 \\ubb38\\uc81c\\uac00 \\uc544\\ub2c8\\ub2e4... \\n20170602 <b>\\ubb38\\uc7ac\\uc778</b> \\ub300\\ud1b5\\ub839\\uacfc \\uc870\\uc9c0\\ud074\\ub8e8\\ub2c8\\n20170522 [<b>\\ubb38\\uc7ac\\uc778</b>\\ub300\\ud1b5\\ub839 \\ubd80\\ub3d9\\uc0b0\\uc815\\ucc45] <b>\\ubb38\\uc7ac\\uc778</b>\\ub300\\ud1b5\\ub839\\uc758 \\ubd80\\ub3d9\\uc0b0 \\uacf5\\uc57d\\uc740?\\n20170605 <b>\\ubb38\\uc7ac\\uc778</b> \\uce58\\ub9e4?? \\uc815\\ub9d0 \\ucda9\\uaca9\\uc801!!\\n20170529 \\uba40\\ub9ac \\uac00\\ub294 \\ubb3c_<b>\\ubb38\\uc7ac\\uc778</b>\\uc758 \\uc6b4\\uba85\\n20170601 \\uc758\\uc804\\uc744 \\ub0b4\\ub824\\ub193\\uc740 <b>\\ubb38\\uc7ac\\uc778</b> \\ub300\\ud1b5\\ub839 - \\uc774\\ub099\\uc5f0\\ucd1d\\ub9ac \\ucde8\\uc784\\uc2dd \\ud558\\ud2b8... \\n20170530 \\uc601\\ud654 &lt;\\ub178\\ubb34\\ud604\\uc785\\ub2c8\\ub2e4&gt; \\uc640 <b>\\ubb38\\uc7ac\\uc778</b>\\n20170525 <b>\\ubb38\\uc7ac\\uc778</b> \\ub178\\ubbf9\\uc2a4\\n20170527 \\uad50\\ud669\\uc758 \\uc704\\uc0c1\\uc774 \\ucee4\\uc9c8 \\uac83\\uc784 (\\uad50\\ud669\\uc744 \\ud5a5\\ud55c <b>\\ubb38\\uc7ac\\uc778</b>\\uc758 \\ub7ec\\ube0c\\ucf5c)\\n20170508 <b>\\ubb38\\uc7ac\\uc778</b> \\ub300\\ud1b5\\ub839\\ub9cc\\uc774 \\u5c0d\\u65e5 \\uc815\\ucc45\\uc5d0\\uc11c \\uc2b9\\ub9ac\\ud560 \\uc218 \\uc788\\ub2e4.\\n20170606 <b>\\ubb38\\uc7ac\\uc778</b> \\ub300\\ud1b5\\ub839, \\uc194\\uc9c1\\ud788 \\uc801\\uc751\\uc774 \\uc548\\ub41c\\ub2e4\\n20170524 <b>\\ubb38\\uc7ac\\uc778</b>\\uacfc \\uc0b0\\uc0ac\\uc790\\ubc29\\uc758 \\uacb0\\ud22c\\ub294?\\n20170426 [<b>\\ubb38\\uc7ac\\uc778</b>,\\ub3d9\\uc131\\uc560]\\ud328\\ucc29 \\ud639\\uc740 \\uc2e0\\ub150\\n20170524 <b>\\ubb38\\uc7ac\\uc778</b> \\ub300\\ud1b5\\ub839\\uc744 \\ub9cc\\ub098\\ub2e4\\n20170513 \\ubc15\\uadfc\\ud61c vs <b>\\ubb38\\uc7ac\\uc778</b>\\n20170606 &lt;<b>\\ubb38\\uc7ac\\uc778</b> \\uc815\\ubd80&gt; \\uc9c4\\uc2e4\\ud55c \\uc560\\uad6d\\uc2ec\\uc5d0 \\ube48 \\ubc15\\uc218\\ub9cc \\ubcf4\\ub0b4\\uc9c0 \\uc54a\\uaca0\\ub2e4.\\n20170522 \\ub274\\ub51c\\uc815\\ucc45 \\ub3c4\\uc2dc\\uc7ac\\uc0dd \\uad00\\ub828\\uc8fc <b>\\ubb38\\uc7ac\\uc778</b> \\uc815\\ubd80\\uc5d0\\uc11c \\ud574\\ub0b4\\uc57c \\ud569\\ub2c8\\ub2e4.\\n20170510 <b>\\ubb38\\uc7ac\\uc778</b> \\uc815\\ubd80\\uc758 \\uc5d0\\ub108\\uc9c0 \\ubc0f \\ud0dc\\uc591\\uad11 \\uc815\\ucc45 \\uc694\\uc57d\\n20170425 \\u53cd<b>\\ubb38\\uc7ac\\uc778</b> \\ub2e8\\uc77c\\ud654\\ub294 \\ud64d\\uc900\\ud45c\\uac00 \\ub418\\uc5b4\\uc57c \\ud558\\ub294 \\uc774\\uc720\\n20170527 <b>\\ubb38\\uc7ac\\uc778</b> \\ub300\\ud1b5\\ub839\\ub2d8 \\uc624\\uc2e0 \\ud2b9\\ubcc4\\ud55c 518 \\ubbfc\\uc8fc\\uacf5\\uc6d0\\n20170515 <b>\\ubb38\\uc7ac\\uc778</b> \\ub300\\ud1b5\\ub839 \\uc5c5\\ubb34\\uc9c0\\uc2dc 3\\ud638\\n20170530 [\\uad50\\uc721\\uc815\\ubcf4] <b>\\ubb38\\uc7ac\\uc778</b>\\uc815\\ubd80 \\uad50\\uc721\\uc815\\ucc45, \\uc790\\ub140\\uad50\\uc721\\uc5d0 \\ubbf8\\uce58\\ub294 \\uc601\\ud5a5\\uc740?\\n20170519 \\uae40\\uc120\\uc9c4 [<b>\\ubb38\\uc7ac\\uc778</b> \\uc9c0\\uc9c0\\uc790\\uc758 \\uc6b4\\uba85]\\n20170512 <b>\\ubb38\\uc7ac\\uc778</b> \\ub300\\ud1b5\\ub839, \\uae40\\uc815\\uc219 \\uc601\\ubd80\\uc778 \\ub77c\\uc774\\ud504\\uceec\\ub7ec\\n20170527 \\uc131\\ub839\\ucca0\\ud559~&gt;<b>\\ubb38\\uc7ac\\uc778</b>\\uc815\\ubd80...\\uc6c3\\uc5b4\\ub098\\ubcf4\\uc138...\\n20170523 <b>\\ubb38\\uc7ac\\uc778</b> \\ub300\\ud1b5\\ub839\\ub2d8\\uaed8 \\ub4dc\\ub9ac\\ub294 \\ud638\\uc18c\\ubb38\\n20170522 <b>\\ubb38\\uc7ac\\uc778</b> \\uc815\\ubd80 \\ucd9c\\ubc94\\uacfc \\uad11\\uace0\\ucea0\\ud398\\uc778\\n20170511 \\ud55c\\uad6d\\uc758 \\uc0c8\\ub85c\\uc6b4 \\ub300\\ud1b5\\ub839\\uc740 <b>\\ubb38\\uc7ac\\uc778</b>\\uc528 (NHK \\uc26c\\uc6b4 \\ub274\\uc2a4)\\n20170531 <b>\\ubb38\\uc7ac\\uc778</b>\\uc758 \\uc801\\ud3d0\\ub0b4\\uac01 (\\uad6c \\uad6d\\uc815\\uc911\\ub2e8 \\uc138\\ub825\\uc758 \\ubbfc\\ub0af)\\n20170419 '<b>\\ubb38\\uc7ac\\uc778</b>\\ud380\\ub4dc'\\ub294 \\ub9c8\\uac10, \\uadf8\\ub7ec\\ub098 '<b>\\ubb38\\uc7ac\\uc778</b> \\ud6c4\\uc6d0'\\uc740 \\uc5ec\\uc804\\ud788 \\uac00\\ub2a5!\\n20170522 <b>\\ubb38\\uc7ac\\uc778</b> \\uc815\\ubd80\\uc758 \\ub300\\ubd81\\uc815\\ucc45\\uc744 \\uc54c\\uc544\\ubcf4\\uc790\\n20170517 <b>\\ubb38\\uc7ac\\uc778</b>\\uc740 \\uac00\\uc7a5 \\uc131\\uacf5\\ud55c \\ub300\\ud1b5\\ub839\\uc774 \\ub420 \\uac83\\uc774\\ub2e4\\n20170602 <b>\\ubb38\\uc7ac\\uc778</b> \\ub300\\ud1b5\\ub839 '\\ub355\\uc9c8' \\uc720\\ud589...\\u201c\\uc774\\ub2c8 \\uc0ac\\ub791\\ud574, \\uc6b0\\ub9ac \\uc774\\ub2c8 \\ud558\\uace0... \\n20170503 \\uc804\\uc6d0\\ucc45 \\uc720\\uc2dc\\ubbfc \\ub300\\ud1b5\\ub839 \\uc608\\uc5b8 \\ud64d\\uc900\\ud45c? <b>\\ubb38\\uc7ac\\uc778</b> \\ubd81\\ud55c\\uc778\\uad8c\\uacb0\\uc758\\uc548 \\ubc1c\\uc5b8\\n20170528 <b>\\ubb38\\uc7ac\\uc778</b>\\uc548\\uacbd \\ub9b0\\ub4dc\\ubc84\\uadf8 \\uc548\\uacbd\\ud14c \\uad6c\\uacbd\\ud558\\uace0 \\uc654\\uc2b5\\ub2c8\\ub2e4 !\\n20170504 \\uc0ac\\uc804\\ud22c\\ud45c\\uc728 10% \\ub2ec\\uc131 \\uae30\\ub150! <b>\\ubb38\\uc7ac\\uc778</b> \\uc6d4\\ud398\\uc774\\ud37c \\uc885\\ud569 \\u5927\\ubc29\\ucd9c!!\\n20170517 <b>\\ubb38\\uc7ac\\uc778</b> \\ub300\\ud1b5\\ub839\\uc740 \\ud1b5\\ud569\\uc758 \\ub9ac\\ub354\\uc2ed\\uc744 \\ubcf4\\uc5ec\\uc57c \\ud55c\\ub2e4\\n20170529 \\uac15\\uacbd\\ud654 \\uc704\\uc7a5\\uc804\\uc785\\ud55c \\uc9d1\\uc740 \\uc804 \\uc774\\ud654\\uc5ec\\uace0 \\uad50\\uc7a5 \\uc804\\uc14b\\uc9d1-<b>\\ubb38\\uc7ac\\uc778</b> \\uc815\\ubd80... \\n\\n20170426 <b>\\ubb38\\uc7ac\\uc778</b> &quot;\\ub354\\ubd88\\uc5b4\\ubbfc\\uc8fc\\ub2f9 \\uad6d\\ubc29\\uc548\\ubcf4 \\ucd5c\\uace0\\ub2f9!&quot;\\n20170519 2620. \\uae30\\ub3c5\\uad50\\uc778 \\ud45c\\ub97c \\uac00\\uc7a5 \\ub9ce\\uc774 \\uc5bb\\uc740, <b>\\ubb38\\uc7ac\\uc778</b> \\ub300\\ud1b5\\ub839\\n20170601 <b>\\ubb38\\uc7ac\\uc778</b>\\n20170527 <b>\\ubb38\\uc7ac\\uc778</b> \\uc815\\ubd80 \\ubd80\\ub3d9\\uc0b0 \\uc815\\ucc45 3\\n20170414 &lt;SBS TV\\ud1a0\\ub860 \\uae68\\uc54c\\ud6c4\\uae30&gt; \\ud329\\ud3ed \\ub300\\uc794\\uce58_<b>\\ubb38\\uc7ac\\uc778</b> \\ud314\\uc0c9\\uc870 \\ub4f1\\uadf9\\n20170509 <b>\\ubb38\\uc7ac\\uc778</b> \\ub300\\ud1b5\\ub839\\uacfc \\ucd5c\\uc800\\uc784\\uae08 1\\ub9cc\\uc6d0\\uc758 \\uc2dc\\ub300\\n20170507 \\uc720\\uc2dc\\ubbfc &quot;\\uc555\\ub3c4\\uc801 \\uc9c0\\uc9c0\\uc694? <b>\\ubb38\\uc7ac\\uc778</b> 50% \\ub118\\uac8c \\ubc1b\\uc544\\ub77c&quot;\\n20170507 D-3: <b>\\ubb38\\uc7ac\\uc778</b>, \\uc555\\ub3c4\\uc801 \\ucd94\\uc138\\ub97c \\uc720\\uc9c0\\ud558\\ub2e4\\n20170509 \\ub300\\ud55c\\ubbfc\\uad6d 19\\ub300 \\ub300\\ud1b5\\ub839 <b>\\ubb38\\uc7ac\\uc778</b>\\n20170529 \\ub300\\ud654\\uc81c\\uc57d, <b>\\ubb38\\uc7ac\\uc778</b> \\uce58\\ub9e4 \\uad6d\\uac00\\ucc45\\uc784\\uc81c \\uc218\\ud61c\\uc8fc + \\uc138\\uacc4\\ucd5c\\ucd08 \\uba39\\ub294 \\ud56d\\uc554\\uc81c\\n20170520 \\uaf30\\ub300\\uc640 \\ud30c\\ud30c\\ubbf8 <b>\\ubb38\\uc7ac\\uc778</b> \\ub300\\ud1b5\\ub839\\n20170524 '<b>\\ubb38\\uc7ac\\uc778</b>\\ub178\\ubbf9\\uc2a4' \\ub300\\ud55c\\ubbfc\\uad6d\\uc758 \\ubbf8\\ub798\\ub97c \\uc77d\\ub2e4.\\n20170506 <b>\\ubb38\\uc7ac\\uc778</b> \\uac15\\ub0a8 \\uc720\\uc138 '\\uc774\\uc81c \\ub0a8\\uc740 \\uc784\\ubb34\\ub294 \\ubd80\\ubaa8\\ub2d8 \\uc124\\ub4dd!'\\n20170527 <b>\\ubb38\\uc7ac\\uc778</b>\\ub178\\ubbf9\\uc2a4_<b>\\ubb38\\uc7ac\\uc778</b> \\uc815\\ubd80\\uc758 \\uacbd\\uc81c \\uc815\\ucc45\\uc740?\\n20170512 <b>\\ubb38\\uc7ac\\uc778</b> \\ub300\\ud1b5\\ub839 \\uacf5\\uc57d \\uacf5\\ubb34\\uc6d0 \\uc99d\\uc6d0 \\uc900\\ube44\\ud574\\uc694\\n20170526 <b>\\ubb38\\uc7ac\\uc778</b>\\uacfc \\uae40\\ubb34\\uc131\\uc758 \\ucc28\\uc774\\n20170510 <b>\\ubb38\\uc7ac\\uc778</b> \\uc815\\uad8c\\uc740 \\uc801\\ud3d0\\uccad\\uc0b0\\uacfc \\ud611\\uce58\\ub97c \\ub3d9\\uc2dc\\uc5d0 \\ucd94\\uc9c4\\ud574\\uc57c \\ud55c\\ub2e4\\n20170522 \\ub178\\ubb34\\ud604\\uacfc <b>\\ubb38\\uc7ac\\uc778</b>, \\uc6b4\\uba85\\uc774 \\uc774\\ub048 \\ubb18\\ud55c \\uc778\\uc5f0\\n20170510 \\ud48d\\uc218\\ub85c \\ubcf4\\ub294 <b>\\ubb38\\uc7ac\\uc778</b> \\ub300\\ud1b5\\ub839 \\uc0dd\\uac00\\ub294?\\n20170530 <b>\\ubb38\\uc7ac\\uc778</b> \\ub300\\ud1b5\\ub839 &quot;\\uc0ac\\ub4dc 4\\uae30 \\ube44\\uacf5\\uac1c \\ubc18\\uc785, \\ucda9\\uaca9\\uc801&quot; \\uc9c4\\uc0c1\\uc870\\uc0ac \\uc9c0\\uc2dc\\n20170509 \\ucd1b\\ubd88\\uc774 \\ub9cc\\ub4e0 \\ub300\\ud1b5\\ub839. <b>\\ubb38\\uc7ac\\uc778</b> \\ub2f9\\uc120.\\n20170516 \\ubc15\\uc218\\ud604 <b>\\ubb38\\uc7ac\\uc778</b> \\ub300\\ud1b5\\ub839 \\uccad\\uc640\\ub300 \\ub300\\ubcc0\\uc778 \\uc784\\uba85\\n20170514 <b>\\ubb38\\uc7ac\\uc778</b> \\uc815\\uad8c\\uc758 \\uc704\\ud5d8\\uc131.\\n20170517 \\uff1c\\ud0b9 \\uc544\\uc11c\\uff1e\\uc5d0\\uc11c '<b>\\ubb38\\uc7ac\\uc778</b>'\\uc774 \\ubcf4\\uc774\\ub294 \\uac74 \\uc65c \\uc77c\\uae4c?\\n20170428 \\uc131\\uc18c\\uc218\\uc790\\ub4e4\\uc544, <b>\\ubb38\\uc7ac\\uc778</b>\\uc774 \\uadf8\\ub807\\uac8c \\ub9cc\\ub9cc \\ud558\\ub0d0?\\n20170530 \\uac15\\ubcd1\\uc6d0 \\uc758\\uc6d0 \\uad6d\\ud68c \\ucd9c\\uadfc 1\\uc8fc\\ub144! (Feat. \\ud589\\ubcf5\\ud560 \\uad8c\\ub9ac+<b>\\ubb38\\uc7ac\\uc778</b> \\ub300\\ud1b5\\ub839)\\n20170529 <b>\\ubb38\\uc7ac\\uc778</b> \\uc7ac\\ud14c\\ud06c\\n20170527 <b>\\ubb38\\uc7ac\\uc778</b> \\uacf5\\uc57d\\uc9d1 \\ucd9c\\ucc98 \\ubc0f \\ub2e4\\uc6b4\\n20170518 <b>\\ubb38\\uc7ac\\uc778</b> \\ub300\\ud1b5\\ub839 \\uc0dd\\uac00 \\ub2e4\\ub140\\uc654\\uc5b4\\uc694.\\n20170505 <b>\\ubb38\\uc7ac\\uc778</b> \\ub300\\uc120\\ud6c4\\ubcf4\\uc758 \\uc18c\\ub984 \\ub3cb\\ub294 \\uc9c0\\uc9c0\\uc728! (\\uc544\\ub4e4 \\ubb38\\uc900\\uc6a9 \\ud2b9\\ud61c)\\n20170606 \\ud604\\ucda9\\uc77c\\uacfc <b>\\ubb38\\uc7ac\\uc778</b> \\ub300\\ud1b5\\ub839\\uc758 \\uc9c4\\uc2ec. \\ucd94\\ub150\\uc0ac \\uc804\\ubb38 by \\ub370\\uc77c\\ub9ac\\ubb38\\n20170430 <b>\\ubb38\\uc7ac\\uc778</b> \\uc2e0\\ucd0c \\ud604\\uc7a5\\uc0ac\\uc9c4,\\uc11c\\uc6b8\\uc758 \\ubd04! \\uc0ac\\uc804\\uc120\\uac70\\ub85c \\uaf43\\ud53c\\uc6b0\\uae38.\\n20170430 \\uc0ac\\uc804\\ud22c\\ud45c\\uc758 \\ubaa8\\ub4e0 \\uac83! <b>\\ubb38\\uc7ac\\uc778</b> \\ucea0\\ud504\\uac00 \\uc54c\\ub824\\ub4dc\\ub824\\uc694~\\n20170510 \\uc81c19\\ub300 <b>\\ubb38\\uc7ac\\uc778</b> \\ub300\\ud1b5\\ub839 \\ub2f9\\uc120\\uc774 \\ub418\\uae30\\uae4c\\uc9c0 \\ub098\\ub294 ..\\n20170602 <b>\\ubb38\\uc7ac\\uc778</b> \\ub300\\ud1b5\\ub839\\uc5d0\\uac8c \\ubc14\\ub780\\ub2e4\\n20170523 <b>\\ubb38\\uc7ac\\uc778</b> \\ub300\\ud1b5\\ub839\\ub2d8\\uc758 5.18\\uae30\\ub150\\uc2dd \\uc5f0\\uc124\\n20170518 <b>\\ubb38\\uc7ac\\uc778</b> \\uc815\\ubd80\\ub97c \\uc639\\ud638\\ud558\\ub294 \\ubcc0\\ud638\\ub860\\ub4e4\\n20170523 \\ub300\\ud1b5\\ub839 <b>\\ubb38\\uc7ac\\uc778</b>\\uc744 \\ub9cc\\ub4e0 \\uc0ac\\ub78c\\ub4e4, \\uadf8\\ub4e4\\uc740 \\ub204\\uad6c\\uc778\\uac00?\\n20170505 \\uad6d\\ubbfc\\uc758\\ub2f9, <b>\\ubb38\\uc7ac\\uc778</b> \\uc544\\ub4e4 \\uc758\\ud639 \\uc81c\\uae30\\n20170606 <b>\\ubb38\\uc7ac\\uc778</b> \\ub300\\ud1b5\\ub839 \\ud604\\ucda9\\uc77c \\ucd94\\ub150\\uc0ac\\n20170510 \\uc5ed\\uc2dc <b>\\ubb38\\uc7ac\\uc778</b>\\uc528\\uac00 \\ub300\\ud1b5\\ub839 \\ub418\\ub294\\uad6c\\ub098\\n20170524 <b>\\ubb38\\uc7ac\\uc778</b> \\uad6c\\ub450,, \\uc591\\ub9d0\\ub4f1\\uc758 \\uae30\\uc0ac\\ub97c \\ubcf4\\uba74\\uc11c...\\n20170521 \\uc678\\uad50\\ubd80\\uc7a5\\uad00 \\uac15\\uacbd\\ud654 \\uc9c0\\uba85\\ud55c <b>\\ubb38\\uc7ac\\uc778</b> \\uc815\\ubd80 \\uadf8\\ub9ac\\uace0 \\uc7a5\\ud558\\uc131\\uacfc \\uc815\\uc758\\uc6a9\\n20170510 <b>\\ubb38\\uc7ac\\uc778</b> \\ub300\\ud1b5\\ub839 \\uacfc\\uac70 \\uc778\\uc0dd\\uc0ac 10\\ubd84 \\uc815\\ub9ac\\n20170510 \\uc131\\ud604\\uc544\\uc640 <b>\\ubb38\\uc7ac\\uc778</b>\\n20170510 <b>\\ubb38\\uc7ac\\uc778</b> \\ub300\\ud1b5\\ub839 \\uc790\\ud0dd \\ud64d\\uc740\\ub3d9 \\uae08\\uc1a1\\ud790\\uc2a4\\ube4c \\uc54c\\uc544\\ubcf4\\uae30\\n20170531 \\ud55c\\ubbfc\\uad6c \\uae40\\uad00\\uc9c4 - \\uc0ac\\ub4dc \\ucd94\\uac00 \\ubc18\\uc785\\uc744 <b>\\ubb38\\uc7ac\\uc778</b>\\uc5d0\\uac8c \\uc228\\uae34 \\uc774\\uc720\\ub294..... \\n20170531 \\ubd80\\uc554\\ub3d9 <b>\\ubb38\\uc7ac\\uc778</b> \\ucee4\\ud53c / \\ud074\\ub7fd \\uc5d0\\uc2a4\\ud504\\ub808\\uc18c \\ubb38 \\ube14\\ub80c\\ub4dc(\\ud578\\ub4dc\\ub4dc\\ub9bd)\\n20170509 \\ucd5c\\uc885: <b>\\ubb38\\uc7ac\\uc778</b> 1\\uc704\\ub85c \\uac15\\ud558\\uac8c \\uc608\\uce21\\ub418\\ub2e4\\n20170519 \\uae40\\uc758\\uc131 \\ubb38\\ube60\\ub4e4\\uc5d0\\uac8c \\uc77c\\uce68 (<b>\\ubb38\\uc7ac\\uc778</b> \\ub300\\ud1b5\\ub839 \\ud638\\uce6d)\\n\\n20170604 [\\ud38c\\uae00] <b>\\ubb38\\uc7ac\\uc778</b>\\ud3b8\\uc774\\ub77c\\uace0 \\uc548\\uc2ec\\ud558\\uae30 \\ud798\\ub4e0 \\uc774\\uc720\\n20170505 \\uba85\\uc655 <b>\\ubb38\\uc7ac\\uc778</b>, \\ud574\\uad70\\ub300\\uc7a5\\uc744 \\uc601\\uc785\\ud558\\ub2e4.\\n20170516 <b>\\ubb38\\uc7ac\\uc778</b> \\ub300\\ud1b5\\ub839 \\ubbf8\\uc138\\uba3c\\uc9c0 \\ub300\\ucc45 \\ubc1c\\ud45c: \\ub178\\ud6c4 \\ud654\\ub825\\ubc1c\\uc804\\uc18c \\uac00\\ub3d9 \\uc911\\ub2e8\\n20170526 <b>\\ubb38\\uc7ac\\uc778</b> \\ub300\\ud1b5\\ub839 \\uce5c\\ud544\\uc0ac\\uc778\\uc774 \\ub2f4\\uae34 \\ud2b9\\ubcc4\\ud310 _ <b>\\ubb38\\uc7ac\\uc778</b> \\ub300\\ud1b5\\ub839... \\n20170523 81.6%...<b>\\ubb38\\uc7ac\\uc778</b> \\ub300\\ud1b5\\ub839 \\uad6d\\uc815 \\uc218\\ud589 \\uc9c0\\uc9c0\\uc728, \\uc120\\uac70\\ub54c \\ub4dd\\ud45c\\uc728\\uc758 \\ub450 \\ubc30\\n20170508 <b>\\ubb38\\uc7ac\\uc778</b> \\uacf5\\ubb34\\uc6d0 9\\uae09 2017\\ub144 12000\\uba85 \\uc99d\\uc6d0\\n20170429 <b>\\ubb38\\uc7ac\\uc778</b> \\uad11\\uc8fc \\uc720\\uc138 &quot;\\uc591\\uac15\\uad6c\\ub3c4 \\ubb34\\ub108\\uc84c\\uc2b5\\ub2c8\\ub2e4&quot;\\n20170606 \\uae40\\uae30\\uc815 \\uc0ac\\ud0dc, '<b>\\ubb38\\uc7ac\\uc778</b>\\uc758 \\uc548\\ubaa9'\\uacfc '\\uc870\\uad6d\\uc758 \\ub2a5\\ub825\\ubd80\\uc871' \\ubb50\\uac00 \\ud575\\uc2ec?\\n20170510 <b>\\ubb38\\uc7ac\\uc778</b> \\ub300\\ud1b5\\ub839, \\ub208\\uc2dc\\uc6b8\\uc774 \\ucc21\\uae0b\\ud560 \\uc218 \\ubc16\\uc5d0 \\uc5c6\\ub294 \\uc774\\uc720..\\n20170503 <b>\\ubb38\\uc7ac\\uc778</b> 42.4%, \\ud22c\\ub300\\ubb38\\uc744 \\ud604\\uc2e4\\ub85c!\\n20170528 [\\ub9cc\\ubcf5TV] \\uc57d\\uc18d\\ud588\\uc8e0? <b>\\ubb38\\uc7ac\\uc778</b> \\ub300\\ud1b5\\ub839\\ub2d8, \\ubd80\\uc591\\uc758\\ubb34\\uc790 \\uae30\\uc900 \\ud3d0\\uc9c0\\n20170515 &lt;\\ub958\\uc7ac\\ubcf5 \\uc2dc\\uc0ac\\uce7c\\ub7fc&gt; \\uc911\\uad6d\\uc774 \\ubcf4\\ub294 <b>\\ubb38\\uc7ac\\uc778</b> \\ub300\\ud1b5\\ub839\\uc758 \\uc55e\\ub0a0\\n20170524 <b>\\ubb38\\uc7ac\\uc778</b> \\uc2dc\\ub300\\ub97c \\uc774\\ub04c 222\\uba85\\uc758 '<b>\\ubb38\\uc7ac\\uc778</b> \\uc0ac\\ub78c\\ub4e4'\\uc740 \\ub204\\uad6c?\\n20170518 \\uc2e0\\uc7ac\\uc0dd\\uc5d0\\ub108\\uc9c0 \\uad00\\ub828\\uc8fc <b>\\ubb38\\uc7ac\\uc778</b> \\uc5c5\\ubb34\\uc9c0\\uc2dc 3\\ud638\\n20170604 \\uc624\\ub298\\uc758 \\uc0dd\\uac01 188 (<b>\\ubb38\\uc7ac\\uc778</b>\\uc758 \\ubcf5\\uc218 \\uadf8\\ub9ac\\uace0 \\uce60\\uce60\\ud558\\ub2e4)\\n20170519 \\uc724\\uc11d\\uc5f4 - <b>\\ubb38\\uc7ac\\uc778</b> \\ub300\\ud1b5\\ub839\\uc758 \\ud070 \\uadf8\\ub9bc, \\uc601\\ud654\\ubcf4\\ub2e4 \\ub354 \\ud1b5\\ucf8c\\ud558\\ub2e4\\n20170502 <b>\\ubb38\\uc7ac\\uc778</b>\\uc758 \\uc7ac\\uc870\\uc0b0\\ud558(\\u518d\\u9020\\u5c71\\u6cb3)\\n20170416 <b>\\ubb38\\uc7ac\\uc778</b> \\uc2ac\\ub85c\\uac74\\uc774 \\ubb50\\uc57c? \\ubf40\\uc0f5\\uc5c6\\ub294 \\uc120\\uac70\\ubcbd\\ubcf4 \\uc804\\uaca9 \\uacf5\\uac1c\\n20170518 518 \\uae30\\ub150\\uc2dd\\uacfc <b>\\ubb38\\uc7ac\\uc778</b> \\ub300\\ud1b5\\ub839\\uc758 \\ub208\\ubb3c, \\ubb34\\uc5c7\\uc774 \\ub2ec\\ub77c\\uc84c\\uc744\\uae4c?\\n20170513 <b>\\ubb38\\uc7ac\\uc778</b> \\ub300\\ud1b5\\ub839\\uc758 \\ube44\\uc815\\uaddc\\uc9c1 \\ud574\\ubc95\\uc5d0 \\ub300\\ud558\\uc5ec\\n20170416 \\u2605\\uad6d\\ubbfc\\uc8fc <b>\\ubb38\\uc7ac\\uc778</b>\\uc5d0 \\ud22c\\uc790\\ud558\\uc138\\uc694 &lt;<b>\\ubb38\\uc7ac\\uc778</b> \\ud380\\ub4dc \\uc624\\ud508&gt;\\n20170406 <b>\\ubb38\\uc7ac\\uc778</b> '\\uc9c4\\uc2e4\\uc744 \\ub05d\\uae4c\\uc9c0 \\uc778\\uc591\\ud558\\uaca0\\uc2b5\\ub2c8\\ub2e4'\\n20170510 \\uae08\\uc1a1\\ud790\\uc2a4\\ube4c <b>\\ubb38\\uc7ac\\uc778</b> \\uc790\\ud0dd \\ub300\\ud1b5\\ub839 \\ub2f9\\uc120\\uc744 \\ucd95\\ud558\\ub4dc\\ub9bd\\ub2c8\\ub2e4.\\n20170412 <b>\\ubb38\\uc7ac\\uc778</b>, \\uc548\\ucca0\\uc218 \\uc720\\uce58\\uc6d0\\xb7\\uc5b4\\ub9b0\\uc774\\uc9d1 \\uc815\\ucc45 \\uadf9\\uacfc\\uadf9 \\ubc18\\uc751\\n20170507 \\ub098\\ub294 <b>\\ubb38\\uc7ac\\uc778</b>\\uc5d0\\uac8c \\ud22c\\ud45c\\ud569\\ub2c8\\ub2e4.\\n20170427 <b>\\ubb38\\uc7ac\\uc778</b> \\ub54c\\ubb38\\uc5d0 \\ud558\\ub8e8\\uc5d0\\ub3c4 \\ub300\\uac00\\ub9ac 100\\ubc88 \\uae68\\uace0 \\ub2e4\\ub2c8\\ub294 \\uc0ac\\ub78c.\\n20170516 \\ubc15\\uadfc\\ud61c \\uac70\\uc6b8, <b>\\ubb38\\uc7ac\\uc778</b> \\uccad\\uc640\\ub300 \\uc785\\uc8fc \\ub2a6\\uc5b4\\uc9c4\\uc774\\uc720\\n20170605 <b>\\ubb38\\uc7ac\\uc778</b> \\uc815\\ubd80 \\uc815\\ubd80\\uc870\\uc9c1\\ub3c4(\\uc548)\\n20170513 &quot;<b>\\ubb38\\uc7ac\\uc778</b>\\uc740 \\uacf5\\uc0b0\\uc8fc\\uc758\\uc790&quot;\\ub77c\\ub294 \\ubc29\\uc1a1\\ubb38\\ud654\\uc9c4\\ud765\\ud68c \\uace0\\uc601\\uc8fc \\uc774\\uc0ac\\uc7a5\\n20170524 \\ub300\\ucc45\\uc5c6\\ub294 \\uc774\\uc0c1\\uc8fc\\uc758\\uc790 <b>\\ubb38\\uc7ac\\uc778</b>\\n20170519 \\ucc45 \\ub450\\uad8c....<b>\\ubb38\\uc7ac\\uc778</b> \\ud0c0\\uc784\\uc9c0, <b>\\ubb38\\uc7ac\\uc778</b>\\uc758 \\uc6b4\\uba85 \\ud2b9\\ubcc4\\ud310\\n20170517 <b>\\ubb38\\uc7ac\\uc778</b> \\uc6e8\\uc774\\ubcf4\\n20170420 [\\ubb38\\ud230] <b>\\ubb38\\uc7ac\\uc778</b>\\uc740 \\uc885\\ubd81\\uc774\\ub2e4? \\uc885\\ubd81\\uc758 \\uae30\\uc6d0\\uc744 \\ubaa8\\ub974\\ub294 \\uc18c\\ub9ac!\\n20170504 [\\uc815\\ubd09\\uc8fc \\uc804\\uad6d\\uad6c] <b>\\ubb38\\uc7ac\\uc778</b> \\ub4dd\\ud45c\\uc728 50% \\ub118\\uaca8\\uc57c \\ud558\\ub294 \\uc9c4\\uc9dc \\uc774\\uc720\\ub294?\\n20170504 <b>\\ubb38\\uc7ac\\uc778</b> \\ub9cc\\ub2a5\\ud2b9\\ubcf4 \\uc815\\uc219\\uc528 '\\uc0ac\\uc804\\ud22c\\ud45c! \\ud22c\\ud45c\\ud574\\uc57c \\ub300\\ud1b5\\ub839 <b>\\ubb38\\uc7ac\\uc778</b>'\\n20170522 \\ub4dc\\ub514\\uc5b4 <b>\\ubb38\\uc7ac\\uc778</b>\\uc774 MB\\ud55c\\ud14c \\uc2dc\\ube44\\uac70\\ub124.\\n20170510 <b>\\ubb38\\uc7ac\\uc778</b> \\ub2f9\\uc120\\uc790 \\ud64d\\uc740\\ub3d9 \\uc790\\ud0dd \\ub098\\uc5d0\\uac90 \\ucd94\\uc5b5\\uc758 \\uc9d1:)\\n20170503 \\uc5ec\\ub7ec\\ubd84\\uc740 \\uc65c <b>\\ubb38\\uc7ac\\uc778</b>\\uc744 \\uc9c0\\uc9c0\\ud569\\ub2c8\\uae4c?\\n20170511 <b>\\ubb38\\uc7ac\\uc778</b> \\uc815\\ubd80\\ub294 \\uc678\\uad50\\uc801 \\uace0\\ub9bd\\uc744 \\uc790\\ucd08\\ud558\\ub824 \\ud558\\ub294\\uac00?\\n20170508 2012 <b>\\ubb38\\uc7ac\\uc778</b>\\uacfc 2017 <b>\\ubb38\\uc7ac\\uc778</b>\\n20170524 [\\uacf5\\uc57d] <b>\\ubb38\\uc7ac\\uc778</b> \\ub300\\ud1b5\\ub839\\uc758 \\uad70\\ubcf5\\ubb34 \\ub2e8\\ucd95 \\uacf5\\uc57d\\uacfc \\ubd09\\uae09 \\uc778\\uc0c1\\uc5d0 \\ub300\\ud574\\uc11c !\\n20170518 &lt;<b>\\ubb38\\uc7ac\\uc778</b> \\uc815\\ubd80&gt; \\uc774 5\\uac00\\uc9c0\\ub97c \\uc8fc\\ubaa9\\ud558\\ub77c!\\n20170506 \\ub72c\\uae08\\uc5c6\\ub294 \\ubb38\\uc900\\uc6a9 \\uc2e4\\uac80\\uc7a5\\uc545, <b>\\ubb38\\uc7ac\\uc778</b> \\uce21 &quot;\\ubb38\\uc900\\uc6a9 \\uc2e4\\uac80\\uc740 \\uc870\\uc791\\ub41c \\uac83&quot;\\n20170512 <b>\\ubb38\\uc7ac\\uc778</b> \\ub300\\ud1b5\\ub839 ~\\uc18c\\ud1b5\\uc758\\uc9c0 \\ubcf4\\uc778 \\ub300\\ud1b5\\ub839\\uc758 \\ud589\\ubcf4\\n20170517 \\uacbd\\uc720 \\ucd5c\\uc800\\uac00 \\uc8fc\\uc720\\uc18c  <b>\\ubb38\\uc7ac\\uc778</b> \\uacbd\\uc720\\ucc28\\n20170423 \\ub098\\ub294 <b>\\ubb38\\uc7ac\\uc778</b>\\uc744 \\uc9c0\\uc9c0\\ud569\\ub2c8\\ub2e4.\\n20170511 <b>\\ubb38\\uc7ac\\uc778</b> \\ub300\\ud1b5\\ub839 \\ub2f9\\uc120\\ub418\\uae30 \\uc9c1\\uc804 \\uc77c\\ubcf8\\ubc29\\uc1a1 \\ubc18\\uc751\\n20170517 \\ud55c\\ub958 \\ub300\\ud1b5\\ub839\\u2661 \\uc911\\uad6d \\uc6e8\\uc774\\ubcf4 <b>\\ubb38\\uc7ac\\uc778</b> \\ud32c\\ud074\\ub7fd\\n20170518 5.18 \\uad11\\uc8fc, \\uc11c\\ub7ec\\uc6b4 \\uad6d\\ubbfc \\uc548\\uc544\\uc8fc\\uba70 \\uac19\\uc774 \\uc6b4 '\\uc6b8\\ubcf4 \\ub300\\ud1b5\\ub839' <b>\\ubb38\\uc7ac\\uc778</b>\\n20170528 \\ub05d\\ub09c \\ub300\\uc120\\uacfc <b>\\ubb38\\uc7ac\\uc778</b> \\ub300\\ud1b5\\ub839 \\uadf8\\ub9ac\\uace0 \\ubd80\\ub3d9\\uc0b0\\n\\n20170510 <b>\\ubb38\\uc7ac\\uc778</b> \\ub300\\ud1b5\\ub839 \\ub2f9\\uc120 \\ud658\\uc601, &quot;\\uacb0\\uc120\\ud22c\\ud45c\\uc81c \\ub3c4\\uc785\\ud574\\uc57c&quot;\\n20170521 <b>\\ubb38\\uc7ac\\uc778</b> \\uc815\\ubd80 \\uad50\\uc721\\uc815\\ucc45 <b>\\ubb38\\uc7ac\\uc778</b> \\uc815\\ubd80 \\uc785\\uc2dc\\uc81c\\ub3c4 \\uc54c\\uc544\\ubcf4\\uae30\\n20170419 <b>\\ubb38\\uc7ac\\uc778</b> \\uc548\\ucca0\\uc218 \\uacf5\\uc57d \\uc815\\ubcf4 \\uc54c\\ub824\\ub4dc\\ub9bd\\ub2c8\\ub2e4.\\n20170603 who? special <b>\\ubb38\\uc7ac\\uc778</b> / \\uae40\\uc2b9\\ubbfc\\n20170417 &lt;\\uc9c0\\ub984\\uc2e0 \\uc8fc\\uc758&gt;\\ud5cc\\uc815\\uc0ac\\uc0c1 \\ucd5c\\ucd08 \\uc815\\ucc45 \\uc1fc\\ud551\\ubab0 '<b>\\ubb38\\uc7ac\\uc778</b>1\\ubc88\\uac00' \\uc624\\ud508!!\\n20170420 [\\ub300\\uc120 TV\\ud1a0\\ub860 \\ub2e4\\uc2dc\\ubcf4\\uae30] <b>\\ubb38\\uc7ac\\uc778</b> &quot;\\ub098\\ub77c\\ub2e4\\uc6b4 \\ub098\\ub77c \\ub9cc\\ub4e4\\uaca0\\uc2b5\\ub2c8\\ub2e4&quot;\\n20170522 <b>\\ubb38\\uc7ac\\uc778</b> \\uc815\\ubd80\\uc758 \\ubd80\\ub3d9\\uc0b0 \\uc2dc\\uc7a5\\n20170503 SBS\\ubc1c <b>\\ubb38\\uc7ac\\uc778</b> \\uc800\\uaca9 \\uac00\\uc9dc\\ub274\\uc2a4\\n20170511 \\ub178\\ubb34\\ud604 \\ub300\\ud1b5\\ub839\\uc774 \\uc6b8\\ub9b0 \\uc784\\uc885\\uc11d. \\uc774\\uc81c\\ub294 <b>\\ubb38\\uc7ac\\uc778</b> \\ub300\\ud1b5\\ub839\\uc758 \\ube44\\uc11c\\uc2e4\\uc7a5\\n20170525 \\ub300\\uc804 \\uac00\\uc624\\ub3d9\\uc601\\uc5b4\\ud559\\uc6d0 \\uc7ad\\uc774 <b>\\ubb38\\uc7ac\\uc778</b> \\ub300\\ud1b5\\ub839\\uc5d0 \\ud55c\\ub9c8\\ub514!!!\\n20170523 <b>\\ubb38\\uc7ac\\uc778</b> \\ub300\\ud1b5\\ub839\\uc744 \\uc704\\ud55c \\ub178\\ud68c\\ucc2c \\ub300\\ud45c\\uc758 \\ucc45\\uc120\\ubb3c\\n20170523 [\\ucc45] \\ub9cc\\ud654 <b>\\ubb38\\uc7ac\\uc778</b> - \\uc6b4\\uba85\\uc744 \\ubc14\\uafbc \\ub0a8\\uc790 : 2017 - 25\\n20170504 <b>\\ubb38\\uc7ac\\uc778</b> \\uc77c\\uc0b0 \\uc720\\uc138 &quot;\\uc555\\ub3c4\\uc801\\uc778 \\uc815\\uad8c\\uad50\\uccb4 \\ud655\\uc2e4\\ud55c \\ube44\\ubc95\\uc740 \\ud22c\\ub300\\ubb38&quot;\\n20170511 <b>\\ubb38\\uc7ac\\uc778</b>\\uc528\\uac00 \\ub300\\ud1b5\\ub839 \\ub42c\\ub2e4\\uace0 \\ub09c\\ub9ac\\ub4e4\\uc778\\ub370...\\n20170510 <b>\\ubb38\\uc7ac\\uc778</b> \\uc81c19\\ub300 \\ub300\\ud1b5\\ub839 \\ucde8\\uc784\\uc120\\uc11c \\uc5f0\\uc124\\ubb38\\uc758 \\uc694\\uc9c0\\uc640 \\uc758\\ubbf8\\n20170511 <b>\\ubb38\\uc7ac\\uc778</b> \\ub300\\ud1b5\\ub839 \\uc77c\\uc790\\ub9ac \\uacf5\\uc57d\\uacfc \\ub300\\ud1b5\\ub839 \\ucde8\\uc784\\uc0ac\\n20170522 <b>\\ubb38\\uc7ac\\uc778</b> \\uc815\\ubd80\\uc758 \\uc911\\uc18c\\ubca4\\ucc98\\uae30\\uc5c5\\ubd80\\ub294 \\uc2e4\\ub9dd\\uc774\\ub2e4!\\n20170508 <b>\\ubb38\\uc7ac\\uc778</b> \\ucea0\\ud504!! \\uc601\\ub0a8\\uc740 \\ud328\\ub95c\\uc9d1\\ub2e8!!\\n20170408 <b>\\ubb38\\uc7ac\\uc778</b>, \\uc548\\ud76c\\uc815, \\uc774\\uc7ac\\uba85, \\ucd5c\\uc131 \\ud638\\ud504\\ud0c0\\uc784! \\ud568\\uaed8 \\ub2ec\\ub824\\ubd05\\uc2dc\\ub2e4!\\n20170525 \\uc65c <b>\\ubb38\\uc7ac\\uc778</b> \\ub300\\ud1b5\\ub839\\uc5d0 \\uc5f4\\uad11\\ud558\\ub294\\uac00\\n20170426 JTBC \\ub300\\uc120 \\ud1a0\\ub860\\uacfc <b>\\ubb38\\uc7ac\\uc778</b> \\uc9c0\\uc9c0\\uc728\\uc744 \\ubcf4\\uba74\\uc11c\\n20170517 <b>\\ubb38\\uc7ac\\uc778</b>, TIME ASIA \\ud45c\\uc9c0, \\ubc15\\uc6d0\\ud6a8Review\\n20170513 <b>\\ubb38\\uc7ac\\uc778</b> \\uc790\\uc11c\\uc804 &lt;\\uc6b4\\uba85&gt;\\n20170517 \\ubbfc\\ub4e4\\ub808 \\uc5ed\\uc0ac\\uad50\\uc2e4, <b>\\ubb38\\uc7ac\\uc778</b> \\ub300\\ud1b5\\ub839\\ub2d8\\uc744 \\ub9cc\\ub098\\ub2e4.\\n20170515 <b>\\ubb38\\uc7ac\\uc778</b> \\ub300\\ud1b5\\ub839 \\ucde8\\uc784, \\uc0c8\\ub85c\\uc6b4 \\ub300\\ud55c\\ubbfc\\uad6d\\uc758 \\ubb38\\uc744 \\uc5f4\\ub2e4\\n20170503 SBS <b>\\ubb38\\uc7ac\\uc778</b> \\uc138\\uc6d4\\ud638 \\uad00\\ub828\\ubcf4\\ub3c4 \\ud30c\\ubb38\\uc608\\uace0\\n20170604 <b>\\ubb38\\uc7ac\\uc778</b> \\uc815\\ubd80,18\\ubd80 4\\ucc98 17\\uccad \\uccb4\\uc81c\\ub85c \\uc804\\ud658\\n20170421 <b>\\ubb38\\uc7ac\\uc778</b> '\\uc720\\uc138\\ud604\\uc7a5 \\ub5bc\\uc0f7'\\uc73c\\ub85c \\ubcf8\\uaca9! \\uc720\\uc138\\ub5a8\\uae30\\n20170601 <b>\\ubb38\\uc7ac\\uc778</b> \\uc815\\ubd80 \\uacf5\\ubb34\\uc6d0 \\uc77c\\uc790\\ub9ac\\ucc3d\\ucd9c \\ub300\\ube44\\ud558\\uae30\\n20170508 \\ud64d\\uc900\\ud45c, \\ubc15\\uadfc\\ud61c, <b>\\ubb38\\uc7ac\\uc778</b>\\uc758 \\uc0bc\\uac01\\uad00\\uacc4\\n20170508 \\uad11\\ud654\\ubb38 \\uad11\\uc7a5\\uc758 <b>\\ubb38\\uc7ac\\uc778</b> \\ud6c4\\ubcf4 \\uc720\\uc138\\ub97c \\ubcf4\\uba70...\\n20170511 MBN \\ub2e4\\ud050 <b>\\ubb38\\uc7ac\\uc778</b> - \\uc0c8 \\uc2dc\\ub300\\uc758 \\ubb38\\uc744 \\uc5f4\\ub2e4.\\n20170520 \\uc724\\uc11d\\uc5f4 \\uac80\\uc0ac <b>\\ubb38\\uc7ac\\uc778</b> \\uc815\\uad8c\\uc758 \\uac80\\ucc30\\uac1c\\ud601 \\uc758\\uc9c0\\n20170510 <b>\\ubb38\\uc7ac\\uc778</b> \\ud0c0\\uc784\\uc9c0 \\ubbf8\\uad6d\\ud310\\n20170509 <b>\\ubb38\\uc7ac\\uc778</b>\\uc758 10\\ub300 \\uacf5\\uc57d \\uc0b4\\ud3b4\\ubcf4\\uae30\\n20170401 <b>\\ubb38\\uc7ac\\uc778</b> &quot;\\uc601\\uc591\\uc0ac \\uc815\\uc6d0\\ud655\\ubcf4 \\ucc45\\uc784\\uc9c0\\uaca0\\uc2b5\\ub2c8\\ub2e4&quot;\\n20170504 \\uc138\\uc6d4\\ud638\\ub85c <b>\\ubb38\\uc7ac\\uc778</b> \\uc8fd\\uc774\\uae30, \\uc801\\ud3d0\\uc138\\ub825\\uc5d0 \\ub9de\\uc11c\\ub294 \\ubbfc\\uc8fc\\ub2f9\\uacfc... \\n20170525 19\\ub300 <b>\\ubb38\\uc7ac\\uc778</b> \\ub300\\ud1b5\\ub839\\uc758 \\ubd80\\ub3d9\\uc0b0 \\uacf5\\uc57d/\\uc815\\ucc45!\\n20170512 \\ubcf8\\uc778\\ub4e4\\uc774 \\uac11\\uc774\\ub77c\\uace0 \\ucc29\\uac01\\ud558\\ub294\\uac00? \\uc9c0\\uae08 \\uac11\\uc740 <b>\\ubb38\\uc7ac\\uc778</b> \\ub300\\ud1b5\\ub839\\uc774\\ub2e4!\\n20170520 <b>\\ubb38\\uc7ac\\uc778</b> \\ub300\\ud1b5\\ub839 \\ucde8\\uc784 \\ud6c4...\\n20170517 <b>\\ubb38\\uc7ac\\uc778</b> \\ub300\\ud1b5\\ub839 \\uc548\\uacbd \\ubaa8\\ub974\\ud150 : \\ubd80\\uc0b0 \\ub9b0\\ub4dc\\ubc84\\uadf8 \\ub9e4\\uc7a5\\n20170526 (5\\uc6d4\\ud638) - \\uc81c 19\\ub300 \\ub300\\ud1b5\\ub839 <b>\\ubb38\\uc7ac\\uc778</b> \\uc2dc\\ub300\\uc5d0\\uc11c \\uae30\\ub300\\ub418\\ub294 \\ubd80\\ub3d9\\uc0b0 \\uc774\\uc288\\n20170525 [<b>\\ubb38\\uc7ac\\uc778</b> \\uc815\\ubd80 8\\ub300 \\ubd80\\uc0b0 \\ud575\\uc2ec\\uacf5\\uc57d \\ucc59\\uae30\\uae30\\u2460] \\uace0\\ub9ac\\uc6d0\\uc804 \\ubc29\\ubb38\\n20170518 <b>\\ubb38\\uc7ac\\uc778</b>\\ub300\\ud1b5\\ub839\\uc758 \\uc704\\ub85c\\n20170514 <b>\\ubb38\\uc7ac\\uc778</b> \\ub300\\ud1b5\\ub839 '\\uc6b4\\uba85' \\uc744 \\uc77d\\uace0\\n20170601 \\uacbd\\ucc30\\uacf5\\ubb34\\uc6d0 <b>\\ubb38\\uc7ac\\uc778</b> \\uc77c\\uc790\\ub9ac \\ucc3d\\ucd9c \\ud655\\uc778\\ud558\\uae30\\n20170518 <b>\\ubb38\\uc7ac\\uc778</b> \\ub300\\ud1b5\\ub839\\uc758 \\uc704\\ub85c\\n20170421 \\ub300\\uc120\\ud6c4\\ubcf4 \\uc9c0\\uc9c0\\uc728 1\\uc704 <b>\\ubb38\\uc7ac\\uc778</b>\\uc758 \\uc18c\\ud1b5\\ubc29\\uc2dd (\\uc1a1\\ubbfc\\uc21c \\ud68c\\uace0\\ub85d... \\n20170428 &lt;\\ubaa8\\uc9d1\\uacf5\\uace0&gt; <b>\\ubb38\\uc7ac\\uc778</b> \\ucea0\\ud504\\uc5d0\\uc11c \\uad6d\\ubbfc\\uc744 \\uae30\\uc790\\ub85c \\ubaa8\\uc2ed\\ub2c8\\ub2e4... \\n20170510 <b>\\ubb38\\uc7ac\\uc778</b> \\ub300\\ud1b5\\ub839 \\ucde8\\uc784\\uc0ac \\uac10\\ub3d9\\n\\n20170407 \\ubaa9\\ud3ec\\ub300\\ud559\\uad50 \\uaf49 \\ucc44\\uc6b4 \\uc5f4\\uae30_<b>\\ubb38\\uc7ac\\uc778</b> \\uccad\\ub144\\uc744 \\ub9cc\\ub098\\ub2e4\\n20170604 <b>\\ubb38\\uc7ac\\uc778</b>\\uc815\\ubd80 100\\uc77c \\uac1c\\ud601 \\uc120\\ubd09\\uc7a5 \\ubc30\\uce58-\\ub300\\uc6d0\\uad70\\uacfc \\ub2ee\\uc558\\ub2e4\\n20170430 <b>\\ubb38\\uc7ac\\uc778</b>\\uc774 \\uafc8\\uafb8\\ub294 '\\uc5ec\\uc131\\uc774 \\ud589\\ubcf5\\ud55c \\ub098\\ub77c' '\\ucd9c\\uc0b0\\uacfc \\uc721\\uc544\\uac00 \\ub9d8 \\ud3b8\\ud55c... \\n20170520 <b>\\ubb38\\uc7ac\\uc778</b>\\uacfc \\ub125\\ud0c0\\uc774\\n20170515 <b>\\ubb38\\uc7ac\\uc778</b> \\uc815\\ubd80\\uc5d0\\uc11c \\uac00\\uc7a5 \\uc6b0\\ub824\\ub418\\ub294 \\uc810\\n20170510 \\ub2ec\\ud558 \\ub178\\ud53c\\uacf0 \\ub3c4\\ub2e4\\uc0e4 feat.<b>\\ubb38\\uc7ac\\uc778</b>\\ub300\\ud1b5\\ub839\\n20170514 &quot;\\uc6b0\\ub9ac\\uac00 \\ubc14\\ub85c '\\ud0b9 \\uba54\\uc774\\ucee4'\\ub2e4&quot;\\u2026<b>\\ubb38\\uc7ac\\uc778</b> \\ub2f9\\uc120\\uc744 \\ub9cc\\ub4e0 \\uc0ac\\ub78c\\ub4e4\\n20170601 \\ube44\\uc815\\uaddc\\uc9c1 \\uc77c\\uc790\\ub9ac  \\ub9ce\\uc774 \\uc904\\uc5b4\\ub4e4\\uae38(<b>\\ubb38\\uc7ac\\uc778</b>\\uc815\\ubd80.\\uc77c\\uc790\\ub9ac100\\uc77c\\uacc4\\ud68d)\\n20170524 <b>\\ubb38\\uc7ac\\uc778</b> \\ub300\\ud1b5\\ub839 \\uc9d1\\ubb34\\uc2e4\\uc5d0 \\uc77c\\uc790\\ub9ac \\ud604\\ud669\\ud310 (\\uc0c1\\ud669\\ud310) \\uc124\\uce58_\\n20170513 \\ub0a8\\ud3b8\\uc73c\\ub85c\\uc11c <b>\\ubb38\\uc7ac\\uc778</b>\\ucc98\\ub7fc \\ub418\\uace0 \\uc2f6\\uc740 \\uc810\\n20170522 \\uc544\\ub4e4\\uc774 \\ubc14\\ub77c\\ubcf8 \\ub0b4 \\ube14\\ub85c\\uadf8, <b>\\ubb38\\uc7ac\\uc778</b> \\ubbf8\\ub514\\uc5b4.\\n20170503 <b>\\ubb38\\uc7ac\\uc778</b>!! \\ub300\\ud1b5\\ub839\\uc774 \\ub418\\uba74 \\uc548\\ub418\\ub294 \\uc774\\uc720!!\\n20170512 <b>\\ubb38\\uc7ac\\uc778</b> \\ub300\\ud1b5\\ub839\\uc5d0\\uac8c \\ubc18\\ud558\\ub2e4\\n20170510 <b>\\ubb38\\uc7ac\\uc778</b>  19\\ub300 \\ub300\\ud1b5\\ub839 \\ub2f9\\uc120 \\uad6d\\ubbfc\\uc758 \\uc704\\ub300\\ud55c \\uc2b9\\ub9ac \\ucd95\\ud558\\ub178\\ub798\\n20170605 [\\ubc15\\ud64d\\uadfc\\uc758\\uc6d0\\uc2e4] <b>\\ubb38\\uc7ac\\uc778</b> \\uc815\\ubd80 \\uccab \\uace0\\uc704 \\ub2f9\\uc815\\uccad \\ud68c\\uc758\\n20170501 <b>\\ubb38\\uc7ac\\uc778</b> \\uacf5\\uc57d &lt;\\uccad\\ub144\\uc815\\ucc45&gt; '\\uccad\\ub144\\uc758 \\uc0b6\\uc744 \\ubc14\\uafb8\\ub294 \\uc815\\uad8c\\uad50\\uccb4' \\uccab \\ubc88\\uc9f8\\n20170509 <b>\\ubb38\\uc7ac\\uc778</b> \\ud6c4\\ubcf4 \\uc0dd\\uac00\\ub97c \\ub2e4\\ub140\\uc624\\ub2e4.\\n20170510 <b>\\ubb38\\uc7ac\\uc778</b>\\ub300\\ud1b5\\ub839\\ub2d8 \\uad6d\\ubbfc\\ub4e4\\uaed8 \\ud76c\\ub9dd\\uc744 \\uc8fc\\uc138\\uc694!\\u314e\\n20170319 <b>\\ubb38\\uc7ac\\uc778</b> \\uc544\\ub4e4 \\ud2b9\\ucc44? \\ud5c8\\uc704\\uc0ac\\uc2e4! \\uc720\\ud3ec\\ud558\\uba74 \\ucc98\\ubc8c\\ubc1b\\uc744 \\uc218 \\uc788\\ub2e4.\\n20170415 \\uae54\\ub054\\ud55c PPT\\ud15c\\ud50c\\ub9bf :: SBS \\ub300\\uc120\\ud6c4\\ubcf4 TV\\ud1a0\\ub860 - <b>\\ubb38\\uc7ac\\uc778</b> ver\\n20170429 \\uc5b8\\ub860\\uc5d0 \\uc798 \\ub098\\uc624\\uc9c0 \\uc54a\\ub294 '<b>\\ubb38\\uc7ac\\uc778</b> \\uc9c0\\uc9c0\\uc120\\uc5b8' \\ubaa8\\uc74c\\n20170501 \\ub098\\uc5d0\\uac8c \\ub9de\\ub294 <b>\\ubb38\\uc7ac\\uc778</b> \\uacf5\\uc57d \\ucc3e\\uae30! &lt;\\ub098-\\ub9de-\\uacf5&gt; \\uc11c\\ube44\\uc2a4 \\uc774\\uc6a9\\ubc29\\ubc95!\\n20170522 \\ubc15\\uadfc\\ud61c\\uc640 <b>\\ubb38\\uc7ac\\uc778</b>. Before\\uc640 After. \\ubc15\\uadfc\\ud61c \\ubc95\\uc815 \\ubaa8\\uc2b5 \\uad81\\uae08.\\n20170512 <b>\\ubb38\\uc7ac\\uc778</b>\\uc758 \\uc6b4\\uba85 \\ucc45 \\uc73c\\ub85c \\ub300\\ud1b5\\ub839\\uc744 \\uc77d\\ub2e4\\n20170317 <b>\\ubb38\\uc7ac\\uc778</b> \\uc544\\ub4e4  5\\uae09\\ud2b9\\ucc44  \\uc758\\ud639 \\ud574\\uba85\\ub410\\uc2b5\\ub2c8\\uae4c.\\n20170510 <b>\\ubb38\\uc7ac\\uc778</b> \\ub098\\ub77c\\ub2e4\\uc6b4 \\ub098\\ub77c, \\uc774\\ub099\\uc5f0 \\ucd1d\\ub9ac\\uc640 \\uc784\\uc885\\uc11d \\ube44\\uc11c\\uc2e4\\uc7a5\\n20170510 19\\ub300\\ub300\\ud1b5\\ub839\\ub354\\ubd88\\uc5b4\\ubbfc\\uc8fc\\ub2f9<b>\\ubb38\\uc7ac\\uc778</b>\\ub2f9\\uc120\\uc744\\ucd95\\ud558\\ud569\\ub2c8\\ub2e4\\n20170426 <b>\\ubb38\\uc7ac\\uc778</b> \\ub3d9\\uc131\\uc560 \\ubc18\\ub300\\n20170512 \\uc81c19\\ub300 \\ub300\\ud1b5\\ub839 <b>\\ubb38\\uc7ac\\uc778</b> \\ud6c4\\ubcf4 \\ub2f9\\uc120\\n20170511 <b>\\ubb38\\uc7ac\\uc778</b> \\ub300\\ud1b5\\ub839\\uc758 \\uacf5\\uc57d\\uc744 \\ub2e4\\uc2dc \\ubcf4\\uae30~!\\n20170511 [\\uacf5\\uc720] <b>\\ubb38\\uc7ac\\uc778</b> \\ub300\\ud1b5\\ub839\\uc758 \\uac15\\uc6d0\\ub3c4 \\uc8fc\\uc694\\uacf5\\uc57d\\n20170602 \\uc885\\ubd81\\ubc18\\uc77c \\ub300\\ud1b5\\ub839 <b>\\ubb38\\uc7ac\\uc778</b>, \\uc5ed\\uc0ac\\uc801\\uc778 \\ubd80\\uc815\\uc758 \\uc2e0\\ud638\\n20170516 \\ub300\\ud55c\\ubbfc\\uad6d \\uc601\\uc6c5 <b>\\ubb38\\uc7ac\\uc778</b> \\ub300\\ud1b5\\ub839\\n20170521 \\uaf43 \\ubcf4\\ub2e4 \\uc544\\ub984\\ub2e4\\uc6b0\\uc2e0!!! <b>\\ubb38\\uc7ac\\uc778</b> \\ub300\\ud1b5\\ub839\\ub2d8\\n20170512 \\ud638\\ub0a8\\uc758 \\uc804\\ub7b5\\uc801 \\uc120\\ud0dd <b>\\ubb38\\uc7ac\\uc778</b> \\ub300\\ud1b5\\ub839 \\ud76c\\uc0dd\\uc591 \\uc548\\ucca0\\uc218\\n20170510 \\ub178\\ubb34\\ud604\\uc758 \\uc790\\uc0b4\\uacfc <b>\\ubb38\\uc7ac\\uc778</b>\\uc758 \\ub2f9\\uc120\\n20170530 \\uad11\\ud654\\ubb381\\ubc88\\uac00 '\\ub300\\ud1b5\\ub839\\uc758 \\uc11c\\uc7ac' <b>\\ubb38\\uc7ac\\uc778</b> \\ub300\\ud1b5\\ub839\\uc5d0\\uac8c \\ucd94\\ucc9c\\ud558\\uace0... \\n20170524 [\\uc11c\\uc6b8\\ub274\\uc2a4\\ud1b5\\uc2e0] \\ud55c\\uc815\\uc560 \\uc758\\uc6d0, <b>\\ubb38\\uc7ac\\uc778</b> \\uc815\\ubd80 \\uad6d\\uc815 \\uae30\\ud2c0 \\uc7a1\\ub294\\ub2e4\\n20170406 \\uc548\\ucca0\\uc218 \\ub538 \\uc2e0\\ucc9c\\uc9c0 \\uc870\\ud3ed \\ubd80\\uc778 \\ucc28\\ub5bc\\uae30 VS <b>\\ubb38\\uc7ac\\uc778</b> \\uc544\\ub4e4 \\ud30c\\ubb38\\n20170513 <b>\\ubb38\\uc7ac\\uc778</b> \\ud575\\uc7a0\\uc218\\ud568 \\uae30\\uc0ac\\uc5d0 \\ub2ec\\ub9b0 \\ub313\\uae00\\ub4e4\\n20170602 <b>\\ubb38\\uc7ac\\uc778</b> \\uacf5\\ubb34\\uc6d0 \\uacf5\\uc57d \\ud558\\ubc18\\uae30 1\\ub9cc2\\ucc9c\\uba85 \\ucd94\\uac00\\uc120\\ubc1c\\n20170423 170422)) <b>\\ubb38\\uc7ac\\uc778</b>\\ud6c4\\ubcf4 \\ubd80\\uc0b0\\uc720\\uc138 / \\ub354\\ubd88\\uc5b4\\ub098\\uc774\\ud2b8\\n20170528 <b>\\ubb38\\uc7ac\\uc778</b>\\uacfc \\uc801\\ud3d0\\uccad\\uc0b0\\n20170510 &lt;\\ub958\\uc7ac\\ubcf5 \\uc2dc\\uc0ac\\uce7c\\ub7fc&gt; &lt;<b>\\ubb38\\uc7ac\\uc778</b> \\ub300\\ud1b5\\ub839\\uc5d0\\uac8c \\ubc14\\ub780\\ub2e4&gt;\\n20170530 <b>\\ubb38\\uc7ac\\uc778</b> \\ub300\\ud1b5\\ub839\\uc740 \\uc778\\uc0ac\\uc6d0\\uce59\\uc744 \\ubb34\\ub108\\ub728\\ub9ac\\uc9c0 \\ub9c8\\ub77c\\n20170422 <b>\\ubb38\\uc7ac\\uc778</b>\\uc740 \\uc9c4\\uc2e4\\uc744 \\ub9d0\\ud558\\uace0 \\uc788\\ub2e4\\n20170516 [\\ucc45] <b>\\ubb38\\uc7ac\\uc778</b>\\uc758 \\uc6b4\\uc601 (by <b>\\ubb38\\uc7ac\\uc778</b>)\\n20170507 <b>\\ubb38\\uc7ac\\uc778</b>1\\ubc88\\uac00 \\ubc30\\uc1a1\\ubc1b\\ub294 \\ub0a0! \\uc18c\\uc911\\ud55c 1\\ud45c\\ub85c \\ubc14\\ub010 \\ub0b4 \\uc0b6 \\ubbf8\\ub9ac\\ubcf4\\uae30!\\n20170516 <b>\\ubb38\\uc7ac\\uc778</b>\\uc758 \\uc57d\\uc18d: \\uacf5\\uc57d\\uccb4\\ud06c (\\u201917. 05. \\uae30\\uc900)\\n20170417 \\uc804\\uad6d \\uacf3\\uacf3\\uc740 \\uc628\\ud1b5 <b>\\ubb38\\uc7ac\\uc778</b>! \\ud30c\\ub780\\uc744 \\uc77c\\uc73c\\ud0a4\\uc790!\\n\\n20170511 <b>\\ubb38\\uc7ac\\uc778</b> \\ub300\\ud1b5\\ub839 &lt; \\ud1b5\\uc2e0 \\uae30\\ubcf8\\ub8cc \\ud3d0\\uc9c0 &gt; \\uc131\\uacf5 \\uac00\\ub2a5\\ud55c \\uacf5\\uc57d\\uc77c\\uae4c?\\n20170516 [\\ucea0\\ud37c\\uc2a4\\ud22c\\uc5b4]<b>\\ubb38\\uc7ac\\uc778</b> \\ub300\\ud1b5\\ub839\\uc758 \\ubaa8\\uad50 \\uacbd\\ud76c\\ub300\\ud559\\uad50\\uc5d0 \\uac00\\ub2e4!!\\n20170513 <b>\\ubb38\\uc7ac\\uc778</b> \\ub300\\ud1b5\\ub839.. \\uc27d\\uc9c0 \\uc54a\\uc544 \\ubcf4\\uc778\\ub2e4. \\ub09c\\ud574\\ud558\\ub2e4\\n20170519 <b>\\ubb38\\uc7ac\\uc778</b> \\uc9c0\\uc9c0\\uc790\\ub4e4\\uc774 \\ubd84\\ub178\\ud558\\uace0 \\ud589\\ub3d9\\ud558\\ub294 \\uc774\\uc720. '\\ub364\\ubcbc\\ub77c \\ubb38\\ube60... \\n20170508 <b>\\ubb38\\uc7ac\\uc778</b>\\ud6c4\\ubcf4 \\ucda9\\ubd81 \\ucda9\\uc8fc \\uc9c0\\uc6d0\\uc720\\uc138\\n20170528 <b>\\ubb38\\uc7ac\\uc778</b> \\ubcf4\\uc218\\uc815\\uad8c\\uc5d0 \\ubc14\\ub780\\ub2e4.\\n20170514 \\uc778\\ucc9c\\uacf5\\ud56d \\ube44\\uc815\\uaddc\\uc9c1 \\ub178\\ub3d9\\uc790\\ub4e4 \\uc804\\uc6d0 \\uc815\\uaddc\\uc9c1 \\uc804\\ud658, <b>\\ubb38\\uc7ac\\uc778</b>... \\n20170507 <b>\\ubb38\\uc7ac\\uc778</b> '5\\uc6d4 8\\uc77c \\uc5b4\\ubc84\\uc774\\ub0a0\\uc744 \\ubc95\\uc815\\uacf5\\ud734\\uc77c\\ub85c \\uc9c0\\uc815\\ud558\\uaca0\\uc2b5\\ub2c8\\ub2e4.'\\n20170529 <b>\\ubb38\\uc7ac\\uc778</b> \\ub300\\ud1b5\\ub839\\uacfc \\ub3c4\\ub355\\uc131\\uc758 \\ud328\\uad8c\\ud654\\n20170512 \\uc138\\uc6d4\\ud638 \\uc720\\uace8 \\ucd94\\uac00\\ubc1c\\uacac\\uacfc <b>\\ubb38\\uc7ac\\uc778</b> \\uc815\\ubd80\\uc758 \\ud30c\\ub780 \\ubcc0\\ud654\\n20170423 \\ub0a8\\uc131\\uc740 \\ubb34\\uc2dc\\ud558\\ub294 \\ud398\\ubbf8\\ub2c8\\uc2a4\\ud2b8 \\ub300\\ud1b5\\ub839 <b>\\ubb38\\uc7ac\\uc778</b>\\n20170602 <b>\\ubb38\\uc7ac\\uc778</b> \\ub300\\ud1b5\\ub839\\uaed8\\uc11c \\uc0c8\\ub85c \\ub2ec\\uace0 \\ub098\\uc628 \\ub098\\ub77c\\uc0ac\\ub791 \\ud070\\ub098\\ubb34 \\ubc30\\uc9c0\\n20170520 <b>\\ubb38\\uc7ac\\uc778</b>\\ud45c \\uac80\\ucc30\\uac1c\\ud601 10\\uc77c\\u2026\\ud575\\uc2ec '\\uc778\\uc0ac\\xb7\\uc608\\uc0b0\\xb7\\uc870\\uc9c1' \\uc815\\ubc00\\ud0c0\\uaca9\\n20170515 \\ud64d\\uc740\\ub3d9 \\ubc31\\ub828\\uc0b0, \\uae40\\uc815\\uc219 \\uc5ec\\uc0ac &amp; <b>\\ubb38\\uc7ac\\uc778</b> \\ub300\\ud1b5\\ub839 \\uc0b0\\ud589\\n20170426 \\uae30\\ud6381\\ubc88 <b>\\ubb38\\uc7ac\\uc778</b> \\ub300\\ud1b5\\ub839 \\ud6c4\\ubcf4 \\ub85c\\uace0\\uc1a1 \\ubaa8\\uc74c\\n20170417 <b>\\ubb38\\uc7ac\\uc778</b>\\uacfc \\ud568\\uaed8 \\ud30c\\ub780\\uc744! '\\ud30c\\ub780\\ud6c4\\ubcf4','\\ud30c\\ub780\\ub370\\uc774' \\ucea0\\ud398\\uc778\\n20170605 [ \\ubd88\\ubc29\\ub9dd\\uc774 \\uce7c\\ub7fc ] <b>\\ubb38\\uc7ac\\uc778</b>\\ub300\\ud1b5\\ub839\\uc774 &quot; \\ucda9\\uaca9\\uc801 &quot; \\uc774\\ub77c\\ub358... \\n20170510 \\uc601\\uc591\\uad50\\uc0ac \\uc784\\uc6a9\\uace0\\uc2dc, <b>\\ubb38\\uc7ac\\uc778</b> \\ub300\\ud1b5\\ub839 \\uc601\\uc591\\uad50\\uc0ac \\uc815\\uc6d0\\ud655\\ubcf4!!\\n20170508 D-1 <b>\\ubb38\\uc7ac\\uc778</b> \\u201c\\uc555\\ub3c4\\uc801 \\uc9c0\\uc9c0\\ub85c \\uc0c8\\ub85c\\uc6b4 \\uc138\\uc0c1\\uc744 \\uc5f4\\uc5b4\\uc8fc\\uc2ed\\uc2dc\\uc624\\u201d\\n20170514 <b>\\ubb38\\uc7ac\\uc778</b> \\ub300\\ud1b5\\ub839 \\uc0dd\\uac00 \\uac70\\uc81c \\ub0a8\\uc815\\ub9c8\\uc744\\uc5d0 \\ub2e4\\ub140\\uc654\\uc5b4\\uc694\\n20170605 <b>\\ubb38\\uc7ac\\uc778</b> \\uc815\\ubd80\\uc758 \\uc801\\uadf9\\uc801 \\ud0c8\\ud0c4\\uc18c, \\ud0c8\\uc6d0\\uc804 \\uc804\\ub825 \\uc0dd\\uc0b0 \\uc815\\ucc45\\uc5d0... \\n20170418 &lt;\\uad11\\uc8fc\\uc720\\uc138&gt; \\ud638\\ub0a8\\uc740 <b>\\ubb38\\uc7ac\\uc778</b>\\uc5d0\\uac8c \\uc5b4\\uba38\\ub2c8\\uc785\\ub2c8\\ub2e4.\\n20170516 <b>\\ubb38\\uc7ac\\uc778</b> \\ub300\\ud1b5\\ub839\\uc5d0\\uac8c \\uc2dc\\uac04\\uc744 \\uc8fc\\uc790\\n20170508 \\uc218\\uc644\\uc9c0\\uad6c\\uc5d0\\uc11c 4\\ub144\\ub9cc\\uc5d0 \\uc18c\\ub9ac\\ud1b5 \\uc720\\uc138!&quot; (<b>\\ubb38\\uc7ac\\uc778</b> \\uc9c0\\uc6d0\\uc720\\uc138\\uc790\\ub8cc)\\n20170511 <b>\\ubb38\\uc7ac\\uc778</b> \\ub300\\ud1b5\\ub839 \\uac15\\uc544\\uc9c0 \\uace0\\uc591\\uc774\\n20170510 \\uc784\\uc885\\uc11d \\ube44\\uc11c\\uc2e4\\uc7a5 \\ub0b4\\uc815 <b>\\ubb38\\uc7ac\\uc778</b> \\ub300\\ud1b5\\ub839 1\\ub4f1\\uacf5\\uc2e0 \\uc548\\uc815\\uc801 \\ucea0\\ud504 \\uc6b4\\uc601\\n20170516 [\\uad50\\uc721\\ub274\\uc2a4 \\ube0c\\ub9ac\\ud551] \\uac1c\\uc778\\uc804\\ud615\\ud45c \\ub9cc\\ub4e4\\uae30 / <b>\\ubb38\\uc7ac\\uc778</b> \\uad50\\uc721\\uc815\\ucc45 \\ub4f1\\n20170516 <b>\\ubb38\\uc7ac\\uc778</b>\\uc758 \\uc6b4\\uba85 : \\uc194\\uc9c1\\ud574\\uc11c \\ub354 \\uae30\\ub300\\ub418\\ub294 \\uc0ac\\ub78c\\n20170429 \\ud765\\ud589\\ub300\\ubc15!'<b>\\ubb38\\uc7ac\\uc778</b> 1\\ubc88\\uac00' \\uac00\\uc7a5 \\ub9ce\\uc774 \\ud314\\ub9b0 \\uc0c1\\ud488\\uc740?\\n20170426 jtbc \\ub300\\uc120 \\ud1a0\\ub860 \\ud64d\\uc900\\ud45c <b>\\ubb38\\uc7ac\\uc778</b> 518, \\uad70\\uac00\\uc0b0\\uc810, \\ub3d9\\uc131\\uc560 \\ubc18\\ub300... \\n20170502 <b>\\ubb38\\uc7ac\\uc778</b> \\uacf5\\uc57d &lt;\\uccad\\ub144 \\uc0b6\\uc744 \\ubc14\\uafb8\\ub294 \\uc815\\uad8c\\uad50\\uccb4&gt; \\uccad\\ub144 \\uc815\\ucc45 \\ub450\\ubc88\\uc9f8\\n20170416 <b>\\ubb38\\uc7ac\\uc778</b> 45.4% : \\uc548\\ucca0\\uc218 30.7%. MBN 4\\uc6d4 14\\uc77c \\uc5ec\\ub860\\uc870\\uc0ac\\n20170504 <b>\\ubb38\\uc7ac\\uc778</b> \\uc77c\\uc0b0 \\uc720\\uc138\\ud604\\uc7a5\\n20170504 <b>\\ubb38\\uc7ac\\uc778</b>, \\ud0c0\\uc784\\uc9c0 \\ud45c\\uc9c0\\ubaa8\\ub378 \\u2018Negotiator\\u2019(2017)... \\n20170503 <b>\\ubb38\\uc7ac\\uc778</b> \\uc138\\uc6d4\\ud638 sbs \\ud574\\uba85 - \\ub4b7\\uac70\\ub798\\ub294 \\uc0ac\\uc2e4..\\ud310\\uacb0\\uc740..\\n20170510 \\uc548\\ud76c\\uc815, <b>\\ubb38\\uc7ac\\uc778</b> \\ub2f9\\uc120\\ub418\\uc790 \\uc5bc\\uad74\\uc5d0 \\ub2f9\\uc120 \\ucd95\\ud558 \\uae30\\uc2b5 \\ubf40\\ubf40\\n20170418 19\\ub300 \\ub300\\ud1b5\\ub839 \\ud6c4\\ubcf4 <b>\\ubb38\\uc7ac\\uc778</b>, \\uc548\\ucca0\\uc218 \\ub4f1 5\\uc778 10\\ub300 \\uacf5\\uc57d \\ubcf4\\uac74\\ubcf5\\uc9c0... \\n20170521 1219 \\ub05d\\uc774 \\uc2dc\\uc791\\uc774\\ub2e4 (<b>\\ubb38\\uc7ac\\uc778</b>)\\n20170510 \\uacbd\\uc0c1\\ubd81\\ub3c4, \\ub300\\ud1b5\\ub839 <b>\\ubb38\\uc7ac\\uc778</b> \\uc815\\ubd80 \\ucd9c\\ubc94 \\ub300\\uc751 \\uae34\\uae09 \\uac04\\ubd80\\ud68c\\uc758 \\uac1c\\ucd5c\\n20170526 <b>\\ubb38\\uc7ac\\uc778</b> \\ub300\\ud1b5\\ub839\\uc758 \\uad6c\\ub450 '\\uc544\\uc9c0\\uc624' \\uc77c\\ud654 (\\ubb49\\ud074\\ud55c \\uac10\\ub3d9 \\uc778\\ud130\\ubdf0)\\n20170522 \\uc874\\uacbd\\ud558\\ub294 <b>\\ubb38\\uc7ac\\uc778</b> \\ub300\\ud1b5\\ub839\\ub2d8\\uaed8: &quot;\\ub354 \\uc774\\uc0c1 \\uc678\\ub86d\\uac8c \\uc228\\uace0 \\uc2f6\\uc9c0... \\n20170516 <b>\\ubb38\\uc7ac\\uc778</b> \\uacbd\\ud638\\uc6d0 , \\ud574\\uc678\\ub9e4\\uccb4\\uac00 \\uadf8\\uc5d0\\uac8c \\uc8fc\\ubaa9\\ud558\\ub2e4\\n20170506 \\uc0ac\\uace0\\ub2e4\\ubc1c \\uc0bc\\uc778\\ubc29 vs \\uaf43\\ub2e4\\ubc1c <b>\\ubb38\\uc7ac\\uc778</b>. 0509 \\uc7a5\\ubbf8 \\ud504\\ub85c\\uc81d\\ud2b8\\n20170421 <b>\\ubb38\\uc7ac\\uc778</b> \\uc720\\uc138 \\ud604\\uc7a5\\uc5d0 \\ub098\\ud0c0\\ub09c \\uc6d0\\uc8fc \\uc791\\uc740 \\uac70\\uc778 \\uc774\\uae08\\uc790\\uc528\\n20170604 &lt; \\ubd88\\ubc29\\ub9dd\\uc774 \\uce7c\\ub7fc &gt; <b>\\ubb38\\uc7ac\\uc778</b>\\uc815\\ubd80 \\uac15\\uacbd\\ud654 \\uc678\\ubb34\\uc7a5\\uad00 \\ud6c4\\ubcf4\\uc790\\uc758 \\uacbd\\uc6b0... \\n20170420 [\\ub17c\\ud3c9] <b>\\ubb38\\uc7ac\\uc778</b> \\uc8fc\\uc801, \\uc190\\ubc14\\ub2e5\\uc73c\\ub85c \\ud558\\ub298\\uc744 \\uac00\\ub824\\ub77c\\n20170528 <b>\\ubb38\\uc7ac\\uc778</b>\\uc758 \\ucc45\\n20170508 \\uc6b0\\ub9ac\\uac00 \\ud22c\\ud45c\\ud574\\uc57c\\ud558\\ub294 \\uc774\\uc720. \\ubbf8\\uc548\\ud574 \\ud558\\uc9c0 \\ub9d0\\uc544\\uc694. <b>\\ubb38\\uc7ac\\uc778</b> \\ub208\\ubb3c\\n20170510 <b>\\ubb38\\uc7ac\\uc778</b>\\ub300\\ud1b5\\ub839\\uacfc 13\\uba85\\ud6c4\\ubcf4\\ub4e4\\uc774 \\uc138\\uc6b4 4\\ub300\\uc2e0\\uae30\\ub85d \\uc120\\uc815\\uacf5\\ubaa8\\n20170507 <b>\\ubb38\\uc7ac\\uc778</b> \\ub2f9\\uc120 \\uc720\\ub825...\\ub4dd\\ud45c\\uc728 53% \\uc608\\uc0c1...5\\uc6d4 5\\uc77c \\ube14\\ub85c\\uadf8 \\ubd84\\uc11d \\uacb0\\uacfc\\n\\n20170511 [<b>\\ubb38\\uc7ac\\uc778</b> \\ub300\\ud1b5\\ub839] \\uc758\\uc804\\ucc28\\uc5d0 \\ub300\\ud574\\n20170511 <b>\\ubb38\\uc7ac\\uc778</b> \\ub300\\ud1b5\\ub839 \\uc548\\uacbd #\\ub9b0\\ub4dc\\ubc84\\uadf8 \\ubab0\\ud2bc U9 50\\n20170524 <b>\\ubb38\\uc7ac\\uc778</b> \\ub300\\ud1b5\\ub839, \\uc9d1\\ubb34\\uc2e4\\uc5d0 \\u2018\\uc77c\\uc790\\ub9ac \\uc0c1\\ud669\\ud310\\u2019 \\uc124\\uce58\\n20170425 \\ud45c\\ucc3d\\uc6d0, <b>\\ubb38\\uc7ac\\uc778</b> \\ud6c4\\ubcf4 \\uc9c0\\uc9c0 \\uc720\\uc138(1\\uc8fc\\ucc28)\\n20170519 \\uc5b4\\ubca4\\uc800\\uc2a4\\uae09 <b>\\ubb38\\uc7ac\\uc778</b> \\uc815\\ubd80\\n20170524 \\uce5c\\ub178\\uc758 \\uc774\\uc911\\uc131. <b>\\ubb38\\uc7ac\\uc778</b>\\uc758 \\uacf5\\uc815 \\uc815\\uc758. \\uc804\\uc785, \\ub17c\\ubb38, \\uc138\\uae08\\n20170517 <b>\\ubb38\\uc7ac\\uc778</b> \\uc815\\ubd80, \\uad50\\uc721 \\uc0b4\\ub9b4 \\uc218 \\uc788\\uc744\\uae4c?\\n20170429 [<b>\\ubb38\\uc7ac\\uc778</b>\\uacfc \\ub354\\ubd88\\uc5b4] \\ud55c\\uc815\\uc560\\uc758\\uc6d0\\uc758 \\uc720\\uc138 \\ud604\\uc7a5\\uc2a4\\ucf00\\uce58(28\\uc77c)\\n20170426 \\ub178\\ubb34\\ud604\\uc758 \\uce5c\\uad6c <b>\\ubb38\\uc7ac\\uc778</b>, <b>\\ubb38\\uc7ac\\uc778</b>\\uc758 \\uce5c\\uad6c \\ub178\\ubb34\\ud604\\n20170424 <b>\\ubb38\\uc7ac\\uc778</b> \\ucc9c\\uc548 \\uc720\\uc138 '\\uc800 <b>\\ubb38\\uc7ac\\uc778</b>, \\uc131\\uacf5\\ud55c \\ub300\\ud1b5\\ub839 \\uc790\\uc2e0 \\uc788\\uc2b5\\ub2c8\\ub2e4'\\n20170415 [<b>\\ubb38\\uc7ac\\uc778</b>\\uc744 \\uc54c\\ub824\\uc8fc\\ub9c8!] \\ud30c\\ub3c4\\ud30c\\ub3c4 \\ubbf8\\ub2f4 \\uc2dc\\ub9ac\\uc988 4\\ud0c4 - \\ubb38\\uc900\\uc6a9\\uc528 \\ud3b8\\n20170518 <b>\\ubb38\\uc7ac\\uc778</b> \\ub300\\ud1b5\\ub839 \\uacbd\\ud638\\uc6d0 \\ud574\\uc678 \\uc778\\ud130\\ub137 \\uc2a4\\ud0c0\\uac00 \\ub418\\uc5c8\\ub2e4\\n20170509 <b>\\ubb38\\uc7ac\\uc778</b> \\uacf5\\ubb34\\uc6d0 \\uc99d\\uc6d0 \\uacf5\\uc57d \\ubc0f \\uc218\\ud5d8\\ub300\\ucc45\\n20170523 <b>\\ubb38\\uc7ac\\uc778</b> \\ub300\\ud1b5\\ub839, \\uf933 \\ucd94\\ubaa8\\uc2dd \\ucc38\\uc11d \\u201c\\uc624\\ub298\\uc774 \\ub9c8\\uc9c0\\ub9c9\\u201d\\n20170313 (\\uc815\\uc815\\uac8c\\uc7ac)<b>\\ubb38\\uc7ac\\uc778</b> \\uce58\\ub9e4? - \\ud5c8\\uc704\\uc0ac\\uc2e4 \\uac15\\ub825\\ub300\\uc751!!\\n20170603 <b>\\ubb38\\uc7ac\\uc778</b> \\ub300\\ud1b5\\ub839 \\u300c\\uce58\\ub9e4 \\uad6d\\uac00\\uac00 \\ucc45\\uc784\\uc838\\u300d (\\uc774\\ub370\\uc774\\ub274\\uc2a4 \\uac15\\uc9c4\\uc6d0 \\uae30\\uc790)\\n20170416 <b>\\ubb38\\uc7ac\\uc778</b> \\uc0b0\\uc545\\uc778\\ub4e4\\uacfc \\ub9cc\\ub0a8\\n20170522 \\uc798 \\uc0dd\\uae34 \\ub300\\ud1b5\\ub839 <b>\\ubb38\\uc7ac\\uc778</b>, \\uc601\\ud654\\ubc30\\uc6b0 \\uc548\\uc131\\uae30\\uac19\\uc740 \\uc678\\ubaa8 \\uc138\\uacc4 7\\uc704... \\n20170511 <b>\\ubb38\\uc7ac\\uc778</b> \\ub300\\ud1b5\\ub839\\ub2d8 \\ubd80\\uc0b0 \\ub9c8\\uc9c0\\ub9c9 \\uc720\\uc138\\ud604\\uc7a5 \\uc774\\ubaa8\\uc800\\ubaa8\\n20170513 &quot;\\uc800\\ub294 <b>\\ubb38\\uc7ac\\uc778</b> \\ub300\\ud1b5\\ub839 \\uc9c0\\uc9c0\\uc790\\uac00 \\uc544\\ub2d9\\ub2c8\\ub2e4&quot; 19\\ub300 \\ub300\\ud1b5\\ub839! <b>\\ubb38\\uc7ac\\uc778</b>\\n20170510 <b>\\ubb38\\uc7ac\\uc778</b> \\ub300\\ud1b5\\ub839 \\uccab \\ub0a0\\u2026\\uccad\\uc640\\ub300 \\uac00\\ub294 \\uae38\\n20170510 \\ud3c9\\ud654\\ub85c\\uc6b4 \\ub300\\ud1b5\\ub839, \\ud589\\ubcf5\\ud55c \\ub300\\ud1b5\\ub839 \\u2665 <b>\\ubb38\\uc7ac\\uc778</b> \\u2665\\n20170402 <b>\\ubb38\\uc7ac\\uc778</b>\\uacfc \\uc5ec\\uc131\\uc758 \\ud798\\n20170510 <b>\\ubb38\\uc7ac\\uc778</b> 19\\ub300 \\uc2e0\\uc784 \\ub300\\ud1b5\\ub839\\uc5d0\\uac8c \\uae30\\ub300\\ud55c\\ub2e4\\n20170517 <b>\\ubb38\\uc7ac\\uc778</b> \\uc815\\ubd80 \\uc77c\\uc8fc\\uc77c, \\ubcf8\\uc0c9 \\ub4dc\\ub7ec\\ub0b8 \\ud55c\\uad6d\\ub2f9\\uacfc \\uad6d\\ubbfc\\uc758\\ub2f9\\n20170518 \\uc0c8\\ub85c \\ub2f9\\uc120\\ub41c 19\\ub300 <b>\\ubb38\\uc7ac\\uc778</b> \\ub300\\ud1b5\\ub839\\uc758 \\uacf5\\uc57d \\uc0b4\\ud3b4\\ubcf4\\uae30!\\n20170505 <b>\\ubb38\\uc7ac\\uc778</b>\\uc758 \\ub9c8\\uc9c0\\ub9c9 \\uc720\\uc138\\uc9c0 \\ub300\\uad6c, \\uae40\\ubd80\\uacb8 \\uc758\\uc6d0\\uc758 \\uc9c4\\uc2ec\\uacfc \\ud568\\uaed8\\ud569\\ub2c8\\ub2e4.\\n20170514 2003\\ub144\\uc758 \\ub178\\ubb34\\ud604\\uacfc 2017\\ub144\\uc758 <b>\\ubb38\\uc7ac\\uc778</b>\\n20170515 \\ubd80\\ud0c4\\ud589\\ubcf5\\uc5d0 \\uaf3f\\ud78c <b>\\ubb38\\uc7ac\\uc778</b>\\ub300\\ud1b5\\ub839\\n20170511 PK\\uc640 <b>\\ubb38\\uc7ac\\uc778</b> \\ub300\\ud1b5\\ub839\\n20170514 <b>\\ubb38\\uc7ac\\uc778</b> \\ub300\\ud1b5\\ub839\\n20170418 '<b>\\ubb38\\uc7ac\\uc778</b> 1\\ubc88\\uac00' #5\\uc6d4 9\\uc77c\\ud56b\\ub51c #\\ub9c8\\uac10\\uc784\\ubc15\\n20170510 19\\ub300 \\ub300\\ud1b5\\ub839 <b>\\ubb38\\uc7ac\\uc778</b>, \\ud76c\\ub9dd\\uc774 \\uc2dc\\uc791\\ub418\\ub2e4\\n20170512 \\uc624\\ub298\\uc790 \\ucc44\\ub110A <b>\\ubb38\\uc7ac\\uc778</b>\\ub300\\ud1b5\\ub839 \\uc544\\ub4e4 \\ubb38\\uc900\\uc6a9 \\uc778\\ud130\\ubdf0 \\ub0b4\\uc6a9\\n20170503 <b>\\ubb38\\uc7ac\\uc778</b> \\uc138\\uc6d4\\ud638 \\uae30\\uc0ac\\ub97c \\ubcf4\\uba70...\\n20170503 <b>\\ubb38\\uc7ac\\uc778</b> \\uc138\\uc6d4\\ud638 SBS \\uac00\\uc9dc\\ub274\\uc2a4 \\uadf8\\ub9ac\\uace0 \\uc800\\uc5f4\\ud55c \\uad6d\\ubbfc\\uc758\\ub2f9\\n20170518 \\ucc45\\uc77d\\uae3041 : \\uc6b4\\uba85\\uc744 \\ubc14\\uafbc \\ub0a8\\uc790 '<b>\\ubb38\\uc7ac\\uc778</b>'\\n20170520 [2017-1] <b>\\ubb38\\uc7ac\\uc778</b> \\ub300\\ud1b5\\ub839\\n20170511 \\ub098\\ub80c\\ub4dc\\ub77c \\ubaa8\\ub514 \\ucd1d\\ub9ac\\uc758 <b>\\ubb38\\uc7ac\\uc778</b> \\ub300\\ud1b5\\ub839 \\ub2f9\\uc120 \\ucd95\\ud558 feat.\\ud55c\\uae00\\n20170517 <b>\\ubb38\\uc7ac\\uc778</b> \\ud2b9\\uc0ac\\ub2e8\\n20170510 <b>\\ubb38\\uc7ac\\uc778</b> \\ub300\\ud1b5\\ub839 \\ub2f9\\uc120\\ubc0f \\ucde8\\uc784\\uc5d0 \\uad00\\ud574\\uc11c\\n20170605 <b>\\ubb38\\uc7ac\\uc778</b> \\ub300\\ud1b5\\ub839 \\uc815\\uc7a5,\\uc218\\ud2b8 \\ud328\\uc158 \\ub530\\ub77c\\uc7a1\\uae30\\n20170519 17.5.19.\\uae08.<b>\\ubb38\\uc7ac\\uc778</b>\\uc758 \\uc798\\ud558\\ub294 \\uac83\\uacfc \\uc798\\ubabb\\ud558\\ub294 \\uac83\\n20170509 19\\ub300 \\ub300\\ud1b5\\ub839 <b>\\ubb38\\uc7ac\\uc778</b> \\ud6c4\\ubcf4\\ub2f9\\uc120 \\uc720\\ub825\\n20170511 \\uc5bc\\uad74 \\ud328\\uad8c\\uc8fc\\uc758 + <b>\\ubb38\\uc7ac\\uc778</b> \\ub124\\uac00 \\uc5bc\\ub9c8\\ub098 \\uc798 \\ub418\\ub098 \\ubcf4\\uc790\\n20170511 <b>\\ubb38\\uc7ac\\uc778</b>!<b>\\ubb38\\uc7ac\\uc778</b>!!<b>\\ubb38\\uc7ac\\uc778</b>!!!\\n20170513 <b>\\ubb38\\uc7ac\\uc778</b>(\\ubb38\\ubcc0) \\uc138\\uc6d4\\ud638 \\ub313\\uae00\\uc744 \\ub0a8\\uae30\\ub2e4.\\n20170411 <b>\\ubb38\\uc7ac\\uc778</b>, \\uc800\\ubd80\\ud130 \\ucd1d\\uc744 \\ub4e4\\uace0 \\ub098\\uc124 \\uac83\\uc785\\ub2c8\\ub2e4\\n20170507 \\ucc0d\\uc73c\\ub77c\\ub294 \\uc2ec\\uc0c1\\uc815? <b>\\ubb38\\uc7ac\\uc778</b>\\uc5d0\\uac8c \\uad00\\uc6b0\\uc758 \\uccad\\ub8e1\\uc5b8\\uc6d4\\ub3c4\\ub97c \\uac16\\uac8c\\ud574\\uc8fc\\uc790\\n20170427 \\ucf54\\ub9ac\\uc544 \\ud328\\uc2f1\\uacfc <b>\\ubb38\\uc7ac\\uc778</b>, \\uc720\\uc2b9\\ubbfc \\ud6c4\\ubcf4\\n\\n20170601 <b>\\ubb38\\uc7ac\\uc778</b> \\ub300\\ud1b5\\ub839 `\\ucd94\\uacbd \\ub4dc\\ub77c\\uc774\\ube0c`\\uc5d0 \\uae09\\uc81c\\ub3d9 \\uac70\\ub294 \\uc57c3\\ub2f9\\n20170521 <b>\\ubb38\\uc7ac\\uc778</b> \\ub300\\ud1b5\\ub839\\uc774 \\ub2a5\\uc0ac\\uc778\\uac00?\\n20170523 <b>\\ubb38\\uc7ac\\uc778</b> \\ub300\\ud1b5\\ub839 \\ub178\\ubb34\\ud604 \\uc804 \\ub300\\ud1b5\\ub839 \\ucd94\\ubaa8 8\\uc8fc\\uae30 \\ucc38\\uc11d(\\uc774\\ub370\\uc774\\ub274\\uc2a4... \\n20170514 \\ubd81\\ud55c &lt; \\ud0c4\\ub3c4\\ubbf8\\uc0ac\\uc77c \\ub3c4\\ubc1c &gt; - <b>\\ubb38\\uc7ac\\uc778</b> \\ub300\\ud1b5\\ub839 &quot; \\uac15\\ub825\\ud55c \\uacbd\\uace0 &quot; \\uc608\\uace0\\n20170512 <b>\\ubb38\\uc7ac\\uc778</b> \\ub300\\ud1b5\\ub839 \\ub808\\uace0 \\ubc84\\uc804-<b>\\ubb38\\uc7ac\\uc778</b>\\uc5d0\\uac8c \\ubc14\\ub780\\ub2e4\\n20170504 \\ubbf8\\uad6d\\ub3c4 \\uac10\\uc7a1\\uc558\\ub2e4. <b>\\ubb38\\uc7ac\\uc778</b> \\ub300\\ud1b5\\ub839\\n20170521 <b>\\ubb38\\uc7ac\\uc778</b> \\ub300\\ud1b5\\ub839\\ub2d8\\uc774 \\ubd80\\ub7ec\\uc6cc\\uc11c \\ub098\\ub3c4 \\ubc31\\uad6c \\ud770\\ub3cc\\uc774\\uc640 \\ud574\\ubd04. \\u314b\\u314b\\n20170420 \\uc5ed\\uc2dc\\ub098 <b>\\ubb38\\uc7ac\\uc778</b> \\ud1a0\\ub860\\uc740 \\ub2f5\\ub2f5\\ud558\\ub2e4\\n20170525 <b>\\ubb38\\uc7ac\\uc778</b> \\ub300\\ud1b5\\ub839, \\uc778\\uad8c\\uc704 \\uc704\\uc0c1 \\uac15\\ud654 \\uc9c0\\uc2dc\\n20170510 [19\\ub300 \\ub300\\ud1b5\\ub839] <b>\\ubb38\\uc7ac\\uc778</b> \\ub300\\ud1b5\\ub839\\n20170510 [\\uc7a1\\ub2f4] <b>\\ubb38\\uc7ac\\uc778</b>\\uc758 \\ucd9c\\uc2e0... \\uc548\\ud76c\\uc815... \\uc870\\uad6d.\\n20170517 \\uc8fc\\ud638\\uc601 \\u201c<b>\\ubb38\\uc7ac\\uc778</b> \\ub300\\ud1b5\\ub839 \\ud32c\\ud074\\ub7fd \\ud574\\uc0b0\\ud574\\uc57c\\u201d\\n20170424 <b>\\ubb38\\uc7ac\\uc778</b> \\uacf5\\uc57d &lt;\\uc8fc\\ud0dd\\uc815\\ucc45&gt; \\u201c\\uc9d1 \\uac71\\uc815, \\uc804\\uc6d4\\uc138 \\uac71\\uc815, \\uc774\\uc0ac \\uac71\\uc815... \\n20170422 (<b>\\ubb38\\uc7ac\\uc778</b>\\ub2d8 \\uc8fc\\uc0ac\\ud30c)\\ub97c \\uac70\\uc9d3\\ub9d0\\uc7c1\\uc774\\ub97c \\ubc8c\\ud558\\ub77c.\\n20170509 19\\ub300 \\ub300\\uc120 \\ucd9c\\uad6c\\uc870\\uc0ac \\uacb0\\uacfc <b>\\ubb38\\uc7ac\\uc778</b> \\uc555\\uc2b9\\n20170418 '<b>\\ubb38\\uc7ac\\uc778</b> \\uc720\\uc138\\ucc28\\ub7c9'\\uc774 \\uc544\\ub2c8\\ub77c '\\uc720\\uc138\\ubb3c\\ud488 \\ub0a9\\ud488\\ucc28\\ub7c9'\\n20170521 \\uac15\\uacbd\\ud654, \\uc7a5\\ud558\\uc131, \\uae40\\ub3d9\\uc5f0, \\uae40\\uad11\\ub450 \\uc9c0\\uba85, <b>\\ubb38\\uc7ac\\uc778</b> \\ub300\\ud1b5\\ub839 \\uc778\\uc0ac\\uc5d0\\uc11c... \\n20170421 \\uc804\\uc9c1 \\uad6d\\ud68c\\uc758\\uc6d0 50\\uba85 <b>\\ubb38\\uc7ac\\uc778</b>\\ud6c4\\ubcf4 \\uc9c0\\uc9c0\\uc120\\uc5b8\\n20170501 <b>\\ubb38\\uc7ac\\uc778</b>\\ud6c4\\ubcf4 \\uc544\\ub4e4 \\ucde8\\uc5c5\\ub17c\\ub780, &quot;\\ubb38\\uc81c\\uc788\\ub2e4&quot; 59%\\n20170605 <b>\\ubb38\\uc7ac\\uc778</b> \\uc9c0\\uc9c0\\uc728 78%..\\ucde8\\uc784 \\ud6c4 \\uccab \\uaebe\\uc784\\uc138, \\uc7a5\\uad00 \\ub0b4\\uc815\\uc790\\ub4e4, \\uc0ac\\ub4dc \\uc601\\ud5a5\\n20170524 <b>\\ubb38\\uc7ac\\uc778</b> \\uc815\\ubd80 \\uccab \\uc778\\uc0ac\\uccad\\ubb38\\ud68c, \\uc774\\ub099\\uc5f0 \\uc778\\uc0ac\\uccad\\ubb38\\ud68c \\uc2dc\\uccad \\uc804 \\ub178\\ud558\\uc6b0!\\n20170430 \\uae40\\uc885\\uc778, &quot;<b>\\ubb38\\uc7ac\\uc778</b> \\ub2f9\\uc120\\ub418\\uba74 \\ub098\\ub77c\\uac00 \\ub9c8\\ube44\\ub41c\\ub2e4&quot;?\\n20170305 \\ubc29\\ud0c4\\uc18c\\ub144\\ub2e8\\ub3c4 \\uc6b8\\uace0 \\uac08 <b>\\ubb38\\uc7ac\\uc778</b> \\ubd81\\ucf58\\uc11c\\ud2b8\\n20170514 <b>\\ubb38\\uc7ac\\uc778</b> \\ub300\\ud1b5\\ub839 \\uc2dc\\ub300\\ub97c \\ub9de\\uc740 'SNL \\ucf54\\ub9ac\\uc544'. \\uc9c4\\uc815\\ud55c \\uc131\\uc5ed\\uc5c6\\ub294... \\n20170420 <b>\\ubb38\\uc7ac\\uc778</b> \\uc5f4\\ud608 \\uc9c0\\uc9c0\\uc790\\ub4e4\\uc758 \\uc801\\ud3d0\\n20170314 \\uc138 \\ubc88\\uc9f8 \\ubbfc\\uc8fc\\uc815\\ubd80!! \\uae30\\ud638 3\\ubc88 <b>\\ubb38\\uc7ac\\uc778</b>\\n20170522 <b>\\ubb38\\uc7ac\\uc778</b> \\ub300\\ud1b5\\ub839 '\\ub2e8\\uacc4\\uc801 \\uc0ac\\ubcd1\\uc6d4\\uae09 \\uc778\\uc0c1' \\uacf5\\uc57d \\ub0b4\\ub144\\ubd80\\ud130 \\ucd94\\uc9c4\\n20170531 <b>\\ubb38\\uc7ac\\uc778</b> \\ub300\\ud1b5\\ub839 \\uc591\\uc0b0 \\uc790\\ud0dd \\uad6c\\uacbd\\ud558\\uae30\\n20170507 &quot;\\uc774\\uc601\\ud658&quot; <b>\\ubb38\\uc7ac\\uc778</b> \\ub300\\ud1b5\\ub839 \\uc120\\uac70\\uc6b4\\ub3d9 21\\uc77c\\ucc28 20170507\\uc77c\\n20170506 \\uac01 \\ub2f9, <b>\\ubb38\\uc7ac\\uc778</b> \\ud6c4\\ubcf4 \\uce21\\uc758 \\uc774\\ub978\\ubc14 '\\ud669\\uc81c\\uc758\\uc804'\\uc5d0 \\ube44\\ud310/\\ucd5c\\uc11d\\ud0dc/\\n20170514 \\uc81c19\\ub300 \\ub300\\ud1b5\\ub839 <b>\\ubb38\\uc7ac\\uc778</b>\\n20170420 TV\\ub300\\uc120\\ud1a0\\ub860 2\\ud68c\\ucc28 <b>\\ubb38\\uc7ac\\uc778</b> &quot;\\uc8fc\\uc801&quot; \\ub17c\\ub780, \\uc65c?\\n20170520 2017\\ub144 5\\uc6d4 20\\uc77c <b>\\ubb38\\uc7ac\\uc778</b> \\ub300\\ud1b5\\ub839 \\uc5f4\\ud758-\\ub098\\ub294 \\ub9d0\\uc744 \\uc783\\uc5b4\\ubc84\\ub838\\ub2e4\\n20170511 [\\ucca0\\uc2ec\\uc7a5]<b>\\ubb38\\uc7ac\\uc778</b>\\uc758 \\uce5c\\ubb38\\uc815\\ubd80 vs \\ubc15\\uadfc\\ud61c\\uc758 \\ube44\\ubc15\\uc815\\ubd80\\n20170413 \\ud5c9... 4.13\\uc77c \\uc548\\ucca0\\uc218, <b>\\ubb38\\uc7ac\\uc778</b> \\uac80\\uc0c9\\ub7c9 \\ucc28\\uc774\\uac00...\\n20170514 \\ud2b8\\ub7fc\\ud504 \\ud55c\\ubbf8FTA \\uc7ac\\ud611\\uc0c1 \\ub77c\\uc774\\uc2dc\\uc800 \\ubcf4\\ub0b4.. <b>\\ubb38\\uc7ac\\uc778</b> \\uc6d0\\ud558\\ub294\\ub300\\ub85c\\n20170510 \\uc624\\ub9c8\\uc774\\ub274\\uc2a4,<b>\\ubb38\\uc7ac\\uc778</b> \\ub300\\ud1b5\\ub839 \\ucde8\\uc784\\uc2dd...\\n20170510 <b>\\ubb38\\uc7ac\\uc778</b> \\ub300\\ud1b5\\ub839\\ub2d8, \\ub098\\ub77c\\ub2e4\\uc6b4 \\ub098\\ub77c \\ub9cc\\ub4e4\\uc5b4 \\uc8fc\\uc138\\uc694!\\n20170510 <b>\\ubb38\\uc7ac\\uc778</b> \\ub300\\ud1b5\\ub839 \\ud64d\\uc740\\ub3d9\\uc5d0\\uc11c \\ub5a0\\ub098\\ubcf4\\ub0b4\\uba70~\\n20170602 \\uc774\\uc7ac\\uba85 \\uc131\\ub0a8\\uc2dc\\uc7a5, \\ubd81\\uacbd\\uc11c \\u2018<b>\\ubb38\\uc7ac\\uc778</b> \\uc2e0\\uc815\\ubd80\\uc640 \\ud55c\\uad6d\\uc815\\uce58 \\ub3d9\\ub825\\u2019... \\n20170503 <b>\\ubb38\\uc7ac\\uc778</b> \\uc138\\uc6d4\\ud638 \\ubcf4\\ub3c4 SBS \\ud574\\uba85\\uc73c\\ub85c \\ub05d\\ub0a0 \\uc77c \\uc544\\ub2c8\\ub2e4\\n20170510 <b>\\ubb38\\uc7ac\\uc778</b>\\ub2f9\\uc120, \\uc0c8\\ub85c\\uc6b4 5\\ub144\\uc744 \\uae30\\ub300\\ud574\\ubd05\\ub2c8\\ub2e4\\n20170508 <b>\\ubb38\\uc7ac\\uc778</b> \\ud6c4\\ubcf4 \\ub300\\uad6c \\uc720\\uc138\\ud604\\uc7a5\\n20170511 <b>\\ubb38\\uc7ac\\uc778</b> \\ub300\\ud1b5\\ub839\\uc758 \\ud589\\ubcf4 - \\uc790\\uc720 \\ubbfc\\uc8fc\\uc8fc\\uc758 \\ub300\\ud55c\\ubbfc\\uad6d\\uc758 \\ubaa8\\uc2b5\\n20170512 <b>\\ubb38\\uc7ac\\uc778</b>\\ub300\\ud1b5\\ub839 \\ub2f9\\uc120 \\ubd80\\ub3d9\\uc0b0 \\uacf5\\uc57d\\n20170511 <b>\\ubb38\\uc7ac\\uc778</b> \\ub300\\ud1b5\\ub839 \\ub2f9\\uc120\\uc774 \\ub098\\uc5d0\\uac8c \\uc8fc\\ub294 \\uc601\\ud5a5\\n20170525 <b>\\ubb38\\uc7ac\\uc778</b> \\ub300\\ud1b5\\ub839 \\uc798\\ubabb \\uac74\\ub4e4\\uba74 \\uace8\\ub85c \\uac11\\ub2c8\\ub2e4\\n20170426 <b>\\ubb38\\uc7ac\\uc778</b> \\ub2f7\\ucef4\\uc758 \\uc5bc\\ub9ac\\ubc84\\ub4dc \\ud30c\\ub780\\ud2f0\\ucf13 \\uc624\\ud508\\n20170512 &lt; <b>\\ubb38\\uc7ac\\uc778</b> \\uc815\\ubd80 &gt; \\uc720\\uc2b9\\ubbfc \\uacbd\\uc81c\\ubd80\\ucd1d\\ub9ac , \\uc2ec\\uc0c1\\uc815 \\ub178\\ub3d9\\ubd80\\uc7a5\\uad00?\\n20170512 &quot;<b>\\ubb38\\uc7ac\\uc778</b> \\ub300\\ud1b5\\ub839\\ub418\\uba74 \\uc801\\ud654\\ub41c\\ub2e4&quot;\\ub358 \\uace0\\uc601\\uc8fc\\uac00 \\uac00\\uc57c\\ud560 \\uae38\\n\\n\"]\n"
     ]
    }
   ],
   "source": [
    "results = db.blogData.find_one()\n",
    "print results['entire']"
   ]
  },
  {
   "cell_type": "code",
   "execution_count": 7,
   "metadata": {
    "collapsed": true
   },
   "outputs": [],
   "source": [
    "import os\n",
    "import sys \n",
    "os.environ[\"SPARK_HOME\"]='C:\\Users\\Code\\s-201111265\\spark-2.0.0-bin-hadoop2.6'\n",
    "import findspark, os, sys\n",
    "findspark.init(os.environ[\"SPARK_HOME\"])\n",
    "import pyspark\n",
    "myConf=pyspark.SparkConf()\n",
    "spark = pyspark.sql.SparkSession.builder.master(\"local\").appName(\"myApp\").config(\"spark.sql.warehouse.dir\", os.path.join(os.environ['SPARK_HOME'], 'data', 'data_warehouse')).getOrCreate()"
   ]
  },
  {
   "cell_type": "code",
   "execution_count": 40,
   "metadata": {
    "collapsed": false
   },
   "outputs": [
    {
     "name": "stdout",
     "output_type": "stream",
     "text": [
      "+--------+--------------------+\n",
      "|      _1|                  _2|\n",
      "+--------+--------------------+\n",
      "|20170605|[0.0, 2368.62, -3...|\n",
      "|20170602|[1.0, 2371.72, 27...|\n",
      "|20170601|[0.0, 2344.61, -2...|\n",
      "|20170531|[1.0, 2347.38, 3....|\n",
      "|20170530|[0.0, 2343.68, -9...|\n",
      "|20170529|[0.0, 2352.97, -2...|\n",
      "|20170526|[1.0, 2355.3, 12....|\n",
      "|20170525|[1.0, 2342.93, 25...|\n",
      "|20170524|[1.0, 2317.34, 5....|\n",
      "|20170523|[1.0, 2311.74, 7....|\n",
      "|20170522|[1.0, 2304.03, 15...|\n",
      "|20170519|[1.0, 2288.48, 1....|\n",
      "|20170518|[0.0, 2286.82, -6...|\n",
      "|20170517|[0.0, 2293.08, -2...|\n",
      "|20170516|[1.0, 2295.33, 4....|\n",
      "|20170515|[1.0, 2290.65, 4....|\n",
      "|20170512|[0.0, 2286.02, -1...|\n",
      "|20170511|[1.0, 2296.37, 26...|\n",
      "|20170510|[0.0, 2270.12, -2...|\n",
      "|20170508|[1.0, 2292.76, 51...|\n",
      "+--------+--------------------+\n",
      "only showing top 20 rows\n",
      "\n"
     ]
    }
   ],
   "source": [
    "results = db.kospiData.find_one()\n",
    "\n",
    "temp = list()\n",
    "temp.append(results['kospi'][len(results['kospi'])-1][1])\n",
    "results['kospi'][len(results['kospi'])-1][1] = temp\n",
    "\n",
    "from pyspark.sql import Row\n",
    "Kospi = Row('date', 'features')\n",
    "\n",
    "myTables = []\n",
    "for element in results['kospi']:\n",
    "    myTables.append(element)\n",
    "\n",
    "myDf = spark.createDataFrame(myTables)\n",
    "myDf.show()"
   ]
  },
  {
   "cell_type": "code",
   "execution_count": 12,
   "metadata": {
    "collapsed": false
   },
   "outputs": [
    {
     "name": "stdout",
     "output_type": "stream",
     "text": [
      " C 드라이브의 볼륨에는 이름이 없습니다.\n",
      " 볼륨 일련 번호: 6C02-6700\n",
      "\n",
      " c:\\Users\\Code\\s-201111265\\data 디렉터리\n",
      "\n",
      "2017-06-07  오전 01:19    <DIR>          .\n",
      "2017-06-07  오전 01:19    <DIR>          ..\n",
      "2017-06-07  오전 01:52            38,007 blog.txt\n",
      "2017-05-19  오후 02:41           373,908 companyList.csv\n",
      "2017-05-19  오후 03:27                36 ds_save_person.json\n",
      "2017-05-19  오후 05:12               127 ds_save_persons.json\n",
      "2017-05-19  오후 05:12               109 ds_save_persons2.json\n",
      "2017-05-19  오후 04:28        21,286,269 ds_save_url.json\n",
      "2017-06-04  오전 01:24                37 ds_spark.csv\n",
      "2017-05-23  오전 01:26               145 ds_spark_2cols.csv\n",
      "2017-06-04  오전 01:31               838 ds_spark_heightweight.txt\n",
      "2017-05-23  오후 04:08    <DIR>          ds_spark_wike1.txt\n",
      "2017-05-23  오전 01:08               581 ds_spark_wiki.txt\n",
      "2017-05-29  오전 09:38               987 ds_spark_wiki_main.txt\n",
      "2017-05-30  오후 05:33         2,144,903 kddcup.data_10_percent.gz\n",
      "2017-06-07  오전 01:52               252 kospi.txt\n",
      "2017-06-04  오전 02:14    <DIR>          people.parquet\n",
      "2017-06-06  오후 05:24             9,111 stopwords.txt.txt\n",
      "              14개 파일          23,855,310 바이트\n",
      "               4개 디렉터리  12,221,677,568 바이트 남음\n"
     ]
    }
   ],
   "source": [
    "!dir data\\"
   ]
  },
  {
   "cell_type": "code",
   "execution_count": 172,
   "metadata": {
    "collapsed": false
   },
   "outputs": [],
   "source": [
    "import os\n",
    "\n",
    "def sub_str(str):\n",
    "    return str[8:]\n",
    "\n",
    "def exetract(str):\n",
    "    boolean = str.find(unicode('<b>'))\n",
    "    if(boolean == -1):\n",
    "        boolean2 = str.find('2017')\n",
    "        if(boolean2 == -1):\n",
    "            boolean3 = str.find('2016')\n",
    "            if(boolean3 == -1):\n",
    "                return str\n",
    "            else:\n",
    "                return \"-1\"\n",
    "        else:\n",
    "            return \"-1\"\n",
    "    else:\n",
    "        return \"-1\"\n",
    "\n",
    "def find_most_used_word():\n",
    "    stop_word = list()\n",
    "    f = open(os.path.join('data', 'stopwords.txt'))\n",
    "    entire_word = f.readlines()\n",
    "    for ele in entire_word:\n",
    "        word = ele.strip() \n",
    "        stop_word.append(word)\n",
    "    f.close()\n",
    "    stop_word.append(u'및')\n",
    "    stop_word.append(u'-')\n",
    "\n",
    "    rdd = spark.sparkContext.textFile(os.path.join('data','blog.txt'))\n",
    "    lines = rdd.flatMap(lambda x:x.split('\\n')).map(sub_str).flatMap(lambda x:x.split())\\\n",
    "            .map(exetract).filter(lambda x : x not in stop_word).map(lambda x:(x,1))\\\n",
    "            .reduceByKey(lambda x,y: x+y).map(lambda x:(x[1],x[0])).sortByKey(False)\n",
    "\n",
    "    most_word_list = list()\n",
    "    for element in lines.take(20):\n",
    "        if element[1] == '-1':\n",
    "            continue\n",
    "        else:\n",
    "            most_word_list.append(element[1])\n",
    "    \n",
    "    return most_word_list\n",
    "        \n",
    "def execute():\n",
    "    test = find_most_used_word()\n",
    "    for element in test:\n",
    "        print element\n",
    "    "
   ]
  },
  {
   "cell_type": "code",
   "execution_count": 173,
   "metadata": {
    "collapsed": false
   },
   "outputs": [
    {
     "name": "stdout",
     "output_type": "stream",
     "text": [
      "모집\n",
      "중국\n",
      "위한\n",
      "개최\n",
      "사회적\n",
      "전망\n",
      "함께하는\n",
      "지원\n",
      "세계\n",
      "한국\n",
      "공유\n",
      "안내\n",
      "알아야\n",
      "교육\n",
      "창업\n",
      "우리\n",
      "정부\n",
      "대구맛집\n",
      "대한\n"
     ]
    }
   ],
   "source": [
    "execute()"
   ]
  },
  {
   "cell_type": "code",
   "execution_count": 174,
   "metadata": {
    "collapsed": true
   },
   "outputs": [],
   "source": [
    "    stop_word = list()\n",
    "    f = open(os.path.join('data', 'stopwords.txt'))\n",
    "    entire_word = f.readlines()\n",
    "    for ele in entire_word:\n",
    "        word = ele.strip() \n",
    "        stop_word.append(word)\n",
    "    f.close()\n",
    "    stop_word.append(u'및')\n",
    "    stop_word.append(u'-')\n",
    "\n",
    "    rdd = spark.sparkContext.textFile(os.path.join('data','blog.txt'))\n",
    "    lines = rdd.flatMap(lambda x:x.split('\\n')).map(sub_str).flatMap(lambda x:x.split())\\\n",
    "            .map(exetract).filter(lambda x : x not in stop_word).map(lambda x:(x,1))\\\n",
    "            .reduceByKey(lambda x,y: x+y).map(lambda x:(x[1],x[0])).sortByKey(False)\n",
    "\n",
    "    most_word_list = list()\n",
    "    for element in lines.take(20):\n",
    "        if element[1] == '-1':\n",
    "            continue\n",
    "        else:\n",
    "            most_word_list.append(element[1])\n",
    "    "
   ]
  },
  {
   "cell_type": "code",
   "execution_count": 52,
   "metadata": {
    "collapsed": false
   },
   "outputs": [
    {
     "name": "stdout",
     "output_type": "stream",
     "text": [
      "+--------+--------------------+\n",
      "|      _1|                  _2|\n",
      "+--------+--------------------+\n",
      "|20170606|발칙한 <b>경제</b> - 2...|\n",
      "|20170605|[새로운 대한민국] 새로운 <b...|\n",
      "|20170604|[숫자] 중국 <b>경제</b>...|\n",
      "|20170603|2017.6.3  건설업과 설비...|\n",
      "|20170602|<b>경제</b>용어 파헤치기(...|\n",
      "|20170601|시민주권시대, 인천시 <b>경제...|\n",
      "|20170531|대구 창조<b>경제</b>단지 ...|\n",
      "|20170530|내꺼인 듯 내꺼 아닌 너, &l...|\n",
      "|20170529|인천시, 몽골과의 <b>경제</...|\n",
      "|20170528|가계수지 상황으로 가계<b>경제...|\n",
      "|20170527|‘전통시장과 함께하는 사회적 <...|\n",
      "|20170526|총장님 발제 '교육 패러다임 변...|\n",
      "|20170525|[제주창조<b>경제</b>혁신센...|\n",
      "|20170524|2학년추천도서 <b>경제</b>...|\n",
      "|20170523|[제주창조<b>경제</b>혁신센...|\n",
      "|20170522|영화로 보는 <b>경제</b> ...|\n",
      "|20170521|푸르덴셜 <b>경제</b>교육봉...|\n",
      "|20170519|이방초, <b>경제</b>, 금...|\n",
      "|20170518|<b>경제</b> 성장의 그림자...|\n",
      "|20170517|[전북창조<b>경제</b>혁신센...|\n",
      "+--------+--------------------+\n",
      "only showing top 20 rows\n",
      "\n"
     ]
    }
   ],
   "source": [
    "import os\n",
    "\n",
    "def sub_split(str):\n",
    "    back = sub_str(str)+\" \"\n",
    "    front = str[:8]\n",
    "    temp = list()\n",
    "    temp.append(front)\n",
    "    temp.append(back)\n",
    "    return tuple(temp)\n",
    "\n",
    "rdd = spark.sparkContext.textFile(os.path.join('data','blog.txt'))\n",
    "lines = rdd.flatMap(lambda x:x.split('\\n')).map(sub_split)\\\n",
    "        .reduceByKey(lambda x, y: x+y).sortByKey(False)\n",
    "\n",
    "myDf = spark.createDataFrame(lines.collect())\n"
   ]
  },
  {
   "cell_type": "code",
   "execution_count": 54,
   "metadata": {
    "collapsed": false
   },
   "outputs": [
    {
     "name": "stdout",
     "output_type": "stream",
     "text": [
      "[[(u'20170606', u'\\ubc1c\\uce59\\ud55c <b>\\uacbd\\uc81c</b> - 2014\\ub144 \\uc774\\ud6c4 \\uac00\\uacc4\\ubd80\\ucc44\\uac00 \\uae09\\uc99d\\ud588\\ub358 \\uc774\\uc720\\ub294? [\\uae08\\uc735<b>\\uacbd\\uc81c</b>] 100\\uc138 \\uc2dc\\ub300 - \\ub178\\ud6c4\\ub300\\ube44\\ub97c \\uc704\\ud55c \\uc5f0\\uae08 \\uc54c\\uae30 '), (u'20170605', u\"[\\uc0c8\\ub85c\\uc6b4 \\ub300\\ud55c\\ubbfc\\uad6d] \\uc0c8\\ub85c\\uc6b4 <b>\\uacbd\\uc81c</b>\\uc815\\ucc45, \\uc81c\\uc774\\ub178\\ubbf9\\uc2a4 \\u4e0a \\ud559\\uc6b4\\ucd08\\ub4f1\\ud559\\uad50 '\\ud559\\uc6b4<b>\\uacbd\\uc81c</b>\\uc7a5\\ud130' <b>\\uacbd\\uc81c</b>\\ubc1c\\uc804\\uacfc \\ubbfc\\uc8fc\\uc8fc\\uc758\\uc758 \\uad00\\uacc4 \\uc77c\\uc790\\ub9ac \\ucc3d\\ucd9c, \\uc9c0\\uc5ed <b>\\uacbd\\uc81c</b> \\ud65c\\uc131! \\uc138\\uc885\\ud14c\\ud06c\\ubc38\\ub9ac 3\\ucc28 \\ubd84\\uc591 \\uc2dc\\uc791! <b>\\uacbd\\uc81c</b> \\uc21c\\ud658 \\ud2b9\\uc9d5 \\ud30c\\uc545\\ud574\\uc57c\\ud569\\ub2c8\\ub2e4 \\uc120\\ubb3c\\uacfc \\uc0ac\\ud68c\\uc801<b>\\uacbd\\uc81c</b> [201705-25-135] \\uc6d4\\uc2a4\\ud2b8\\ub9ac\\ud2b8\\ub85c \\uac04 <b>\\uacbd\\uc81c</b>\\ud559\\uc790 \\uc624\\uc0c9\\uc2dc\\uc7a5\\uc5d0\\uc11c \\uc544\\uc774\\ub4e4\\uacfc \\ud568\\uaed8 \\uc2e0\\ub098\\ub294 <b>\\uacbd\\uc81c</b>\\uad50\\uc721 \\uc990\\uae30\\uae30&lt;\\uc2dc\\ubbfc\\uae30\\uc790...  \\uacbd\\uae30\\ub3c4 \\u300c4\\ucc28 \\uc0b0\\uc5c5\\ud601\\uba85\\uc758 \\uc2dc\\ub300, \\uacf5\\uc720 \\uc2dc\\uc7a5<b>\\uacbd\\uc81c</b>\\uc5d0\\uc11c \\uae38\\uc744 \\ucc3e\\ub2e4\\u300d...  \\u201cAIIB\\ucd1d\\ud68c\\ub97c \\ud55c\\xb7\\uc911 \\uad00\\uacc4 \\ubcf5\\uc6d0 \\uacc4\\uae30\\ub85c\\u201d \\uc8fc\\uc81c \\ub9e4\\uc77c<b>\\uacbd\\uc81c</b> \\uae30\\uace0 \\uc0ac\\ud68c\\uc801<b>\\uacbd\\uc81c</b>\\ub9c8\\uc744\\uc13c\\ud130 '\\uacf5\\uc720\\uc11c\\uc7ac' \\uc1a1\\ud30c\\uad6c \\uc0ac\\ud68c\\uc801<b>\\uacbd\\uc81c</b>\\uae30\\uc5c5, \\uc800\\uc18c\\ub4dd\\uce35 \\uccad\\uc18c\\ub144 \\uc9c0\\uc6d0 \\uc55e\\uc7a5 \\uc2ec\\uac01\\ud55c <b>\\uacbd\\uc81c</b>\\uc704\\uae30 \\uc0c1\\ud669\\uacfc \\ud37c\\ud399\\ud2b8 \\uc2a4\\ud1b0 [\\uc2a4\\ud398\\uc15c<b>\\uacbd\\uc81c</b>][U-20 \\uc6d4\\ub4dc\\ucef5]\\uccab \\uc120\\ubcf4\\uc778 \\u2018\\uc544\\ubc14(ABBA) \\uc2b9\\ubd80\\ucc28\\uae30\\u2019...  [\\uc911\\uad6d <b>\\uacbd\\uc81c</b>] \\uc911\\uad6d\\uc758 \\uc790\\ubcf8\\uc720\\ucd9c \\ud1b5\\uc81c \\uac15\\ud654 \"), (u'20170604', u'[\\uc22b\\uc790] \\uc911\\uad6d <b>\\uacbd\\uc81c</b>\\ub3c4 \\uc77c\\ubcf8\\ucc98\\ub7fc \\ud3ed\\ub9dd\\ud55c\\ub2e4\\uace0? <b>\\uacbd\\uc81c</b>, \\uc54c\\uc544\\uc57c \\ubc14\\uafbc\\ub2e4 - \\ub0b4 \\uc6d4\\uae09\\uc774 \\uc801\\uc740 \\uae4c\\ub2ed\\uc740? \\uc9c0\\uc5ed <b>\\uacbd\\uc81c</b>\\ud611\\ud68c \\ucd08\\uccad \\ucc38\\uc11d, \\uacf5\\ud56d\\uacfc \\uc81c\\uc8fc\\uc5ec\\ud589 \\uc911 \\ud22c\\uc219 \\ud638\\ud154...  '), (u'20170603', u'2017.6.3  \\uac74\\uc124\\uc5c5\\uacfc \\uc124\\ube44\\ud22c\\uc790\\uac00 \\uc774\\ub044\\ub294 <b>\\uacbd\\uc81c</b> \\uc131\\uc7a5 6\\ubd84\\uae30 \\ub9cc\\uc5d0...  [5\\uc0ac\\ud68c]_\\ubaa8\\uc758<b>\\uacbd\\uc81c</b>\\ud65c\\ub3d92 '), (u'20170602', u'<b>\\uacbd\\uc81c</b>\\uc6a9\\uc5b4 \\ud30c\\ud5e4\\uce58\\uae30(\\uc18c\\ube44\\uc790\\uc2ec\\ub9ac\\uc9c0\\uc218 / \\uae30\\ubcf8\\uc18c\\ub4dd\\uc81c) [\\ucda9\\ub0a8\\ucc3d\\uc870<b>\\uacbd\\uc81c</b>\\ud601\\uc2e0\\uc13c\\ud130]  2017\\ub144 \\uc18c\\uc15c\\ubca4\\ucc98 \\uacbd\\uc9c4\\ub300\\ud68c \\uac1c\\ucd5c! [\\uc81c\\uc8fc\\ucc3d\\uc870<b>\\uacbd\\uc81c</b>\\ud601\\uc2e0\\uc13c\\ud130] \\uc81c\\uc8fc\\ub85c On \\ucf54\\ub529 \\xd7 \\ucf54\\ub529 \\uac15\\uc0ac \\uc591\\uc131\\uacfc\\uc815...  [KIEP\\uc640 \\ud568\\uaed8\\ud558\\ub294 <b>\\uacbd\\uc81c</b>\\uc6a9\\uc5b4] \\uc778\\ub354\\uc2a4\\ud2b8\\ub9ac 4.0 (Industry 4.0) [\\ud589\\uc0ac\\uc6b4\\uc601] \\uc11c\\uc6b8\\uc0b0\\uc5c5\\uc9c4\\ud765\\uc6d0, \\uc0ac\\ud68c\\uc801<b>\\uacbd\\uc81c</b>\\ud1b5\\ud569\\uc9c0\\uc6d0\\uc13c\\ud130 \\uacf5\\ub3d9 \\uc8fc\\ucd5c...  \\ub3d9\\uc791\\uad6c \\uc0ac\\ud68c\\uc801<b>\\uacbd\\uc81c</b> \\ub9c8\\uc744\\uc7a5\\ud130 \\uac1c\\ucd5c [\\ub300\\ub9cc<b>\\uacbd\\uc81c</b>] \\u2605 \\ub300\\ub9cc\\uc740 \\uc9c0\\uae08, \\ub300\\ub9cc <b>\\uacbd\\uc81c</b>\\uc18c\\uc2dd(6/2, \\uae08);  \\u53f0...  \\uc0dd\\uc0b0\\uc9c0\\ub294 \\uc9c0\\uae08 - 4\\ucc28 \\uc0b0\\uc5c5\\ud601\\uba85\\uacfc \\ud55c\\uc0b4\\ub9bc\\uc0dd\\uc0b0\\uc790 \\uacf5\\ub3d9\\uccb4\\uc758 <b>\\uacbd\\uc81c</b> \\uad00\\uacc4 '), (u'20170601', u\"\\uc2dc\\ubbfc\\uc8fc\\uad8c\\uc2dc\\ub300, \\uc778\\ucc9c\\uc2dc <b>\\uacbd\\uc81c</b>\\uc8fc\\uad8c \\ubc1c\\ud45c! \\u300e\\uc740\\ud589\\uc774 \\uba48\\ucd94\\ub294 \\ub0a0\\u300f [\\ucd9c\\uac04\\uae30\\ub150 \\uacf5\\uc720 \\uc774\\ubca4\\ud2b8 2] \\ucd5c\\uc545\\uc758 <b>\\uacbd\\uc81c</b>...  [\\ud589\\uc0ac] \\u2018\\ud63c\\ud569\\uc18c\\uc720\\uc81c\\ub97c \\ud1b5\\ud55c \\uc7ac\\ub3c4\\uc57d\\u2019 \\uc911\\uad6d<b>\\uacbd\\uc81c</b>\\uc5f0\\uad6c\\ud559\\ud68c...  [BLANK with \\ubc30\\uc6b0 \\uc774\\uc218\\ubbfc] 170501 \\uc11c\\uc6b8<b>\\uacbd\\uc81c</b> '\\uc5ed\\uc801:\\ubc31\\uc131\\uc744...  [\\uae08\\uc735<b>\\uacbd\\uc81c</b>] \\ud63c\\uc790\\ub77c\\ub3c4 \\ud589\\ubcf5\\ud558\\uac8c! '1\\ucf54\\ub178\\ubbf8' \\uc2dc\\ub300 \\ub3c4\\ub798 [\\uc2a4\\ud398\\uc15c<b>\\uacbd\\uc81c</b>][\\ud504\\ub85c\\uc57c\\uad6c]NC\\xb7kt, 1\\ub3001 \\ud2b8\\ub808\\uc774\\ub4dc \\uc8fc\\uc778\\uacf5\\uc740? \\uc775\\uc0b0\\uc2dc, \\ubbfc\\uc0dd<b>\\uacbd\\uc81c</b> \\ud65c\\uc131\\ud654 \\uc608\\uc0b0 \\ub4f1 \\uc81c1\\ud68c \\ucd94\\uacbd1,432\\uc5b5\\uc6d0 \\uc99d\\uc561...  \\uc0ac\\ud68c\\uc801<b>\\uacbd\\uc81c</b> \\ud76c\\ub9dd\\ub098\\ub214\\uc7a5\\ud130 \"), (u'20170531', u\"\\ub300\\uad6c \\ucc3d\\uc870<b>\\uacbd\\uc81c</b>\\ub2e8\\uc9c0 \\ub9db\\uc9d1 \\ud48d\\uad6d\\uba74 #\\ubd80\\uc0b0<b>\\uacbd\\uc81c</b>\\uc9c4\\ud765\\uc6d0 \\ub124\\uc774\\ubc84 \\uacf5\\uc2dd\\ube14\\ub85c\\uadf8 \\uc778\\uc99d \\ubc1b\\ub2e4. [\\ucda9\\ubd81\\ucc3d\\uc870<b>\\uacbd\\uc81c</b>\\ud601\\uc2e0\\uc13c\\ud130]  '\\ubc14\\uc774\\uc624 \\uad6d\\uc81c \\ucee8\\ud37c\\ub7f0\\uc2a4(Bio...  \\ubbf8\\ub798\\uc5d0\\uc14b\\uc790\\uc0b0\\uc6b4\\uc6a9\\uacfc \\ud568\\uaed8\\ud558\\ub294 \\uc6b0\\ub9ac\\uc544\\uc774 <b>\\uacbd\\uc81c</b> \\uad50\\uc2e4 \\uc811\\uc774\\uc2dd \\uc804\\uae30\\uc790\\uc804\\uac70 - EASY-BIKE #\\uc820\\ud2c0\\ubaa8\\ud130\\uc2a4 (@\\ubd80\\uc0b0<b>\\uacbd\\uc81c</b>\\uc9c4\\ud765\\uc6d0) [\\ud3ec\\ud56d\\ucc3d\\uc870<b>\\uacbd\\uc81c</b>\\ud601\\uc2e0\\uc13c\\ud130 6\\uc6d4 K-ICT \\ucc3d\\uc5c5 \\uba58\\ud1a0\\ub9c1 \\uc548\\ub0b4 [\\uacbd\\ub0a8\\ucc3d\\uc870<b>\\uacbd\\uc81c</b>\\ud601\\uc2e0\\uc13c\\ud130] \\uc790\\uc720\\ud559\\uae30\\uc81c \\u300c\\uc0c1\\uc0c1\\ud2f0\\uc6c0 \\ucc3d\\uc5c5\\uccb4\\ud5d8\\u300d...  [\\ubd80\\uc0b0<b>\\uacbd\\uc81c</b>\\uc9c4\\ud765\\uc6d0] \\uc18c\\uacf5\\uc778\\ud2b9\\ud654\\uad50\\uc721 '\\ud2b9\\ud5c8 \\ub4f1\\ub85d \\ubc0f \\uc138\\ubb34\\ud68c\\uacc4...  \\u300c\\uc0ac\\ud68c\\uc801<b>\\uacbd\\uc81c</b>\\uc0b4\\ub871\\u300d \\ubb34\\ub8cc\\ub85c \\ub178\\ub7c9\\uc9c4 \\uc54c\\uc9dc\\ubc30\\uae30 \\uc0ac\\ubb34\\uc2e4\\uc744...  [\\ud3ec\\ud56d\\ucc3d\\uc870<b>\\uacbd\\uc81c</b>\\ud601\\uc2e0\\uc13c\\ud130] 2017 \\ud3ec\\ud56d\\uae30\\uc220\\uc7a5\\ud130&amp; \\ud3ec\\uc2a4\\ucf54 BS\\uacfc\\uc81c...  <b>\\uacbd\\uc81c</b> \\ud559\\uc704\\uc758 \\uc624\\ub298 / \\ud55c\\uc131\\uc548 \"), (u'20170530', u'\\ub0b4\\uaebc\\uc778 \\ub4ef \\ub0b4\\uaebc \\uc544\\ub2cc \\ub108, &lt;<b>\\uacbd\\uc81c</b> \\ud55c\\ub208\\uc5d0 \\ubcf4\\ub294 <b>\\uacbd\\uc81c</b>&gt; [\\uc804\\ubd81\\ucc3d\\uc870<b>\\uacbd\\uc81c</b>\\ud601\\uc2e0\\uc13c\\ud130] \\uc2a4\\ub9c8\\ud2b8\\ucc3d\\uc791\\ud130 \\uc11c\\ud3ec\\ud130\\uc988(2\\uae30) \\ubaa8\\uc9d1 [\\uacbd\\ubd81\\ucc3d\\uc870<b>\\uacbd\\uc81c</b>\\ud601\\uc2e0\\uc13c\\ud130] \\uc81c5\\ud68c G_Star \\ub300\\ud559\\uc0dd\\ucc3d\\uc5c5\\uacbd\\uc9c4\\ub300\\ud68c [\\uc778\\ucc9c\\ucc3d\\uc870<b>\\uacbd\\uc81c</b>\\ud601\\uc2e0\\uc13c\\ud130] \\uc720\\ub2c8\\ucf58 \\uae30\\uc5c5 \\uc721\\uc131\\uc744 \\uc704\\ud55c...  [\\ucda9\\ub0a8\\ucc3d\\uc870<b>\\uacbd\\uc81c</b>\\ud601\\uc2e0\\uc13c\\ud130] 2017 \\ubca0\\ud2b8\\ub0a8 \\uad6d\\uc81c\\uc720\\ud1b5\\uc0b0\\uc5c5 \\uc804\\uc2dc\\ud68c \\ucc38\\uac00 \\ucda9\\ub0a8<b>\\uacbd\\uc81c</b>\\uc9c4\\ud765\\uc6d0, \\uc911\\uc7a5\\ub144 \\ucc3d\\uc5c5\\uc790 \\ubaa8\\uc9d1 [\\uc2a4\\ud398\\uc15c<b>\\uacbd\\uc81c</b>]KEB\\ud558\\ub098\\uc740\\ud589, Bank of Hope\\uc640 \\ud611\\uc57d \\uccb4\\uacb0...  '), (u'20170529', u'\\uc778\\ucc9c\\uc2dc, \\ubabd\\uace8\\uacfc\\uc758 <b>\\uacbd\\uc81c</b>\\uad50\\ub958 \\ud611\\ub825 \\ud655\\ub300 \\u4e2d \\uacf5\\uc720<b>\\uacbd\\uc81c</b>, \\ucd95\\ubc30\\ub97c \\ub4e4\\uae30\\uc5d0\\ub294 \\uc774\\ub974\\ub2e4 [\\ubd80\\uc0b0\\ucc3d\\uc870<b>\\uacbd\\uc81c</b>\\ud601\\uc2e0\\uc13c\\ud130] 2017 \\uc804\\uad6d \\uacf5\\ub3d9 \\uc18c\\uc2f1\\ubc15\\ub78c\\ud68c \\uac1c\\ucd5c [\\uc544\\uc2dc\\uc544<b>\\uacbd\\uc81c</b>] [\\uc7ac\\uacc4, \\ud611\\ub825\\uc0ac \\uc77c\\uc790\\ub9ac \\uc0c1\\uc0dd]\\ud604\\ub300\\uae30\\uc544\\ucc28, \\ucc44\\uc6a9...  [\\uc54c\\uae30\\uc26c\\uc6b4 \\uc911\\uad6d<b>\\uacbd\\uc81c</b>] \\ub178\\ud6c4\\ud55c \\uacf5\\uc5c5\\uc9c0\\uc5ed \\uc2f9 \\ub72f\\uc5b4\\uace0\\uce58\\ub294 \\uc911\\uad6d \\uc0c8 \\uc815\\ubd80 <b>\\uacbd\\uc81c</b>\\uc815\\ucc45 \\uae30\\ub300\\uac10 \\uc18c\\ube44\\uc790\\uc2ec\\ub9ac \\uac1c\\uc120 '), (u'20170528', u'\\uac00\\uacc4\\uc218\\uc9c0 \\uc0c1\\ud669\\uc73c\\ub85c \\uac00\\uacc4<b>\\uacbd\\uc81c</b>\\ub97c \\uc774\\ud574\\ud558\\uc790! \\ubb38\\uc7ac\\uc778 <b>\\uacbd\\uc81c</b>\\uc5d0 \\ub300\\ud55c \\uccab \\ub2e8\\uc0c1 '), (u'20170527', u'\\u2018\\uc804\\ud1b5\\uc2dc\\uc7a5\\uacfc \\ud568\\uaed8\\ud558\\ub294 \\uc0ac\\ud68c\\uc801 <b>\\uacbd\\uc81c</b> \\ub098\\ub214\\uc7a5\\ud130\\u2019 \\u2018\\uc804\\ud1b5\\uc2dc\\uc7a5\\uacfc \\ud568\\uaed8\\ud558\\ub294 \\uc0ac\\ud68c\\uc801 <b>\\uacbd\\uc81c</b> \\ub098\\ub214\\uc7a5\\ud130\\u2019 \\ub300\\uad6c\\ub9db\\uc9d1 - \\uce68\\uc0b0\\ub3d9\\ub9db\\uc9d1 \\ucc3d\\uc870<b>\\uacbd\\uc81c</b>\\ub2e8\\uc9c0\\ub9db\\uc9d1 \\uc0b4\\uc9dd \\uc544\\uc26c\\uc6b4 \\uad6c\\uc2ac\\ud568\\ubc15 '), (u'20170526', u\"\\ucd1d\\uc7a5\\ub2d8 \\ubc1c\\uc81c '\\uad50\\uc721 \\ud328\\ub7ec\\ub2e4\\uc784 \\ubcc0\\ud654\\uc640 \\uacf5\\uc720<b>\\uacbd\\uc81c</b>' [\\ud55c\\uad6d<b>\\uacbd\\uc81c</b>] \\uacf5\\uae30\\uc5c5 \\uc9c0\\uc6d0\\uc11c\\uc5d0 \\ud559\\ub825\\xb7\\uc2a4\\ud399 \\ubabb \\uc4f4\\ub2e4 [\\uacbd\\uae30\\ucc3d\\uc870<b>\\uacbd\\uc81c</b>\\ud601\\uc2e0\\uc13c\\ud130] '\\uc5c5\\ub77c\\uc774\\uc988 \\uae00\\ub85c\\ubc8c\\uc2a4\\ud0c0\\ud2b8\\uc5c5\\ud3ec\\ub7fc...  \\uc0ac\\ud68c\\uc801 <b>\\uacbd\\uc81c</b> \\ub3c5\\uc790 \\ud2f0\\ud0c0\\uc784 \"), (u'20170525', u'[\\uc81c\\uc8fc\\ucc3d\\uc870<b>\\uacbd\\uc81c</b>\\ud601\\uc2e0\\uc13c\\ud130] \\uc6d0\\uc2a4\\ud1b1 \\uc0c1\\ub2f4 \\uc11c\\ube44\\uc2a4 \\uc6b4\\uc601 \\uc54c\\ub9bc! [\\uc5f0\\uc218\\uc18c\\uc2dd]\\u300e\\uc5f0\\uc218\\uad6c \\uc0ac\\ud68c\\uc801<b>\\uacbd\\uc81c</b> \\ucc3e\\uc544\\uac00\\ub294 \\uad6c\\ubbfc \\uad50\\uc721\\u300f \\uc2e4\\uc2dc \\ubca4\\ucc98, \\uc18e\\uc544\\ub0b8\\ub2e4\\u300d \\ubcf4\\ub3c4 \\uad00\\ub828 - 2017. 5. 25. (\\ubaa9) \\ub9e4\\uc77c<b>\\uacbd\\uc81c</b> A01\\uba74 \\ucc3d\\uc870<b>\\uacbd\\uc81c</b> \\uc678 \\ub3c5\\uc11c '), (u'20170524', u'2\\ud559\\ub144\\ucd94\\ucc9c\\ub3c4\\uc11c <b>\\uacbd\\uc81c</b>\\ub97c \\ubc30\\uc6cc\\uc694 [\\ucd9c\\uac04 \\uc804 \\uc5f0\\uc7ac] \\u300e\\uc740\\ud589\\uc774 \\uba48\\ucd94\\ub294 \\ub0a0\\u300f #03 \\ubb35\\uc0b4\\ub41c 1998\\ub144 <b>\\uacbd\\uc81c</b>...  [\\uae08\\uc735<b>\\uacbd\\uc81c</b>] \\uc6b0\\ub9ac\\ub098\\ub77c\\uc640 \\uc678\\uad6d\\uc758 \\uae08\\uc735\\uad50\\uc721 Why, How - \\uadf8 \\uc911\\uc694\\uc131 [\\uacbd\\uae30\\ucc3d\\uc870<b>\\uacbd\\uc81c</b>\\ud601\\uc2e0\\uc13c\\ud130] Biz Growth Marketing  \\ud504\\ub85c\\uadf8\\ub7a8...  \\ud559\\uad50\\ud611\\ub3d9\\uc870\\ud569 \\uc124\\ub9bd\\uc73c\\ub85c \\uc0ac\\ud68c\\uc801<b>\\uacbd\\uc81c</b>\\ub97c \\ubc30\\uc6cc\\uc694~~~ [\\uc2a4\\ub0b5\\ucee4\\ube14 <b>\\uacbd\\uc81c</b>] \\uc2e4\\uccb4 \\uc5c6\\ub294 \\uc99d\\uad8c\\uac00 \\uad34\\ub2f4, \\uc9c0\\ube0c\\ub9ac\\uc758 \\uc800\\uc8fc [\\ub300\\uad6c\\ucc3d\\uc870<b>\\uacbd\\uc81c</b>\\ud601\\uc2e0\\uc13c\\ud130] \\uc0c1\\uc0c1\\uc774 \\ud604\\uc2e4\\uc774 \\ub418\\ub294 \\uacf3, C-Fab! [\\uacbd\\ub0a8\\ucc3d\\uc870<b>\\uacbd\\uc81c</b>\\ud601\\uc2e0\\uc13c\\ud130] \\uae00\\ub85c\\ubc8c\\uc0c1\\uc0c1\\ucc3d\\uc5c5\\ud0d0\\uc0c9\\uae30 \\uad50\\uc721 \\uc2e4\\uc2dc \\uccad\\uc18c\\ub144 <b>\\uacbd\\uc81c</b> \\ucc3d\\uc5c5\\uad50\\uc2e4_\\uc591\\uc0b0 '), (u'20170523', u\"[\\uc81c\\uc8fc\\ucc3d\\uc870<b>\\uacbd\\uc81c</b>\\ud601\\uc2e0\\uc13c\\ud130] \\ucc3d\\uc870\\uacf5\\ubc29[J-Fab Lab] OPEN! [\\uc5f0\\uc218\\uc18c\\uc2dd] 2017\\ub144 \\uc0ac\\ud68c\\uc801<b>\\uacbd\\uc81c</b>\\uae30\\uc5c5\\uac00 \\uc591\\uc131 \\uad50\\uc721 \\uc218\\uac15\\uc0dd \\ubaa8\\uc9d1 [\\ucda9\\ub0a8\\ucc3d\\uc870<b>\\uacbd\\uc81c</b>\\ud601\\uc2e0\\uc13c\\ud130] 2017\\ub144\\ub3c4 \\uc218\\uc694\\ud53c\\uce6d\\ub370\\uc774 '100\\ubc88\\uac00\\uc758...  [KIEP \\uc624\\ub298\\uc758 \\uc138\\uacc4<b>\\uacbd\\uc81c</b>] \\ub7ec\\xb7\\uc77c <b>\\uacbd\\uc81c</b>\\uad00\\uacc4 \\uc9c4\\uc804\\uacfc \\ud55c\\uad6d\\uc5d0 \\ub300\\ud55c...  [\\ub300\\uad6c\\ucc3d\\uc870<b>\\uacbd\\uc81c</b>\\ud601\\uc2e0\\uc13c\\ud130] C-Star Pitching 2017 \\ud558\\ubc18\\uae30 \\uc77c\\uc815...  [\\ub300\\ub9cc<b>\\uacbd\\uc81c</b>] \\u2605 \\ub300\\ub9cc\\uc740 \\uc9c0\\uae08, \\ub300\\ub9cc <b>\\uacbd\\uc81c</b>\\uc18c\\uc2dd(5/22 &amp; 23); \\u65e5...  \"), (u'20170522', u'\\uc601\\ud654\\ub85c \\ubcf4\\ub294 <b>\\uacbd\\uc81c</b> \\uc774\\uc57c\\uae30 [\\uc54c\\uae30\\uc26c\\uc6b4 \\uc911\\uad6d<b>\\uacbd\\uc81c</b>] \\u2018\\uc774\\uc885\\uad50\\ubc30\\u2019 \\uc2dc\\uc791\\ud55c \\uc911\\uad6d <b>\\uacbd\\uc81c</b>\\uacc4 SBS\\uc0dd\\ud65c<b>\\uacbd\\uc81c</b> 40\\ub300\\ubab8\\uc9f1\\uc544\\uc90c\\ub9c8 \\ub2e4\\uc774\\uc5b4\\ud2b8 \\ube44\\ubc95\\uc73c\\ub85c...  \\ub3d9\\xb7\\uc2dd\\ubb3c \\uc0b4\\uc544\\uac00\\ub294 \\uae30\\uc220 \\uc751\\uc6a9 \\u2018\\uccad\\uc0c9<b>\\uacbd\\uc81c</b>\\u2019 \\ub72c\\ub2e4 5\\uc6d4 23\\uc77c(\\ud654) \\uc624\\uc804 10:25 SBS \\uc0dd\\ud65c<b>\\uacbd\\uc81c</b> \\uc608\\uace0 \\ud310\\uc7a3\\uc9d1 \\uc18c\\ub144\\uac00\\uc7a5 \\uae40\\ub3d9\\uc5f0 <b>\\uacbd\\uc81c</b>\\ubd80\\ucd1d\\ub9ac...\\ubb38\\uc7ac\\uc778 \\uc815\\ubd80 <b>\\uacbd\\uc81c</b>\\xb7\\uc678\\uad50...  [\\uacbd\\ubd81\\ucc3d\\uc870<b>\\uacbd\\uc81c</b>\\ud601\\uc2e0\\uc13c\\ud130] \\uacbd\\ubd81\\uc13c\\ud130 \\ubcf4\\uc721\\uae30\\uc5c5 \\uc791\\uc740\\uc54c\\uc790\\uc2a4, \\uc0ac\\uacfc...  \\uac15\\uc6d0\\ucc3d\\uc870<b>\\uacbd\\uc81c</b>\\ud601\\uc2e0\\uc13c\\ud130 \\ucf00\\uc774\\ud130\\ub9c1 \\uc7a5\\ud558\\uc131 \\uae40\\uc0c1\\uc870 \\uc81c\\uc774\\ub178\\ubbf9\\uc2a4 \\uc0bc\\ub450\\ub9c8\\ucc28..11\\uc0b4 \\uc18c\\ub144\\uac00\\uc7a5 <b>\\uacbd\\uc81c</b>\\ubd80\\ucd1d\\ub9ac.. '), (u'20170521', u'\\ud478\\ub974\\ub374\\uc15c <b>\\uacbd\\uc81c</b>\\uad50\\uc721\\ubd09\\uc0ac\\ub2e8 2\\uae30 \\ud569\\uaca9 ! '), (u'20170519', u'\\uc774\\ubc29\\ucd08, <b>\\uacbd\\uc81c</b>, \\uae08\\uc735 \\uc6b0\\ub9ac\\ub3c4 \\uc54c\\uc544\\uc694! \\ubca0\\ud2b8\\ub0a8 <b>\\uacbd\\uc81c</b> \\uc131\\uc7a5\\uc758 \\uc6d0\\ub3d9\\ub825, <b>\\uacbd\\uc81c</b>\\ud2b9\\uad6c [\\uacbd\\uae30\\ucc3d\\uc870<b>\\uacbd\\uc81c</b>\\ud601\\uc2e0\\uc13c\\ud130] \\uae00\\ub85c\\ubc8c \\uc9c4\\ucd9c \\ub9de\\ucda4\\ud615 \\uc9c0\\uc6d0 \\uc0ac\\uc5c5 \\uc2dc\\ud589 [KIEP\\uc640 \\ud568\\uaed8\\ud558\\ub294 <b>\\uacbd\\uc81c</b>\\uc6a9\\uc5b4] \\ube44\\uc138\\uadf8\\ub77c\\ub4dc \\uadf8\\ub8f9(Visegrad Group) [\\uc0dd\\ud65c\\uc815\\ubcf4] \\uc0ac\\ud68c\\uc801<b>\\uacbd\\uc81c</b>\\uae30\\uc5c5 \\ucc3d\\uc5c5 \\uc124\\uba85\\ud68c \\uac1c\\ucd5c '), (u'20170518', u'<b>\\uacbd\\uc81c</b> \\uc131\\uc7a5\\uc758 \\uadf8\\ub9bc\\uc790 \\ubc15\\uc778\\uc219 \\uc758\\uc6d0, \\u300c\\uc81c32\\ud68c \\uad6d\\ud68c\\ubc14\\uc774\\uc624<b>\\uacbd\\uc81c</b>\\ud3ec\\ub7fc \\u2013 \\uc2e0\\uc815\\ubd80 \\ubc14\\uc774\\uc624...  \\ub3c4\\ubd09, \\uc0ac\\ud68c\\uc801<b>\\uacbd\\uc81c</b>\\ubd84\\uc57c \\uacf5\\ubaa8 \\uc787\\ub2e8 \\uc120\\uc815\\uacf5\\uc815\\ubb34\\uc5ed \\uc9c0\\uc6d0 '), (u'20170517', u'[\\uc804\\ubd81\\ucc3d\\uc870<b>\\uacbd\\uc81c</b>\\ud601\\uc2e0\\uc13c\\ud130] \\uc601\\uc0c1\\uc81c\\uc791 \\ubc0f \\uc2e4\\uc2dc\\uac04 \\uc0dd\\ubc29\\uc1a1 / \\ud3b8\\uc9d1...  \\uc0ac\\ud68c\\uc801 <b>\\uacbd\\uc81c</b>\\ub294 \\uc88c\\uc6b0\\ub97c \\ub118\\ub294\\ub2e4, \\ucd9c\\uac04 \\ud6c4\\uae30 [\\uac15\\uc6d0\\ucc3d\\uc870<b>\\uacbd\\uc81c</b>\\ud601\\uc2e0\\uc13c\\ud130]  e-\\ucee4\\uba38\\uc2a4 \\ubc0f \\ub9c8\\ucf00\\ud305 6\\uc6d4 \\ubb34\\ub8cc \\uad50\\uc721\\uc0dd...  <b>\\uacbd\\uc81c</b> \\ucee8\\ud2b8\\ub864\\ud0c0\\uc6cc \\uc81c\\ub300\\ub85c \\uc138\\uc6cc\\ub77c \\ud568\\uc591\\ub18d\\ud611, \\uc591\\ud30c\\ub85c <b>\\uacbd\\uc81c</b>\\uc0ac\\uc5c5 \\ud65c\\uc131\\ud654\\uc5d0 \\uc55e\\uc7a5\\uc120\\ub2e4 [\\uacbd\\ub0a8\\ucc3d\\uc870<b>\\uacbd\\uc81c</b>\\ud601\\uc2e0\\uc13c\\ud130] \\uc81c3\\ud68c \\uccad\\ub144\\ucc44\\uc6a9\\uc758 \\ub0a0 \\uac1c\\ucd5c SBSCNBC <b>\\uacbd\\uc81c</b>\\uc640\\uc774\\ub4dc \\ubc31\\ube0c\\ub9ac\\ud551 \\uc2dc\\uc2dc\\uac01\\uac01 &quot;\\ubd04\\ucca0 \\ubbf8\\uc138\\uba3c\\uc9c0 \\uc7a1\\ub294...  '), (u'20170516', u\"\\uc0c1\\uacbd \\uacc4\\uc5f4 \\uc9c4\\ub85c, <b>\\uacbd\\uc81c</b> \\uad00\\uc2ec \\ud559\\uc0dd\\uc744 \\uc704\\ud55c \\uc96c\\ub2c8\\uc5b4 \\ud14c\\uc14b \\uc900\\ube44 2017\\ub144 \\uc218\\uc815 <b>\\uacbd\\uc81c</b>\\uc804\\ub9dd 2017\\ub144 1\\ucc28 \\ucc3d\\uc870<b>\\uacbd\\uc81c</b>\\ud0c0\\uc6b4 \\uc778\\ub514\\uc571 \\ud64d\\ubcf4 \\uacf5\\ubaa8\\uc804 \\ud2f4\\ud2f4<b>\\uacbd\\uc81c</b>\\uad50\\uc721 How [\\uc81c\\uc8fc\\ucc3d\\uc870<b>\\uacbd\\uc81c</b>\\ud601\\uc2e0\\uc13c\\ud130] 2017 \\uccb4\\ub958\\uc9c0\\uc6d0\\uc0ac\\uc5c5 '\\uc81c\\uc8fc\\ub2e4\\uc6c0' 6\\uc6d4 \\ud2b9\\uc774\\uc810\\uc774 \\ubc1c\\uc0dd\\ud558\\ub2e4... - \\ubd80\\uc81c: \\uad6d\\ud68c\\uc608\\uc0b0\\ucc98 <b>\\uacbd\\uc81c</b>\\ub3d9\\ud5a5 &amp; \\uc774\\uc288(\\uc81c54\\ud638) \\uacf5\\ub3d9\\uc721\\uc544 \\ud488\\uc557\\uc774\\uc218\\uc5c5 \\u2669 \\ub098\\ub214\\uc7a5\\ud130 \\ud504\\ub85c\\uc81d\\ud2b8 1. \\ub3c8\\ub9cc\\ub4e4\\uae30 <b>\\uacbd\\uc81c</b>\\uad50\\uc721 \\uc5b4\\ucd0c \\uc0b4\\ub9bc\\uc0b4\\uc774 \\uc5b4\\ub54c\\uc694? \\uadf8\\ub798\\ud504\\ub85c \\uc815\\ub9ac\\ud55c \\uc5b4\\uac00<b>\\uacbd\\uc81c</b>\\uc870\\uc0ac \\uacb0\\uacfc \"), (u'20170515', u'\\ubb38\\uc7ac\\uc778 \\uc815\\ubd80 <b>\\uacbd\\uc81c</b> [\\ucda9\\ubd81\\ucc3d\\uc870<b>\\uacbd\\uc81c</b>\\ud601\\uc2e0\\uc13c\\ud130] K- \\ubdf0\\ud2f0 \\ub514\\uc790\\uc778\\uc5ed\\ub7c9\\uac15\\ud654 \\uc9c0\\uc6d0 \\uc0ac\\uc5c5...  [\\uacbd\\ubd81\\ucc3d\\uc870<b>\\uacbd\\uc81c</b>\\ud601\\uc2e0\\uc13c\\ud130] \\uacc4\\uc57d\\uc9c1 \\uc9c1\\uc6d0 \\ubaa8\\uc9d1 2017\\ub144 5\\uc6d4, \\uc911\\uad6d\\uc99d\\uc2dc \\uc8fc\\uc694 <b>\\uacbd\\uc81c</b>\\uc9c0\\ud45c \\ubc1c\\ud45c\\uc77c\\uc815 \\ubc0f \\ud734\\uc7a5\\uc77c \\uc548\\ub0b4 '), (u'20170514', u'\\ud604\\ub300<b>\\uacbd\\uc81c</b>\\u784f \\u201c\\u6587 \\uc77c\\uc790\\ub9ac \\uc815\\ucc45, \\uccad\\ub144\\uce35\\uc5d0 \\ub3c4\\uc6c0 \\ub420 \\uac83\\u201d '), (u'20170513', u'[\\ub300\\ub9cc<b>\\uacbd\\uc81c</b>] \\u2605 \\ub300\\ub9cc\\uc740 \\uc9c0\\uae08, \\ub300\\ub9cc <b>\\uacbd\\uc81c</b>\\uc18c\\uc2dd(5/11,12); \\ucc28\\uc774...  \\ud55c\\uad6d\\ub18d\\ucd0c<b>\\uacbd\\uc81c</b>\\uc5f0\\uad6c\\uc6d0, \\uc11c\\uc6b8\\ub18d\\uc218\\uc0b0\\uc2dd\\ud488\\uacf5\\uc0ac\\uc640 MOU \\uccb4\\uacb0 '), (u'20170512', u'\\uc9c0\\uae08, \\uc6b0\\ub9ac <b>\\uacbd\\uc81c</b>\\ub294? [\\ubb38\\uc7ac\\uc778 \\uc815\\ubd80 \\ucd9c\\ubc94.. \\uc6b8\\uc0b0<b>\\uacbd\\uc81c</b> \\uae30\\ub300\\uc640 \\uae34\\uc7a5 \\uad50\\ucc28] [KIEP\\uc640 \\ud568\\uaed8\\ud558\\ub294 <b>\\uacbd\\uc81c</b>\\uc6a9\\uc5b4] \\uc720\\ub77c\\uc2dc\\uc544<b>\\uacbd\\uc81c</b>\\uc5f0\\ud569...  \\uc0ac\\ud68c\\uc801<b>\\uacbd\\uc81c</b>\\uae30\\uc5c5\\uacfc \\uc11c\\uc6b8\\uc2dc \\uc6b0\\uc218\\uc911\\uc18c\\uae30\\uc5c5\\uc774 \\ud568\\uaed8\\ud558\\ub294...  [\\ubd80\\uc0b0\\ucc3d\\uc870<b>\\uacbd\\uc81c</b>\\ud601\\uc2e0\\uc13c\\ud130]                              2017...  \\ubb38\\uc7ac\\uc778 \\ub300\\ud1b5\\ub839 \\ucd94\\ucc9c\\ub3c4\\uc11c, \\uc6b0\\uc11d\\ud6c8\\uc758 \\u300a\\uc0ac\\ud68c\\uc801 <b>\\uacbd\\uc81c</b>\\ub294 \\uc88c\\uc6b0\\ub97c...  \\uac15\\ub3d9\\uad6c, \\uc0ac\\ud68c\\uc801<b>\\uacbd\\uc81c</b> \\uc544\\uce74\\ub370\\ubbf8\\u2018\\uc6b0\\ub9ac\\ub07c\\ub9ac-\\uccad\\ub144\\u2019 \\u7121\\u6599\\uc218\\uac15\\uc0dd \\ubaa8\\uc9d1 '), (u'20170511', u'[\\ubd80\\uc0b0\\ucc3d\\uc870<b>\\uacbd\\uc81c</b>\\ud601\\uc2e0\\uc13c\\ud130] Living Lab \\uc2e4\\uc99d\\uae30\\uc5c5 \\uc9c0\\uc6d0 \\ubaa8\\uc9d1\\uacf5\\uace0 \\ubaa8\\ub460\\uc218\\uc5c5\\uc73c\\ub85c <b>\\uacbd\\uc81c</b>\\uad50\\uc721 \\ubc30\\uc6cc\\ubcf4\\uae30 '), (u'20170510', u'[\\ub300\\uc120\\ud2b9\\uc9d1] \\uc5ed\\ub300 \\ub300\\ud1b5\\ub839\\uc758 <b>\\uacbd\\uc81c</b>\\uc815\\ucc45 \\u2018\\uc11c\\uc6b8\\uad6d\\uc81c\\ud578\\ub4dc\\uba54\\uc774\\ub4dc\\ud398\\uc5b4 2017\\u2019 \\ube5b\\ub0b8 \\uc0ac\\ud68c\\uc801<b>\\uacbd\\uc81c</b> \\uc0c1\\ud488 21\\uc120 \\ubb38\\uc7ac\\uc778 \\ub300\\ud1b5\\ub839 \\ub2f9\\uc120, <b>\\uacbd\\uc81c</b> \\ud68c\\ubcf5\\uacfc \\uc801\\ud3d0\\uccad\\uc0b0 \\ub450 \\ub9c8\\ub9ac \\ud1a0\\ub07c \\ub2e4...  [\\uacbd\\ubd81\\ucc3d\\uc870<b>\\uacbd\\uc81c</b>\\ud601\\uc2e0\\uc13c\\ud130] \\uacbd\\ubd81\\ucc3d\\uc870<b>\\uacbd\\uc81c</b>\\ud601\\uc2e0\\uc13c\\ud130, 4\\uc6d4 Mini...  [\\uacbd\\uae30\\ucc3d\\uc870<b>\\uacbd\\uc81c</b>\\ud601\\uc2e0\\uc13c\\ud130]                              K-Champ Lab...  \\uac1c\\uc2e0\\ucd08, \\uc5b4\\ub9b0\\uc774<b>\\uacbd\\uc81c</b>\\uad50\\uc721\\ubba4\\uc9c0\\uceec \\uacf5\\uc5f0 [\\uacbd\\ub0a8\\ucc3d\\uc870<b>\\uacbd\\uc81c</b>\\ud601\\uc2e0\\uc13c\\ud130] 4\\ucc28 \\uc0b0\\uc5c5\\ud601\\uba85 \\uad00\\ub828 \\uc544\\uc774\\ub514\\uc5b4 \\ubc1c\\uad74...  '), (u'20170508', u'\\uc778\\ucc9c\\uc2dc, <b>\\uacbd\\uc81c</b>\\uc8fc\\uad8c \\uc8fc\\uc81c\\ub85c \\uc2dc\\ubbfc\\uacfc \\uc9d1\\uc911\\ud1a0\\ub860 \\uacc4\\ud1b5\\uc870\\uc9c1\\uac04 \\uc0c1\\uc0dd \\ubc1c\\uc804 \\ub3c4\\ubaa8, 2017\\ub144 \\uc804\\uad6d \\ud68c\\uc6d0\\uc870\\ud569 <b>\\uacbd\\uc81c</b>\\uc0c1\\ubb34\\ud68c...  \\uc6a9\\uc778 \\u2018SEC \\uc9c4\\ub85c\\uad50\\uc721\\uc5f0\\uad6c\\ud68c\\u2019 \\uc791\\uc740 \\ud559\\uae09 <b>\\uacbd\\uc81c</b>\\ub85c \\ud589\\ubcf5\\ud55c \\uad50\\uc2e4...  '), (u'20170507', u'\\uc6a9\\ub3c8\\uc73c\\ub85c \\ubc30\\uc6b0\\ub294 \\uc5b4\\ub9b0\\uc774<b>\\uacbd\\uc81c</b> \\ucd08\\ub4f1\\uad8c\\uc7a5\\ub3c4\\uc11c :: [\\ud0a4\\uc704\\ubd81\\uc2a4] \\ub0b4...  '), (u'20170506', u'\\uc8fc\\uc2dd \\ube5b \\ubd80\\ub3d9\\uc0b0 \\ub85c\\uc6b0 \\ub370\\uc774\\ud130 \\ubc1b\\uae30(\\uac70\\uc2dc <b>\\uacbd\\uc81c</b> \\uc790\\ub8cc \\ubc1b\\uae30) \\uc61b\\ub0a0 \\uc61b\\uc801\\uc5d0 <b>\\uacbd\\uc81c</b>\\ub294... [\\ub9e4\\uc77c<b>\\uacbd\\uc81c</b>] `\\uad6c\\ub85c\\uc758 \\ub4f1\\ub300` \\ubd88 \\ub044\\ub2c8 \\ucc3d\\uc758\\ub825\\uc774 \\ucf1c\\uc84c\\ub2e4 '), (u'20170505', u'\\uc790\\ub140 <b>\\uacbd\\uc81c</b>\\uad50\\uc721, \\uc6a9\\ub3c8 \\uad00\\ub9ac\\ub85c \\uc2dc\\uc791\\ud558\\ub294 \\ubc29\\ubc95 \\ub300\\uad6c\\ub9db\\uc9d1 - \\uce60\\uc131\\ub3d9\\ub9db\\uc9d1 \\uc0bc\\uc131\\ucc3d\\uc870<b>\\uacbd\\uc81c</b>\\ub2e8\\uc9c0\\ub9db\\uc9d1 \\ub9d0\\uc774 \\ud544\\uc694\\uc5c6\\ub294...  '), (u'20170504', u'[\\ubd80\\uc0b0\\ucc3d\\uc870<b>\\uacbd\\uc81c</b>\\ud601\\uc2e0\\uc13c\\ud130] \\ubd80\\uc0b0\\uc13c\\ud130, LOTTE \\uace0\\uc6a9\\ub514\\ub524\\ub3cc \\ubaa8\\uc9d1 \\uacf5\\uace0 \\uacf5\\ub3d9\\uccb4 \\ubc0f \\uc0ac\\ud68c\\uc801<b>\\uacbd\\uc81c</b> \\ud1b5\\ud569\\uc9c0\\uc6d0 \\ubc95\\uc81c\\ud654 \\uae30\\ucd08\\uc5f0\\uad6c [\\uacbd\\uae30\\uc5f0\\uad6c\\uc6d0...  '), (u'20170503', u'\\u20188\\uc8705000\\uc5b5\\uc6d0\\u2019, \\uc62c\\ud574 \\uc0ac\\ub4dc \\ubcf4\\ubcf5\\uc73c\\ub85c \\ud55c\\uad6d<b>\\uacbd\\uc81c</b>\\uac00 \\uc785\\uc744 \\ud53c\\ud574 [\\ub178\\ud2b8\\ubd81\\uc744 \\uc5f4\\uba70] \\u2018\\ub300\\ud1b5\\ub839 \\uc5c6\\ub294 153\\uc77c\\uc758 <b>\\uacbd\\uc81c</b>\\u2019\\uac00 \\ub0a8\\uae34 \\uac83 4 \\ub300\\uac15 \\ub179\\uc870\\ub85c \\ubcf4\\ub294 \\ub9c8\\uc74c\\uc758 <b>\\uacbd\\uc81c</b> [\\ub300\\uc804 \\uc0ac\\ud68c\\uc801 <b>\\uacbd\\uc81c</b>] \\uc9c4\\uc2ec\\uc744 \\ub2f4\\uc740 \\uaf43\\uc744 \\ub9cc\\ub4dc\\ub294 &quot;\\ub300\\uc804 \\ud654\\uc6d0 \\ud611\\ub3d9\\uc870\\ud569&quot; '), (u'20170502', u\"\\uc6b0\\ub9ac <b>\\uacbd\\uc81c</b>\\ub294 \\ub204\\uad6c\\uc758 \\ub178\\ub825\\uc73c\\ub85c \\uc774\\ub9cc\\ud07c \\ucef8\\uc744\\uae4c? \\uc0ac\\ud68c\\uc801 <b>\\uacbd\\uc81c</b>\\uc640 \\ud568\\uaed8\\ud558\\ub294 \\ud578\\ub4dc\\uba54\\uc774\\ub4dc \\ub300\\uc794\\uce58...  \\uc74c\\uc2dd\\uc810\\uc774 \\ub9dd\\ud558\\ub294 \\uc774\\uc720\\ub294 <b>\\uacbd\\uc81c</b>\\uac00 \\uc5b4\\ub824\\uc6cc\\uc11c\\uc77c\\uae4c? [<b>\\uacbd\\uc81c</b> \\uc54c\\uc544\\uc57c \\ubc14\\uafbc\\ub2e4] \\ubd81\\ucf58\\uc11c\\ud2b8 \\ub4b7 \\uc774\\uc57c\\uae30, \\uadf8\\ub9ac\\uace0 '\\ud32c\\uc544\\ud2b8\\uc758...  \\uad00\\uc545\\uc0ac\\ud68c\\uc801<b>\\uacbd\\uc81c</b> \\ub9c8\\uc744\\uc7a5\\ud130 '\\uafc8\\uc2dc\\uc7a5' [\\ucda9\\ub0a8\\ucc3d\\uc870<b>\\uacbd\\uc81c</b>\\ud601\\uc2e0\\uc13c\\ud130]                            2017\\ub144\\ub3c4...  \"), (u'20170501', u'[\\uc54c\\uae30\\uc26c\\uc6b4 \\uc911\\uad6d<b>\\uacbd\\uc81c</b>] \\uc2dc\\uc9c4\\ud551\\uc758 \\uc911\\uad6d\\ubabd, \\uc5bc\\ub9cc\\ud07c \\uc2e4\\ud604\\ud588\\uc744\\uae4c? \\uc7a5\\uc548\\uad6c <b>\\uacbd\\uc81c</b>\\uad50\\ud1b5\\uacfc, \\ub3c4\\uc2dc\\ub77d \\ubbf8\\ud305 \\uc5f4\\ub9ac\\ub2e4 '), (u'20170430', u'SBS \\uc0dd\\ud65c<b>\\uacbd\\uc81c</b> \\ubcf4\\uc131\\ub179\\ucc28 \\ucd5c\\ub300 \\uc0dd\\uc0b0\\uc9c0-\\ubcf4\\uc131\\uad70 \\ub2e4\\ub3c4\\ub77d \\ub2e4\\uc6d0 \\u4e2d, \\uc7ac\\uc815\\uc218\\uc138 \\uc99d\\uac00\\ub85c <b>\\uacbd\\uc81c</b>\\ubc1c\\uc804\\uc5d0 \\ud798 \\uc2e4\\uc5b4 \\uc918 '), (u'20170429', u\"[\\uad6d\\ubb34\\ub274\\uc2a4] 2017\\ub144 \\uc815\\ubd80\\ubd80\\ucc98 \\uc5c5\\ubb34\\ubcf4\\uace0 : \\ud2bc\\ud2bc\\ud55c <b>\\uacbd\\uc81c</b>('17.1.5) \\uc6b0\\ub9ac\\ud5cc\\ubc95\\uc0c1\\uc758 \\uc0ac\\ud68c\\uc801 \\uc2dc\\uc7a5<b>\\uacbd\\uc81c</b>\\uc8fc\\uc758 \"), (u'20170428', u'20/30\\ub300\\ub97c \\uc704\\ud55c \\uba85\\ud488 <b>\\uacbd\\uc81c</b>\\uad50\\uc591\\uc11c!, &lt;<b>\\uacbd\\uc81c</b>\\uc801 \\uccad\\ucd98&gt; (04.27) \\ube44\\ud050\\ub7ec\\uc2a4\\uc758 &quot;\\uc7ac\\ubbf8\\uc788\\ub294 <b>\\uacbd\\uc81c</b>\\uad50\\uc2e4&quot; [KIEP\\uc640 \\ud568\\uaed8\\ud558\\ub294 <b>\\uacbd\\uc81c</b>\\uc6a9\\uc5b4] O2O(Online to Offline) [\\ub300\\uad6c\\ucc3d\\uc870<b>\\uacbd\\uc81c</b>\\ud601\\uc2e0\\uc13c\\ud130]                           \\ub300\\uad6c\\uc13c\\ud130 X...  4.28. KBS MBC TV \\ub300\\uc120\\ud1a0\\ub860 (<b>\\uacbd\\uc81c</b>) \\uc548 \\uc4f0\\uae30, \\ub2e4 \\uc4f0\\uae30 No \\u2018\\uc798 \\uc4f0\\ub294\\u2019 <b>\\uacbd\\uc81c</b>\\uad50\\uc721 Yes '), (u'20170427', u'[\\uc911\\uad6d\\uc81c\\uc870 2025] \\uc911\\uad6d <b>\\uacbd\\uc81c</b>\\uc131\\uc7a5\\ub960 6.9%, \\u2018\\uc9c4\\uc9dc\\u2019\\ub85c \\uc131\\uc7a5\\ud588\\uc744\\uae4c \\ubb38,\\uc548\\ud30c <b>\\uacbd\\uc81c</b>\\ucc38\\ubaa8\\ub4e4.  Apr 27, 2017. '), (u'20170426', u'\\ub3c5\\uc790\\ud22c\\uace0-\\uc804\\uc900\\uc601(\\uace0\\ub824\\ub300\\ud559\\uad50 <b>\\uacbd\\uc81c</b>\\ud559\\uacfc 1\\ud559\\ub144) [\\ud3ec\\ud56d\\ucc3d\\uc870<b>\\uacbd\\uc81c</b>\\ud601\\uc2e0\\uc13c\\ud130] \\ud3ec\\ud56d\\ucc3d\\uc870<b>\\uacbd\\uc81c</b>\\ud601\\uc2e0\\uc13c\\ud130, \\uc9c4\\ub85c\\uccb4\\ud5d8...  [\\uacbd\\ub0a8\\ucc3d\\uc870<b>\\uacbd\\uc81c</b>\\ud601\\uc2e0\\uc13c\\ud130]  4\\ucc28 \\uc0b0\\uc5c5\\ud601\\uba85\\uc744 \\uc774\\ub04c \\uacbd\\ub0a8\\uc13c\\ud130...  '), (u'20170425', u'\\ub9db\\uc788\\ub294 <b>\\uacbd\\uc81c</b>\\uc6a9\\uc5b4\\ub97c \\uc18c\\uac1c\\ud569\\ub2c8\\ub2e4 \\uc138\\uacc4<b>\\uacbd\\uc81c</b> \\uc131\\uc7a5\\uc744 \\uc704\\ud55c G20 \\uc815\\ucc45\\uacf5\\uc870 \\ubc29\\uc548 \\ub17c\\uc758: G20 \\uc7ac\\ubb34\\uc7a5\\uad00...  [\\uacbd\\ubd81\\ucc3d\\uc870<b>\\uacbd\\uc81c</b>\\ud601\\uc2e0\\uc13c\\ud130] G-STARt up Pitch Day \\uac1c\\ucd5c \\uc0ac\\ud68c\\uc801<b>\\uacbd\\uc81c</b> \\ucc3d\\uc5c5\\uc544\\uce74\\ub370\\ubbf8 \\uac1c\\uac15\\uc2dd \\uacc4\\uc591\\uad6c, \\uc77c\\uc790\\ub9ac \\ucc3d\\ucd9c\\ub85c \\uc9c0\\uc5ed<b>\\uacbd\\uc81c</b> \\ud65c\\uc131\\ud654 \\ucd94\\uc9c4 \\ub178\\ub825 [\\uc11c\\ud3c9] \\ub098\\ub294 \\uae08\\ub9ac\\ub85c <b>\\uacbd\\uc81c</b>\\ub97c \\uc77d\\ub294\\ub2e4 - \\ud22c\\uc790 \\uae30\\ucd08\\uccb4\\ub825 \\uac15\\ud654\\ub97c \\uc704\\ud558\\uc5ec [\\uacbd\\ub0a8\\ucc3d\\uc870<b>\\uacbd\\uc81c</b>\\ud601\\uc2e0\\uc13c\\ud130] \\uc2a4\\ub9c8\\ud2b8\\ud329\\ud1a0\\ub9ac 3\\uc790\\uac04 \\ud611\\uc57d\\uc2dd \\uac1c\\ucd5c [\\ucda9\\ub0a8\\ucc3d\\uc870<b>\\uacbd\\uc81c</b>\\ud601\\uc2e0\\uc13c\\ud130] 2017 \\ud0dc\\uc591\\uad11 \\uc735\\ubcf5\\ud569 \\uae30\\uc220\\uc0ac\\uc5c5\\ud654...  '), (u'20170424', u'\\uc6b0\\ub9ac <b>\\uacbd\\uc81c</b>\\ub294 \\uc5b4\\ub5bb\\uac8c \\uc131\\uc7a5\\ud574\\uc654\\uc744\\uae4c? \\u2018\\ubb38\\uc7ac\\uc778 \\ucea0\\ud504, \\uae08\\uc735<b>\\uacbd\\uc81c</b>\\uc704\\uc6d0\\uc7a5\\uc73c\\ub85c \\uc624\\uac11\\uc218\\uc528 \\uc601\\uc785\\u2019 [\\uc778\\ucc9c\\ucc3d\\uc870<b>\\uacbd\\uc81c</b>\\ud601\\uc2e0\\uc13c\\ud130]  \\ucde8\\uc5c5 \\ub3d9\\uc544\\ub9ac \\ubc0f \\ub2e8\\uccb4 \\uc9c0\\uc6d0 \\uc0ac\\uc5c5 \\u2018\\ube44\\uc0c1...  [\\ucda9\\ub0a8\\ucc3d\\uc870<b>\\uacbd\\uc81c</b>\\ud601\\uc2e0\\uc13c\\ud130] 2017\\ub144 \\uc81c2\\ud68c 6\\uac1c\\uc6d4 \\ucc4c\\ub9b0\\uc9c0 \\ud50c\\ub7ab\\ud3fc...  \\uc625\\ucc9c \\uc548\\ub0b4\\ucd08, \\uccb4\\ud5d8\\ud558\\uba70 \\ubc30\\uc6b0\\ub294 <b>\\uacbd\\uc81c</b>\\uad50\\uc721 \\uc2e4\\uc2dc '), (u'20170423', u'\\ub300\\uad6c\\ub9db\\uc9d1 -\\uce68\\uc0b0\\ub3d9\\ub9db\\uc9d1 \\ucc3d\\uc870<b>\\uacbd\\uc81c</b>\\ub2e8\\uc9c0\\ub9db\\uc9d1 \\uc810\\uc2ec\\uc73c\\ub85c\\ub3c4...  '), (u'20170422', u'\\uc5f0\\uae38 &quot;\\uc804\\uad6d\\ud604\\uc5ed <b>\\uacbd\\uc81c</b>\\uc911\\uc810\\uac1c\\ubc1c 20\\uac15&quot;\\uc5d0 \\uc9c4\\uc785 #16 <b>\\uacbd\\uc81c</b>\\uae30\\ubc18\\uc774\\ub860 '), (u'20170421', u'\\uae30\\ud68d\\uc7ac\\uc815\\ubd80 <b>\\uacbd\\uc81c</b>\\uad50\\uc721\\ud3ec\\ud138 \\uba85\\uce6d \\uc628\\ub77c\\uc778 \\ud22c\\ud45c \\uc5f0\\uc138\\ub300\\ud559\\uad50 \\ud559\\uc0dd\\ub4e4\\uc774 \\uc81c\\uc548\\ud558\\ub294 \\uc11c\\ubbfc\\ub4e4\\uc744 \\uc704\\ud55c <b>\\uacbd\\uc81c</b> \\uac1c\\ud601 \\ubc29\\uc548...  [\\uc6b8\\uc0b0\\ucc3d\\uc870<b>\\uacbd\\uc81c</b>\\ud601\\uc2e0\\uc13c\\ud130] \\ucc3d\\uc5c5 \\ucd08\\ubcf4\\uc758 \\uccad\\ub144\\ucc3d\\uc5c5 \\uc131\\uacf5\\uae30...  [\\ud3ec\\ud56d\\ucc3d\\uc870<b>\\uacbd\\uc81c</b>\\ud601\\uc2e0\\uc13c\\ud130] \\uc911\\uc18c\\uae30\\uc5c5 \\ud601\\uc2e0 School \\uad50\\uc721 \\uc548\\ub0b4 \\uc601\\uad11\\uad70, \\uc9c0\\uc5ed<b>\\uacbd\\uc81c</b>\\ud65c\\uc131\\ud654\\ub97c \\uc704\\ud55c \\u2018\\ubd04 \\uc5ec\\ud589\\uc8fc\\uac04 \\ucea0\\ud398\\uc778\\u2019 \\ub098\\uc11c \\uc601\\uad11\\uad70, \\uc9c0\\uc5ed<b>\\uacbd\\uc81c</b>\\ud65c\\uc131\\ud654\\ub97c \\uc704\\ud55c \\u2018\\ubd04 \\uc5ec\\ud589\\uc8fc\\uac04 \\ucea0\\ud398\\uc778\\u2019 \\ub098\\uc11c '), (u'20170420', u'\\uc77c\\ubcf8<b>\\uacbd\\uc81c</b>\\uc5d0 \\ub300\\ud55c \\ub2e8\\uc0c1 2017\\ub144 \\uc81c7\\ucc28 <b>\\uacbd\\uc81c</b>\\uad00\\uacc4\\uc7a5\\uad00\\ud68c\\uc758 \\ub4e4\\uc5ec\\ub2e4 \\ubcf4\\uae30 \\uc911\\uad6d, \\ud55c\\ud55c\\ub839\\uc774 \\uc6b0\\ub9ac<b>\\uacbd\\uc81c</b>\\uc5d0 \\ubbf8\\uce58\\ub294 \\uc601\\ud5a5 &quot;6\\ub144 \\ub0a8\\uc558\\ub2e4&quot; \\ud55c\\uad6d<b>\\uacbd\\uc81c</b> \\uc2dc\\ud55c\\ubd80 \\uc120\\uace0 [\\uba85\\uacac\\ub9cc\\ub9ac] IMF, \\ud30c\\ub77c\\uacfc\\uc774 <b>\\uacbd\\uc81c</b>\\uc131\\uc7a5\\uc728 3.3% \\uc608\\uc0c1 \\uc775\\uc0b0 \\uc9c0\\uc5ed\\ubb38\\uc81c \\ud574\\ubc95, \\uc2dc\\ubbfc\\uc911\\uc2ec\\uc758 \\uc0ac\\ud68c\\uc801<b>\\uacbd\\uc81c</b>\\ub85c [\\uac15\\uc6d0\\ucc3d\\uc870<b>\\uacbd\\uc81c</b>\\ud601\\uc2e0\\uc13c\\ud130] I-Square \\uc785\\uc8fc\\uc790 \\ubaa8\\uc9d1 '), (u'20170419', u'\\ud55c\\uad6d \\uc131\\uc7a5\\ub960 \\uc804\\ub9dd \\uc0c1\\ud5a5 \\uc870\\uc815 - \\uad6d\\uc81c\\ud1b5\\ud654\\uae30\\uae08(IMF) \\uc138\\uacc4 <b>\\uacbd\\uc81c</b> \\uc804\\ub9dd \\ub0b4 \\ub9c8\\uc74c\\ub300\\ub85c \\ub4f1\\uae09 \\ub9e4\\uaca8\\ubcf8 <b>\\uacbd\\uc81c</b>\\uc815\\ubcf4 \\uc0ac\\uc774\\ud2b8 BEST 6 \\ub0b4 \\uc6a9\\ub3c8\\uc73c\\ub85c \\uc0ac \\uba39\\ub294 \\ud584\\ubc84\\uac70! \\uc774\\uac8c <b>\\uacbd\\uc81c</b>\\ud65c\\ub3d9\\uc774\\ub77c\\uace0? [\\uc804\\ubd81\\ucc3d\\uc870<b>\\uacbd\\uc81c</b>\\ud601\\uc2e0\\uc13c\\ud130] \\ud68c\\uacc4 \\ud22c\\uc790\\uad50\\uc721 \\ubc0f \\uc544\\uc784\\uc1fc\\ud551\\uc785\\uc810(\\ud488\\ud3c9)...  '), (u'20170418', u\"[\\ubd80\\uc0b0\\ucc3d\\uc870<b>\\uacbd\\uc81c</b>\\ud601\\uc2e0\\uc13c\\ud130] \\uc81c 8\\ud68c \\ud310\\ub85c\\uc9c0\\uc6d0 MD\\uc0c1\\ub2f4\\ud68c\\u2019\\ub97c \\ud1b5\\ud55c...  [\\uacbd\\ub0a8\\ucc3d\\uc870<b>\\uacbd\\uc81c</b>\\ud601\\uc2e0\\uc13c\\ud130] \\u20182017 \\uacbd\\ub0a8 \\uccad\\ub144 \\ucc3d\\uc5c5 \\uc544\\uce74\\ub370\\ubbf8\\u2019...  \\ud3f4\\ub9ac\\ud14d\\ub300\\ud559 \\uc138\\ub124\\uac08\\uad00\\uacc4\\uc790 \\uacbd\\ubd81\\ucc3d\\uc870<b>\\uacbd\\uc81c</b>\\ud601\\uc2e0\\uc13c\\ud130 \\ubc29\\ubb38 [\\uc804\\ubd81\\ucc3d\\uc870<b>\\uacbd\\uc81c</b>\\ud601\\uc2e0\\uc13c\\ud130] \\uc804\\ub0a8\\ucc3d\\uc870<b>\\uacbd\\uc81c</b>\\ud601\\uc2e0\\uc13c\\ud130 \\uccad\\ub144\\ucc3d\\uc5c5...  \\uc815\\ub9bc\\ub3d9 \\uc11c\\ubbfc <b>\\uacbd\\uc81c</b>\\uc758 \\ud130\\uc9c4, '\\ubb34\\uc9c0\\uac1c \\uc885\\ud569\\uc2dc\\uc7a5' [\\uc6b8\\uc0b0\\ucc3d\\uc870<b>\\uacbd\\uc81c</b>\\ud601\\uc2e0\\uc13c\\ud130] \\uac04\\uc808 \\uace7 \\ud1a0\\ud06c \\ucf58\\uc11c\\ud2b8 \\uac1c\\ucd5c \\uc778\\ucc9c \\uc720\\uc77c\\uc758 \\uce74\\ubd80\\uce20 \\uc5b4\\ub9b0\\uc774 <b>\\uacbd\\uc81c</b>\\ubcbc\\ub8e9\\uc5d0 \\ub2e4\\ub140\\uc654\\uc2b5\\ub2c8\\ub2e4! [\\uc5f0\\uc218\\uc18c\\uc2dd] \\uc0ac\\ud68c\\uc801<b>\\uacbd\\uc81c</b>\\uae30\\uc5c5 \\ucc3d\\uc5c5\\uc124\\uba85\\ud68c \\uac1c\\ucd5c \"), (u'20170417', u'\\uacfc\\uc5f0 \\uc138\\uacc4 <b>\\uacbd\\uc81c</b>\\ub294 \\ub418\\uc0b4\\uc544\\ub098\\uace0 \\uc788\\uc744\\uae4c? [\\uc0c1\\ud558\\uc774 \\ubb34\\uc5ed\\uad00] 2016\\ub144 \\uc911\\uad6d \\uacf5\\uc720<b>\\uacbd\\uc81c</b> \\uae09\\uc131\\uc7a5, \\ubbf8\\ub798...  &lt;<b>\\uacbd\\uc81c</b> \\uc54c\\uc544\\uc57c \\ubc14\\uafbc\\ub2e4&gt; \\uc0c8\\ub85c\\uc6b4 \\uad7f\\uc988\\ub97c \\uc18c\\uac1c \\ud569\\ub2c8\\ub2e4. \\uc601\\uc8fc\\uc2dc, \\ub3d9\\uc591\\ub300\\uc640\\uc9c0\\uc5ed<b>\\uacbd\\uc81c</b> \\ud65c\\uc131\\ud654\\ub97c \\uc704\\ud55c \\uc0c1\\ud638\\ud611\\ub825 MOU \\uccb4\\uacb0 [\\uc0c8\\ub204\\ub9ac\\ub2f9 6\\uc870\\uc6d0\\uc9c4] \\ub300\\uad6c\\uacbd\\ubd81 <b>\\uacbd\\uc81c</b>\\ud65c\\uc131\\ud654\\ub97c \\uc704\\ud55c \\ub9de\\ucda4\\ud615 3+3 \\uacf5\\uc57d '), (u'20170416', u\"[\\ud6c4\\uae30]2017<b>\\uacbd\\uc81c</b>M \\ud30c\\ud2b8\\ub108\\uc2a4\\ub370\\uc774- '\\ucf58\\ud150\\uce20\\ub294 \\ube0c\\ub79c\\ub4dc\\ub2e4!' \"), (u'20170414', u'<b>\\uacbd\\uc81c</b>\\ubd84\\uc11d \\uc548\\ub0b4\\uc11c \\u2018<b>\\uacbd\\uc81c</b>\\ubd84\\uc11d\\uc758 \\uc774\\ud574\\uc640 \\ud65c\\uc6a9\\u2019 \\uacf5\\uac1c \\uc77c\\ub4f1\\ub9d8 \\uc218\\ub2e4\\ubc29 \\uce74\\ud398\\uc640 \\ud568\\uaed8\\ud55c \\ube44\\ud050\\ub7ec\\uc2a4\\uc758 &quot;\\uc7ac\\ubbf8\\uc788\\ub294 <b>\\uacbd\\uc81c</b>\\uad50\\uc2e4&quot; [\\uacbd\\ub0a8\\ucc3d\\uc870<b>\\uacbd\\uc81c</b>\\ud601\\uc2e0\\uc13c\\ud130] \\uacbd\\ub0a8\\ucc3d\\uc870<b>\\uacbd\\uc81c</b>\\ud601\\uc2e0\\uc13c\\ud130, I-Gen...  \\ubd80\\uc0b0<b>\\uacbd\\uc81c</b>\\uc9c4\\ud765\\uc6d0, 2017 \\ub3c4\\uc2dc\\ud615 \\uc18c\\uc0c1\\uacf5\\uc778 \\uc77c\\uc790\\ub9ac\\ucc3d\\ucd9c \\uc9c0\\uc6d0\\uc0ac\\uc5c5...  \\ub178\\ub3d9\\uc6b4\\ub3d9\\uacfc <b>\\uacbd\\uc81c</b>\\uc2dc\\uc2a4\\ud15c '), (u'20170413', u'\\uc0ac\\ud68c\\uc801<b>\\uacbd\\uc81c</b> \\ud65c\\uc131\\ud654 \\uc704\\ud55c \\ud559\\uad50\\ud611\\ub3d9\\uc870\\ud569\\uc9c0\\uc6d0\\uc13c\\ud130 \\uac1c\\uc18c\\uc2dd \\uc138\\uacc4<b>\\uacbd\\uc81c</b> \\ud68c\\ubcf5\\uc138 \\uc9c4\\ub2e8\\uacfc \\uc8fc\\uc694\\ub9ac\\uc2a4\\ud06c \\uc810\\uac80 - \\uc81c193\\ucc28 \\ub300\\uc678<b>\\uacbd\\uc81c</b>...  \\uc8fc\\uc2dd\\uc2dc\\uc7a5 \\ud30c\\ud5e4\\uce58\\uae30! \\ucc28\\uc774\\ub098\\ud329\\ud2b8 \\uccb4\\ud06c\\ubd81 [4\\uc6d4 <b>\\uacbd\\uc81c</b>\\ud3b8 PART 1] [\\uc778\\ucc9c\\ucc3d\\uc870<b>\\uacbd\\uc81c</b>\\ud601\\uc2e0\\uc13c\\ud130] \\uc5d4\\uc824\\ud22c\\uc790\\uc790 \\uc591\\uc131\\uc744 \\uc704\\ud55c...  '), (u'20170412', u\"2017\\ub144 4\\uc6d4 \\ucd5c\\uadfc <b>\\uacbd\\uc81c</b>\\ub3d9\\ud5a5 [WTTC] \\uad00\\uad11\\uc0b0\\uc5c5\\uc774 <b>\\uacbd\\uc81c</b>\\uc5d0 \\ubbf8\\uce58\\ub294 \\uc601\\ud5a5\\uc740? [\\ucda9\\ubd81\\ucc3d\\uc870<b>\\uacbd\\uc81c</b>\\ud601\\uc2e0\\uc13c\\ud130] \\uc2a4\\ud0c0\\ud2b8\\uc5c5 \\uc2a4\\ucfe8 5\\uc8fc\\ucc28 \\uc9c4\\ud589 [\\uad6c\\ub9ac\\uc2dc \\uad6d\\ud68c\\uc758\\uc6d0 \\uc724\\ud638\\uc911] &quot;\\ubb38\\uc7ac\\uc778-\\uc8fc\\ud55c\\uc678\\uad6d<b>\\uacbd\\uc81c</b>\\ub2e8\\uccb4 \\ub300\\ud654&quot; \\ubb38\\uc7ac\\uc778, \\uc0ac\\ub78c \\uc911\\uc2ec <b>\\uacbd\\uc81c</b> \\ube44\\uc804 \\ubc1c\\ud45c [\\ubd80\\uc0b0<b>\\uacbd\\uc81c</b>\\uc9c4\\ud765\\uc6d0] 2017 \\ub099\\ub3d9\\uac15\\ubcc0 \\uc720\\ucc44\\uaf43\\ucd95\\uc81c '\\ubd80\\uc0b0\\uc2e0\\ubc1c...  \"), (u'20170411', u'\\ucfe0\\ubc14\\uc758 \\uccab <b>\\uacbd\\uc81c</b>\\ud2b9\\uad6c, \\ub9c8\\ub9ac\\uc5d8 \\ubd80\\ucc98 \\uc774\\uae30\\uc8fc\\uc758\\uc5d0 \\uac08 \\uacf3 \\uc783\\uc740 \\ubc14\\uc774\\uc624 R&amp;D (\\ud55c\\uad6d<b>\\uacbd\\uc81c</b>, 2017.04.12) [<b>\\uacbd\\uc81c</b>/\\uacbd\\uc601] \\uc77c\\ubcf8 \\uacbd\\uc601\\uc758 \\uc2e0, \\uc774\\ub098\\ubaa8\\ub9ac \\uac00\\uc988\\uc624\\uc758 \\uc544\\uba54\\ubc14 \\uacbd\\uc601 '), (u'20170410', u'\\ucd08\\ub4f1\\ud559\\uc0dd\\uc5d0\\uac8c \\uc138\\ubc30\\ub3c8 100\\uc870\\ub97c \\uc900\\ub2e4\\uace0? - EBS &lt;\\ud55c \\ub208\\uc5d0 \\ubcf4\\ub294 <b>\\uacbd\\uc81c</b>&gt; [\\uc778\\ucc9c\\ucc3d\\uc870<b>\\uacbd\\uc81c</b>\\ud601\\uc2e0\\uc13c\\ud130] \\uc778\\ucc9c\\ucc3d\\uc870<b>\\uacbd\\uc81c</b>\\ud601\\uc2e0\\uc13c\\ud130, \\uc81c8\\ud68c...  '), (u'20170409', u'\\uc138\\uacc4 <b>\\uacbd\\uc81c</b>\\uc790\\uc720\\uc9c0\\uc218 \\uc21c\\uc704 1\\uc704 \\ud64d\\ucf69 \\ub300\\ud55c\\ubbfc\\uad6d 23\\uc704 '), (u'20170408', u'\\uc65c <b>\\uacbd\\uc81c</b>\\ub97c \\uc54c\\uc544\\uc57c \\ud558\\ub294\\uac00? <b>\\uacbd\\uc81c</b>\\ub85c \\uc77d\\ub294 \\uad50\\uc591\\uc138\\uacc4\\uc0ac - \\uc624\\ud615\\uaddc \\ubd80\\ud3c9\\uc0ac\\ub78c\\ub4e4 3\\uc6d4\\ud638 P.12 <b>\\uacbd\\uc81c</b>\\uc57c \\ub180\\uc790 '), (u'20170407', u'\\uc911\\uad6d \\ud55c\\uad6d \\uc0ac\\ub4dc :: \\uc0ac\\ub4dc \\ubc30\\uce58\\ub85c \\uc778\\ud55c \\uc911\\uad6d\\uc758 <b>\\uacbd\\uc81c</b> \\ubcf4\\ubcf5, \\uc9c0\\uae08...  \\uc804\\ub0a8\\ucc3d\\uc870<b>\\uacbd\\uc81c</b>\\ud601\\uc2e0\\uc13c\\ud130, 2017 \\uc11c\\ud3ec\\ud130\\uc988 \\ubc1c\\ub300\\uc2dd \\ud604\\uc7a5 \\uac15\\ub3d9\\uad6c \\uc0ac\\ud68c\\uc801<b>\\uacbd\\uc81c</b>\\uc640 \\ud568\\uaed8\\ud560 \\u201c\\uac15\\ubc18\\uc7a5\\u201d\\uc744 \\ubaa8\\uc9d1\\ud569\\ub2c8\\ub2e4 [\\uae08\\uc735<b>\\uacbd\\uc81c</b>] \\ub2e4\\uc591\\ud55c \\uc774\\uc790\\uc728 \\uacc4\\uc0b0\\ubc95, \\ud55c \\ub208\\uc5d0 \\uc815\\ub9ac\\ud574\\ubd24\\uc2b5\\ub2c8\\ub2e4! [\\uae08\\uc735<b>\\uacbd\\uc81c</b>] &quot;\\uad8c\\ub9ac vs \\ucc45\\uc784&quot;, \\uc27d\\uac8c \\ud480\\uc5b4\\uc4f4 \\ubca0\\uc77c\\uc778(Bail-in) \\uc81c\\ub3c4 [KIEP\\uc640 \\ud568\\uaed8\\ud558\\ub294 <b>\\uacbd\\uc81c</b>\\uc6a9\\uc5b4] \\ubcf4\\ud638\\ubb34\\uc5ed\\uc8fc\\uc758(Protectionism) \\uc804\\ub0a8\\ucc3d\\uc870<b>\\uacbd\\uc81c</b>\\ud601\\uc2e0\\uc13c\\ud130, \\uc6b0\\uc218\\uc0c1\\ud488 \\ud488\\ud3c9\\xb7\\uc0c1\\ub2f4\\ud68c \\uac1c\\ucd5c\\ud604\\uc7a5\\uc5d0...  '), (u'20170406', u'\\ub300\\uad6c\\ub9db\\uc9d1 - \\uce60\\uc131\\ub3d9\\ub9db\\uc9d1 \\ucc3d\\uc870<b>\\uacbd\\uc81c</b>\\ub2e8\\uc9c0\\ub9db\\uc9d1 \\ub300\\uad6c1\\ud638\\uc810 \\ud48d\\uad6d\\uba74 [\\uae08\\uc735<b>\\uacbd\\uc81c</b>] \\ubbf8\\uad6d \\uae08\\ub9ac \\uc778\\uc0c1\\uc774 \\uc6b0\\ub9ac \\uac00\\uacc4\\uc5d0 \\uc5b4\\ub5a4 \\uc601\\ud5a5\\uc744 \\uc904\\uae4c? [\\uc804\\ubd81\\ucc3d\\uc870<b>\\uacbd\\uc81c</b>\\ud601\\uc2e0\\uc13c\\ud130] 2017 \\uc9c0\\uc5ed \\uc0dd\\ud65c\\ubb38\\ud654 \\uccad\\ub144 \\ud601\\uc2e0\\uac00 \\ubaa8\\uc9d1 [\\uad6c\\ub9ac\\uc2dc \\uad6d\\ud68c\\uc758\\uc6d0 \\uc724\\ud638\\uc911] &quot;\\ub354\\ubb38\\ucea0\\ube44\\uc0c1<b>\\uacbd\\uc81c</b>\\ub300\\ucc45\\ub2e8 - 4\\ub300 <b>\\uacbd\\uc81c</b>\\ub2e8...  [\\uc6b8\\uc0b0\\ucc3d\\uc870<b>\\uacbd\\uc81c</b>\\ud601\\uc2e0\\uc13c\\ud130] 3D \\ud504\\ub9b0\\ud305 \\uae30\\ubc18 \\uc751\\uc6a9\\uc0b0\\uc5c5 \\uc2e4\\uc99d\\ud654...  '), (u'20170405', u'\\uc11d\\ub300\\ubc95 \\ud1b5\\uacfc, \\uc6b8\\uc0b0 <b>\\uacbd\\uc81c</b>\\uc5d0 \\uc5b4\\ub5a0\\ud55c \\ubcc0\\ud654\\ub97c \\uac00\\uc838\\ub2e4\\uc904\\uae4c. [\\uc81c272\\ud68c \\uc784\\uc2dc\\ud68c] \\uc704\\uc6d0\\ud68c \\ud65c\\ub3d9 \\ub2e4\\uc2dc\\ubcf4\\uae30 #3. \\uae30\\ud68d<b>\\uacbd\\uc81c</b>\\uc704\\uc6d0\\ud68c \\ub2e8\\ud14c\\uc758 \\uc2e0\\uace1\\uc5d0 \\ub4f1\\uc7a5\\ud558\\ub294 <b>\\uacbd\\uc81c</b>\\uc0ac\\ubc94\\uc5d0 \\ub300\\ud55c \\uc778\\uc2dd '), (u'20170404', u'[\\ubd80\\uc0b0<b>\\uacbd\\uc81c</b>\\uc9c4\\ud765\\uc6d0] \\uc131\\uacf5\\ucde8\\uc5c5 \\uc544\\uce74\\ub370\\ubbf8 \\uac1c\\ucd5c [\\uae08\\uc735<b>\\uacbd\\uc81c</b>] \\uac70\\ub300\\ud55c \\ubb34\\uc5ed \\uc5f0\\uacb0\\uace0\\ub9ac, TPP &lt;<b>\\uacbd\\uc81c</b>, \\uc54c\\uc544\\uc57c \\ubc14\\uafbc\\ub2e4&gt;\\uac00 \\ucd9c\\uac04 \\ub418\\uc5c8\\uc2b5\\ub2c8\\ub2e4! [\\ucda9\\ubd81\\ucc3d\\uc870<b>\\uacbd\\uc81c</b>\\ud601\\uc2e0\\uc13c\\ud130] 6\\ucc28 K-\\ubdf0\\ud2f0 \\ub514\\uc790\\uc778\\uc5ed\\ub7c9\\uac15\\ud654 \\uc9c0\\uc6d0\\uc0ac\\uc5c5...  \\u4e2d <b>\\uacbd\\uc81c</b> \\ubcf4\\ubcf5\\uc5d0 \\ub300\\uc751\\ud558\\ub294 \\uad6d\\uac00\\ubcc4 \\uc790\\uc138 \\ubb38\\uc7ac\\uc778\\uc758 \\uc9d1\\uad8c\\uc740 \\uc2dc\\ub300\\uc815\\uc2e0\\uc774\\ub2e4  - \\ubc95\\uacfc <b>\\uacbd\\uc81c</b>\\uc2dc\\uc2a4\\ud15c\\uc774 \\ubc14\\ub85c\\uc11c\\ub294...  \\uc778\\ucc9c\\ucc3d\\uc870<b>\\uacbd\\uc81c</b>\\ud601\\uc2e0\\uc13c\\ud130, \\ubbf8\\ub798\\ub3c4\\uc2dc \\ud601\\uc2e0\\uae30\\uc220 \\uacf5\\ubaa8\\uc804 \\uac1c\\ucd5c '), (u'20170403', u'\\uc0dd\\ud65c \\uc18d <b>\\uacbd\\uc81c</b> \\uc774\\uc57c\\uae30 \\uc0b4\\ud3b4\\ubcf4\\uae30 \\uc6b0\\ub9ac\\ub3d9\\ub124 <b>\\uacbd\\uc81c</b> \\ud55c\\ubc14\\ud034 [\\ubd80\\uc0b0<b>\\uacbd\\uc81c</b>\\uc9c4\\ud765\\uc6d0] \\uc724\\ub9ac, \\uccad\\ub834 \\ubc0f \\uc9c1\\ubb34\\ub2a5\\ub825 \\ud5a5\\uc0c1 \\uad50\\uc721 '), (u'20170402', u'ICO(Initial Coin Offering)\\uc640 \\ucf54\\uc778<b>\\uacbd\\uc81c</b> '), (u'20170401', u'\\ubb38\\uc81c\\ub294 <b>\\uacbd\\uc81c</b>\\ubcf4\\ub2e4 <b>\\uacbd\\uc81c</b>\\ud559\\uc774\\ub2e4! '), (u'20170331', u\"'\\ud3ec\\uc6a9 \\uc131\\uc7a5', <b>\\uacbd\\uc81c</b> \\uc9c0\\uc18d\\ubc1c\\uc804\\uc744 \\uc704\\ud55c \\uc5f4\\uc1e0 - \\uc870\\uad50 \\uae40\\uc8fc\\ud5cc [\\uc720\\uc885\\uc77c\\uc758 <b>\\uacbd\\uc81c</b> \\uc0c8\\ud310\\uc9dc\\uae30]\\ubbf8\\uad6d\\uc758 \\uafc8, \\uc720\\ub7fd\\uc758 \\uafc8, \\ud55c\\uad6d\\uc758 \\uafc8 [\\uc6b8\\uc0b0\\ucc3d\\uc870<b>\\uacbd\\uc81c</b>\\ud601\\uc2e0\\uc13c\\ud130] 2017 \\uc9c0\\uc5ed\\uc0dd\\ud65c\\ubb38\\ud654 \\uccad\\ub144\\ud601\\uc2e0\\uac00 \\ubaa8\\uc9d1 \"), (u'20170330', u\"<b>\\uacbd\\uc81c</b> \\uc131\\uc7a5\\uacfc \\uc790\\ubcf8\\uc8fc\\uc758\\uc758 \\ubc1c\\uc804 \\ud55c\\uad6d <b>\\uacbd\\uc81c</b>\\uc758 \\uc804\\ub7b5\\uc801 \\ub300\\ube44 : '\\ud3ec\\uc6a9\\uc801 \\uc131\\uc7a5'\\uc744 \\ud574\\uc57c\\ud569\\ub2c8\\ub2e4. - 19\\uae30...  \\uacf5\\uc720<b>\\uacbd\\uc81c</b> \\ubaa8\\ub378 \\ud601\\uc2e0 \\uc0ac\\ub840(1) - \\uc5d0\\uc5b4\\ube44\\uc564\\ube44 \\ub300\\uad6c\\uacbd\\ubd81<b>\\uacbd\\uc81c</b>\\uc790\\uc720\\uad6c\\uc5ed\\uccad, \\uc778\\ub2c8\\uc640 \\ub9d0\\ub828\\uc5d0\\uc11c \\ud22c\\uc790 \\uc124\\uba85\\ud68c \\uac1c\\ucd5c [\\ucda9\\ub0a8\\ucc3d\\uc870<b>\\uacbd\\uc81c</b>\\ud601\\uc2e0\\uc13c\\ud130] 2017\\ub144 \\ucda9\\ub0a8 \\uc5d0\\ub108\\uc9c0\\uc2e0\\uc0b0\\uc5c5...  \"), (u'20170329', u'[\\uc804\\ub0a8\\ucc3d\\uc870<b>\\uacbd\\uc81c</b>\\ud601\\uc2e0\\uc13c\\ud130] \\uace0\\uc18c\\ub4dd \\ub18d\\uc5b4\\uac00 \\ud604\\uc7a5 \\uc2e4\\uc2b5\\uc81c \\uad50\\uc721\\uc0dd \\ubaa8\\uc9d1 [\\ubd80\\uc0b0<b>\\uacbd\\uc81c</b>\\uc9c4\\ud765\\uc6d0] (4\\uc6d4) \\uc774\\ub2ec\\uc758 \\uac00\\ubcfc\\ub9cc\\ud55c \\uacf3, \\ub099\\ub3d9\\uac15\\uc5d0\\uc11c \\uc990\\uae30\\ub294...  '), (u'20170327', u'\\uce68\\ubab0\\ud558\\ub294 \\ud55c\\uad6d<b>\\uacbd\\uc81c</b> \\uacbd\\ubd81\\ucc3d\\uc870<b>\\uacbd\\uc81c</b>\\ud601\\uc2e0\\uc13c\\ud130 3\\uc6d4 \\uc6d4\\ub840\\ud68c\\uc758 [\\ub300\\uc120 \\ud6c4\\ubcf4 \\uacf5\\uc57d, \\uc6b8\\uc0b0\\uc9c0\\uc5ed <b>\\uacbd\\uc81c</b>\\ubd84\\uc57c\\ub294?] [ubc \\ub17c\\ud3c9- \\uc870\\uae30 \\ub300\\uc120\\uc744 \\uc6b8\\uc0b0<b>\\uacbd\\uc81c</b>\\uc758 \\ub3c4\\uc57d \\ubc1c\\ud310\\uc73c\\ub85c..] '), (u'20170326', u'\\uae08\\uc735\\xb7<b>\\uacbd\\uc81c</b> \\ubcf4\\uace0\\uc11c \\uc791\\uc131\\ubc95: \\uaf2d \\uae08\\uc735\\xb7<b>\\uacbd\\uc81c</b> \\uc804\\ubb38\\uac00\\uac00 \\uc544\\ub2c8\\ub354\\ub77c\\ub3c4...  [Stock &amp; Money] \\uc911\\uad6d <b>\\uacbd\\uc81c</b> \\u2018\\ud070 \\uadf8\\ub9bc\\u2019 \\uadf8\\ub9ac\\uae30-\\u201c\\uc131\\uc7a5\\ubcf4\\ub2e4...  '), (u'20170325', u'2017.03.23 \\ub9e4\\uc77c<b>\\uacbd\\uc81c</b> '), (u'20170324', u'\\uc9c0\\uc5ed<b>\\uacbd\\uc81c</b> \\uc0b4\\ub9ac\\ub294 \\uac15\\uc6d0\\uc0c1\\ud488\\uad8c \\uc54c\\uba74 \\uc720\\uc6a9\\ud55c \\uc2e0 <b>\\uacbd\\uc81c</b>\\uc6a9\\uc5b4 \\uc54c\\uc544\\ubcf4\\uae30 2017 <b>\\uacbd\\uc81c</b> \\ud2b8\\ub80c\\ub4dc \\uc18c\\ube44\\uc790\\uac00 \\uc218\\uc694\\ub97c \\ub9cc\\ub4e0\\ub2e4! \\u2018\\uc218\\uc694\\uc911\\uc2ec\\uc2dc\\uc7a5\\u2019 [\\ucda9\\ubd81\\ucc3d\\uc870<b>\\uacbd\\uc81c</b>\\ud601\\uc2e0\\uc13c\\ud130] \\uc2a4\\ud0c0\\ud2b8\\uc5c5 \\uc2a4\\ucfe8 2\\uc8fc\\ucc28 \\uc9c4\\ud589! [\\uacbd\\ubd81\\ucc3d\\uc870<b>\\uacbd\\uc81c</b>\\ud601\\uc2e0\\uc13c\\ud130] \\uc81c2\\ud68c \\uace0\\ud0dd \\uc219\\ubc15\\uccb4\\ud5d8 \\uacf5\\ubaa8\\uc804 \\uac1c\\ucd5c '), (u'20170323', u'<b>\\uacbd\\uc81c</b> \\uc0bc\\uad6d\\uc9c0\\ub97c \\ud1b5\\ud574 \\uc77c\\ubcf8\\uc744 \\uc77d\\ub2e4. [\\ubd80\\uc0b0\\ucc3d\\uc870<b>\\uacbd\\uc81c</b>\\ud601\\uc2e0\\uc13c\\ud130] \\uc2a4\\ud0c0\\ud2b8\\uc5c5 \\uc2e4\\ub9ac\\ucf58\\ubc38\\ub9ac \\uc0c1\\ub959\\uc791\\uc804...  '), (u'20170322', u'[\\uc194\\ub8e8\\uc158101] \\uacf5\\uc720<b>\\uacbd\\uc81c</b> \\ud601\\uc2e0\\uc0ac\\ub840(1\\ud3b8) [\\uc194\\ub8e8\\uc158101] \\uacf5\\uc720<b>\\uacbd\\uc81c</b> \\ud601\\uc2e0\\uc0ac\\ub840(2\\ud3b8) [\\ubc14\\ub978\\uc815\\ub2f9 \\uacbd\\uc120 \\ud1a0\\ub860\\ud68c.. <b>\\uacbd\\uc81c</b> \\ud68c\\uc0dd \\ubc29\\uc548\\uc740?] '), (u'20170321', u'\\uc0ac\\ub4dc\\uc640 \\ud55c\\uad6d<b>\\uacbd\\uc81c</b> \\ud1a0\\ub860\\ud68c [\\uccad\\ub450\\ubb34\\uc5ed\\uad00] \\uc911\\uad6d \\uc11c\\ubd80\\ub0b4\\ub959\\uc744 \\ube5b\\ub0b8 10\\ub300 <b>\\uacbd\\uc81c</b>\\uc2e4\\ub825\\uc790\\ub4e4\\uc740...  [\\uc6b8\\uc0b0\\ucc3d\\uc870<b>\\uacbd\\uc81c</b>\\ud601\\uc2e0\\uc13c\\ud130] ICT\\uc735\\ud569 \\uc2a4\\ub9c8\\ud2b8\\uacf5\\uc7a5 \\ubcf4\\uae09\\xb7\\ud655\\uc0b0...  [\\uc778\\ucc9c\\ucc3d\\uc870<b>\\uacbd\\uc81c</b>\\ud601\\uc2e0\\uc13c\\ud130]  \\uc778\\ucc9c\\ucc3d\\uc870<b>\\uacbd\\uc81c</b>\\ud601\\uc2e0\\uc13c\\ud130, \\uc81c2\\ud68c...  '), (u'20170320', u'{3\\uc6d4\\ub458\\uc9f8\\uc8fc \\uc2dc\\uc0ac} \\ud0c4\\ud575, \\uc774\\uc640\\uc911\\uc5d0 <b>\\uacbd\\uc81c</b>\\ub294 \\uc5b4\\ub514\\ub85c - \\uc2e4\\uc5c5\\uc790 \\uc0ac\\uc0c1...  '), (u'20170317', u'[\\uc548\\ucca0\\uc218 \\uacf5\\uc57d] <b>\\uacbd\\uc81c</b> \\uac1c\\ud601, \\uc7ac\\ubc8c \\uac1c\\ud601 \\uacf5\\uc57d - \\uce74\\ub4dc\\ub274\\uc2a4 \\ub300\\uad6c\\ub9db\\uc9d1 - \\ucc3d\\uc870<b>\\uacbd\\uc81c</b>\\ub2e8\\uc9c0\\ub9db\\uc9d1 \\uce60\\uc131\\ub3d9\\ub9db\\uc9d1 \\uac04\\ud3b8\\ud558\\uac8c \\ube44\\ubc15\\uc2a4 \\ub2e4\\uc2dc \\ud53c\\uc5b4\\ub098\\ub294 \\uc138\\uacc4<b>\\uacbd\\uc81c</b> '), (u'20170316', u'[\\ubd80\\uc0b0<b>\\uacbd\\uc81c</b>\\uc9c4\\ud765\\uc6d0] \\uc73c\\ub77c\\ucc28\\ucc28! \\ubd80\\uc0b0\\uc911\\uc18c\\u6c23up\\u2197 \\uc751\\uc6d0 \\ub313\\uae00 \\uc774\\ubca4\\ud2b8 \\ub124\\uc774\\ubc84\\uc5d0\\uc11c \\uc544\\uc2dc\\uc544<b>\\uacbd\\uc81c</b> \\ucf58\\ud150\\uce20\\ub97c \\uc5b4\\ub5bb\\uac8c \\ubcfc\\uae4c [\\uc804\\ub0a8\\ucc3d\\uc870<b>\\uacbd\\uc81c</b>\\ud601\\uc2e0\\uc13c\\ud130] 2017 \\uc804\\ub0a8 \\ucc3d\\uc5c5 \\uc544\\uc774\\ub514\\uc5b4 \\uacf5\\ubaa8\\uc804 \\uac1c\\ucd5c [\\ucda9\\ub0a8\\ucc3d\\uc870<b>\\uacbd\\uc81c</b>\\ud601\\uc2e0\\uc13c\\ud130] \\ud0dc\\uc591\\uad11 \\ucc3d\\uc5c5\\ud6c8\\ub828 \\ud504\\ub85c\\uadf8\\ub7a8(3\\uc6d4) \\uc548\\ub0b4 [\\ub300\\uc120\\uacf5\\uc57d \\uc810\\uac80-\\uc6b8\\uc0b0<b>\\uacbd\\uc81c</b> \\uc0b4\\ub9ac\\uae30..4\\ucc28 \\ud601\\uba85 \\ub300\\ube44] '), (u'20170315', u'[\\uc54c\\uae30\\uc26c\\uc6b4 \\uc911\\uad6d<b>\\uacbd\\uc81c</b>] \\u201c\\ubd80\\uc790\\ub294 \\ubabb\\ub410\\ub294\\ub370 \\uba3c\\uc800 \\ub299\\uc5b4\\ubc84\\ub838\\ub2e4\\u201d \\ucda9\\ub0a8 \\uc0ac\\ud68c\\uc801<b>\\uacbd\\uc81c</b> \\uccad\\ub144\\ud65c\\ub3d9\\uac00 \\uc9c0\\uc6d0\\uc0ac\\uc5c5 \\ucc38\\uac00\\uc790 \\ubaa8\\uc9d1 '), (u'20170314', u\"[\\ucc3d\\uc870<b>\\uacbd\\uc81c</b>\\ud601\\uc2e0\\uc13c\\ud130] 2017\\ub144 \\ucc3d\\uc5c5 \\ud2b8\\ub80c\\ub4dc \\u2018S.U.P.E.R' \\uc775\\uc0b0\\uc2dc, \\uc0ac\\ud68c\\uc801<b>\\uacbd\\uc81c</b>\\ub85c \\uc9c0\\uc5ed<b>\\uacbd\\uc81c</b> \\ub974\\ub124\\uc0c1\\uc2a4\\ub97c \\uafc8\\uafb8\\ub2e4 [\\uc54c\\uae30 \\uc26c\\uc6b4 \\uc911\\uad6d<b>\\uacbd\\uc81c</b>]\\uc911\\uad6d\\ub3c4 \\ubbf8\\ub2c8\\uba40\\ub9ac\\uc998 \\uc5f4\\ud48d? '\\uc6e8\\uc774\\ub93c\\uc694\\uc6b0...  [<b>\\uacbd\\uc81c</b> \\ub300\\ub3c4\\uc57d.. \\ub300\\uc120\\uacf5\\uc57d\\uc73c\\ub85c \\ub3cc\\ud30c\\uad6c \\ucc3e\\ub098?] \"), (u'20170313', u'\\ud0c4\\ud575 \\uc774\\ud6c4 <b>\\uacbd\\uc81c</b>\\ud658\\uacbd \\uc810\\uac80 \\uc11c\\ub300\\ubb38\\uad6c \\uc0ac\\ud68c\\uc801<b>\\uacbd\\uc81c</b>\\ub9c8\\uc744\\uc13c\\ud130, \\uc0ac\\ud68c\\uc801 <b>\\uacbd\\uc81c</b>, \\ub9c8\\uc744\\uacf5\\ub3d9\\uccb4 \\ubc1c\\uc804\\uc744...  \\ubb38\\uc7ac\\uc778, <b>\\uacbd\\uc81c</b>\\uc591\\uadf9\\ud654\\uc640 \\ubd88\\ud3c9\\ub4f1\\uc744 \\uc77c\\uc790\\ub9ac\\ub97c \\ud1b5\\ud574 \\ud574\\uc18c [\\uc804\\ub0a8\\ucc3d\\uc870<b>\\uacbd\\uc81c</b>\\ud601\\uc2e0\\uc13c\\ud130] \\uc6f0\\ube59\\uad00\\uad11 \\ubc0f \\ub18d\\uc5b4\\ucd0c\\uc735\\ud569 \\uad00\\uad11\\uc0c1\\ud488...  [\\uc720\\ud29c\\ube0c \\uad6c\\ub3c5 \\uc774\\ubca4\\ud2b8] \\uc54c\\ub824\\uc57c \\ub72c\\ub2e4! \\uc601\\uc0c1\\uc73c\\ub85c <b>\\uacbd\\uc81c</b> \\uc77c\\uc8fc '), (u'20170311', u\"[\\ubaa8\\uc9d1] \\uc0ac\\ud68c\\uc801<b>\\uacbd\\uc81c</b>\\uae30\\uc5c5 \\ud559\\uc2b5 \\uc9c0\\uc6d0 '\\uc18c\\uc15c\\uc77c\\ud130\\ub514' \\u4e2d \\uc18c\\uae30\\uc5c5, \\uc544\\uc2dc\\uc544\\ud0dc\\ud3c9\\uc591 '\\ub514\\uc9c0\\ud138<b>\\uacbd\\uc81c</b>' \\uc774\\ub04c\\uc5b4 [\\ubaa8\\uc9d1] \\uc0ac\\ud68c\\uc801<b>\\uacbd\\uc81c</b>\\uae30\\uc5c5 \\ud559\\uc2b5 \\uc9c0\\uc6d0 '\\uc18c\\uc15c\\uc77c\\ud130\\ub514' \"), (u'20170310', u'&lt;<b>\\uacbd\\uc81c</b>&gt;\\uc911\\uad6d\\ubcf4\\ubcf5\\uc744 \\uc77c\\ubcf8\\uacfc \\ube44\\uad50\\ud560 \\uc218 \\uc5c6\\ub294 \\uc774\\uc720 [\\ucda9\\ubd81\\ucc3d\\uc870<b>\\uacbd\\uc81c</b>\\ud601\\uc2e0\\uc13c\\ud130] \\ud53c\\uce6d \\ub370\\uc774(Pitching Day) \\uc0c1\\uc2dc \\ubaa8\\uc9d1 '), (u'20170309', u'[\\uc6b8\\uc0b0\\ucc3d\\uc870<b>\\uacbd\\uc81c</b>\\ud601\\uc2e0\\uc13c\\ud130] \\ud574\\uc591 \\uae30\\uc790\\uc7ac \\uad6d\\uc0b0\\ud654 \\uae30\\uc220\\uc124\\uba85\\ud68c \\uac1c\\ucd5c \\ub3d9\\uc791\\uad6c\\ubbfc\\uc744 \\uc704\\ud55c \\uc0ac\\ud68c\\uc801<b>\\uacbd\\uc81c</b> \\uc870\\uc9c1 \\uc124\\ub9bd \\ubb34\\ub8cc \\uc0c1\\ub2f4\\uc2e4 \\uc18c\\uac1c '), (u'20170308', u'[\\uc2a4\\ub0b5\\ucee4\\ube14 <b>\\uacbd\\uc81c</b>] \\uc57c\\uad6c\\uacc4\\uc758 \\uc288\\ud37c \\uc5d0\\uc774\\uc804\\ud2b8, \\uc2a4\\ucf67 \\ubcf4\\ub77c\\uc2a4 \\uc2e0\\uc785\\uc9c1\\uc6d0 \\ud569\\uaca9\\uc218\\uae30 \\uc77d\\uace0 \\ucde8\\ubf40\\ud558\\uc790 (\\uc81c1\\ud654 : <b>\\uacbd\\uc81c</b>\\uc9c1\\ub82c\\ud3b8...  \\uac00\\ud3c9\\uad70 \\uc5d0\\ub108\\uc9c0\\ubcf5\\uc9c0 \\uccb4\\uac10\\ud615 <b>\\uacbd\\uc81c</b> \\uc2dc\\ucc45 \\ucd1d\\ub825 '), (u'20170307', u'[<b>\\uacbd\\uc81c</b>]<b>\\uacbd\\uc81c</b>\\ubd80 \\uae30\\uc790\\uac00 \\uc54c\\ub824\\uc8fc\\ub294 \\ud658\\uc728\\uc870\\uc791\\uad6d \\ub17c\\ub780 A to Z 1961\\ub144 \\uc720\\ub9ac \\uac00\\uac00\\ub9b0\\uc758 \\uc601\\uad11\\uacfc \\uc18c\\ub828<b>\\uacbd\\uc81c</b>\\uc758 \\uc88c\\uc808? '), (u'20170306', u'[\\uc804\\ubd81\\ucc3d\\uc870<b>\\uacbd\\uc81c</b>\\ud601\\uc2e0\\uc13c\\ud130] \\uc0ac\\uc9c4\\xb7\\uc601\\uc0c1\\ucd2c\\uc601 \\ubc0f \\ud3b8\\uc9d1 \\uad50\\uc721 [\\uc778\\ucc9c\\ucc3d\\uc870<b>\\uacbd\\uc81c</b>\\ud601\\uc2e0\\uc13c\\ud130] ICCE \\ucc3d\\uc5c5\\uc2a4\\ucfe8 \\uc81c4\\uae30 \\ubaa8\\uc9d1 '), (u'20170305', u'\\ud55c\\uad6d-\\uc774\\ub77c\\ud06c 5\\ub144 \\ub9cc\\uc5d0 \\uacf5\\uc2dd <b>\\uacbd\\uc81c</b>\\ud611\\ub825 \\uc7ac\\uac1c \\uc0ac\\ub4dc\\ub294 \\ubbf8\\uad6d\\uc774 \\ubc30\\uce58\\ud558\\ub294\\ub370, \\uc911\\uad6d\\uc740 \\ud55c\\uad6d\\uc5d0 <b>\\uacbd\\uc81c</b> \\ubcf4\\ubcf5 \\uacf5\\uaca9?...  '), (u'20170303', u'\\uc798 \\ub098\\uac00\\uace0 \\uc788\\ub294 \\uc601\\uad6d <b>\\uacbd\\uc81c</b>\\uc758 \\uc774\\uba74: \\uc2e4\\uc9c8 \\uc784\\uae08\\uc758 \\ud558\\ub77d '), (u'20170302', u'[\\ud601\\uc2e0\\ucc28\\uc774\\ub098]\\u2018\\uc2dc\\uc9c4\\ud551 <b>\\uacbd\\uc81c</b>\\u2019 \\ub2e8\\uc5b4 \\ucc98\\uc74c\\uc4f4 \\uad00\\uce6d\\uc720 '), (u'20170301', u'\\uc0bc\\uc131\\uc744 \\uc7a1\\uc544 \\ub123\\uc73c\\uba74 <b>\\uacbd\\uc81c</b>\\uac00 \\ub354 \\uc798\\ub41c\\ub2e4? '), (u'20170228', u'\\ub299\\uc5b4\\uac00\\ub294 \\ub2f9\\uc2e0\\uc758 \\ub1cc, <b>\\uacbd\\uc81c</b>\\uacf5\\ubd80\\ub85c \\uae68\\uc6b0\\uc138\\uc694! \\uc11c\\uc6b8\\uc2dc\\uad50\\uc721\\uccad, \\uc0ac\\ud68c\\uc801<b>\\uacbd\\uc81c</b> \\uad50\\uc721\\uc790\\ub8cc \\ubcf4\\uae09\\xb7\\ud65c\\uc6a9 \\uc5f0\\uc218 \\uc2e4\\uc2dc [\\ucda9\\ubd81\\ucc3d\\uc870<b>\\uacbd\\uc81c</b>\\ud601\\uc2e0\\uc13c\\ud130] \\uc2a4\\ud0c0\\ud2b8\\uc5c5 \\uc2a4\\ucfe8 1\\uae30 \\ubaa8\\uc9d1 (\\ucda9\\ubd81\\ub0b4...  \\uc804\\ub0a8<b>\\uacbd\\uc81c</b>\\ud3ec\\ub7fc, \\uac00\\uacc4\\ubd80\\ucc44 \\ud574\\uacb0 \\uc804\\ubb38\\uac00 \\uc758\\uacac \\uc218\\ub834 \\uc740\\ud3c9\\uad6c\\uc0ac\\ud68c\\uc801<b>\\uacbd\\uc81c</b>\\ud5c8\\ube0c\\uc13c\\ud130 \\uc0ac\\ubb34\\uad6d\\uc7a5 \\ucc44\\uc6a9 \\uc138\\uacc4 <b>\\uacbd\\uc81c</b>, \\uc11c\\uc11c\\ud788 \\uc0c1\\uc2b9\\ud560 \\uac83\\uc73c\\ub85c \\uc804\\ub9dd '), (u'20170227', u'[\\uc778\\ucc9c\\ucc3d\\uc870<b>\\uacbd\\uc81c</b>\\ud601\\uc2e0\\uc13c\\ud130] 2017\\ub144\\ub3c4 \\uc778\\ucc9c\\uc13c\\ud130 \\u2018\\ucc3d\\uc870<b>\\uacbd\\uc81c</b>...  '), (u'20170224', u'\\uc0ac\\ud68c\\uc801<b>\\uacbd\\uc81c</b>\\uae30\\uc5c5 \\uc18c\\uac1c_\\uac15\\uc11c\\ub098\\ub214\\ub3cc\\ubd04\\uc13c\\ud130 '), (u'20170223', u'[\\ubbfc\\uc8fc\\uc5f0\\uad6c\\uc6d0]\\uc0ac\\ud68c<b>\\uacbd\\uc81c</b>\\uc815\\ucc45\\ud3ec\\ub7fc(\\uad50\\uc721) - \\uad50\\uc721\\uc758 \\uc704\\uae30\\uc640 \\uad50\\uc721\\uac1c\\ud601 [201702-17-44] \\ud55c\\uad6d<b>\\uacbd\\uc81c</b> \\ub3c8\\uc758 \\ubc30\\ubc18\\uc774 \\uc2dc\\uc791\\ub41c\\ub2e4. IMF\\uc758 \\ub3c4\\uc6c0\\uc73c\\ub85c <b>\\uacbd\\uc81c</b>\\uc704\\uae30\\ub97c \\ud0c0\\uac1c\\ud55c \\ubabd\\uace8 [\\uad11\\uc8fc\\ucc3d\\uc870<b>\\uacbd\\uc81c</b>\\ud601\\uc2e0\\uc13c\\ud130] \\uad11\\uc8fc\\ucc3d\\uc870<b>\\uacbd\\uc81c</b>\\ud601\\uc2e0\\uc13c\\ud130, 2017\\ub144\\ub3c4...  \\uacf5\\uc9dc<b>\\uacbd\\uc81c</b>\\uac00 \\uac00\\uc838\\uc624\\ub294 \\ucd9c\\ud310\\ub9c8\\ucf00\\ud305\\uc758 \\ubcc0\\ud654 '), (u'20170221', u'\\uc774\\uc7ac\\uc6a9 \\uad6c\\uc18d\\uc744 \\ubc14\\ub77c\\ubcf4\\ub294 \\u97d3, \\u82f1 <b>\\uacbd\\uc81c</b>\\uc2e0\\ubb38\\uc758 \\uc2dc\\uac01 '), (u'20170220', u'\\uc11c\\uc6b8\\ud601\\uc2e0\\ud30c\\ud06c, \\uc790\\uce58\\ubd84\\uad8c\\uacfc \\uace8\\ubaa9<b>\\uacbd\\uc81c</b> \\ud3ec\\ub7fc\\uc5d0 \\uac14\\ub2e4\\uc624\\ub2e4! '), (u'20170218', u'\\uc815\\ub9d0 \\uc798 \\ub098\\uac00\\ub294 \\ud2b8\\ub7fc\\ud504 \\uc2dc\\ub300\\uc758 \\ubbf8\\uad6d <b>\\uacbd\\uc81c</b> \\uadf8\\ub7ec\\ub098... 26\\ucc28\\uc2dc <b>\\uacbd\\uc81c</b> \\uc131\\uc7a5\\uc744 \\uc774\\ub8e8\\ub2e4. '), (u'20170217', u'2017 \\uc624! \\uc0ac\\ud68c\\uc801<b>\\uacbd\\uc81c</b> \\uc2dc\\ubbfc\\ud559\\uad50 \\uac1c\\uac15&lt;\\uc2dc\\ubbfc\\uae30\\uc790 \\ud64d\\ubcd1\\ud76c&gt; \\uc5f0\\uc18c\\ube44 170\\uc870 \\ub118\\uae30\\uba70 \\u4e2d <b>\\uacbd\\uc81c</b>\\uc131\\uc7a5 \\uc8fc\\ub3c4 [\\ubd80\\uc0b0<b>\\uacbd\\uc81c</b>\\uc9c4\\ud765\\uc6d0] \\uc11c\\ub958\\uc804\\ud615 \\ud569\\uaca9\\uc790 \\ubc1c\\ud45c \\ubc0f \\uba74\\uc811\\uc804\\ud615 \\uc2dc\\ud589\\uacc4\\ud68d...  \\uc911\\uad6d \\uacf5\\uc720<b>\\uacbd\\uc81c</b>\\uc758 \\uc0c1\\uc9d5 ofo\\uc758 \\ub178\\ub780 \\uc790\\uc804\\uac70\\ub4e4 '), (u'20170215', u'<b>\\uacbd\\uc81c</b>\\ubbfc\\uc8fc\\ud654\\ub3c4\\uc2dc \\uc11c\\uc6b8, \\uc9c0\\ub09c \\uc131\\uacfc\\uc640 \\uc55e\\uc73c\\ub85c\\uc758 \\uacfc\\uc81c\\ub294? \\ubb3c\\uac00\\uad00\\uacc4\\ucc28\\uad00\\ud68c\\uc758 \\uacb8 \\ubc94\\uc815\\ubd80 \\ube44\\uc0c1<b>\\uacbd\\uc81c</b>\\ub300\\uc751 TF \\ud68c\\uc758 2017\\ub144 \\ud55c\\uad6d<b>\\uacbd\\uc81c</b>\\uc640 \\uc99d\\uc2dc\\uc758 \\ubc18\\uc804 \\uc2dc\\ub098\\ub9ac\\uc624: \\ud2b8\\ub7fc\\ud504\\ub97c \\ub118\\uace0...  '), (u'20170214', u'<b>\\uacbd\\uc81c</b>\\ubbfc\\uc8fc\\ud654 2\\ub144\\ucc28\\uc5d0 \\uc811\\uc5b4\\ub4e0 \\uc11c\\uc6b8\\uc2dc, \\uc784\\ucc28\\uc778\\uc744 \\uc704\\ud55c \\uc815\\ucc45\\uc740? \\ud2b8\\ub7fc\\ud504\\ub178\\ubbf9\\uc2a4 \\uc18d <b>\\uacbd\\uc81c</b>\\ub0a0\\uc528, \\uc544\\uc138\\uc548\\uc740 \\uc624\\ub298\\ub3c4 \\ub9d1\\uc74c! \\ubbf8\\uad6d, \\uc77c\\ubcf8, \\uc911\\uad6d, \\uadf8 \\uc0ac\\uc774\\uc5d0 \\ub080 \\ud55c\\uad6d <b>\\uacbd\\uc81c</b> \\uc2dc\\uc0ac<b>\\uacbd\\uc81c</b>\\ub3c5\\uc124 '), (u'20170213', u'\\uc5d0\\ub108\\uc9c0<b>\\uacbd\\uc81c</b> 2\\uc6d4 13\\uc77c \\uc99d\\uad8c\\ubd80\\ub3d9\\uc0b0\\uba74\\uc785\\ub2c8\\ub2e4. '), (u'20170209', u'[\\uc804\\ub0a8\\ucc3d\\uc870<b>\\uacbd\\uc81c</b>\\ud601\\uc2e0\\uc13c\\ud130] 2017 \\uc804\\ub0a8\\ucc3d\\uc870<b>\\uacbd\\uc81c</b>\\ud601\\uc2e0\\uc13c\\ud130 SNS...  '), (u'20170208', u'[\\uc2a4\\ub0b5\\ucee4\\ube14 <b>\\uacbd\\uc81c</b>] \\uc138\\uacc4 <b>\\uacbd\\uc81c</b>\\ub97c \\ub4a4\\ud754\\ub4dc\\ub294 \\ub85c\\uc2a4\\ucc28\\uc77c\\ub4dc \\uac00\\ubb38 '), (u'20170207', u'[\\ubbfc\\uc8fc\\uc5f0\\uad6c\\uc6d0]\\uc0ac\\ud68c<b>\\uacbd\\uc81c</b>\\uc815\\ucc45\\ud3ec\\ub7fc - \\ubcf5\\uc9c0 '), (u'20170206', u'2017\\ub144 \\ub300\\uc678<b>\\uacbd\\uc81c</b>\\uc815\\ucc45, \\uadf8\\uac83\\uc774 \\uad81\\uae08\\ud558\\ub2e4! [\\ud601\\uc2e0\\ucc28\\uc774\\ub098]\\ub9ac\\ucee4\\ucc3d\\uc758 <b>\\uacbd\\uc81c</b>\\uc2a4\\uc2b9\\uc778 \\ub9ac\\uc774\\ub2dd, \\uc911\\uad6d GDP\\ub97c \\ub9d0\\ud558\\ub2e4 '), (u'20170202', u'\\uac15\\uc6d0\\ub3c4 \\uc6d0\\uc8fc \\ud611\\ub3d9\\uc0ac\\ud68c<b>\\uacbd\\uc81c</b> \\ub124\\ud2b8\\uc6cc\\ud06c \\ubc29\\ubb38 \\uc720\\ub9ac\\ucc9c\\uc7a5, \\uc54c\\uc544\\ub450\\uc5b4\\uc57c \\ud560 <b>\\uacbd\\uc81c</b>\\uc6a9\\uc5b4! &quot;A\\ubd80\\ud130 Z\\uae4c\\uc9c0, \\ucc3d\\uc5c5\\uc758 \\ubaa8\\ub4e0 \\uac83\\u201d, \\uc11c\\uc6b8\\ucc3d\\uc870<b>\\uacbd\\uc81c</b>\\ud601\\uc2e0\\uc13c\\ud130...  \\ubb3c\\uc5b4\\ubd10, \\uc815\\uc758\\ub97c \\uafc8\\uafb8\\ub294 \\uc0ac\\ubc95\\uace0\\uc2dc \\ud569\\uaca9\\uc0dd, \\uae40\\ud61c\\ub9ac(<b>\\uacbd\\uc81c</b> 06) \\ub3d9\\ubb38 '), (u'20170201', u\"[<b>\\uacbd\\uc81c</b>\\uad50\\uc721] \\ubbf8\\uad6d\\uacfc \\uc911\\uad6d\\uc758 \\ud328\\uad8c\\uc804\\uc7c1 'G2\\uc758 \\ud608\\ud22c' \\uc9e0\\ud14c\\ud06c/ \\uc124 \\uc0c8\\ubc43\\ub3c8\\uc73c\\ub85c \\uc790\\ub140<b>\\uacbd\\uc81c</b>\\uad50\\uc721~ \"), (u'20170131', u'2017.1.31  \\uc138\\uacc4 \\uc790\\ub3d9\\ucc28 \\ud310\\ub9e4\\uc640 \\uc138\\uacc4 <b>\\uacbd\\uc81c</b> \\ud658\\uacbd\\uc758 \\ubcc0\\ud654 '), (u'20170128', u'2016\\ub144 \\ubbf8\\uad6d <b>\\uacbd\\uc81c</b>\\uc131\\uc7a5\\ub960 \\uc1fc\\ud06c(1.6%) '), (u'20170125', u'\\ubc00\\uc5b4\\uc8fc\\uace0 \\ub2f9\\uaca8\\uc8fc\\ub294 \\uc774\\uc57c\\uae30\\uaf43 \\ud65c\\uc9dd - 2017 \\uc11c\\uc6b8 \\uc0ac\\ud68c\\uc801<b>\\uacbd\\uc81c</b>...  [\\ubbfc\\uc8fc\\uc5f0\\uad6c\\uc6d0]\\uc0ac\\ud68c<b>\\uacbd\\uc81c</b>\\uc815\\ucc45\\ud3ec\\ub7fc \\ub178\\ub3d9 - \\uace0\\uc6a9(\\uc77c\\uc790\\ub9ac)\\uc758 \\uc704\\uae30\\uc640...  '), (u'20170120', u'2017\\ub144 <b>\\uacbd\\uc81c</b>\\uc6a9\\uc5b4, \\uc2e0\\uc870\\uc5b4\\ub4e4\\uc758 \\ud0c4\\uc0dd '), (u'20170119', u'2017 \\ud55c\\uad6d<b>\\uacbd\\uc81c</b> \\uc804\\ub9dd '), (u'20170117', u'\\uccad\\ub144\\ub300\\uc804,\\ub3c4\\uc2dc\\uc7ac\\uc0dd,\\ubbfc\\uc0dd<b>\\uacbd\\uc81c</b>! \\ud604\\uc7a5\\uc5d0\\uc11c \\uc2dc\\ubbfc\\uc758 \\ubaa9\\uc18c\\ub9ac\\ub97c \\ub4e3\\ub2e4 '), (u'20170116', u'\\uad70\\uc0b0 <b>\\uacbd\\uc81c</b>\\uc758 \\uc6d0\\ub3d9\\ub825, \\uc62c \\ub274 \\ud06c\\ub8e8\\uc988\\uac00 \\uc0dd\\uc0b0\\ub418\\ub294 \\uacf3 - \\ud55c\\uad6d\\uc9c0\\uc5e0...  '), (u'20170113', u'\\uc0ac\\ud68c\\uc801<b>\\uacbd\\uc81c</b>\\ub294 \\uc9c0\\ubc29\\uc790\\uce58\\uc758 \\uc804\\ud658\\uc810\\uc774\\ub2e4, \\ud018\\ubca1\\uc5d0\\uc11c \\uc11c\\uc6b8\\uae4c\\uc9c0 2\\ud3b8 <b>\\uacbd\\uc81c</b> \\ubbfc\\uc8fc\\ud654, \\uac00\\ub2a5\\ud55c \\uc77c\\uc77c\\uae4c? '), (u'20170112', u'\\uacf5\\uc720 <b>\\uacbd\\uc81c</b> \\uc2dc\\ub300\\uc758 \\ub514\\uc790\\uc778, \\ub514\\uc790\\uc778 \\uc2dc\\ub300\\uc758 \\uacf5\\uc720 <b>\\uacbd\\uc81c</b> #3 '), (u'20170109', u\"\\uc2dc\\uc7a5<b>\\uacbd\\uc81c</b>\\uc758 \\uc774\\ud574\\ub85c \\ub611\\ub611\\ud55c \\uac10\\uc2dc\\uc790\\uac00 \\ub418\\uc790! - 19\\uae30 \\uc724\\uc608\\uc9c0 '\\ub274\\uc2a4\\ud22c\\ub370\\uc774'\\uc640 '<b>\\uacbd\\uc81c</b>\\ub274\\uc2a4' \\uc0c8 \\uc5bc\\uad74 \"), (u'20170107', u'2016 \\ucc3d\\uc870<b>\\uacbd\\uc81c</b>\\ubc15\\ub78c\\ud68c, \\uacfc\\ud559\\uc744 \\ub2f4\\ub2e4. '), (u'20170106', u'2017\\ub144, \\ucc3d\\uc870<b>\\uacbd\\uc81c</b> \\uc131\\uacfc\\ub97c \\ud655\\uc0b0\\ud558\\uace0 \\uacfc\\ud559\\uae30\\uc220\\xb7ICT \\uc5ed\\ub7c9\\uc744...  [2017 <b>\\uacbd\\uc81c</b> \\ud2b8\\ub80c\\ub4dc - \\uc911\\uad6d \\ud3b8] \\u201c<b>\\uacbd\\uc81c</b>\\ub97c \\ub9d0\\ud558\\ub2e4\\u201d '), (u'20170104', u'[<b>\\uacbd\\uc81c</b>\\uad50\\uc721] 4\\ub300 <b>\\uacbd\\uc81c</b> \\ud0a4\\uc6cc\\ub4dc\\ub85c \\uc0b4\\ud3b4\\ubcf8 2017\\ub144 \\ud55c\\uad6d<b>\\uacbd\\uc81c</b> 10\\uac1c \\ud0a4\\uc6cc\\ub4dc\\ub85c \\ub3cc\\uc544\\ubcf8 \\u20182016 \\uc11c\\uc6b8 \\uc0ac\\ud68c\\uc801<b>\\uacbd\\uc81c</b>\\u2019 \\uc5b4\\ub9b0\\uc774\\ub4e4\\uc758 \\ub208\\ub192\\uc774\\uc5d0 \\ub531!\\ub9de\\ub294 <b>\\uacbd\\uc81c</b> \\ub3c4\\uc11c \\uc18c\\uac1c:: <b>\\uacbd\\uc81c</b>, \\ub354 \\uc774\\uc0c1...  '), (u'20170103', u\"\\ub098\\ub9cc\\uc758 \\uac83\\uc774 \\uc544\\ub2cc '\\uc6b0\\ub9ac'\\uc758 \\uac83, \\uacf5\\uc720<b>\\uacbd\\uc81c</b> \"), (u'20170102', u'2017\\ub144 \\uc911\\uad6d <b>\\uacbd\\uc81c</b> \\uc804\\ub9dd \\uc54c\\uc544\\ubcf4\\uae30 '), (u'20161230', u'\\uacf5\\uc720 <b>\\uacbd\\uc81c</b> \\uc2dc\\ub300\\uc758 \\ub514\\uc790\\uc778, \\ub514\\uc790\\uc778 \\uc2dc\\ub300\\uc758 \\uacf5\\uc720 <b>\\uacbd\\uc81c</b> #2 '), (u'20161227', u'\\uc644\\ubcbd\\ud55c \\uacf5\\ubd80\\ubc95(2) - \\ud55c\\uad6d<b>\\uacbd\\uc81c</b>\\uac00 \\ud55c \\ub2e8\\uacc4 \\ub354 \\ub3c4\\uc57d\\ud558\\ub824\\uba74? '), (u'20161225', u'\\ubc31\\uc545\\uad00 \\ubc1c\\uac04 &quot;\\uc778\\uacf5\\uc9c0\\ub2a5, \\uc790\\ub3d9\\ud654, \\uadf8\\ub9ac\\uace0 <b>\\uacbd\\uc81c</b>&quot; \\ubcf4\\uace0\\uc11c \\uba54\\ubaa8 '), (u'20161223', u'\\ub2ec\\ub7ec\\uc57d\\uc138\\uac00 \\ubbf8\\uad6d<b>\\uacbd\\uc81c</b>\\uc5d0 \\uc774\\uc775\\uc774\\ub2e4!??? 12.23 \\uae34\\uae09 \\ubbfc\\uc0dd<b>\\uacbd\\uc81c</b>\\ud604\\uc548 \\uc885\\ud569\\uc810\\uac80\\ud68c\\uc758 \\uacb0\\uacfc '), (u'20161221', u'2017\\ub144 \\ucd5c\\uc9c4\\uae30\\uc758 \\uc138\\uacc4<b>\\uacbd\\uc81c</b> \\uc804\\ub9dd OPEN!! '), (u'20161219', u'[\\uce74\\ub4dc\\ub274\\uc2a4] SMART <b>\\uacbd\\uc81c</b>\\uc0dd\\ud65c\\ubc31\\uc11c! <b>\\uacbd\\uc81c</b>\\uc5b4\\ud50c\\ub9ac\\ucf00\\uc774\\uc158 \\ubaa8\\uc74c [\\ub2f9\\ucca8\\uc790 \\ubc1c\\ud45c] 5\\ucc9c\\ub9cc \\ub300\\ud55c\\ubbfc\\uad6d <b>\\uacbd\\uc81c</b> \\ud638\\uad6c\\ub97c \\uc704\\ud55c \\ub2e8 \\ud55c \\uad8c\\uc758 \\ucc45! 2016\\ub144 <b>\\uacbd\\uc81c</b>\\uacf5\\uc791\\ud68c\\uc758 Review : 2017\\ub144, \\ub124 \\uac00\\uc9c0 \\ud575\\uc2ec \\uc815\\ucc45\\uc870\\ud569 '), (u'20161216', u'[\\uce74\\ub4dc\\ub274\\uc2a4] \\uc5b4\\ub9b4 \\ub54c\\ubd80\\ud130 \\ubc30\\uc6b0\\ub294 <b>\\uacbd\\uc81c</b>\\uad50\\uc721 4\\uac00\\uc9c0 '), (u'20161215', u'2016.12.15  \\ubbf8\\uad6d\\uc758 \\uae08\\ub9ac \\uc778\\uc0c1\\uacfc \\uc218\\ucd9c, <b>\\uacbd\\uc81c</b>\\uc131\\uc7a5, \\uadf8\\ub9ac\\uace0...  [<b>\\uacbd\\uc81c</b>\\uc0c1\\uc2dd] \\ud658\\uc728\\uc774 \\uc624\\ub974\\uba74 \\uc65c \\uc8fc\\uac00\\uac00 \\ud558\\ub77d\\ud560\\uae4c? '), (u'20161214', u'2017\\ub144 \\ud55c\\uad6d <b>\\uacbd\\uc81c</b>, \\ud37c\\ud399\\ud2b8 \\uc2a4\\ud1b0 \\uac00\\ub2a5\\uc131\\uc740? '), (u'20161213', u'[<b>\\uacbd\\uc81c</b>\\uc0c1\\uc2dd] \\uaf2d \\uc54c\\uc544\\uc57c \\ud560 \\uacbd\\uae30\\uc21c\\ud658\\uc758 3\\uac00\\uc9c0 \\uc0ac\\uc774\\ud074 '), (u'20161210', u'\\u201c<b>\\uacbd\\uc81c</b>\\ub294 \\ub0b4\\uac00 \\ucc45\\uc784\\u201d 2004\\ub144 \\uc774\\ud5cc\\uc7ac \\uac19\\uc740 \\uc0ac\\ub839\\ud0d1 \\uae09\\ud558\\ub2e4 '), (u'20161208', u'\\ubb50\\ud558\\ub7ec \\uc0ac? \\uba87\\ucc9c\\uc6d0\\uc73c\\ub85c \\ub05d! \\uacf5\\uc720<b>\\uacbd\\uc81c</b>\\ub85c \\ud604\\uba85\\ud558\\uace0 \\uc990\\uac81\\uac8c \\ubcf4\\ub0b8 \\ud558\\ub8e8 '), (u'20161207', u'&quot;\\uc9c1\\uc811 \\ub9cc\\ub4e0 \\ubb3c\\uac74\\uc744 \\ud310\\ub9e4\\ud558\\uace0&quot;\\u2026<b>\\uacbd\\uc81c</b>\\uad00\\ub150, \\uc0dd\\ud65c \\uc18d\\uc5d0\\uc11c \\uc775\\ud78c\\ub2e4 '), (u'20161206', u'[\\ube45\\ub370\\uc774\\ud130] \\uc911\\uad6d \\uad50\\ud1b5\\uc5d0 \\ubd80\\ub294 \\u2018\\uacf5\\uc720<b>\\uacbd\\uc81c</b>\\u2019 \\ubc14\\ub78c '), (u'20161205', u\"[<b>\\uacbd\\uc81c</b> \\uc804\\ub9dd] '\\ub3d9\\uc804 \\uc5c6\\ub294 \\uc0ac\\ud68c'\\uac00 \\uc628\\ub2e4 \\ub3c5\\uc11c \\ubc29\\ubc95\\uacfc \\ud604\\uc7ac <b>\\uacbd\\uc81c</b>\\uc0c1\\ud669, \\ud2b9\\ud788 \\ubd88\\ud3c9\\ub4f1 \\uc774\\uc288\\uc5d0 \\ub300\\ud55c \\uc778\\ud130\\ubdf0 \"), (u'20161202', u'\\uc911\\uad6d <b>\\uacbd\\uc81c</b>\\uc640 \\uc99d\\uc2dc\\uc5d0 \\ub300\\ud55c 8\\uac00\\uc9c0 \\uc804\\ub9dd '), (u'20161129', u\"[\\ub2f9\\ucca8\\uc790 \\ubc1c\\ud45c] \\ucc3d\\uc870<b>\\uacbd\\uc81c</b>\\ubc15\\ub78c\\ud68c \\uc751\\uc6d0 EVENT \\ub2f9\\ucca8\\uc790 \\ubc1c\\ud45c \\uae30\\ud68d\\uc7ac\\uc815\\ubd80 '<b>\\uacbd\\uc81c</b>e\\uc57c\\uae30' 2016 \\ub300\\ud55c\\ubbfc\\uad6d \\ube14\\ub85c\\uadf8 \\uc5b4\\uc6cc\\ub4dc...  \\ucc9c\\uc548 \\uacf5\\uc720<b>\\uacbd\\uc81c</b>\\uc758 \\ud5c8\\ube0c '\\uacf5\\uac04\\uc0ac\\uc774' \"), (u'20161128', u'2017\\ub144 \\ud55c\\uad6d<b>\\uacbd\\uc81c</b>\\uc758 \\uc704\\uae30 \\uc5b4\\ub5bb\\uac8c \\uadf9\\ubcf5\\ud558\\ub098: \\ub178\\ub3d9\\uc2dc\\uc7a5\\uc758...  2016.11.28_\\uc7a5\\ub2e8\\uae30 \\uae08\\ub9ac\\ucc28\\ub85c \\uccb4\\ud06c\\ud574\\ubcf8 \\ubbf8\\uad6d <b>\\uacbd\\uc81c</b> [SBC\\uc18c\\uc2dd]2017\\ub144 <b>\\uacbd\\uc81c</b>\\uc804\\ub9dd \\ubc0f \\uc778\\uc7ac\\uc721\\uc131 \\uc804\\ub7b5 \\uc138\\ubbf8\\ub098 \\uc548\\ub0b4 2016 \\ucc3d\\uc870<b>\\uacbd\\uc81c</b>\\ubc15\\ub78c\\ud68c - \\uc2a4\\ud0c0\\ud2b8\\uc5c5 \\ub124\\ud2b8\\uc6cc\\ud0b9, \\ud601\\uc2e0\\ub9ac\\ub354\\uc640\\uc758 \\ub9cc\\ub0a8 \\ud55c\\uad6d<b>\\uacbd\\uc81c</b>\\uc758 \\uce68\\ubab0, \\ub0b4\\uc218\\uc2dc\\uc7a5\\uc744 \\ud65c\\uc131\\ud654\\ud558\\uc5ec \\ud68c\\uc0dd\\ud558\\uc790! - 18\\uae30...  '), (u'20161123', u\"[<b>\\uacbd\\uc81c</b> \\uc804\\ub9dd] \\ub3c4\\ub110\\ub4dc \\ud2b8\\ub7fc\\ud504\\uc758 <b>\\uacbd\\uc81c</b>\\uc815\\ucc45 (2) '\\uc131\\ub0a8\\uc2a4\\ub7ec\\uc6b4' \\uc0ac\\ud68c\\uc801<b>\\uacbd\\uc81c</b> \\uc544\\uce74\\ub370\\ubbf8 \\ubaa8\\uc9d1 \"), (u'20161122', u'\\ud64d\\ud569\\ubc38\\ub9ac\\uc5d0\\uc11c \\ub098\\ub208 \\uacf5\\uc720<b>\\uacbd\\uc81c</b> \\ub098\\ub214\\uc774\\uc57c\\uae30 \\uc81c 2\\ud68c - \\uacf5\\uac04\\uc758 \\uacf5\\uc720 '), (u'20161121', u'\\ucd5c\\uc591\\ud76c \\uc7a5\\uad00, \\ub300\\uc804\\ucc3d\\uc870<b>\\uacbd\\uc81c</b>\\ud601\\uc2e0\\uc13c\\ud130 \\ubc29\\ubb38 '), (u'20161120', u'2016 \\ucc3d\\uc870<b>\\uacbd\\uc81c</b>\\ubc15\\ub78c\\ud68c \\uaf2d \\uac00\\ubd10\\uc57c \\ud558\\ub294 \\uc774\\uc720. '), (u'20161117', u'[<b>\\uacbd\\uc81c</b> \\uc804\\ub9dd] \\ub3c4\\ub110\\ub4dc \\ud2b8\\ub7fc\\ud504\\uc758 <b>\\uacbd\\uc81c</b>\\uc815\\ucc45 (1) 2016 \\ucc3d\\uc870<b>\\uacbd\\uc81c</b>\\ubc15\\ub78c\\ud68c(12.1~4) '), (u'20161115', u'\\uac15\\uc6d0\\ucc3d\\uc870<b>\\uacbd\\uc81c</b>\\ud601\\uc2e0\\uc13c\\ud130\\uc640 \\ud568\\uaed8 \\ucde8\\uc5c5, \\ucc3d\\uc5c5\\ud558\\uc790! '), (u'20161110', u'\\uc544\\uc0b0 \\uc0ac\\ud68c\\uc801\\uae30\\uc5c5 \\ud55c \\uc790\\ub9ac\\uc5d0! \\uc0ac\\ud68c\\uc801<b>\\uacbd\\uc81c</b> \\ud55c\\ub9c8\\ub2f9 '), (u'20161108', u'2017\\ub144 <b>\\uacbd\\uc81c</b>\\uc804\\ub9dd - \\uc778\\ud50c\\ub808\\uac00 \\ub3cc\\uc544\\uc624\\uba74, \\uc218\\ucd9c\\ub3c4 \\ud68c\\ubcf5\\ub41c\\ub2e4! '), (u'20161107', u'\\uc138\\uc885 \\ucc3d\\uc870<b>\\uacbd\\uc81c</b>\\ud601\\uc2e0\\uc13c\\ud130\\uc5d0\\uc11c \\ubbf8\\ub798\\ub18d\\uc5c5\\uc744 \\ub9cc\\ub098\\ub2e4. \\ud55c\\uad6d<b>\\uacbd\\uc81c</b>\\uc2e0\\ubb38 2017 \\uc0c1\\ubc18\\uae30 \\uc778\\ud134\\uc0ac\\uc6d0 \\ucc44\\uc6a9 \\ubaa8\\uc9d1 '), (u'20161104', u'\\ubca0\\uc774\\ube44\\ubd80\\uba38 \\uc740\\ud1f4\\uc640 <b>\\uacbd\\uc81c</b> '), (u'20161103', u'\\uad11\\uc9c4 \\uccad\\ub144 \\uc0ac\\ud68c\\uc801<b>\\uacbd\\uc81c</b> \\ud22c\\uc5b4 \\ucc38\\uac00\\uc790 \\ubaa8\\uc9d1 \\uad8c\\uc624\\ubd09 \\uccad\\uc7a5, \\uc81c17\\ud68c \\uc804\\uad6d<b>\\uacbd\\uc81c</b>\\uc790\\uc720\\uad6c\\uc5ed \\uccad\\uc7a5\\ud611\\uc758\\ud68c \\ucc38\\uc11d '), (u'20161102', u'[\\ubbf8\\uad6d \\ub300\\uc120] \\u7f8e \\ub300\\uc120 \\uacb0\\uacfc\\uac00 \\ud55c\\uad6d <b>\\uacbd\\uc81c</b>\\uc5d0 \\ubbf8\\uce60 \\uc601\\ud5a5 \\uc6b8\\uc0b0 \\ub0a8\\uad6c \\uc0ac\\ud68c\\uc801<b>\\uacbd\\uc81c</b> \\uc124\\ub9bd \\uc124\\uba85\\uc758 \\ub2ec \\ud504\\ub85c\\uadf8\\ub7a8 '), (u'20161031', u'2016\\ub144 10\\uc6d4 <b>\\uacbd\\uc81c</b> \\uc774\\uc288 <b>\\uacbd\\uc81c</b>\\ud300, \\ub9e4\\uc8fc \\ud68c\\uc758 \\uc5f4\\uc5b4 \\ud604\\uc548 \\ub300\\ucc45 \\ub17c\\uc758 \\ubcf4\\uace0\\uc11c\\uc77d\\uae30)\\uad6d\\ub0b4 \\uac00\\uacc4\\ubd80\\ucc44 \\uc99d\\uac00\\uc758 \\uc6d0\\uc778 \\ubc0f \\uc804\\ub9dd (\\ud604\\ub300<b>\\uacbd\\uc81c</b>\\uc5f0\\uad6c\\uc18c) '), (u'20161030', u'\\ucc3d\\uc870<b>\\uacbd\\uc81c</b>\\ud601\\uc2e0\\uc13c\\ud130\\ub294 \\uc5b8\\uc81c\\ub098 \\u2018\\uc790\\uc720\\ud559\\uae30\\uc81c\\u2019\\uc785\\ub2c8\\ub2e4 '), (u'20161027', u'\\uc138\\uacc4<b>\\uacbd\\uc81c</b>\\ud3ec\\ub7fc(WEF) \\ubc1c\\ud45c 2016\\ub144 \\uc131\\uaca9\\ucc28\\uc9c0\\uc218(GGI) \\uad00\\ub828 '), (u'20161025', u'\\uc0ac\\ud68c\\uc801<b>\\uacbd\\uc81c</b> \\uad50\\uc721 '), (u'20161024', u'<b>\\uacbd\\uc81c</b> \\uc774\\uc288 \\uc9da\\uc5b4\\ubcf4\\uae30: \\ubcf4\\ud638\\ubb34\\uc5ed\\uc8fc\\uc758 [\\uad11\\uc8fc\\ucc3d\\uc870<b>\\uacbd\\uc81c</b>\\ud601\\uc2e0\\uc13c\\ud130] \\uc218\\uc18c\\uc5f0\\ub8cc\\uc804\\uc9c0 \\uae30\\ucd08\\uad50\\uc721\\uc758 \\uad50\\uc721\\uc0dd \\ubaa8\\uc9d1 \\uc11c\\uad6c \\ud611\\ub3d9 <b>\\uacbd\\uc81c</b>\\ub97c \\uc704\\ud55c \\ubc1c\\ud310 \\ud611\\ub3d9\\uc870\\ud569\\uc9c0\\uc6d0\\uc13c\\ud130 '), (u'20161022', u'<b>\\uacbd\\uc81c</b>\\ubc1c\\uc804\\ub860\\uacfc \\ud604\\ub300\\uc911\\uad6d - \\uc778\\uad6c\\ubcf4\\ub108\\uc2a4 \\uc774\\ub860\\uc73c\\ub85c \\uc911\\uad6d <b>\\uacbd\\uc81c</b>\\uc758...  '), (u'20161019', u'\\uc644\\ubcbd\\ud55c \\uc655\\uad6d: \\uc778\\ub3c4\\ucc28\\uc774\\ub098 \\ucd5c\\uace0\\uc758 \\uade0\\ud615 <b>\\uacbd\\uc81c</b> 2016.10.19  \\uc138\\uacc4 \\uc778\\uad6c\\uc758 \\ub3c4\\uc2dc\\ud654\\uc640 \\ub3c4\\uc2dc\\ud654\\uc5d0 \\ub530\\ub978 <b>\\uacbd\\uc81c</b> \\uc804\\ub9dd [\\uad6c\\ub85c\\uc0b0 \\ub274\\uc2a4] \\uad6c\\ub85c<b>\\uacbd\\uc81c</b>\\ubb38\\ud654\\ubc1c\\uc804\\ud3ec\\ub7fc\\ud68c \\uc131\\ud669\\ub9ac\\uc5d0 \\uac1c\\ucd5c '), (u'20161014', u'\\uc0ac\\ud68c\\uc801<b>\\uacbd\\uc81c</b> \\uc544\\uce74\\ub370\\ubbf8 \\uac15\\uc88c \\uc2e0\\uccad \\uc548\\ub0b4 '), (u'20161012', u'\\uc5d0\\ud5e4\\ub77c\\ub514\\uc57c, 2016 \\uc131\\ub0a8\\uc2dc \\uc0ac\\ud68c\\uc801<b>\\uacbd\\uc81c</b> \\ud55c\\ub9c8\\ub2f9 #\\uc11c\\ubbfc<b>\\uacbd\\uc81c</b> #\\uc0b4\\ub9ac\\ub294 #\\uc7a5\\ub124\\ud06c '), (u'20161004', u'\\uae08\\ucc9c\\uad6c G\\ubc38\\ub9ac\\uc5d0\\uc11c \\uc0ac\\ud68c\\uc801<b>\\uacbd\\uc81c</b> \\ud55c\\ub9c8\\ub2f9 \\uc990\\uae30\\uc138\\uc694! '), (u'20160926', u'\\uacf5\\uc720<b>\\uacbd\\uc81c</b>, \\uc5b4\\ub514\\uae4c\\uc9c0 \\uc774\\uc6a9\\ud574\\ubd24\\ub2c8? '), (u'20160923', u'\\uc2e0\\ucc3d\\ud0c0\\uc774\\uc758 \\ub73b\\uacfc \\uc911\\uad6d <b>\\uacbd\\uc81c</b>\\uc758 \\ubcc0\\ud654 '), (u'20160922', u'&quot;<b>\\uacbd\\uc81c</b>\\uc131\\uc7a5\\uc744 \\uc774\\ub04c \\ucc3d\\uc870<b>\\uacbd\\uc81c</b> \\uc721\\uc131&quot; - OECD \\ubcf4\\uace0\\uc11c \\uad50\\ubcf4\\ubb38\\uace0 9\\uc6d4 <b>\\uacbd\\uc81c</b> \\ubca0\\uc2a4\\ud2b8\\uc140\\ub7ec &amp; \\uc2a4\\ud14c\\ub514\\uc140\\ub7ec \\ub9ac\\ud3ec\\ud2b8 '), (u'20160919', u'\\ubcf4\\uace0\\uc11c \\uc77d\\uae30) \\ucd5c\\uadfc \\ubd80\\ub3d9\\uc0b0 \\uc2dc\\uc7a5 \\ud604\\ud669\\uacfc \\ud5a5\\ud6c4 \\uc804\\ub9dd(\\ud604\\ub300<b>\\uacbd\\uc81c</b>\\uc5f0...  '), (u'20160907', u'2016\\ucc3d\\uc870<b>\\uacbd\\uc81c</b>\\ud398\\uc2a4\\ud2f0\\ubc8c \\uc774\\ubaa8\\uc800\\ubaa8 '), (u'20160906', u\"\\uc0ac\\ud68c\\uc801<b>\\uacbd\\uc81c</b> \\ub098\\ub214\\uc7a5\\ud130 '\\uac00\\uce58\\uac19\\uc774'\\uc5d0 \\ub2e4\\ub140\\uc654\\uc5b4\\uc694 \"), (u'20160901', u'\\ub7ec\\uc2dc\\uc544 <b>\\uacbd\\uc81c</b>\\uc0ac\\uc808\\ub2e8 70\\uac1c\\uc0ac\\xb7\\ub77c\\uc624\\uc2a4 <b>\\uacbd\\uc81c</b>\\uc0ac\\uc808\\ub2e8 81\\uac1c\\uc0ac \\ucd5c\\uc885 \\ud655\\uc815 '), (u'20160829', u'\\uc5f0\\ub839\\ubcc4 <b>\\uacbd\\uc81c</b> \\uad50\\uc721\\uc5d0 \\uc88b\\uc740 <b>\\uacbd\\uc81c</b>\\ucc45(\\uc720\\uc544\\ucc45) \\ucd94\\ucc9c '), (u'20160826', u'[\\uccad\\ub144\\uc815\\ucc45]\\uc5b4\\ub824\\uc6b4 <b>\\uacbd\\uc81c</b> \\uc27d\\uac8c \\uc54c\\ub824\\uc8fc\\ub294 \\uc0ac\\uc774\\ud2b8 BEST 5! '), (u'20160806', u'\\uc798 \\ub098\\uac00\\ub294 \\ubbf8\\uad6d<b>\\uacbd\\uc81c</b> '), (u'20160803', u'[\\uc7ac\\ud14c\\ud06c\\ud301] \\u2018\\ud558\\ub8e8 10\\ubd84\\u2019  <b>\\uacbd\\uc81c</b> \\uc2e0\\ubb38 \\uc77d\\uae30 \\ub178\\ud558\\uc6b0 '), (u'20160730', u'\\ucc3d\\uc870<b>\\uacbd\\uc81c</b>\\ud601\\uc2e0\\uc13c\\ud130\\ub780 \\ubb34\\uc5c7\\uc77c\\uae4c\\uc694? '), (u'20160729', u'\\ub300\\ud55c\\ubbfc\\uad6d <b>\\uacbd\\uc81c</b> \\uc131\\uc7a5\\uc758 \\uc6d0\\ub3d9\\ub825, \\ud3ec\\ud56d\\uc5d0 \\uac00\\ub2e4 '), (u'20160728', u'IMF\\ub294 \\uc65c \\uc138\\uacc4<b>\\uacbd\\uc81c</b>\\uc804\\ub9dd\\uc744 \\uc218\\uc815\\ud558\\uc600\\uc744\\uae4c? '), (u'20160721', u'[\\ubcf4\\ub3c4\\uc790\\ub8cc] \\uc608\\ubcf4, \\ub18d\\ucd0c<b>\\uacbd\\uc81c</b> \\ud65c\\uc131\\ud654\\uc5d0\\ub3c4 \\uc55e\\uc7a5\\uc11c\\ub2e4! '), (u'20160720', u'\\uc7a5\\ub9c8\\uc640 <b>\\uacbd\\uc81c</b>\\uc758 \\uc0c1\\uad00\\uad00\\uacc4 '), (u'20160713', u'\\uc778\\uad6c\\ub178\\ub839\\ud654, \\uc77c\\ubcf8<b>\\uacbd\\uc81c</b> \\uc1e0\\ud1f4\\uc758 \\uc8fc\\ubc94\\uc778\\uac00? '), (u'20160701', u'\\ud604\\uc2e4\\uc774 \\ub41c \\ube0c\\ub809\\uc2dc\\ud2b8, \\ud55c\\uad6d <b>\\uacbd\\uc81c</b>\\uc5d0 \\ubbf8\\uce58\\ub294 \\uc601\\ud5a5\\uc740? '), (u'20160615', u'\\ud611\\ub3d9\\uc758 \\ud798, \\ud018\\ubca1\\uc758 \\uc0ac\\ud68c\\uc801 <b>\\uacbd\\uc81c</b> '), (u'20160512', u'2016 IMF \\uc138\\uacc4<b>\\uacbd\\uc81c</b> \\uc804\\ub9dd, \\uc6b0\\ub9ac <b>\\uacbd\\uc81c</b>\\uc758 \\ubbf8\\ub798\\ub294? '), (u'20160503', u'\\uc0ac\\ud68c\\uc801<b>\\uacbd\\uc81c</b> : \\uc11c\\uc6b8 \\ud50c\\ub9ac\\ub9c8\\ucf13 \\ucd94\\ucc9c Best3 '), (u'20160324', u'\\uc6b0\\ub9ac\\ub098\\ub77c <b>\\uacbd\\uc81c</b>\\uc758 \\ubd04\\ub0a0\\uc744 \\ucc3e\\uc544\\ub77c, Goal In Dream! '), (u'20151112', u'\\uae40\\ub300\\uc911 \\ub178\\ubb34\\ud604 \\uc774\\uba85\\ubc15 \\ubc15\\uadfc\\ud61c \\uc815\\ubd80 \\ube44\\uad50 4 - <b>\\uacbd\\uc81c</b>\\uc131\\uc7a5\\ub960 '), (u'', u'          ')]]\n"
     ]
    }
   ],
   "source": [
    "lines_list = list()\n",
    "lines_list.append(lines.collect())\n",
    "print lines_list"
   ]
  },
  {
   "cell_type": "code",
   "execution_count": 126,
   "metadata": {
    "collapsed": false
   },
   "outputs": [],
   "source": [
    "rdd2 = spark.sparkContext.textFile(os.path.join('data','kospi.txt'))\n",
    "lines2 = rdd2.flatMap(lambda x:x.split('\\n')).map(lambda x:x.split())\n"
   ]
  },
  {
   "cell_type": "code",
   "execution_count": 127,
   "metadata": {
    "collapsed": true
   },
   "outputs": [],
   "source": [
    "lines_list2 = list()\n",
    "lines_list2.append(lines2.collect())"
   ]
  },
  {
   "cell_type": "code",
   "execution_count": 81,
   "metadata": {
    "collapsed": false
   },
   "outputs": [
    {
     "name": "stdout",
     "output_type": "stream",
     "text": [
      "발칙한 <b>경제</b> - 2014년 이후 가계부채가 급증했던 이유는? [금융<b>경제</b>] 100세 시대 - 노후대비를 위한 연금 알기  1\n"
     ]
    }
   ],
   "source": [
    "print lines_list[0][0][1], lines_list2[0][0][1]"
   ]
  },
  {
   "cell_type": "code",
   "execution_count": 128,
   "metadata": {
    "collapsed": false
   },
   "outputs": [
    {
     "name": "stdout",
     "output_type": "stream",
     "text": [
      "[[[u'20170504', u'1|[\\ubd80\\uc0b0\\ucc3d\\uc870<b>\\uacbd\\uc81c</b>\\ud601\\uc2e0\\uc13c\\ud130] \\ubd80\\uc0b0\\uc13c\\ud130, LOTTE \\uace0\\uc6a9\\ub514\\ub524\\ub3cc \\ubaa8\\uc9d1 \\uacf5\\uace0 \\uacf5\\ub3d9\\uccb4 \\ubc0f \\uc0ac\\ud68c\\uc801<b>\\uacbd\\uc81c</b> \\ud1b5\\ud569\\uc9c0\\uc6d0 \\ubc95\\uc81c\\ud654 \\uae30\\ucd08\\uc5f0\\uad6c [\\uacbd\\uae30\\uc5f0\\uad6c\\uc6d0...  '], [u'20170508', u'1|\\uc778\\ucc9c\\uc2dc, <b>\\uacbd\\uc81c</b>\\uc8fc\\uad8c \\uc8fc\\uc81c\\ub85c \\uc2dc\\ubbfc\\uacfc \\uc9d1\\uc911\\ud1a0\\ub860 \\uacc4\\ud1b5\\uc870\\uc9c1\\uac04 \\uc0c1\\uc0dd \\ubc1c\\uc804 \\ub3c4\\ubaa8, 2017\\ub144 \\uc804\\uad6d \\ud68c\\uc6d0\\uc870\\ud569 <b>\\uacbd\\uc81c</b>\\uc0c1\\ubb34\\ud68c...  \\uc6a9\\uc778 \\u2018SEC \\uc9c4\\ub85c\\uad50\\uc721\\uc5f0\\uad6c\\ud68c\\u2019 \\uc791\\uc740 \\ud559\\uae09 <b>\\uacbd\\uc81c</b>\\ub85c \\ud589\\ubcf5\\ud55c \\uad50\\uc2e4...  '], [u'20170510', u'0|[\\ub300\\uc120\\ud2b9\\uc9d1] \\uc5ed\\ub300 \\ub300\\ud1b5\\ub839\\uc758 <b>\\uacbd\\uc81c</b>\\uc815\\ucc45 \\u2018\\uc11c\\uc6b8\\uad6d\\uc81c\\ud578\\ub4dc\\uba54\\uc774\\ub4dc\\ud398\\uc5b4 2017\\u2019 \\ube5b\\ub0b8 \\uc0ac\\ud68c\\uc801<b>\\uacbd\\uc81c</b> \\uc0c1\\ud488 21\\uc120 \\ubb38\\uc7ac\\uc778 \\ub300\\ud1b5\\ub839 \\ub2f9\\uc120, <b>\\uacbd\\uc81c</b> \\ud68c\\ubcf5\\uacfc \\uc801\\ud3d0\\uccad\\uc0b0 \\ub450 \\ub9c8\\ub9ac \\ud1a0\\ub07c \\ub2e4...  [\\uacbd\\ubd81\\ucc3d\\uc870<b>\\uacbd\\uc81c</b>\\ud601\\uc2e0\\uc13c\\ud130] \\uacbd\\ubd81\\ucc3d\\uc870<b>\\uacbd\\uc81c</b>\\ud601\\uc2e0\\uc13c\\ud130, 4\\uc6d4 Mini...  [\\uacbd\\uae30\\ucc3d\\uc870<b>\\uacbd\\uc81c</b>\\ud601\\uc2e0\\uc13c\\ud130]                              K-Champ Lab...  \\uac1c\\uc2e0\\ucd08, \\uc5b4\\ub9b0\\uc774<b>\\uacbd\\uc81c</b>\\uad50\\uc721\\ubba4\\uc9c0\\uceec \\uacf5\\uc5f0 [\\uacbd\\ub0a8\\ucc3d\\uc870<b>\\uacbd\\uc81c</b>\\ud601\\uc2e0\\uc13c\\ud130] 4\\ucc28 \\uc0b0\\uc5c5\\ud601\\uba85 \\uad00\\ub828 \\uc544\\uc774\\ub514\\uc5b4 \\ubc1c\\uad74...  '], [u'20170511', u'1|[\\ubd80\\uc0b0\\ucc3d\\uc870<b>\\uacbd\\uc81c</b>\\ud601\\uc2e0\\uc13c\\ud130] Living Lab \\uc2e4\\uc99d\\uae30\\uc5c5 \\uc9c0\\uc6d0 \\ubaa8\\uc9d1\\uacf5\\uace0 \\ubaa8\\ub460\\uc218\\uc5c5\\uc73c\\ub85c <b>\\uacbd\\uc81c</b>\\uad50\\uc721 \\ubc30\\uc6cc\\ubcf4\\uae30 '], [u'20170512', u'0|\\uc9c0\\uae08, \\uc6b0\\ub9ac <b>\\uacbd\\uc81c</b>\\ub294? [\\ubb38\\uc7ac\\uc778 \\uc815\\ubd80 \\ucd9c\\ubc94.. \\uc6b8\\uc0b0<b>\\uacbd\\uc81c</b> \\uae30\\ub300\\uc640 \\uae34\\uc7a5 \\uad50\\ucc28] [KIEP\\uc640 \\ud568\\uaed8\\ud558\\ub294 <b>\\uacbd\\uc81c</b>\\uc6a9\\uc5b4] \\uc720\\ub77c\\uc2dc\\uc544<b>\\uacbd\\uc81c</b>\\uc5f0\\ud569...  \\uc0ac\\ud68c\\uc801<b>\\uacbd\\uc81c</b>\\uae30\\uc5c5\\uacfc \\uc11c\\uc6b8\\uc2dc \\uc6b0\\uc218\\uc911\\uc18c\\uae30\\uc5c5\\uc774 \\ud568\\uaed8\\ud558\\ub294...  [\\ubd80\\uc0b0\\ucc3d\\uc870<b>\\uacbd\\uc81c</b>\\ud601\\uc2e0\\uc13c\\ud130]                              2017...  \\ubb38\\uc7ac\\uc778 \\ub300\\ud1b5\\ub839 \\ucd94\\ucc9c\\ub3c4\\uc11c, \\uc6b0\\uc11d\\ud6c8\\uc758 \\u300a\\uc0ac\\ud68c\\uc801 <b>\\uacbd\\uc81c</b>\\ub294 \\uc88c\\uc6b0\\ub97c...  \\uac15\\ub3d9\\uad6c, \\uc0ac\\ud68c\\uc801<b>\\uacbd\\uc81c</b> \\uc544\\uce74\\ub370\\ubbf8\\u2018\\uc6b0\\ub9ac\\ub07c\\ub9ac-\\uccad\\ub144\\u2019 \\u7121\\u6599\\uc218\\uac15\\uc0dd \\ubaa8\\uc9d1 '], [u'20170515', u'1|\\ubb38\\uc7ac\\uc778 \\uc815\\ubd80 <b>\\uacbd\\uc81c</b> [\\ucda9\\ubd81\\ucc3d\\uc870<b>\\uacbd\\uc81c</b>\\ud601\\uc2e0\\uc13c\\ud130] K- \\ubdf0\\ud2f0 \\ub514\\uc790\\uc778\\uc5ed\\ub7c9\\uac15\\ud654 \\uc9c0\\uc6d0 \\uc0ac\\uc5c5...  [\\uacbd\\ubd81\\ucc3d\\uc870<b>\\uacbd\\uc81c</b>\\ud601\\uc2e0\\uc13c\\ud130] \\uacc4\\uc57d\\uc9c1 \\uc9c1\\uc6d0 \\ubaa8\\uc9d1 2017\\ub144 5\\uc6d4, \\uc911\\uad6d\\uc99d\\uc2dc \\uc8fc\\uc694 <b>\\uacbd\\uc81c</b>\\uc9c0\\ud45c \\ubc1c\\ud45c\\uc77c\\uc815 \\ubc0f \\ud734\\uc7a5\\uc77c \\uc548\\ub0b4 '], [u'20170516', u\"1|\\uc0c1\\uacbd \\uacc4\\uc5f4 \\uc9c4\\ub85c, <b>\\uacbd\\uc81c</b> \\uad00\\uc2ec \\ud559\\uc0dd\\uc744 \\uc704\\ud55c \\uc96c\\ub2c8\\uc5b4 \\ud14c\\uc14b \\uc900\\ube44 2017\\ub144 \\uc218\\uc815 <b>\\uacbd\\uc81c</b>\\uc804\\ub9dd 2017\\ub144 1\\ucc28 \\ucc3d\\uc870<b>\\uacbd\\uc81c</b>\\ud0c0\\uc6b4 \\uc778\\ub514\\uc571 \\ud64d\\ubcf4 \\uacf5\\ubaa8\\uc804 \\ud2f4\\ud2f4<b>\\uacbd\\uc81c</b>\\uad50\\uc721 How [\\uc81c\\uc8fc\\ucc3d\\uc870<b>\\uacbd\\uc81c</b>\\ud601\\uc2e0\\uc13c\\ud130] 2017 \\uccb4\\ub958\\uc9c0\\uc6d0\\uc0ac\\uc5c5 '\\uc81c\\uc8fc\\ub2e4\\uc6c0' 6\\uc6d4 \\ud2b9\\uc774\\uc810\\uc774 \\ubc1c\\uc0dd\\ud558\\ub2e4... - \\ubd80\\uc81c: \\uad6d\\ud68c\\uc608\\uc0b0\\ucc98 <b>\\uacbd\\uc81c</b>\\ub3d9\\ud5a5 &amp; \\uc774\\uc288(\\uc81c54\\ud638) \\uacf5\\ub3d9\\uc721\\uc544 \\ud488\\uc557\\uc774\\uc218\\uc5c5 \\u2669 \\ub098\\ub214\\uc7a5\\ud130 \\ud504\\ub85c\\uc81d\\ud2b8 1. \\ub3c8\\ub9cc\\ub4e4\\uae30 <b>\\uacbd\\uc81c</b>\\uad50\\uc721 \\uc5b4\\ucd0c \\uc0b4\\ub9bc\\uc0b4\\uc774 \\uc5b4\\ub54c\\uc694? \\uadf8\\ub798\\ud504\\ub85c \\uc815\\ub9ac\\ud55c \\uc5b4\\uac00<b>\\uacbd\\uc81c</b>\\uc870\\uc0ac \\uacb0\\uacfc \"], [u'20170517', u'0|[\\uc804\\ubd81\\ucc3d\\uc870<b>\\uacbd\\uc81c</b>\\ud601\\uc2e0\\uc13c\\ud130] \\uc601\\uc0c1\\uc81c\\uc791 \\ubc0f \\uc2e4\\uc2dc\\uac04 \\uc0dd\\ubc29\\uc1a1 / \\ud3b8\\uc9d1...  \\uc0ac\\ud68c\\uc801 <b>\\uacbd\\uc81c</b>\\ub294 \\uc88c\\uc6b0\\ub97c \\ub118\\ub294\\ub2e4, \\ucd9c\\uac04 \\ud6c4\\uae30 [\\uac15\\uc6d0\\ucc3d\\uc870<b>\\uacbd\\uc81c</b>\\ud601\\uc2e0\\uc13c\\ud130]  e-\\ucee4\\uba38\\uc2a4 \\ubc0f \\ub9c8\\ucf00\\ud305 6\\uc6d4 \\ubb34\\ub8cc \\uad50\\uc721\\uc0dd...  <b>\\uacbd\\uc81c</b> \\ucee8\\ud2b8\\ub864\\ud0c0\\uc6cc \\uc81c\\ub300\\ub85c \\uc138\\uc6cc\\ub77c \\ud568\\uc591\\ub18d\\ud611, \\uc591\\ud30c\\ub85c <b>\\uacbd\\uc81c</b>\\uc0ac\\uc5c5 \\ud65c\\uc131\\ud654\\uc5d0 \\uc55e\\uc7a5\\uc120\\ub2e4 [\\uacbd\\ub0a8\\ucc3d\\uc870<b>\\uacbd\\uc81c</b>\\ud601\\uc2e0\\uc13c\\ud130] \\uc81c3\\ud68c \\uccad\\ub144\\ucc44\\uc6a9\\uc758 \\ub0a0 \\uac1c\\ucd5c SBSCNBC <b>\\uacbd\\uc81c</b>\\uc640\\uc774\\ub4dc \\ubc31\\ube0c\\ub9ac\\ud551 \\uc2dc\\uc2dc\\uac01\\uac01 &quot;\\ubd04\\ucca0 \\ubbf8\\uc138\\uba3c\\uc9c0 \\uc7a1\\ub294...  '], [u'20170518', u'0|<b>\\uacbd\\uc81c</b> \\uc131\\uc7a5\\uc758 \\uadf8\\ub9bc\\uc790 \\ubc15\\uc778\\uc219 \\uc758\\uc6d0, \\u300c\\uc81c32\\ud68c \\uad6d\\ud68c\\ubc14\\uc774\\uc624<b>\\uacbd\\uc81c</b>\\ud3ec\\ub7fc \\u2013 \\uc2e0\\uc815\\ubd80 \\ubc14\\uc774\\uc624...  \\ub3c4\\ubd09, \\uc0ac\\ud68c\\uc801<b>\\uacbd\\uc81c</b>\\ubd84\\uc57c \\uacf5\\ubaa8 \\uc787\\ub2e8 \\uc120\\uc815\\uacf5\\uc815\\ubb34\\uc5ed \\uc9c0\\uc6d0 '], [u'20170519', u'1|\\uc774\\ubc29\\ucd08, <b>\\uacbd\\uc81c</b>, \\uae08\\uc735 \\uc6b0\\ub9ac\\ub3c4 \\uc54c\\uc544\\uc694! \\ubca0\\ud2b8\\ub0a8 <b>\\uacbd\\uc81c</b> \\uc131\\uc7a5\\uc758 \\uc6d0\\ub3d9\\ub825, <b>\\uacbd\\uc81c</b>\\ud2b9\\uad6c [\\uacbd\\uae30\\ucc3d\\uc870<b>\\uacbd\\uc81c</b>\\ud601\\uc2e0\\uc13c\\ud130] \\uae00\\ub85c\\ubc8c \\uc9c4\\ucd9c \\ub9de\\ucda4\\ud615 \\uc9c0\\uc6d0 \\uc0ac\\uc5c5 \\uc2dc\\ud589 [KIEP\\uc640 \\ud568\\uaed8\\ud558\\ub294 <b>\\uacbd\\uc81c</b>\\uc6a9\\uc5b4] \\ube44\\uc138\\uadf8\\ub77c\\ub4dc \\uadf8\\ub8f9(Visegrad Group) [\\uc0dd\\ud65c\\uc815\\ubcf4] \\uc0ac\\ud68c\\uc801<b>\\uacbd\\uc81c</b>\\uae30\\uc5c5 \\ucc3d\\uc5c5 \\uc124\\uba85\\ud68c \\uac1c\\ucd5c '], [u'20170522', u'1|\\uc601\\ud654\\ub85c \\ubcf4\\ub294 <b>\\uacbd\\uc81c</b> \\uc774\\uc57c\\uae30 [\\uc54c\\uae30\\uc26c\\uc6b4 \\uc911\\uad6d<b>\\uacbd\\uc81c</b>] \\u2018\\uc774\\uc885\\uad50\\ubc30\\u2019 \\uc2dc\\uc791\\ud55c \\uc911\\uad6d <b>\\uacbd\\uc81c</b>\\uacc4 SBS\\uc0dd\\ud65c<b>\\uacbd\\uc81c</b> 40\\ub300\\ubab8\\uc9f1\\uc544\\uc90c\\ub9c8 \\ub2e4\\uc774\\uc5b4\\ud2b8 \\ube44\\ubc95\\uc73c\\ub85c...  \\ub3d9\\xb7\\uc2dd\\ubb3c \\uc0b4\\uc544\\uac00\\ub294 \\uae30\\uc220 \\uc751\\uc6a9 \\u2018\\uccad\\uc0c9<b>\\uacbd\\uc81c</b>\\u2019 \\ub72c\\ub2e4 5\\uc6d4 23\\uc77c(\\ud654) \\uc624\\uc804 10:25 SBS \\uc0dd\\ud65c<b>\\uacbd\\uc81c</b> \\uc608\\uace0 \\ud310\\uc7a3\\uc9d1 \\uc18c\\ub144\\uac00\\uc7a5 \\uae40\\ub3d9\\uc5f0 <b>\\uacbd\\uc81c</b>\\ubd80\\ucd1d\\ub9ac...\\ubb38\\uc7ac\\uc778 \\uc815\\ubd80 <b>\\uacbd\\uc81c</b>\\xb7\\uc678\\uad50...  [\\uacbd\\ubd81\\ucc3d\\uc870<b>\\uacbd\\uc81c</b>\\ud601\\uc2e0\\uc13c\\ud130] \\uacbd\\ubd81\\uc13c\\ud130 \\ubcf4\\uc721\\uae30\\uc5c5 \\uc791\\uc740\\uc54c\\uc790\\uc2a4, \\uc0ac\\uacfc...  \\uac15\\uc6d0\\ucc3d\\uc870<b>\\uacbd\\uc81c</b>\\ud601\\uc2e0\\uc13c\\ud130 \\ucf00\\uc774\\ud130\\ub9c1 \\uc7a5\\ud558\\uc131 \\uae40\\uc0c1\\uc870 \\uc81c\\uc774\\ub178\\ubbf9\\uc2a4 \\uc0bc\\ub450\\ub9c8\\ucc28..11\\uc0b4 \\uc18c\\ub144\\uac00\\uc7a5 <b>\\uacbd\\uc81c</b>\\ubd80\\ucd1d\\ub9ac.. '], [u'20170523', u\"1|[\\uc81c\\uc8fc\\ucc3d\\uc870<b>\\uacbd\\uc81c</b>\\ud601\\uc2e0\\uc13c\\ud130] \\ucc3d\\uc870\\uacf5\\ubc29[J-Fab Lab] OPEN! [\\uc5f0\\uc218\\uc18c\\uc2dd] 2017\\ub144 \\uc0ac\\ud68c\\uc801<b>\\uacbd\\uc81c</b>\\uae30\\uc5c5\\uac00 \\uc591\\uc131 \\uad50\\uc721 \\uc218\\uac15\\uc0dd \\ubaa8\\uc9d1 [\\ucda9\\ub0a8\\ucc3d\\uc870<b>\\uacbd\\uc81c</b>\\ud601\\uc2e0\\uc13c\\ud130] 2017\\ub144\\ub3c4 \\uc218\\uc694\\ud53c\\uce6d\\ub370\\uc774 '100\\ubc88\\uac00\\uc758...  [KIEP \\uc624\\ub298\\uc758 \\uc138\\uacc4<b>\\uacbd\\uc81c</b>] \\ub7ec\\xb7\\uc77c <b>\\uacbd\\uc81c</b>\\uad00\\uacc4 \\uc9c4\\uc804\\uacfc \\ud55c\\uad6d\\uc5d0 \\ub300\\ud55c...  [\\ub300\\uad6c\\ucc3d\\uc870<b>\\uacbd\\uc81c</b>\\ud601\\uc2e0\\uc13c\\ud130] C-Star Pitching 2017 \\ud558\\ubc18\\uae30 \\uc77c\\uc815...  [\\ub300\\ub9cc<b>\\uacbd\\uc81c</b>] \\u2605 \\ub300\\ub9cc\\uc740 \\uc9c0\\uae08, \\ub300\\ub9cc <b>\\uacbd\\uc81c</b>\\uc18c\\uc2dd(5/22 &amp; 23); \\u65e5...  \"], [u'20170524', u'1|2\\ud559\\ub144\\ucd94\\ucc9c\\ub3c4\\uc11c <b>\\uacbd\\uc81c</b>\\ub97c \\ubc30\\uc6cc\\uc694 [\\ucd9c\\uac04 \\uc804 \\uc5f0\\uc7ac] \\u300e\\uc740\\ud589\\uc774 \\uba48\\ucd94\\ub294 \\ub0a0\\u300f #03 \\ubb35\\uc0b4\\ub41c 1998\\ub144 <b>\\uacbd\\uc81c</b>...  [\\uae08\\uc735<b>\\uacbd\\uc81c</b>] \\uc6b0\\ub9ac\\ub098\\ub77c\\uc640 \\uc678\\uad6d\\uc758 \\uae08\\uc735\\uad50\\uc721 Why, How - \\uadf8 \\uc911\\uc694\\uc131 [\\uacbd\\uae30\\ucc3d\\uc870<b>\\uacbd\\uc81c</b>\\ud601\\uc2e0\\uc13c\\ud130] Biz Growth Marketing  \\ud504\\ub85c\\uadf8\\ub7a8...  \\ud559\\uad50\\ud611\\ub3d9\\uc870\\ud569 \\uc124\\ub9bd\\uc73c\\ub85c \\uc0ac\\ud68c\\uc801<b>\\uacbd\\uc81c</b>\\ub97c \\ubc30\\uc6cc\\uc694~~~ [\\uc2a4\\ub0b5\\ucee4\\ube14 <b>\\uacbd\\uc81c</b>] \\uc2e4\\uccb4 \\uc5c6\\ub294 \\uc99d\\uad8c\\uac00 \\uad34\\ub2f4, \\uc9c0\\ube0c\\ub9ac\\uc758 \\uc800\\uc8fc [\\ub300\\uad6c\\ucc3d\\uc870<b>\\uacbd\\uc81c</b>\\ud601\\uc2e0\\uc13c\\ud130] \\uc0c1\\uc0c1\\uc774 \\ud604\\uc2e4\\uc774 \\ub418\\ub294 \\uacf3, C-Fab! [\\uacbd\\ub0a8\\ucc3d\\uc870<b>\\uacbd\\uc81c</b>\\ud601\\uc2e0\\uc13c\\ud130] \\uae00\\ub85c\\ubc8c\\uc0c1\\uc0c1\\ucc3d\\uc5c5\\ud0d0\\uc0c9\\uae30 \\uad50\\uc721 \\uc2e4\\uc2dc \\uccad\\uc18c\\ub144 <b>\\uacbd\\uc81c</b> \\ucc3d\\uc5c5\\uad50\\uc2e4_\\uc591\\uc0b0 '], [u'20170525', u'1|[\\uc81c\\uc8fc\\ucc3d\\uc870<b>\\uacbd\\uc81c</b>\\ud601\\uc2e0\\uc13c\\ud130] \\uc6d0\\uc2a4\\ud1b1 \\uc0c1\\ub2f4 \\uc11c\\ube44\\uc2a4 \\uc6b4\\uc601 \\uc54c\\ub9bc! [\\uc5f0\\uc218\\uc18c\\uc2dd]\\u300e\\uc5f0\\uc218\\uad6c \\uc0ac\\ud68c\\uc801<b>\\uacbd\\uc81c</b> \\ucc3e\\uc544\\uac00\\ub294 \\uad6c\\ubbfc \\uad50\\uc721\\u300f \\uc2e4\\uc2dc \\ubca4\\ucc98, \\uc18e\\uc544\\ub0b8\\ub2e4\\u300d \\ubcf4\\ub3c4 \\uad00\\ub828 - 2017. 5. 25. (\\ubaa9) \\ub9e4\\uc77c<b>\\uacbd\\uc81c</b> A01\\uba74 \\ucc3d\\uc870<b>\\uacbd\\uc81c</b> \\uc678 \\ub3c5\\uc11c '], [u'20170526', u\"1|\\ucd1d\\uc7a5\\ub2d8 \\ubc1c\\uc81c '\\uad50\\uc721 \\ud328\\ub7ec\\ub2e4\\uc784 \\ubcc0\\ud654\\uc640 \\uacf5\\uc720<b>\\uacbd\\uc81c</b>' [\\ud55c\\uad6d<b>\\uacbd\\uc81c</b>] \\uacf5\\uae30\\uc5c5 \\uc9c0\\uc6d0\\uc11c\\uc5d0 \\ud559\\ub825\\xb7\\uc2a4\\ud399 \\ubabb \\uc4f4\\ub2e4 [\\uacbd\\uae30\\ucc3d\\uc870<b>\\uacbd\\uc81c</b>\\ud601\\uc2e0\\uc13c\\ud130] '\\uc5c5\\ub77c\\uc774\\uc988 \\uae00\\ub85c\\ubc8c\\uc2a4\\ud0c0\\ud2b8\\uc5c5\\ud3ec\\ub7fc...  \\uc0ac\\ud68c\\uc801 <b>\\uacbd\\uc81c</b> \\ub3c5\\uc790 \\ud2f0\\ud0c0\\uc784 \"], [u'20170529', u'0|\\uc778\\ucc9c\\uc2dc, \\ubabd\\uace8\\uacfc\\uc758 <b>\\uacbd\\uc81c</b>\\uad50\\ub958 \\ud611\\ub825 \\ud655\\ub300 \\u4e2d \\uacf5\\uc720<b>\\uacbd\\uc81c</b>, \\ucd95\\ubc30\\ub97c \\ub4e4\\uae30\\uc5d0\\ub294 \\uc774\\ub974\\ub2e4 [\\ubd80\\uc0b0\\ucc3d\\uc870<b>\\uacbd\\uc81c</b>\\ud601\\uc2e0\\uc13c\\ud130] 2017 \\uc804\\uad6d \\uacf5\\ub3d9 \\uc18c\\uc2f1\\ubc15\\ub78c\\ud68c \\uac1c\\ucd5c [\\uc544\\uc2dc\\uc544<b>\\uacbd\\uc81c</b>] [\\uc7ac\\uacc4, \\ud611\\ub825\\uc0ac \\uc77c\\uc790\\ub9ac \\uc0c1\\uc0dd]\\ud604\\ub300\\uae30\\uc544\\ucc28, \\ucc44\\uc6a9...  [\\uc54c\\uae30\\uc26c\\uc6b4 \\uc911\\uad6d<b>\\uacbd\\uc81c</b>] \\ub178\\ud6c4\\ud55c \\uacf5\\uc5c5\\uc9c0\\uc5ed \\uc2f9 \\ub72f\\uc5b4\\uace0\\uce58\\ub294 \\uc911\\uad6d \\uc0c8 \\uc815\\ubd80 <b>\\uacbd\\uc81c</b>\\uc815\\ucc45 \\uae30\\ub300\\uac10 \\uc18c\\ube44\\uc790\\uc2ec\\ub9ac \\uac1c\\uc120 '], [u'20170530', u'0|\\ub0b4\\uaebc\\uc778 \\ub4ef \\ub0b4\\uaebc \\uc544\\ub2cc \\ub108, &lt;<b>\\uacbd\\uc81c</b> \\ud55c\\ub208\\uc5d0 \\ubcf4\\ub294 <b>\\uacbd\\uc81c</b>&gt; [\\uc804\\ubd81\\ucc3d\\uc870<b>\\uacbd\\uc81c</b>\\ud601\\uc2e0\\uc13c\\ud130] \\uc2a4\\ub9c8\\ud2b8\\ucc3d\\uc791\\ud130 \\uc11c\\ud3ec\\ud130\\uc988(2\\uae30) \\ubaa8\\uc9d1 [\\uacbd\\ubd81\\ucc3d\\uc870<b>\\uacbd\\uc81c</b>\\ud601\\uc2e0\\uc13c\\ud130] \\uc81c5\\ud68c G_Star \\ub300\\ud559\\uc0dd\\ucc3d\\uc5c5\\uacbd\\uc9c4\\ub300\\ud68c [\\uc778\\ucc9c\\ucc3d\\uc870<b>\\uacbd\\uc81c</b>\\ud601\\uc2e0\\uc13c\\ud130] \\uc720\\ub2c8\\ucf58 \\uae30\\uc5c5 \\uc721\\uc131\\uc744 \\uc704\\ud55c...  [\\ucda9\\ub0a8\\ucc3d\\uc870<b>\\uacbd\\uc81c</b>\\ud601\\uc2e0\\uc13c\\ud130] 2017 \\ubca0\\ud2b8\\ub0a8 \\uad6d\\uc81c\\uc720\\ud1b5\\uc0b0\\uc5c5 \\uc804\\uc2dc\\ud68c \\ucc38\\uac00 \\ucda9\\ub0a8<b>\\uacbd\\uc81c</b>\\uc9c4\\ud765\\uc6d0, \\uc911\\uc7a5\\ub144 \\ucc3d\\uc5c5\\uc790 \\ubaa8\\uc9d1 [\\uc2a4\\ud398\\uc15c<b>\\uacbd\\uc81c</b>]KEB\\ud558\\ub098\\uc740\\ud589, Bank of Hope\\uc640 \\ud611\\uc57d \\uccb4\\uacb0...  '], [u'20170531', u\"1|\\ub300\\uad6c \\ucc3d\\uc870<b>\\uacbd\\uc81c</b>\\ub2e8\\uc9c0 \\ub9db\\uc9d1 \\ud48d\\uad6d\\uba74 #\\ubd80\\uc0b0<b>\\uacbd\\uc81c</b>\\uc9c4\\ud765\\uc6d0 \\ub124\\uc774\\ubc84 \\uacf5\\uc2dd\\ube14\\ub85c\\uadf8 \\uc778\\uc99d \\ubc1b\\ub2e4. [\\ucda9\\ubd81\\ucc3d\\uc870<b>\\uacbd\\uc81c</b>\\ud601\\uc2e0\\uc13c\\ud130]  '\\ubc14\\uc774\\uc624 \\uad6d\\uc81c \\ucee8\\ud37c\\ub7f0\\uc2a4(Bio...  \\ubbf8\\ub798\\uc5d0\\uc14b\\uc790\\uc0b0\\uc6b4\\uc6a9\\uacfc \\ud568\\uaed8\\ud558\\ub294 \\uc6b0\\ub9ac\\uc544\\uc774 <b>\\uacbd\\uc81c</b> \\uad50\\uc2e4 \\uc811\\uc774\\uc2dd \\uc804\\uae30\\uc790\\uc804\\uac70 - EASY-BIKE #\\uc820\\ud2c0\\ubaa8\\ud130\\uc2a4 (@\\ubd80\\uc0b0<b>\\uacbd\\uc81c</b>\\uc9c4\\ud765\\uc6d0) [\\ud3ec\\ud56d\\ucc3d\\uc870<b>\\uacbd\\uc81c</b>\\ud601\\uc2e0\\uc13c\\ud130 6\\uc6d4 K-ICT \\ucc3d\\uc5c5 \\uba58\\ud1a0\\ub9c1 \\uc548\\ub0b4 [\\uacbd\\ub0a8\\ucc3d\\uc870<b>\\uacbd\\uc81c</b>\\ud601\\uc2e0\\uc13c\\ud130] \\uc790\\uc720\\ud559\\uae30\\uc81c \\u300c\\uc0c1\\uc0c1\\ud2f0\\uc6c0 \\ucc3d\\uc5c5\\uccb4\\ud5d8\\u300d...  [\\ubd80\\uc0b0<b>\\uacbd\\uc81c</b>\\uc9c4\\ud765\\uc6d0] \\uc18c\\uacf5\\uc778\\ud2b9\\ud654\\uad50\\uc721 '\\ud2b9\\ud5c8 \\ub4f1\\ub85d \\ubc0f \\uc138\\ubb34\\ud68c\\uacc4...  \\u300c\\uc0ac\\ud68c\\uc801<b>\\uacbd\\uc81c</b>\\uc0b4\\ub871\\u300d \\ubb34\\ub8cc\\ub85c \\ub178\\ub7c9\\uc9c4 \\uc54c\\uc9dc\\ubc30\\uae30 \\uc0ac\\ubb34\\uc2e4\\uc744...  [\\ud3ec\\ud56d\\ucc3d\\uc870<b>\\uacbd\\uc81c</b>\\ud601\\uc2e0\\uc13c\\ud130] 2017 \\ud3ec\\ud56d\\uae30\\uc220\\uc7a5\\ud130&amp; \\ud3ec\\uc2a4\\ucf54 BS\\uacfc\\uc81c...  <b>\\uacbd\\uc81c</b> \\ud559\\uc704\\uc758 \\uc624\\ub298 / \\ud55c\\uc131\\uc548 \"], [u'20170601', u\"0|\\uc2dc\\ubbfc\\uc8fc\\uad8c\\uc2dc\\ub300, \\uc778\\ucc9c\\uc2dc <b>\\uacbd\\uc81c</b>\\uc8fc\\uad8c \\ubc1c\\ud45c! \\u300e\\uc740\\ud589\\uc774 \\uba48\\ucd94\\ub294 \\ub0a0\\u300f [\\ucd9c\\uac04\\uae30\\ub150 \\uacf5\\uc720 \\uc774\\ubca4\\ud2b8 2] \\ucd5c\\uc545\\uc758 <b>\\uacbd\\uc81c</b>...  [\\ud589\\uc0ac] \\u2018\\ud63c\\ud569\\uc18c\\uc720\\uc81c\\ub97c \\ud1b5\\ud55c \\uc7ac\\ub3c4\\uc57d\\u2019 \\uc911\\uad6d<b>\\uacbd\\uc81c</b>\\uc5f0\\uad6c\\ud559\\ud68c...  [BLANK with \\ubc30\\uc6b0 \\uc774\\uc218\\ubbfc] 170501 \\uc11c\\uc6b8<b>\\uacbd\\uc81c</b> '\\uc5ed\\uc801:\\ubc31\\uc131\\uc744...  [\\uae08\\uc735<b>\\uacbd\\uc81c</b>] \\ud63c\\uc790\\ub77c\\ub3c4 \\ud589\\ubcf5\\ud558\\uac8c! '1\\ucf54\\ub178\\ubbf8' \\uc2dc\\ub300 \\ub3c4\\ub798 [\\uc2a4\\ud398\\uc15c<b>\\uacbd\\uc81c</b>][\\ud504\\ub85c\\uc57c\\uad6c]NC\\xb7kt, 1\\ub3001 \\ud2b8\\ub808\\uc774\\ub4dc \\uc8fc\\uc778\\uacf5\\uc740? \\uc775\\uc0b0\\uc2dc, \\ubbfc\\uc0dd<b>\\uacbd\\uc81c</b> \\ud65c\\uc131\\ud654 \\uc608\\uc0b0 \\ub4f1 \\uc81c1\\ud68c \\ucd94\\uacbd1,432\\uc5b5\\uc6d0 \\uc99d\\uc561...  \\uc0ac\\ud68c\\uc801<b>\\uacbd\\uc81c</b> \\ud76c\\ub9dd\\ub098\\ub214\\uc7a5\\ud130 \"], [u'20170602', u'1|<b>\\uacbd\\uc81c</b>\\uc6a9\\uc5b4 \\ud30c\\ud5e4\\uce58\\uae30(\\uc18c\\ube44\\uc790\\uc2ec\\ub9ac\\uc9c0\\uc218 / \\uae30\\ubcf8\\uc18c\\ub4dd\\uc81c) [\\ucda9\\ub0a8\\ucc3d\\uc870<b>\\uacbd\\uc81c</b>\\ud601\\uc2e0\\uc13c\\ud130]  2017\\ub144 \\uc18c\\uc15c\\ubca4\\ucc98 \\uacbd\\uc9c4\\ub300\\ud68c \\uac1c\\ucd5c! [\\uc81c\\uc8fc\\ucc3d\\uc870<b>\\uacbd\\uc81c</b>\\ud601\\uc2e0\\uc13c\\ud130] \\uc81c\\uc8fc\\ub85c On \\ucf54\\ub529 \\xd7 \\ucf54\\ub529 \\uac15\\uc0ac \\uc591\\uc131\\uacfc\\uc815...  [KIEP\\uc640 \\ud568\\uaed8\\ud558\\ub294 <b>\\uacbd\\uc81c</b>\\uc6a9\\uc5b4] \\uc778\\ub354\\uc2a4\\ud2b8\\ub9ac 4.0 (Industry 4.0) [\\ud589\\uc0ac\\uc6b4\\uc601] \\uc11c\\uc6b8\\uc0b0\\uc5c5\\uc9c4\\ud765\\uc6d0, \\uc0ac\\ud68c\\uc801<b>\\uacbd\\uc81c</b>\\ud1b5\\ud569\\uc9c0\\uc6d0\\uc13c\\ud130 \\uacf5\\ub3d9 \\uc8fc\\ucd5c...  \\ub3d9\\uc791\\uad6c \\uc0ac\\ud68c\\uc801<b>\\uacbd\\uc81c</b> \\ub9c8\\uc744\\uc7a5\\ud130 \\uac1c\\ucd5c [\\ub300\\ub9cc<b>\\uacbd\\uc81c</b>] \\u2605 \\ub300\\ub9cc\\uc740 \\uc9c0\\uae08, \\ub300\\ub9cc <b>\\uacbd\\uc81c</b>\\uc18c\\uc2dd(6/2, \\uae08);  \\u53f0...  \\uc0dd\\uc0b0\\uc9c0\\ub294 \\uc9c0\\uae08 - 4\\ucc28 \\uc0b0\\uc5c5\\ud601\\uba85\\uacfc \\ud55c\\uc0b4\\ub9bc\\uc0dd\\uc0b0\\uc790 \\uacf5\\ub3d9\\uccb4\\uc758 <b>\\uacbd\\uc81c</b> \\uad00\\uacc4 '], [u'20170605', u\"0|[\\uc0c8\\ub85c\\uc6b4 \\ub300\\ud55c\\ubbfc\\uad6d] \\uc0c8\\ub85c\\uc6b4 <b>\\uacbd\\uc81c</b>\\uc815\\ucc45, \\uc81c\\uc774\\ub178\\ubbf9\\uc2a4 \\u4e0a \\ud559\\uc6b4\\ucd08\\ub4f1\\ud559\\uad50 '\\ud559\\uc6b4<b>\\uacbd\\uc81c</b>\\uc7a5\\ud130' <b>\\uacbd\\uc81c</b>\\ubc1c\\uc804\\uacfc \\ubbfc\\uc8fc\\uc8fc\\uc758\\uc758 \\uad00\\uacc4 \\uc77c\\uc790\\ub9ac \\ucc3d\\ucd9c, \\uc9c0\\uc5ed <b>\\uacbd\\uc81c</b> \\ud65c\\uc131! \\uc138\\uc885\\ud14c\\ud06c\\ubc38\\ub9ac 3\\ucc28 \\ubd84\\uc591 \\uc2dc\\uc791! <b>\\uacbd\\uc81c</b> \\uc21c\\ud658 \\ud2b9\\uc9d5 \\ud30c\\uc545\\ud574\\uc57c\\ud569\\ub2c8\\ub2e4 \\uc120\\ubb3c\\uacfc \\uc0ac\\ud68c\\uc801<b>\\uacbd\\uc81c</b> [201705-25-135] \\uc6d4\\uc2a4\\ud2b8\\ub9ac\\ud2b8\\ub85c \\uac04 <b>\\uacbd\\uc81c</b>\\ud559\\uc790 \\uc624\\uc0c9\\uc2dc\\uc7a5\\uc5d0\\uc11c \\uc544\\uc774\\ub4e4\\uacfc \\ud568\\uaed8 \\uc2e0\\ub098\\ub294 <b>\\uacbd\\uc81c</b>\\uad50\\uc721 \\uc990\\uae30\\uae30&lt;\\uc2dc\\ubbfc\\uae30\\uc790...  \\uacbd\\uae30\\ub3c4 \\u300c4\\ucc28 \\uc0b0\\uc5c5\\ud601\\uba85\\uc758 \\uc2dc\\ub300, \\uacf5\\uc720 \\uc2dc\\uc7a5<b>\\uacbd\\uc81c</b>\\uc5d0\\uc11c \\uae38\\uc744 \\ucc3e\\ub2e4\\u300d...  \\u201cAIIB\\ucd1d\\ud68c\\ub97c \\ud55c\\xb7\\uc911 \\uad00\\uacc4 \\ubcf5\\uc6d0 \\uacc4\\uae30\\ub85c\\u201d \\uc8fc\\uc81c \\ub9e4\\uc77c<b>\\uacbd\\uc81c</b> \\uae30\\uace0 \\uc0ac\\ud68c\\uc801<b>\\uacbd\\uc81c</b>\\ub9c8\\uc744\\uc13c\\ud130 '\\uacf5\\uc720\\uc11c\\uc7ac' \\uc1a1\\ud30c\\uad6c \\uc0ac\\ud68c\\uc801<b>\\uacbd\\uc81c</b>\\uae30\\uc5c5, \\uc800\\uc18c\\ub4dd\\uce35 \\uccad\\uc18c\\ub144 \\uc9c0\\uc6d0 \\uc55e\\uc7a5 \\uc2ec\\uac01\\ud55c <b>\\uacbd\\uc81c</b>\\uc704\\uae30 \\uc0c1\\ud669\\uacfc \\ud37c\\ud399\\ud2b8 \\uc2a4\\ud1b0 [\\uc2a4\\ud398\\uc15c<b>\\uacbd\\uc81c</b>][U-20 \\uc6d4\\ub4dc\\ucef5]\\uccab \\uc120\\ubcf4\\uc778 \\u2018\\uc544\\ubc14(ABBA) \\uc2b9\\ubd80\\ucc28\\uae30\\u2019...  [\\uc911\\uad6d <b>\\uacbd\\uc81c</b>] \\uc911\\uad6d\\uc758 \\uc790\\ubcf8\\uc720\\ucd9c \\ud1b5\\uc81c \\uac15\\ud654 \"]]]\n"
     ]
    }
   ],
   "source": [
    "for i in range(len(lines_list[0])):\n",
    "    for j in range(len(lines_list2[0])):\n",
    "        if(lines_list[0][i][0] == lines_list2[0][j][0]):\n",
    "            lines_list2[0][j][1] = lines_list2[0][j][1] + '|' + lines_list[0][i][1]\n",
    "            break\n",
    "print lines_list2"
   ]
  },
  {
   "cell_type": "code",
   "execution_count": 151,
   "metadata": {
    "collapsed": false,
    "scrolled": true
   },
   "outputs": [
    {
     "name": "stdout",
     "output_type": "stream",
     "text": [
      "[[u'20170504', u'1|[\\ubd80\\uc0b0\\ucc3d\\uc870<b>\\uacbd\\uc81c</b>\\ud601\\uc2e0\\uc13c\\ud130] \\ubd80\\uc0b0\\uc13c\\ud130, LOTTE \\uace0\\uc6a9\\ub514\\ub524\\ub3cc \\ubaa8\\uc9d1 \\uacf5\\uace0 \\uacf5\\ub3d9\\uccb4 \\ubc0f \\uc0ac\\ud68c\\uc801<b>\\uacbd\\uc81c</b> \\ud1b5\\ud569\\uc9c0\\uc6d0 \\ubc95\\uc81c\\ud654 \\uae30\\ucd08\\uc5f0\\uad6c [\\uacbd\\uae30\\uc5f0\\uad6c\\uc6d0...  '], [u'20170508', u'1|\\uc778\\ucc9c\\uc2dc, <b>\\uacbd\\uc81c</b>\\uc8fc\\uad8c \\uc8fc\\uc81c\\ub85c \\uc2dc\\ubbfc\\uacfc \\uc9d1\\uc911\\ud1a0\\ub860 \\uacc4\\ud1b5\\uc870\\uc9c1\\uac04 \\uc0c1\\uc0dd \\ubc1c\\uc804 \\ub3c4\\ubaa8, 2017\\ub144 \\uc804\\uad6d \\ud68c\\uc6d0\\uc870\\ud569 <b>\\uacbd\\uc81c</b>\\uc0c1\\ubb34\\ud68c...  \\uc6a9\\uc778 \\u2018SEC \\uc9c4\\ub85c\\uad50\\uc721\\uc5f0\\uad6c\\ud68c\\u2019 \\uc791\\uc740 \\ud559\\uae09 <b>\\uacbd\\uc81c</b>\\ub85c \\ud589\\ubcf5\\ud55c \\uad50\\uc2e4...  '], [u'20170511', u'1|[\\ubd80\\uc0b0\\ucc3d\\uc870<b>\\uacbd\\uc81c</b>\\ud601\\uc2e0\\uc13c\\ud130] Living Lab \\uc2e4\\uc99d\\uae30\\uc5c5 \\uc9c0\\uc6d0 \\ubaa8\\uc9d1\\uacf5\\uace0 \\ubaa8\\ub460\\uc218\\uc5c5\\uc73c\\ub85c <b>\\uacbd\\uc81c</b>\\uad50\\uc721 \\ubc30\\uc6cc\\ubcf4\\uae30 '], [u'20170515', u'1|\\ubb38\\uc7ac\\uc778 \\uc815\\ubd80 <b>\\uacbd\\uc81c</b> [\\ucda9\\ubd81\\ucc3d\\uc870<b>\\uacbd\\uc81c</b>\\ud601\\uc2e0\\uc13c\\ud130] K- \\ubdf0\\ud2f0 \\ub514\\uc790\\uc778\\uc5ed\\ub7c9\\uac15\\ud654 \\uc9c0\\uc6d0 \\uc0ac\\uc5c5...  [\\uacbd\\ubd81\\ucc3d\\uc870<b>\\uacbd\\uc81c</b>\\ud601\\uc2e0\\uc13c\\ud130] \\uacc4\\uc57d\\uc9c1 \\uc9c1\\uc6d0 \\ubaa8\\uc9d1 2017\\ub144 5\\uc6d4, \\uc911\\uad6d\\uc99d\\uc2dc \\uc8fc\\uc694 <b>\\uacbd\\uc81c</b>\\uc9c0\\ud45c \\ubc1c\\ud45c\\uc77c\\uc815 \\ubc0f \\ud734\\uc7a5\\uc77c \\uc548\\ub0b4 '], [u'20170516', u\"1|\\uc0c1\\uacbd \\uacc4\\uc5f4 \\uc9c4\\ub85c, <b>\\uacbd\\uc81c</b> \\uad00\\uc2ec \\ud559\\uc0dd\\uc744 \\uc704\\ud55c \\uc96c\\ub2c8\\uc5b4 \\ud14c\\uc14b \\uc900\\ube44 2017\\ub144 \\uc218\\uc815 <b>\\uacbd\\uc81c</b>\\uc804\\ub9dd 2017\\ub144 1\\ucc28 \\ucc3d\\uc870<b>\\uacbd\\uc81c</b>\\ud0c0\\uc6b4 \\uc778\\ub514\\uc571 \\ud64d\\ubcf4 \\uacf5\\ubaa8\\uc804 \\ud2f4\\ud2f4<b>\\uacbd\\uc81c</b>\\uad50\\uc721 How [\\uc81c\\uc8fc\\ucc3d\\uc870<b>\\uacbd\\uc81c</b>\\ud601\\uc2e0\\uc13c\\ud130] 2017 \\uccb4\\ub958\\uc9c0\\uc6d0\\uc0ac\\uc5c5 '\\uc81c\\uc8fc\\ub2e4\\uc6c0' 6\\uc6d4 \\ud2b9\\uc774\\uc810\\uc774 \\ubc1c\\uc0dd\\ud558\\ub2e4... - \\ubd80\\uc81c: \\uad6d\\ud68c\\uc608\\uc0b0\\ucc98 <b>\\uacbd\\uc81c</b>\\ub3d9\\ud5a5 &amp; \\uc774\\uc288(\\uc81c54\\ud638) \\uacf5\\ub3d9\\uc721\\uc544 \\ud488\\uc557\\uc774\\uc218\\uc5c5 \\u2669 \\ub098\\ub214\\uc7a5\\ud130 \\ud504\\ub85c\\uc81d\\ud2b8 1. \\ub3c8\\ub9cc\\ub4e4\\uae30 <b>\\uacbd\\uc81c</b>\\uad50\\uc721 \\uc5b4\\ucd0c \\uc0b4\\ub9bc\\uc0b4\\uc774 \\uc5b4\\ub54c\\uc694? \\uadf8\\ub798\\ud504\\ub85c \\uc815\\ub9ac\\ud55c \\uc5b4\\uac00<b>\\uacbd\\uc81c</b>\\uc870\\uc0ac \\uacb0\\uacfc \"], [u'20170519', u'1|\\uc774\\ubc29\\ucd08, <b>\\uacbd\\uc81c</b>, \\uae08\\uc735 \\uc6b0\\ub9ac\\ub3c4 \\uc54c\\uc544\\uc694! \\ubca0\\ud2b8\\ub0a8 <b>\\uacbd\\uc81c</b> \\uc131\\uc7a5\\uc758 \\uc6d0\\ub3d9\\ub825, <b>\\uacbd\\uc81c</b>\\ud2b9\\uad6c [\\uacbd\\uae30\\ucc3d\\uc870<b>\\uacbd\\uc81c</b>\\ud601\\uc2e0\\uc13c\\ud130] \\uae00\\ub85c\\ubc8c \\uc9c4\\ucd9c \\ub9de\\ucda4\\ud615 \\uc9c0\\uc6d0 \\uc0ac\\uc5c5 \\uc2dc\\ud589 [KIEP\\uc640 \\ud568\\uaed8\\ud558\\ub294 <b>\\uacbd\\uc81c</b>\\uc6a9\\uc5b4] \\ube44\\uc138\\uadf8\\ub77c\\ub4dc \\uadf8\\ub8f9(Visegrad Group) [\\uc0dd\\ud65c\\uc815\\ubcf4] \\uc0ac\\ud68c\\uc801<b>\\uacbd\\uc81c</b>\\uae30\\uc5c5 \\ucc3d\\uc5c5 \\uc124\\uba85\\ud68c \\uac1c\\ucd5c '], [u'20170522', u'1|\\uc601\\ud654\\ub85c \\ubcf4\\ub294 <b>\\uacbd\\uc81c</b> \\uc774\\uc57c\\uae30 [\\uc54c\\uae30\\uc26c\\uc6b4 \\uc911\\uad6d<b>\\uacbd\\uc81c</b>] \\u2018\\uc774\\uc885\\uad50\\ubc30\\u2019 \\uc2dc\\uc791\\ud55c \\uc911\\uad6d <b>\\uacbd\\uc81c</b>\\uacc4 SBS\\uc0dd\\ud65c<b>\\uacbd\\uc81c</b> 40\\ub300\\ubab8\\uc9f1\\uc544\\uc90c\\ub9c8 \\ub2e4\\uc774\\uc5b4\\ud2b8 \\ube44\\ubc95\\uc73c\\ub85c...  \\ub3d9\\xb7\\uc2dd\\ubb3c \\uc0b4\\uc544\\uac00\\ub294 \\uae30\\uc220 \\uc751\\uc6a9 \\u2018\\uccad\\uc0c9<b>\\uacbd\\uc81c</b>\\u2019 \\ub72c\\ub2e4 5\\uc6d4 23\\uc77c(\\ud654) \\uc624\\uc804 10:25 SBS \\uc0dd\\ud65c<b>\\uacbd\\uc81c</b> \\uc608\\uace0 \\ud310\\uc7a3\\uc9d1 \\uc18c\\ub144\\uac00\\uc7a5 \\uae40\\ub3d9\\uc5f0 <b>\\uacbd\\uc81c</b>\\ubd80\\ucd1d\\ub9ac...\\ubb38\\uc7ac\\uc778 \\uc815\\ubd80 <b>\\uacbd\\uc81c</b>\\xb7\\uc678\\uad50...  [\\uacbd\\ubd81\\ucc3d\\uc870<b>\\uacbd\\uc81c</b>\\ud601\\uc2e0\\uc13c\\ud130] \\uacbd\\ubd81\\uc13c\\ud130 \\ubcf4\\uc721\\uae30\\uc5c5 \\uc791\\uc740\\uc54c\\uc790\\uc2a4, \\uc0ac\\uacfc...  \\uac15\\uc6d0\\ucc3d\\uc870<b>\\uacbd\\uc81c</b>\\ud601\\uc2e0\\uc13c\\ud130 \\ucf00\\uc774\\ud130\\ub9c1 \\uc7a5\\ud558\\uc131 \\uae40\\uc0c1\\uc870 \\uc81c\\uc774\\ub178\\ubbf9\\uc2a4 \\uc0bc\\ub450\\ub9c8\\ucc28..11\\uc0b4 \\uc18c\\ub144\\uac00\\uc7a5 <b>\\uacbd\\uc81c</b>\\ubd80\\ucd1d\\ub9ac.. '], [u'20170523', u\"1|[\\uc81c\\uc8fc\\ucc3d\\uc870<b>\\uacbd\\uc81c</b>\\ud601\\uc2e0\\uc13c\\ud130] \\ucc3d\\uc870\\uacf5\\ubc29[J-Fab Lab] OPEN! [\\uc5f0\\uc218\\uc18c\\uc2dd] 2017\\ub144 \\uc0ac\\ud68c\\uc801<b>\\uacbd\\uc81c</b>\\uae30\\uc5c5\\uac00 \\uc591\\uc131 \\uad50\\uc721 \\uc218\\uac15\\uc0dd \\ubaa8\\uc9d1 [\\ucda9\\ub0a8\\ucc3d\\uc870<b>\\uacbd\\uc81c</b>\\ud601\\uc2e0\\uc13c\\ud130] 2017\\ub144\\ub3c4 \\uc218\\uc694\\ud53c\\uce6d\\ub370\\uc774 '100\\ubc88\\uac00\\uc758...  [KIEP \\uc624\\ub298\\uc758 \\uc138\\uacc4<b>\\uacbd\\uc81c</b>] \\ub7ec\\xb7\\uc77c <b>\\uacbd\\uc81c</b>\\uad00\\uacc4 \\uc9c4\\uc804\\uacfc \\ud55c\\uad6d\\uc5d0 \\ub300\\ud55c...  [\\ub300\\uad6c\\ucc3d\\uc870<b>\\uacbd\\uc81c</b>\\ud601\\uc2e0\\uc13c\\ud130] C-Star Pitching 2017 \\ud558\\ubc18\\uae30 \\uc77c\\uc815...  [\\ub300\\ub9cc<b>\\uacbd\\uc81c</b>] \\u2605 \\ub300\\ub9cc\\uc740 \\uc9c0\\uae08, \\ub300\\ub9cc <b>\\uacbd\\uc81c</b>\\uc18c\\uc2dd(5/22 &amp; 23); \\u65e5...  \"], [u'20170524', u'1|2\\ud559\\ub144\\ucd94\\ucc9c\\ub3c4\\uc11c <b>\\uacbd\\uc81c</b>\\ub97c \\ubc30\\uc6cc\\uc694 [\\ucd9c\\uac04 \\uc804 \\uc5f0\\uc7ac] \\u300e\\uc740\\ud589\\uc774 \\uba48\\ucd94\\ub294 \\ub0a0\\u300f #03 \\ubb35\\uc0b4\\ub41c 1998\\ub144 <b>\\uacbd\\uc81c</b>...  [\\uae08\\uc735<b>\\uacbd\\uc81c</b>] \\uc6b0\\ub9ac\\ub098\\ub77c\\uc640 \\uc678\\uad6d\\uc758 \\uae08\\uc735\\uad50\\uc721 Why, How - \\uadf8 \\uc911\\uc694\\uc131 [\\uacbd\\uae30\\ucc3d\\uc870<b>\\uacbd\\uc81c</b>\\ud601\\uc2e0\\uc13c\\ud130] Biz Growth Marketing  \\ud504\\ub85c\\uadf8\\ub7a8...  \\ud559\\uad50\\ud611\\ub3d9\\uc870\\ud569 \\uc124\\ub9bd\\uc73c\\ub85c \\uc0ac\\ud68c\\uc801<b>\\uacbd\\uc81c</b>\\ub97c \\ubc30\\uc6cc\\uc694~~~ [\\uc2a4\\ub0b5\\ucee4\\ube14 <b>\\uacbd\\uc81c</b>] \\uc2e4\\uccb4 \\uc5c6\\ub294 \\uc99d\\uad8c\\uac00 \\uad34\\ub2f4, \\uc9c0\\ube0c\\ub9ac\\uc758 \\uc800\\uc8fc [\\ub300\\uad6c\\ucc3d\\uc870<b>\\uacbd\\uc81c</b>\\ud601\\uc2e0\\uc13c\\ud130] \\uc0c1\\uc0c1\\uc774 \\ud604\\uc2e4\\uc774 \\ub418\\ub294 \\uacf3, C-Fab! [\\uacbd\\ub0a8\\ucc3d\\uc870<b>\\uacbd\\uc81c</b>\\ud601\\uc2e0\\uc13c\\ud130] \\uae00\\ub85c\\ubc8c\\uc0c1\\uc0c1\\ucc3d\\uc5c5\\ud0d0\\uc0c9\\uae30 \\uad50\\uc721 \\uc2e4\\uc2dc \\uccad\\uc18c\\ub144 <b>\\uacbd\\uc81c</b> \\ucc3d\\uc5c5\\uad50\\uc2e4_\\uc591\\uc0b0 '], [u'20170525', u'1|[\\uc81c\\uc8fc\\ucc3d\\uc870<b>\\uacbd\\uc81c</b>\\ud601\\uc2e0\\uc13c\\ud130] \\uc6d0\\uc2a4\\ud1b1 \\uc0c1\\ub2f4 \\uc11c\\ube44\\uc2a4 \\uc6b4\\uc601 \\uc54c\\ub9bc! [\\uc5f0\\uc218\\uc18c\\uc2dd]\\u300e\\uc5f0\\uc218\\uad6c \\uc0ac\\ud68c\\uc801<b>\\uacbd\\uc81c</b> \\ucc3e\\uc544\\uac00\\ub294 \\uad6c\\ubbfc \\uad50\\uc721\\u300f \\uc2e4\\uc2dc \\ubca4\\ucc98, \\uc18e\\uc544\\ub0b8\\ub2e4\\u300d \\ubcf4\\ub3c4 \\uad00\\ub828 - 2017. 5. 25. (\\ubaa9) \\ub9e4\\uc77c<b>\\uacbd\\uc81c</b> A01\\uba74 \\ucc3d\\uc870<b>\\uacbd\\uc81c</b> \\uc678 \\ub3c5\\uc11c '], [u'20170526', u\"1|\\ucd1d\\uc7a5\\ub2d8 \\ubc1c\\uc81c '\\uad50\\uc721 \\ud328\\ub7ec\\ub2e4\\uc784 \\ubcc0\\ud654\\uc640 \\uacf5\\uc720<b>\\uacbd\\uc81c</b>' [\\ud55c\\uad6d<b>\\uacbd\\uc81c</b>] \\uacf5\\uae30\\uc5c5 \\uc9c0\\uc6d0\\uc11c\\uc5d0 \\ud559\\ub825\\xb7\\uc2a4\\ud399 \\ubabb \\uc4f4\\ub2e4 [\\uacbd\\uae30\\ucc3d\\uc870<b>\\uacbd\\uc81c</b>\\ud601\\uc2e0\\uc13c\\ud130] '\\uc5c5\\ub77c\\uc774\\uc988 \\uae00\\ub85c\\ubc8c\\uc2a4\\ud0c0\\ud2b8\\uc5c5\\ud3ec\\ub7fc...  \\uc0ac\\ud68c\\uc801 <b>\\uacbd\\uc81c</b> \\ub3c5\\uc790 \\ud2f0\\ud0c0\\uc784 \"], [u'20170531', u\"1|\\ub300\\uad6c \\ucc3d\\uc870<b>\\uacbd\\uc81c</b>\\ub2e8\\uc9c0 \\ub9db\\uc9d1 \\ud48d\\uad6d\\uba74 #\\ubd80\\uc0b0<b>\\uacbd\\uc81c</b>\\uc9c4\\ud765\\uc6d0 \\ub124\\uc774\\ubc84 \\uacf5\\uc2dd\\ube14\\ub85c\\uadf8 \\uc778\\uc99d \\ubc1b\\ub2e4. [\\ucda9\\ubd81\\ucc3d\\uc870<b>\\uacbd\\uc81c</b>\\ud601\\uc2e0\\uc13c\\ud130]  '\\ubc14\\uc774\\uc624 \\uad6d\\uc81c \\ucee8\\ud37c\\ub7f0\\uc2a4(Bio...  \\ubbf8\\ub798\\uc5d0\\uc14b\\uc790\\uc0b0\\uc6b4\\uc6a9\\uacfc \\ud568\\uaed8\\ud558\\ub294 \\uc6b0\\ub9ac\\uc544\\uc774 <b>\\uacbd\\uc81c</b> \\uad50\\uc2e4 \\uc811\\uc774\\uc2dd \\uc804\\uae30\\uc790\\uc804\\uac70 - EASY-BIKE #\\uc820\\ud2c0\\ubaa8\\ud130\\uc2a4 (@\\ubd80\\uc0b0<b>\\uacbd\\uc81c</b>\\uc9c4\\ud765\\uc6d0) [\\ud3ec\\ud56d\\ucc3d\\uc870<b>\\uacbd\\uc81c</b>\\ud601\\uc2e0\\uc13c\\ud130 6\\uc6d4 K-ICT \\ucc3d\\uc5c5 \\uba58\\ud1a0\\ub9c1 \\uc548\\ub0b4 [\\uacbd\\ub0a8\\ucc3d\\uc870<b>\\uacbd\\uc81c</b>\\ud601\\uc2e0\\uc13c\\ud130] \\uc790\\uc720\\ud559\\uae30\\uc81c \\u300c\\uc0c1\\uc0c1\\ud2f0\\uc6c0 \\ucc3d\\uc5c5\\uccb4\\ud5d8\\u300d...  [\\ubd80\\uc0b0<b>\\uacbd\\uc81c</b>\\uc9c4\\ud765\\uc6d0] \\uc18c\\uacf5\\uc778\\ud2b9\\ud654\\uad50\\uc721 '\\ud2b9\\ud5c8 \\ub4f1\\ub85d \\ubc0f \\uc138\\ubb34\\ud68c\\uacc4...  \\u300c\\uc0ac\\ud68c\\uc801<b>\\uacbd\\uc81c</b>\\uc0b4\\ub871\\u300d \\ubb34\\ub8cc\\ub85c \\ub178\\ub7c9\\uc9c4 \\uc54c\\uc9dc\\ubc30\\uae30 \\uc0ac\\ubb34\\uc2e4\\uc744...  [\\ud3ec\\ud56d\\ucc3d\\uc870<b>\\uacbd\\uc81c</b>\\ud601\\uc2e0\\uc13c\\ud130] 2017 \\ud3ec\\ud56d\\uae30\\uc220\\uc7a5\\ud130&amp; \\ud3ec\\uc2a4\\ucf54 BS\\uacfc\\uc81c...  <b>\\uacbd\\uc81c</b> \\ud559\\uc704\\uc758 \\uc624\\ub298 / \\ud55c\\uc131\\uc548 \"], [u'20170602', u'1|<b>\\uacbd\\uc81c</b>\\uc6a9\\uc5b4 \\ud30c\\ud5e4\\uce58\\uae30(\\uc18c\\ube44\\uc790\\uc2ec\\ub9ac\\uc9c0\\uc218 / \\uae30\\ubcf8\\uc18c\\ub4dd\\uc81c) [\\ucda9\\ub0a8\\ucc3d\\uc870<b>\\uacbd\\uc81c</b>\\ud601\\uc2e0\\uc13c\\ud130]  2017\\ub144 \\uc18c\\uc15c\\ubca4\\ucc98 \\uacbd\\uc9c4\\ub300\\ud68c \\uac1c\\ucd5c! [\\uc81c\\uc8fc\\ucc3d\\uc870<b>\\uacbd\\uc81c</b>\\ud601\\uc2e0\\uc13c\\ud130] \\uc81c\\uc8fc\\ub85c On \\ucf54\\ub529 \\xd7 \\ucf54\\ub529 \\uac15\\uc0ac \\uc591\\uc131\\uacfc\\uc815...  [KIEP\\uc640 \\ud568\\uaed8\\ud558\\ub294 <b>\\uacbd\\uc81c</b>\\uc6a9\\uc5b4] \\uc778\\ub354\\uc2a4\\ud2b8\\ub9ac 4.0 (Industry 4.0) [\\ud589\\uc0ac\\uc6b4\\uc601] \\uc11c\\uc6b8\\uc0b0\\uc5c5\\uc9c4\\ud765\\uc6d0, \\uc0ac\\ud68c\\uc801<b>\\uacbd\\uc81c</b>\\ud1b5\\ud569\\uc9c0\\uc6d0\\uc13c\\ud130 \\uacf5\\ub3d9 \\uc8fc\\ucd5c...  \\ub3d9\\uc791\\uad6c \\uc0ac\\ud68c\\uc801<b>\\uacbd\\uc81c</b> \\ub9c8\\uc744\\uc7a5\\ud130 \\uac1c\\ucd5c [\\ub300\\ub9cc<b>\\uacbd\\uc81c</b>] \\u2605 \\ub300\\ub9cc\\uc740 \\uc9c0\\uae08, \\ub300\\ub9cc <b>\\uacbd\\uc81c</b>\\uc18c\\uc2dd(6/2, \\uae08);  \\u53f0...  \\uc0dd\\uc0b0\\uc9c0\\ub294 \\uc9c0\\uae08 - 4\\ucc28 \\uc0b0\\uc5c5\\ud601\\uba85\\uacfc \\ud55c\\uc0b4\\ub9bc\\uc0dd\\uc0b0\\uc790 \\uacf5\\ub3d9\\uccb4\\uc758 <b>\\uacbd\\uc81c</b> \\uad00\\uacc4 ']]\n"
     ]
    }
   ],
   "source": [
    "upper = list()\n",
    "lower = list()\n",
    "for i in range(len(lines_list2[0])):\n",
    "    temp = lines_list2[0][i][1].split('|')\n",
    "    if(temp[0] == '1'):\n",
    "        upper.append(lines_list2[0][i])\n",
    "    else:\n",
    "        lower.append(lines_list2[0][i])\n",
    "\n",
    "print upper"
   ]
  },
  {
   "cell_type": "code",
   "execution_count": 166,
   "metadata": {
    "collapsed": false
   },
   "outputs": [
    {
     "name": "stdout",
     "output_type": "stream",
     "text": [
      "{u'\\uac1c\\ucd5c': 2, u'\\ubaa8\\uc9d1': 3, u'\\uc704\\ud55c': 1, u'\\uc548\\ub0b4': 2, u'\\ucc3d\\uc5c5': 2, u'\\uc9c0\\uc6d0': 3, u'\\uad50\\uc721': 2, u'\\ud568\\uaed8\\ud558\\ub294': 3, u'\\uc0ac\\ud68c\\uc801': 1, u'\\uc911\\uad6d': 1, u'\\uc815\\ubd80': 2}\n"
     ]
    }
   ],
   "source": [
    "most = find_most_used_word()\n",
    "frequency = dict()\n",
    "\n",
    "for i in range(len(upper)):\n",
    "    temp = list()\n",
    "    check_list = list()\n",
    "    temp = upper[i][1].split('|')\n",
    "    check_list = temp[1].split()\n",
    "    for ele_j in check_list:\n",
    "        for ele_k in most:\n",
    "            if(ele_j == ele_k):\n",
    "                if ele_k in frequency:\n",
    "                    frequency[ele_k] += 1\n",
    "                else:\n",
    "                    frequency[ele_k] = 1\n",
    "    \n",
    "                    \n",
    "print frequency"
   ]
  },
  {
   "cell_type": "code",
   "execution_count": 165,
   "metadata": {
    "collapsed": false
   },
   "outputs": [
    {
     "name": "stdout",
     "output_type": "stream",
     "text": [
      "{u'\\uac1c\\ucd5c': 2, u'\\ubaa8\\uc9d1': 3, u'\\uacf5\\uc720': 2, u'\\uc9c0\\uc6d0': 2, u'\\ud568\\uaed8\\ud558\\ub294': 1, u'\\uc0ac\\ud68c\\uc801': 1, u'\\uc911\\uad6d': 1, u'\\uc815\\ubd80': 2, u'\\uc6b0\\ub9ac': 1}\n"
     ]
    }
   ],
   "source": [
    "most = find_most_used_word()\n",
    "frequency2 = dict()\n",
    "\n",
    "for i in range(len(lower)):\n",
    "    temp = list()\n",
    "    check_list = list()\n",
    "    temp = lower[i][1].split('|')\n",
    "    check_list = temp[1].split()\n",
    "    for ele_j in check_list:\n",
    "        for ele_k in most:\n",
    "            if(ele_j == ele_k):\n",
    "                if ele_k in frequency2:\n",
    "                    frequency2[ele_k] += 1\n",
    "                else:\n",
    "                    frequency2[ele_k] = 1\n",
    "    \n",
    "                    \n",
    "print frequency2"
   ]
  },
  {
   "cell_type": "code",
   "execution_count": 195,
   "metadata": {
    "collapsed": false
   },
   "outputs": [
    {
     "name": "stdout",
     "output_type": "stream",
     "text": [
      "(1.0,(20,[0,1,2,3,4,6,7,11,13,14,16],[3.0,1.0,1.0,2.0,1.0,3.0,3.0,2.0,2.0,2.0,2.0]))\n",
      "(0.0,(20,[0,1,3,4,6,7,10,15,16],[3.0,1.0,2.0,1.0,1.0,2.0,2.0,1.0,2.0]))\n",
      "+--------------------+-----+\n",
      "|            features|label|\n",
      "+--------------------+-----+\n",
      "|(20,[0,1,2,3,4,6,...|  1.0|\n",
      "|(20,[0,1,3,4,6,7,...|  0.0|\n",
      "+--------------------+-----+\n",
      "\n"
     ]
    }
   ],
   "source": [
    "fre_keys = frequency.keys()\n",
    "index_list = list()\n",
    "\n",
    "for i in range(len(most_word_list)):\n",
    "    for j in range(len(fre_keys)):\n",
    "        if most_word_list[i] == fre_keys[j]:\n",
    "            index_list.append(i)\n",
    "            \n",
    "fre_keys2 = frequency2.keys()\n",
    "index_list2 = list()\n",
    "\n",
    "for i in range(len(most_word_list)):\n",
    "    for j in range(len(fre_keys2)):\n",
    "        if most_word_list[i] == fre_keys2[j]:\n",
    "            index_list2.append(i)\n",
    "\n",
    "#print index_list\n",
    "#print index_list2\n",
    "\n",
    "from pyspark.mllib.regression import LabeledPoint\n",
    "from pyspark.mllib.linalg import Vectors\n",
    "\n",
    "tmp_dict = dict()\n",
    "for i in range(len(index_list)):\n",
    "    tmp_dict[index_list[i]] = frequency[most_word_list[index_list[i]]]\n",
    "\n",
    "tmp_dict2 = dict()\n",
    "for i in range(len(index_list2)):\n",
    "    tmp_dict2[index_list2[i]] = frequency2[most_word_list[index_list2[i]]]\n",
    "\n",
    "p = [\n",
    "    LabeledPoint(1, Vectors.sparse(20, tmp_dict )),\n",
    "    LabeledPoint(0, Vectors.sparse(20, tmp_dict2 ))\n",
    "]\n",
    "\n",
    "print LabeledPoint(1, Vectors.sparse(20, tmp_dict ))\n",
    "print LabeledPoint(0, Vectors.sparse(20, tmp_dict2 ))\n",
    "\n",
    "trainDf = spark.createDataFrame(p)\n",
    "trainDf.show()"
   ]
  },
  {
   "cell_type": "code",
   "execution_count": 199,
   "metadata": {
    "collapsed": false
   },
   "outputs": [
    {
     "name": "stdout",
     "output_type": "stream",
     "text": [
      "-------------상승-------------\n"
     ]
    },
    {
     "data": {
      "image/png": "[encoded data removed]",
      "text/plain": [
       "<matplotlib.figure.Figure at 0xea989b0>"
      ]
     },
     "metadata": {},
     "output_type": "display_data"
    },
    {
     "name": "stdout",
     "output_type": "stream",
     "text": [
      "-------------하강-------------\n"
     ]
    },
    {
     "data": {
      "image/png": "[encoded data removed]",
      "text/plain": [
       "<matplotlib.figure.Figure at 0xcfc8198>"
      ]
     },
     "metadata": {},
     "output_type": "display_data"
    }
   ],
   "source": [
    "def draw_graph(freq_diction):\n",
    "    import matplotlib.pyplot as plt\n",
    "    count = freq_diction.values()\n",
    "    word = freq_diction.keys()\n",
    "    plt.barh(range(len(count)), count, color='red')\n",
    "    plt.yticks(range(len(count)), word)\n",
    "    plt.show()\n",
    "\n",
    "print \"-------------상승-------------\"\n",
    "draw_graph(frequency)\n",
    "print \"-------------하강-------------\"\n",
    "draw_graph(frequency2)"
   ]
  }
 ],
 "metadata": {
  "kernelspec": {
   "display_name": "Python 2",
   "language": "python",
   "name": "python2"
  },
  "language_info": {
   "codemirror_mode": {
    "name": "ipython",
    "version": 2
   },
   "file_extension": ".py",
   "mimetype": "text/x-python",
   "name": "python",
   "nbconvert_exporter": "python",
   "pygments_lexer": "ipython2",
   "version": "2.7.13"
  }
 },
 "nbformat": 4,
 "nbformat_minor": 2
}
