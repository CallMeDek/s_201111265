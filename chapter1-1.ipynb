{
 "cells": [
  {
   "cell_type": "code",
   "execution_count": 11,
   "metadata": {
    "collapsed": false
   },
   "outputs": [
    {
     "name": "stdout",
     "output_type": "stream",
     "text": [
      "Writing chapter1-1.py\n"
     ]
    }
   ],
   "source": [
    "%%writefile chapter1-1.py\n",
    "\n",
    "word = 'sangmyung university'\n",
    "\n",
    "d = dict()\n",
    "for c in word:\n",
    "    if c not in d:\n",
    "        d[c] = 1\n",
    "    else:\n",
    "        d[c] += 1\n",
    "print \"키-키값\", d\n",
    "print \"저장된 문자의 갯수 \", len(d)\n",
    "print \"키: \", d.keys()\n",
    "print \"키값: \", d.values()\n"
   ]
  },
  {
   "cell_type": "code",
   "execution_count": 12,
   "metadata": {
    "collapsed": false
   },
   "outputs": [
    {
     "name": "stdout",
     "output_type": "stream",
     "text": [
      "Writing chapter1-2.py\n"
     ]
    }
   ],
   "source": [
    "%%writefile chapter1-2.py\n",
    "\n",
    "word = ['sangmyung university', 'university']\n",
    "\n",
    "d = dict()\n",
    "for c in word:\n",
    "    if c not in d:\n",
    "        d[c] = 1\n",
    "    else:\n",
    "        d[c] += 1\n",
    "\n",
    "print \"키-키값\", d\n",
    "print \"저장된 문자의 갯수\", len(d)\n",
    "print \"키: \", d.keys()\n",
    "print \"키값: \", d.values()"
   ]
  },
  {
   "cell_type": "code",
   "execution_count": 15,
   "metadata": {
    "collapsed": false
   },
   "outputs": [
    {
     "name": "stdout",
     "output_type": "stream",
     "text": [
      "Writing chapter1-3.py\n"
     ]
    }
   ],
   "source": [
    "%%writefile chapter1-3.py\n",
    "\n",
    "word = ['sangmyung university', 'university']\n",
    "\n",
    "d = dict()\n",
    "for c in word:\n",
    "    for e in c.split():\n",
    "        if e not in d:\n",
    "            d[e] = 1\n",
    "        else:\n",
    "            d[e] += 1\n",
    "\n",
    "print \"키-키값\", d\n",
    "print \"저장된 문자의 갯수 \", len(d)\n",
    "print \"키: \", d.keys()\n",
    "print \"키값: \", d.values()\n"
   ]
  },
  {
   "cell_type": "code",
   "execution_count": 6,
   "metadata": {
    "collapsed": false
   },
   "outputs": [
    {
     "name": "stdout",
     "output_type": "stream",
     "text": [
      "Hello sangmyung university\n",
      "\n",
      "this is a line\n",
      "\n",
      "Hello\n"
     ]
    }
   ],
   "source": [
    "f = open('tmp.txt')\n",
    "\n",
    "for line in f.readlines():\n",
    "    print line\n",
    "f.close()"
   ]
  },
  {
   "cell_type": "code",
   "execution_count": 7,
   "metadata": {
    "collapsed": false
   },
   "outputs": [
    {
     "name": "stdout",
     "output_type": "stream",
     "text": [
      "키-키값 {'a': 1, 'this': 1, 'university': 1, 'line': 1, 'sangmyung': 1, 'Hello': 2, 'is': 1}\n",
      "저장된 문자의 갯수 7\n",
      "키:  ['a', 'this', 'university', 'line', 'sangmyung', 'Hello', 'is']\n",
      "키값:  [1, 1, 1, 1, 1, 2, 1]\n"
     ]
    },
    {
     "data": {
      "image/png": "[encoded data removed]",
      "text/plain": [
       "<matplotlib.figure.Figure at 0x7911978>"
      ]
     },
     "metadata": {},
     "output_type": "display_data"
    }
   ],
   "source": [
    "#%%writefile src/chapter1-4.py\n",
    "\n",
    "d = dict()\n",
    "f = open('./src/tmp.txt')\n",
    "for e in f.readlines():\n",
    "    for w in e.split():\n",
    "        if w not in d:\n",
    "            d[w] = 1\n",
    "        else:\n",
    "            d[w] += 1\n",
    "f.close()\n",
    "print \"키-키값\", d\n",
    "print \"저장된 문자의 갯수\", len(d)\n",
    "print \"키: \", d.keys()\n",
    "print \"키값: \", d.values()\n",
    "\n",
    "%matplotlib inline\n",
    "\n",
    "import matplotlib\n",
    "import matplotlib.pyplot as plt\n",
    "\n",
    "plt.bar(range(len(d)), d.values(), align='center')\n",
    "plt.xticks(range(len(d)), list(d.keys()))\n",
    "plt.show()"
   ]
  }
 ],
 "metadata": {
  "kernelspec": {
   "display_name": "Python 2",
   "language": "python",
   "name": "python2"
  },
  "language_info": {
   "codemirror_mode": {
    "name": "ipython",
    "version": 2
   },
   "file_extension": ".py",
   "mimetype": "text/x-python",
   "name": "python",
   "nbconvert_exporter": "python",
   "pygments_lexer": "ipython2",
   "version": "2.7.13"
  }
 },
 "nbformat": 4,
 "nbformat_minor": 2
}
