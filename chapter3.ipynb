{
 "cells": [
  {
   "cell_type": "code",
   "execution_count": 1,
   "metadata": {
    "collapsed": false
   },
   "outputs": [
    {
     "data": {
      "text/plain": [
       "u'<h1>Unicode Demo</h1>\\n\\n<p>Taken from <a\\nhref=\"http://www.cl.cam.ac.uk/~mgk25/ucs/examples/UTF-8-demo.txt\">http://www.cl.cam.ac.uk/~mgk25/ucs/examples/UTF-8-demo.txt</a></p>\\n\\n<pre>\\n\\nUTF-8 encoded sample plain-text file\\n\\u203e\\u203e\\u203e\\u203e\\u203e\\u203e\\u203e\\u203e\\u203e\\u203e\\u203e\\u203e\\u203e\\u203e\\u203e\\u203e\\u203e\\u203e\\u203e\\u203e\\u203e\\u203e\\u203e\\u203e\\u203e\\u203e\\u203e\\u203e\\u203e\\u203e\\u203e\\u203e\\u203e\\u203e\\u203e\\u203e\\n\\nMarkus Kuhn [\\u02c8ma\\u02b3k\\u028as ku\\u02d0n] <http://www.cl.cam.ac.uk/~mgk25/> \\u2014 2002-07-25\\n\\n\\nThe ASCII compatible UTF-8 encoding used in this plain-text file\\nis defined in Unicode, ISO 10646-1, and RFC 2279.\\n\\n\\nUsing Unicode/UTF-8, you can write in emails and so'"
      ]
     },
     "execution_count": 1,
     "metadata": {},
     "output_type": "execute_result"
    }
   ],
   "source": [
    "import requests\n",
    "r = requests.get(\"http://httpbin.org/encoding/utf8\")\n",
    "r.text[0:500]"
   ]
  },
  {
   "cell_type": "code",
   "execution_count": 2,
   "metadata": {
    "collapsed": false
   },
   "outputs": [
    {
     "data": {
      "text/plain": [
       "('ko_KR', 'cp949')"
      ]
     },
     "execution_count": 2,
     "metadata": {},
     "output_type": "execute_result"
    }
   ],
   "source": [
    "import locale\n",
    "locale.getdefaultlocale()"
   ]
  },
  {
   "cell_type": "code",
   "execution_count": 29,
   "metadata": {
    "collapsed": false
   },
   "outputs": [
    {
     "ename": "UnicodeEncodeError",
     "evalue": "'cp949' codec can't encode character u'\\u203e' in position 218: illegal multibyte sequence",
     "output_type": "error",
     "traceback": [
      "\u001b[0;31m---------------------------------------------------------------------------\u001b[0m",
      "\u001b[0;31mUnicodeEncodeError\u001b[0m                        Traceback (most recent call last)",
      "\u001b[0;32m<ipython-input-29-ee66c4038dc5>\u001b[0m in \u001b[0;36m<module>\u001b[0;34m()\u001b[0m\n\u001b[1;32m      1\u001b[0m \u001b[0mteststr\u001b[0m \u001b[1;33m=\u001b[0m \u001b[0mr\u001b[0m\u001b[1;33m.\u001b[0m\u001b[0mtext\u001b[0m\u001b[1;33m[\u001b[0m\u001b[1;36m0\u001b[0m\u001b[1;33m:\u001b[0m\u001b[1;36m500\u001b[0m\u001b[1;33m]\u001b[0m\u001b[1;33m\u001b[0m\u001b[0m\n\u001b[0;32m----> 2\u001b[0;31m \u001b[1;32mprint\u001b[0m \u001b[0mteststr\u001b[0m\u001b[1;33m\u001b[0m\u001b[0m\n\u001b[0m",
      "\u001b[0;31mUnicodeEncodeError\u001b[0m: 'cp949' codec can't encode character u'\\u203e' in position 218: illegal multibyte sequence"
     ]
    }
   ],
   "source": [
    "teststr = r.text[0:500]\n",
    "print teststr"
   ]
  },
  {
   "cell_type": "code",
   "execution_count": 10,
   "metadata": {
    "collapsed": false
   },
   "outputs": [
    {
     "name": "stdout",
     "output_type": "stream",
     "text": [
      "cp949\n",
      "ascii\n",
      "mbcs\n",
      "None\n",
      "UTF-8\n"
     ]
    }
   ],
   "source": [
    "import sys, locale\n",
    "print locale.getpreferredencoding()\n",
    "print sys.getdefaultencoding()\n",
    "print sys.getfilesystemencoding()\n",
    "print sys.stdin.encoding\n",
    "print sys.stdout.encoding"
   ]
  },
  {
   "cell_type": "code",
   "execution_count": 33,
   "metadata": {
    "collapsed": false
   },
   "outputs": [
    {
     "ename": "Error",
     "evalue": "unsupported locale setting",
     "output_type": "error",
     "traceback": [
      "\u001b[0;31m---------------------------------------------------------------------------\u001b[0m",
      "\u001b[0;31mError\u001b[0m                                     Traceback (most recent call last)",
      "\u001b[0;32m<ipython-input-33-579282b325ee>\u001b[0m in \u001b[0;36m<module>\u001b[0;34m()\u001b[0m\n\u001b[1;32m      1\u001b[0m \u001b[1;32mimport\u001b[0m \u001b[0mlocale\u001b[0m\u001b[1;33m\u001b[0m\u001b[0m\n\u001b[0;32m----> 2\u001b[0;31m \u001b[0mlocale\u001b[0m\u001b[1;33m.\u001b[0m\u001b[0msetlocale\u001b[0m\u001b[1;33m(\u001b[0m\u001b[0mlocale\u001b[0m\u001b[1;33m.\u001b[0m\u001b[0mLC_ALL\u001b[0m\u001b[1;33m,\u001b[0m \u001b[1;34m'en_US.utf-8'\u001b[0m\u001b[1;33m)\u001b[0m\u001b[1;33m\u001b[0m\u001b[0m\n\u001b[0m",
      "\u001b[0;32mC:\\ProgramData\\Anaconda2\\lib\\locale.pyc\u001b[0m in \u001b[0;36msetlocale\u001b[0;34m(category, locale)\u001b[0m\n\u001b[1;32m    579\u001b[0m         \u001b[1;31m# convert to string\u001b[0m\u001b[1;33m\u001b[0m\u001b[1;33m\u001b[0m\u001b[0m\n\u001b[1;32m    580\u001b[0m         \u001b[0mlocale\u001b[0m \u001b[1;33m=\u001b[0m \u001b[0mnormalize\u001b[0m\u001b[1;33m(\u001b[0m\u001b[0m_build_localename\u001b[0m\u001b[1;33m(\u001b[0m\u001b[0mlocale\u001b[0m\u001b[1;33m)\u001b[0m\u001b[1;33m)\u001b[0m\u001b[1;33m\u001b[0m\u001b[0m\n\u001b[0;32m--> 581\u001b[0;31m     \u001b[1;32mreturn\u001b[0m \u001b[0m_setlocale\u001b[0m\u001b[1;33m(\u001b[0m\u001b[0mcategory\u001b[0m\u001b[1;33m,\u001b[0m \u001b[0mlocale\u001b[0m\u001b[1;33m)\u001b[0m\u001b[1;33m\u001b[0m\u001b[0m\n\u001b[0m\u001b[1;32m    582\u001b[0m \u001b[1;33m\u001b[0m\u001b[0m\n\u001b[1;32m    583\u001b[0m \u001b[1;32mdef\u001b[0m \u001b[0mresetlocale\u001b[0m\u001b[1;33m(\u001b[0m\u001b[0mcategory\u001b[0m\u001b[1;33m=\u001b[0m\u001b[0mLC_ALL\u001b[0m\u001b[1;33m)\u001b[0m\u001b[1;33m:\u001b[0m\u001b[1;33m\u001b[0m\u001b[0m\n",
      "\u001b[0;31mError\u001b[0m: unsupported locale setting"
     ]
    }
   ],
   "source": [
    "import locale\n",
    "locale.setlocale(locale.LC_ALL, 'en_US.utf-8')"
   ]
  },
  {
   "cell_type": "code",
   "execution_count": 12,
   "metadata": {
    "collapsed": true
   },
   "outputs": [],
   "source": [
    "import sys\n",
    "reload(sys)\n",
    "sys.setdefaultencoding('utf-8')"
   ]
  },
  {
   "cell_type": "code",
   "execution_count": 34,
   "metadata": {
    "collapsed": false
   },
   "outputs": [
    {
     "data": {
      "text/plain": [
       "'\\xed\\x95\\x9c'"
      ]
     },
     "execution_count": 34,
     "metadata": {},
     "output_type": "execute_result"
    }
   ],
   "source": [
    "(u'한').encode('utf-8')"
   ]
  },
  {
   "cell_type": "code",
   "execution_count": 1,
   "metadata": {
    "collapsed": false
   },
   "outputs": [
    {
     "name": "stdout",
     "output_type": "stream",
     "text": [
      "hello\n"
     ]
    }
   ],
   "source": [
    "print 'hello'"
   ]
  },
  {
   "cell_type": "code",
   "execution_count": 1,
   "metadata": {
    "collapsed": false
   },
   "outputs": [
    {
     "name": "stdout",
     "output_type": "stream",
     "text": [
      "{'id': '405', 'name': 'js'}\n",
      "{'id': '405', '\\xec\\x9d\\xb4\\xeb\\xa6\\x84': 'js'}\n",
      "{u'\\uc774\\ub984': 'js', 'id': '405'}\n"
     ]
    }
   ],
   "source": [
    "import json\n",
    "\n",
    "user1={ \"id\": \"405\", \"name\": \"js\" }\n",
    "user2={ \"id\": \"405\", \"이름\": \"js\" }\n",
    "user3={ \"id\": \"405\", u\"이름\": \"js\" }\n",
    "\n",
    "print user1\n",
    "print user2\n",
    "print user3"
   ]
  },
  {
   "cell_type": "code",
   "execution_count": 3,
   "metadata": {
    "collapsed": false
   },
   "outputs": [
    {
     "name": "stdout",
     "output_type": "stream",
     "text": [
      "이\n",
      "236\n",
      "0xec\n"
     ]
    }
   ],
   "source": [
    "print '\\xec\\x9d\\xb4'\n",
    "print ord('\\xec')\n",
    "print hex(ord('\\xec'))"
   ]
  },
  {
   "cell_type": "code",
   "execution_count": 9,
   "metadata": {
    "collapsed": false
   },
   "outputs": [
    {
     "name": "stdout",
     "output_type": "stream",
     "text": [
      "{'Persons': [{'id': '405', 'name': 'js1'}, {'id': '406', 'name': 'js2'}]}\n"
     ]
    }
   ],
   "source": [
    "import json\n",
    "\n",
    "p={\"Persons\":[\n",
    "    {\"id\":\"405\", \"name\":\"js1\"},\n",
    "    {\"id\":\"406\", \"name\":\"js2\"},\n",
    "]}\n",
    "\n",
    "print p"
   ]
  },
  {
   "cell_type": "code",
   "execution_count": 12,
   "metadata": {
    "collapsed": false
   },
   "outputs": [
    {
     "name": "stdout",
     "output_type": "stream",
     "text": [
      "{\"Persons\": [{\"id\": \"405\", \"\\uc774\\ub984\": \"js1\"}, {\"id\": \"406\", \"\\uc774\\ub984\": \"js2\"}]}\n"
     ]
    }
   ],
   "source": [
    "import json\n",
    "\n",
    "p={\n",
    "    \"Persons\":[\n",
    "        {\"id\":\"405\", \"이름\":\"js1\"},\n",
    "        {\"id\":\"406\", \"이름\":\"js2\"}\n",
    "    ]\n",
    "}\n",
    "print json.dumps(p)"
   ]
  },
  {
   "cell_type": "code",
   "execution_count": 21,
   "metadata": {
    "collapsed": false
   },
   "outputs": [
    {
     "name": "stdout",
     "output_type": "stream",
     "text": [
      "Overwriting src/ds_save_mongo_5.js\n"
     ]
    }
   ],
   "source": [
    "%%writefile src/ds_save_mongo_5.js\n",
    "use myDB;\n",
    "show dbs;\n",
    "show tables;\n",
    "db.myCol.insert({\"Persons\":[{\"id\":\"405\", \"이름\":\"js1\"},{\"id\":\"406\", \"이름\":\"js2\"}]});\n",
    "db.myCol.find({ \"Persons.이름\": \"js1\" });"
   ]
  },
  {
   "cell_type": "code",
   "execution_count": 22,
   "metadata": {
    "collapsed": false
   },
   "outputs": [
    {
     "name": "stdout",
     "output_type": "stream",
     "text": [
      "Overwriting src/ds_save_mongo_5.js\n"
     ]
    }
   ],
   "source": [
    "%%writefile src/ds_save_mongo_5.js\n",
    "use myDB;\n",
    "show dbs;\n",
    "show tables;\n",
    "db.myCol.insert({\"Ps\":[{\"id\":\"405\", \"이름\":\"js1\"},{\"id\":\"406\", \"이름\":\"js2\"}]});\n",
    "db.myCol.find({ \"Ps.이름\": \"js1\" });"
   ]
  }
 ],
 "metadata": {
  "kernelspec": {
   "display_name": "Python 2",
   "language": "python",
   "name": "python2"
  },
  "language_info": {
   "codemirror_mode": {
    "name": "ipython",
    "version": 2
   },
   "file_extension": ".py",
   "mimetype": "text/x-python",
   "name": "python",
   "nbconvert_exporter": "python",
   "pygments_lexer": "ipython2",
   "version": "2.7.13"
  }
 },
 "nbformat": 4,
 "nbformat_minor": 2
}
